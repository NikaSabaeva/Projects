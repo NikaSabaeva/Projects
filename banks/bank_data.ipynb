{
 "cells": [
  {
   "cell_type": "markdown",
   "id": "386f2ae7",
   "metadata": {
    "deletable": false,
    "editable": false,
    "id": "386f2ae7"
   },
   "source": [
    "# Исследование надежности заемщиков\n"
   ]
  },
  {
   "cell_type": "markdown",
   "id": "ffe86f65",
   "metadata": {
    "deletable": false,
    "editable": false,
    "id": "ffe86f65"
   },
   "source": [
    "Во второй части проекта вы выполните шаги 3 и 4. Их вручную проверит ревьюер.\n",
    "Чтобы вам не пришлось писать код заново для шагов 1 и 2, мы добавили авторские решения в ячейки с кодом. \n",
    "\n"
   ]
  },
  {
   "cell_type": "markdown",
   "id": "26613308",
   "metadata": {
    "deletable": false,
    "editable": false,
    "id": "26613308"
   },
   "source": [
    "## Откройте таблицу и изучите общую информацию о данных"
   ]
  },
  {
   "cell_type": "markdown",
   "id": "3c9f838e",
   "metadata": {
    "deletable": false,
    "editable": false,
    "id": "3c9f838e"
   },
   "source": [
    "**Задание 1. Импортируйте библиотеку pandas. Считайте данные из csv-файла в датафрейм и сохраните в переменную `data`. Путь к файлу:**\n",
    "\n",
    "`/datasets/data.csv`"
   ]
  },
  {
   "cell_type": "code",
   "execution_count": 1,
   "id": "77a68a90",
   "metadata": {
    "deletable": false,
    "id": "77a68a90"
   },
   "outputs": [],
   "source": [
    "import pandas as pd\n",
    "\n",
    "try:\n",
    "    data = pd.read_csv('/datasets/data.csv')\n",
    "except:\n",
    "    data = pd.read_csv('https://code.s3.yandex.net/datasets/data.csv')"
   ]
  },
  {
   "cell_type": "markdown",
   "id": "45365635",
   "metadata": {
    "deletable": false,
    "editable": false,
    "id": "45365635"
   },
   "source": [
    "**Задание 2. Выведите первые 20 строчек датафрейма `data` на экран.**"
   ]
  },
  {
   "cell_type": "code",
   "execution_count": 2,
   "id": "b0451a9a",
   "metadata": {
    "deletable": false,
    "id": "b0451a9a",
    "outputId": "1a8f3ef2-d323-4ec2-ddf7-89670b5944c4"
   },
   "outputs": [
    {
     "data": {
      "text/html": [
       "<div>\n",
       "<style scoped>\n",
       "    .dataframe tbody tr th:only-of-type {\n",
       "        vertical-align: middle;\n",
       "    }\n",
       "\n",
       "    .dataframe tbody tr th {\n",
       "        vertical-align: top;\n",
       "    }\n",
       "\n",
       "    .dataframe thead th {\n",
       "        text-align: right;\n",
       "    }\n",
       "</style>\n",
       "<table border=\"1\" class=\"dataframe\">\n",
       "  <thead>\n",
       "    <tr style=\"text-align: right;\">\n",
       "      <th></th>\n",
       "      <th>children</th>\n",
       "      <th>days_employed</th>\n",
       "      <th>dob_years</th>\n",
       "      <th>education</th>\n",
       "      <th>education_id</th>\n",
       "      <th>family_status</th>\n",
       "      <th>family_status_id</th>\n",
       "      <th>gender</th>\n",
       "      <th>income_type</th>\n",
       "      <th>debt</th>\n",
       "      <th>total_income</th>\n",
       "      <th>purpose</th>\n",
       "    </tr>\n",
       "  </thead>\n",
       "  <tbody>\n",
       "    <tr>\n",
       "      <th>0</th>\n",
       "      <td>1</td>\n",
       "      <td>-8437.673028</td>\n",
       "      <td>42</td>\n",
       "      <td>высшее</td>\n",
       "      <td>0</td>\n",
       "      <td>женат / замужем</td>\n",
       "      <td>0</td>\n",
       "      <td>F</td>\n",
       "      <td>сотрудник</td>\n",
       "      <td>0</td>\n",
       "      <td>253875.639453</td>\n",
       "      <td>покупка жилья</td>\n",
       "    </tr>\n",
       "    <tr>\n",
       "      <th>1</th>\n",
       "      <td>1</td>\n",
       "      <td>-4024.803754</td>\n",
       "      <td>36</td>\n",
       "      <td>среднее</td>\n",
       "      <td>1</td>\n",
       "      <td>женат / замужем</td>\n",
       "      <td>0</td>\n",
       "      <td>F</td>\n",
       "      <td>сотрудник</td>\n",
       "      <td>0</td>\n",
       "      <td>112080.014102</td>\n",
       "      <td>приобретение автомобиля</td>\n",
       "    </tr>\n",
       "    <tr>\n",
       "      <th>2</th>\n",
       "      <td>0</td>\n",
       "      <td>-5623.422610</td>\n",
       "      <td>33</td>\n",
       "      <td>Среднее</td>\n",
       "      <td>1</td>\n",
       "      <td>женат / замужем</td>\n",
       "      <td>0</td>\n",
       "      <td>M</td>\n",
       "      <td>сотрудник</td>\n",
       "      <td>0</td>\n",
       "      <td>145885.952297</td>\n",
       "      <td>покупка жилья</td>\n",
       "    </tr>\n",
       "    <tr>\n",
       "      <th>3</th>\n",
       "      <td>3</td>\n",
       "      <td>-4124.747207</td>\n",
       "      <td>32</td>\n",
       "      <td>среднее</td>\n",
       "      <td>1</td>\n",
       "      <td>женат / замужем</td>\n",
       "      <td>0</td>\n",
       "      <td>M</td>\n",
       "      <td>сотрудник</td>\n",
       "      <td>0</td>\n",
       "      <td>267628.550329</td>\n",
       "      <td>дополнительное образование</td>\n",
       "    </tr>\n",
       "    <tr>\n",
       "      <th>4</th>\n",
       "      <td>0</td>\n",
       "      <td>340266.072047</td>\n",
       "      <td>53</td>\n",
       "      <td>среднее</td>\n",
       "      <td>1</td>\n",
       "      <td>гражданский брак</td>\n",
       "      <td>1</td>\n",
       "      <td>F</td>\n",
       "      <td>пенсионер</td>\n",
       "      <td>0</td>\n",
       "      <td>158616.077870</td>\n",
       "      <td>сыграть свадьбу</td>\n",
       "    </tr>\n",
       "    <tr>\n",
       "      <th>5</th>\n",
       "      <td>0</td>\n",
       "      <td>-926.185831</td>\n",
       "      <td>27</td>\n",
       "      <td>высшее</td>\n",
       "      <td>0</td>\n",
       "      <td>гражданский брак</td>\n",
       "      <td>1</td>\n",
       "      <td>M</td>\n",
       "      <td>компаньон</td>\n",
       "      <td>0</td>\n",
       "      <td>255763.565419</td>\n",
       "      <td>покупка жилья</td>\n",
       "    </tr>\n",
       "    <tr>\n",
       "      <th>6</th>\n",
       "      <td>0</td>\n",
       "      <td>-2879.202052</td>\n",
       "      <td>43</td>\n",
       "      <td>высшее</td>\n",
       "      <td>0</td>\n",
       "      <td>женат / замужем</td>\n",
       "      <td>0</td>\n",
       "      <td>F</td>\n",
       "      <td>компаньон</td>\n",
       "      <td>0</td>\n",
       "      <td>240525.971920</td>\n",
       "      <td>операции с жильем</td>\n",
       "    </tr>\n",
       "    <tr>\n",
       "      <th>7</th>\n",
       "      <td>0</td>\n",
       "      <td>-152.779569</td>\n",
       "      <td>50</td>\n",
       "      <td>СРЕДНЕЕ</td>\n",
       "      <td>1</td>\n",
       "      <td>женат / замужем</td>\n",
       "      <td>0</td>\n",
       "      <td>M</td>\n",
       "      <td>сотрудник</td>\n",
       "      <td>0</td>\n",
       "      <td>135823.934197</td>\n",
       "      <td>образование</td>\n",
       "    </tr>\n",
       "    <tr>\n",
       "      <th>8</th>\n",
       "      <td>2</td>\n",
       "      <td>-6929.865299</td>\n",
       "      <td>35</td>\n",
       "      <td>ВЫСШЕЕ</td>\n",
       "      <td>0</td>\n",
       "      <td>гражданский брак</td>\n",
       "      <td>1</td>\n",
       "      <td>F</td>\n",
       "      <td>сотрудник</td>\n",
       "      <td>0</td>\n",
       "      <td>95856.832424</td>\n",
       "      <td>на проведение свадьбы</td>\n",
       "    </tr>\n",
       "    <tr>\n",
       "      <th>9</th>\n",
       "      <td>0</td>\n",
       "      <td>-2188.756445</td>\n",
       "      <td>41</td>\n",
       "      <td>среднее</td>\n",
       "      <td>1</td>\n",
       "      <td>женат / замужем</td>\n",
       "      <td>0</td>\n",
       "      <td>M</td>\n",
       "      <td>сотрудник</td>\n",
       "      <td>0</td>\n",
       "      <td>144425.938277</td>\n",
       "      <td>покупка жилья для семьи</td>\n",
       "    </tr>\n",
       "    <tr>\n",
       "      <th>10</th>\n",
       "      <td>2</td>\n",
       "      <td>-4171.483647</td>\n",
       "      <td>36</td>\n",
       "      <td>высшее</td>\n",
       "      <td>0</td>\n",
       "      <td>женат / замужем</td>\n",
       "      <td>0</td>\n",
       "      <td>M</td>\n",
       "      <td>компаньон</td>\n",
       "      <td>0</td>\n",
       "      <td>113943.491460</td>\n",
       "      <td>покупка недвижимости</td>\n",
       "    </tr>\n",
       "    <tr>\n",
       "      <th>11</th>\n",
       "      <td>0</td>\n",
       "      <td>-792.701887</td>\n",
       "      <td>40</td>\n",
       "      <td>среднее</td>\n",
       "      <td>1</td>\n",
       "      <td>женат / замужем</td>\n",
       "      <td>0</td>\n",
       "      <td>F</td>\n",
       "      <td>сотрудник</td>\n",
       "      <td>0</td>\n",
       "      <td>77069.234271</td>\n",
       "      <td>покупка коммерческой недвижимости</td>\n",
       "    </tr>\n",
       "    <tr>\n",
       "      <th>12</th>\n",
       "      <td>0</td>\n",
       "      <td>NaN</td>\n",
       "      <td>65</td>\n",
       "      <td>среднее</td>\n",
       "      <td>1</td>\n",
       "      <td>гражданский брак</td>\n",
       "      <td>1</td>\n",
       "      <td>M</td>\n",
       "      <td>пенсионер</td>\n",
       "      <td>0</td>\n",
       "      <td>NaN</td>\n",
       "      <td>сыграть свадьбу</td>\n",
       "    </tr>\n",
       "    <tr>\n",
       "      <th>13</th>\n",
       "      <td>0</td>\n",
       "      <td>-1846.641941</td>\n",
       "      <td>54</td>\n",
       "      <td>неоконченное высшее</td>\n",
       "      <td>2</td>\n",
       "      <td>женат / замужем</td>\n",
       "      <td>0</td>\n",
       "      <td>F</td>\n",
       "      <td>сотрудник</td>\n",
       "      <td>0</td>\n",
       "      <td>130458.228857</td>\n",
       "      <td>приобретение автомобиля</td>\n",
       "    </tr>\n",
       "    <tr>\n",
       "      <th>14</th>\n",
       "      <td>0</td>\n",
       "      <td>-1844.956182</td>\n",
       "      <td>56</td>\n",
       "      <td>высшее</td>\n",
       "      <td>0</td>\n",
       "      <td>гражданский брак</td>\n",
       "      <td>1</td>\n",
       "      <td>F</td>\n",
       "      <td>компаньон</td>\n",
       "      <td>1</td>\n",
       "      <td>165127.911772</td>\n",
       "      <td>покупка жилой недвижимости</td>\n",
       "    </tr>\n",
       "    <tr>\n",
       "      <th>15</th>\n",
       "      <td>1</td>\n",
       "      <td>-972.364419</td>\n",
       "      <td>26</td>\n",
       "      <td>среднее</td>\n",
       "      <td>1</td>\n",
       "      <td>женат / замужем</td>\n",
       "      <td>0</td>\n",
       "      <td>F</td>\n",
       "      <td>сотрудник</td>\n",
       "      <td>0</td>\n",
       "      <td>116820.904450</td>\n",
       "      <td>строительство собственной недвижимости</td>\n",
       "    </tr>\n",
       "    <tr>\n",
       "      <th>16</th>\n",
       "      <td>0</td>\n",
       "      <td>-1719.934226</td>\n",
       "      <td>35</td>\n",
       "      <td>среднее</td>\n",
       "      <td>1</td>\n",
       "      <td>женат / замужем</td>\n",
       "      <td>0</td>\n",
       "      <td>F</td>\n",
       "      <td>сотрудник</td>\n",
       "      <td>0</td>\n",
       "      <td>289202.704229</td>\n",
       "      <td>недвижимость</td>\n",
       "    </tr>\n",
       "    <tr>\n",
       "      <th>17</th>\n",
       "      <td>0</td>\n",
       "      <td>-2369.999720</td>\n",
       "      <td>33</td>\n",
       "      <td>высшее</td>\n",
       "      <td>0</td>\n",
       "      <td>гражданский брак</td>\n",
       "      <td>1</td>\n",
       "      <td>M</td>\n",
       "      <td>сотрудник</td>\n",
       "      <td>0</td>\n",
       "      <td>90410.586745</td>\n",
       "      <td>строительство недвижимости</td>\n",
       "    </tr>\n",
       "    <tr>\n",
       "      <th>18</th>\n",
       "      <td>0</td>\n",
       "      <td>400281.136913</td>\n",
       "      <td>53</td>\n",
       "      <td>среднее</td>\n",
       "      <td>1</td>\n",
       "      <td>вдовец / вдова</td>\n",
       "      <td>2</td>\n",
       "      <td>F</td>\n",
       "      <td>пенсионер</td>\n",
       "      <td>0</td>\n",
       "      <td>56823.777243</td>\n",
       "      <td>на покупку подержанного автомобиля</td>\n",
       "    </tr>\n",
       "    <tr>\n",
       "      <th>19</th>\n",
       "      <td>0</td>\n",
       "      <td>-10038.818549</td>\n",
       "      <td>48</td>\n",
       "      <td>СРЕДНЕЕ</td>\n",
       "      <td>1</td>\n",
       "      <td>в разводе</td>\n",
       "      <td>3</td>\n",
       "      <td>F</td>\n",
       "      <td>сотрудник</td>\n",
       "      <td>0</td>\n",
       "      <td>242831.107982</td>\n",
       "      <td>на покупку своего автомобиля</td>\n",
       "    </tr>\n",
       "  </tbody>\n",
       "</table>\n",
       "</div>"
      ],
      "text/plain": [
       "    children  days_employed  dob_years            education  education_id  \\\n",
       "0          1   -8437.673028         42               высшее             0   \n",
       "1          1   -4024.803754         36              среднее             1   \n",
       "2          0   -5623.422610         33              Среднее             1   \n",
       "3          3   -4124.747207         32              среднее             1   \n",
       "4          0  340266.072047         53              среднее             1   \n",
       "5          0    -926.185831         27               высшее             0   \n",
       "6          0   -2879.202052         43               высшее             0   \n",
       "7          0    -152.779569         50              СРЕДНЕЕ             1   \n",
       "8          2   -6929.865299         35               ВЫСШЕЕ             0   \n",
       "9          0   -2188.756445         41              среднее             1   \n",
       "10         2   -4171.483647         36               высшее             0   \n",
       "11         0    -792.701887         40              среднее             1   \n",
       "12         0            NaN         65              среднее             1   \n",
       "13         0   -1846.641941         54  неоконченное высшее             2   \n",
       "14         0   -1844.956182         56               высшее             0   \n",
       "15         1    -972.364419         26              среднее             1   \n",
       "16         0   -1719.934226         35              среднее             1   \n",
       "17         0   -2369.999720         33               высшее             0   \n",
       "18         0  400281.136913         53              среднее             1   \n",
       "19         0  -10038.818549         48              СРЕДНЕЕ             1   \n",
       "\n",
       "       family_status  family_status_id gender income_type  debt  \\\n",
       "0    женат / замужем                 0      F   сотрудник     0   \n",
       "1    женат / замужем                 0      F   сотрудник     0   \n",
       "2    женат / замужем                 0      M   сотрудник     0   \n",
       "3    женат / замужем                 0      M   сотрудник     0   \n",
       "4   гражданский брак                 1      F   пенсионер     0   \n",
       "5   гражданский брак                 1      M   компаньон     0   \n",
       "6    женат / замужем                 0      F   компаньон     0   \n",
       "7    женат / замужем                 0      M   сотрудник     0   \n",
       "8   гражданский брак                 1      F   сотрудник     0   \n",
       "9    женат / замужем                 0      M   сотрудник     0   \n",
       "10   женат / замужем                 0      M   компаньон     0   \n",
       "11   женат / замужем                 0      F   сотрудник     0   \n",
       "12  гражданский брак                 1      M   пенсионер     0   \n",
       "13   женат / замужем                 0      F   сотрудник     0   \n",
       "14  гражданский брак                 1      F   компаньон     1   \n",
       "15   женат / замужем                 0      F   сотрудник     0   \n",
       "16   женат / замужем                 0      F   сотрудник     0   \n",
       "17  гражданский брак                 1      M   сотрудник     0   \n",
       "18    вдовец / вдова                 2      F   пенсионер     0   \n",
       "19         в разводе                 3      F   сотрудник     0   \n",
       "\n",
       "     total_income                                 purpose  \n",
       "0   253875.639453                           покупка жилья  \n",
       "1   112080.014102                 приобретение автомобиля  \n",
       "2   145885.952297                           покупка жилья  \n",
       "3   267628.550329              дополнительное образование  \n",
       "4   158616.077870                         сыграть свадьбу  \n",
       "5   255763.565419                           покупка жилья  \n",
       "6   240525.971920                       операции с жильем  \n",
       "7   135823.934197                             образование  \n",
       "8    95856.832424                   на проведение свадьбы  \n",
       "9   144425.938277                 покупка жилья для семьи  \n",
       "10  113943.491460                    покупка недвижимости  \n",
       "11   77069.234271       покупка коммерческой недвижимости  \n",
       "12            NaN                         сыграть свадьбу  \n",
       "13  130458.228857                 приобретение автомобиля  \n",
       "14  165127.911772              покупка жилой недвижимости  \n",
       "15  116820.904450  строительство собственной недвижимости  \n",
       "16  289202.704229                            недвижимость  \n",
       "17   90410.586745              строительство недвижимости  \n",
       "18   56823.777243      на покупку подержанного автомобиля  \n",
       "19  242831.107982            на покупку своего автомобиля  "
      ]
     },
     "execution_count": 2,
     "metadata": {},
     "output_type": "execute_result"
    }
   ],
   "source": [
    "data.head(20)"
   ]
  },
  {
   "cell_type": "markdown",
   "id": "0ed8f27f",
   "metadata": {
    "deletable": false,
    "editable": false,
    "id": "0ed8f27f"
   },
   "source": [
    "**Задание 3. Выведите основную информацию о датафрейме с помощью метода `info()`.**"
   ]
  },
  {
   "cell_type": "code",
   "execution_count": 3,
   "id": "ab3f863b",
   "metadata": {
    "deletable": false,
    "id": "ab3f863b",
    "outputId": "15376089-8dad-46c9-b520-c05248d43158"
   },
   "outputs": [
    {
     "name": "stdout",
     "output_type": "stream",
     "text": [
      "<class 'pandas.core.frame.DataFrame'>\n",
      "RangeIndex: 21525 entries, 0 to 21524\n",
      "Data columns (total 12 columns):\n",
      " #   Column            Non-Null Count  Dtype  \n",
      "---  ------            --------------  -----  \n",
      " 0   children          21525 non-null  int64  \n",
      " 1   days_employed     19351 non-null  float64\n",
      " 2   dob_years         21525 non-null  int64  \n",
      " 3   education         21525 non-null  object \n",
      " 4   education_id      21525 non-null  int64  \n",
      " 5   family_status     21525 non-null  object \n",
      " 6   family_status_id  21525 non-null  int64  \n",
      " 7   gender            21525 non-null  object \n",
      " 8   income_type       21525 non-null  object \n",
      " 9   debt              21525 non-null  int64  \n",
      " 10  total_income      19351 non-null  float64\n",
      " 11  purpose           21525 non-null  object \n",
      "dtypes: float64(2), int64(5), object(5)\n",
      "memory usage: 2.0+ MB\n"
     ]
    }
   ],
   "source": [
    "data.info()"
   ]
  },
  {
   "cell_type": "markdown",
   "id": "426a26fd",
   "metadata": {},
   "source": [
    "<div class=\"alert alert-success\">\n",
    "<b>Комментарий ревьюера №1</b> ✅\n",
    "    \n",
    "Разделы работы можно заканчивать промежуточными выводами\n",
    "</div>"
   ]
  },
  {
   "cell_type": "markdown",
   "id": "60e3e22d",
   "metadata": {
    "deletable": false,
    "editable": false,
    "id": "60e3e22d"
   },
   "source": [
    "## Предобработка данных"
   ]
  },
  {
   "cell_type": "markdown",
   "id": "03dc170c",
   "metadata": {
    "deletable": false,
    "editable": false,
    "id": "03dc170c"
   },
   "source": [
    "### Удаление пропусков"
   ]
  },
  {
   "cell_type": "markdown",
   "id": "a4f54eef",
   "metadata": {
    "deletable": false,
    "editable": false,
    "id": "a4f54eef"
   },
   "source": [
    "**Задание 4. Выведите количество пропущенных значений для каждого столбца. Используйте комбинацию двух методов.**"
   ]
  },
  {
   "cell_type": "code",
   "execution_count": 4,
   "id": "2dc372b2",
   "metadata": {
    "deletable": false,
    "id": "2dc372b2",
    "outputId": "81f4d817-781c-465c-ed15-91ce4446810d"
   },
   "outputs": [
    {
     "data": {
      "text/plain": [
       "children               0\n",
       "days_employed       2174\n",
       "dob_years              0\n",
       "education              0\n",
       "education_id           0\n",
       "family_status          0\n",
       "family_status_id       0\n",
       "gender                 0\n",
       "income_type            0\n",
       "debt                   0\n",
       "total_income        2174\n",
       "purpose                0\n",
       "dtype: int64"
      ]
     },
     "execution_count": 4,
     "metadata": {},
     "output_type": "execute_result"
    }
   ],
   "source": [
    "data.isna().sum()"
   ]
  },
  {
   "cell_type": "markdown",
   "id": "14f011b1",
   "metadata": {
    "deletable": false,
    "editable": false,
    "id": "14f011b1"
   },
   "source": [
    "**Задание 5. В двух столбцах есть пропущенные значения. Один из них — `days_employed`. Пропуски в этом столбце вы обработаете на следующем этапе. Другой столбец с пропущенными значениями — `total_income` — хранит данные о доходах. На сумму дохода сильнее всего влияет тип занятости, поэтому заполнить пропуски в этом столбце нужно медианным значением по каждому типу из столбца `income_type`. Например, у человека с типом занятости `сотрудник` пропуск в столбце `total_income` должен быть заполнен медианным доходом среди всех записей с тем же типом.**"
   ]
  },
  {
   "cell_type": "code",
   "execution_count": 5,
   "id": "bdabfb6e",
   "metadata": {
    "deletable": false,
    "id": "bdabfb6e"
   },
   "outputs": [],
   "source": [
    "for t in data['income_type'].unique():\n",
    "    data.loc[(data['income_type'] == t) & (data['total_income'].isna()), 'total_income'] = \\\n",
    "    data.loc[(data['income_type'] == t), 'total_income'].median()"
   ]
  },
  {
   "cell_type": "markdown",
   "id": "5be34059",
   "metadata": {
    "deletable": false,
    "editable": false,
    "id": "5be34059"
   },
   "source": [
    "### Обработка аномальных значений"
   ]
  },
  {
   "cell_type": "markdown",
   "id": "a87606cb",
   "metadata": {
    "deletable": false,
    "editable": false,
    "id": "a87606cb"
   },
   "source": [
    "**Задание 6. В данных могут встречаться артефакты (аномалии) — значения, которые не отражают действительность и появились по какой-то ошибке. таким артефактом будет отрицательное количество дней трудового стажа в столбце `days_employed`. Для реальных данных это нормально. Обработайте значения в этом столбце: замените все отрицательные значения положительными с помощью метода `abs()`.**"
   ]
  },
  {
   "cell_type": "code",
   "execution_count": 6,
   "id": "020c46cc",
   "metadata": {
    "deletable": false,
    "id": "020c46cc"
   },
   "outputs": [],
   "source": [
    "data['days_employed'] = data['days_employed'].abs()"
   ]
  },
  {
   "cell_type": "markdown",
   "id": "45538a3a",
   "metadata": {
    "deletable": false,
    "editable": false,
    "id": "45538a3a"
   },
   "source": [
    "**Задание 7. Для каждого типа занятости выведите медианное значение трудового стажа `days_employed` в днях.**"
   ]
  },
  {
   "cell_type": "code",
   "execution_count": 7,
   "id": "cd3e6328",
   "metadata": {
    "deletable": false,
    "id": "cd3e6328",
    "outputId": "801ef80e-522b-4668-f34e-565af7432bcf"
   },
   "outputs": [
    {
     "data": {
      "text/plain": [
       "income_type\n",
       "безработный        366413.652744\n",
       "в декрете            3296.759962\n",
       "госслужащий          2689.368353\n",
       "компаньон            1547.382223\n",
       "пенсионер          365213.306266\n",
       "предприниматель       520.848083\n",
       "сотрудник            1574.202821\n",
       "студент               578.751554\n",
       "Name: days_employed, dtype: float64"
      ]
     },
     "execution_count": 7,
     "metadata": {},
     "output_type": "execute_result"
    }
   ],
   "source": [
    "data.groupby('income_type')['days_employed'].agg('median')"
   ]
  },
  {
   "cell_type": "markdown",
   "id": "90c5f058",
   "metadata": {
    "deletable": false,
    "editable": false,
    "id": "90c5f058"
   },
   "source": [
    "У двух типов (безработные и пенсионеры) получатся аномально большие значения. Исправить такие значения сложно, поэтому оставьте их как есть."
   ]
  },
  {
   "cell_type": "markdown",
   "id": "9652e50d",
   "metadata": {
    "deletable": false,
    "editable": false,
    "id": "9652e50d"
   },
   "source": [
    "**Задание 8. Выведите перечень уникальных значений столбца `children`.**"
   ]
  },
  {
   "cell_type": "code",
   "execution_count": 8,
   "id": "dbb37b8e",
   "metadata": {
    "deletable": false,
    "id": "dbb37b8e",
    "outputId": "6975b15c-7f95-4697-d16d-a0c79b657b03"
   },
   "outputs": [
    {
     "data": {
      "text/plain": [
       "array([ 1,  0,  3,  2, -1,  4, 20,  5])"
      ]
     },
     "execution_count": 8,
     "metadata": {},
     "output_type": "execute_result"
    }
   ],
   "source": [
    "data['children'].unique()"
   ]
  },
  {
   "cell_type": "markdown",
   "id": "2b8b0715",
   "metadata": {
    "deletable": false,
    "editable": false,
    "id": "2b8b0715"
   },
   "source": [
    "**Задание 9. В столбце `children` есть два аномальных значения. Удалите строки, в которых встречаются такие аномальные значения из датафрейма `data`.**"
   ]
  },
  {
   "cell_type": "code",
   "execution_count": 9,
   "id": "20009df8",
   "metadata": {
    "deletable": false,
    "id": "20009df8"
   },
   "outputs": [],
   "source": [
    "data = data[(data['children'] != -1) & (data['children'] != 20)]"
   ]
  },
  {
   "cell_type": "markdown",
   "id": "8c6ac9f1",
   "metadata": {
    "deletable": false,
    "editable": false,
    "id": "8c6ac9f1"
   },
   "source": [
    "**Задание 10. Ещё раз выведите перечень уникальных значений столбца `children`, чтобы убедиться, что артефакты удалены.**"
   ]
  },
  {
   "cell_type": "code",
   "execution_count": 10,
   "id": "07337b81",
   "metadata": {
    "deletable": false,
    "id": "07337b81",
    "outputId": "b2097101-d49d-44d9-901b-32a65c9463d1"
   },
   "outputs": [
    {
     "data": {
      "text/plain": [
       "array([1, 0, 3, 2, 4, 5])"
      ]
     },
     "execution_count": 10,
     "metadata": {},
     "output_type": "execute_result"
    }
   ],
   "source": [
    "data['children'].unique()"
   ]
  },
  {
   "cell_type": "markdown",
   "id": "ee3f52d4",
   "metadata": {
    "deletable": false,
    "editable": false,
    "id": "ee3f52d4"
   },
   "source": [
    "### Удаление пропусков (продолжение)"
   ]
  },
  {
   "cell_type": "markdown",
   "id": "a700b0e4",
   "metadata": {
    "deletable": false,
    "editable": false,
    "id": "a700b0e4"
   },
   "source": [
    "**Задание 11. Заполните пропуски в столбце `days_employed` медианными значениями по каждого типа занятости `income_type`.**"
   ]
  },
  {
   "cell_type": "code",
   "execution_count": 11,
   "id": "61946b83",
   "metadata": {
    "deletable": false,
    "id": "61946b83"
   },
   "outputs": [],
   "source": [
    "for t in data['income_type'].unique():\n",
    "    data.loc[(data['income_type'] == t) & (data['days_employed'].isna()), 'days_employed'] = \\\n",
    "    data.loc[(data['income_type'] == t), 'days_employed'].median()"
   ]
  },
  {
   "cell_type": "markdown",
   "id": "550dcd9b",
   "metadata": {
    "deletable": false,
    "editable": false,
    "id": "550dcd9b"
   },
   "source": [
    "**Задание 12. Убедитесь, что все пропуски заполнены. Проверьте себя и ещё раз выведите количество пропущенных значений для каждого столбца с помощью двух методов.**"
   ]
  },
  {
   "cell_type": "code",
   "execution_count": 12,
   "id": "937c7014",
   "metadata": {
    "deletable": false,
    "id": "937c7014",
    "outputId": "8da1e4e1-358e-4e87-98c9-f261bce0a7b2"
   },
   "outputs": [
    {
     "data": {
      "text/plain": [
       "children            0\n",
       "days_employed       0\n",
       "dob_years           0\n",
       "education           0\n",
       "education_id        0\n",
       "family_status       0\n",
       "family_status_id    0\n",
       "gender              0\n",
       "income_type         0\n",
       "debt                0\n",
       "total_income        0\n",
       "purpose             0\n",
       "dtype: int64"
      ]
     },
     "execution_count": 12,
     "metadata": {},
     "output_type": "execute_result"
    }
   ],
   "source": [
    "data.isna().sum()"
   ]
  },
  {
   "cell_type": "markdown",
   "id": "d522e295",
   "metadata": {
    "deletable": false,
    "editable": false,
    "id": "d522e295"
   },
   "source": [
    "### Изменение типов данных"
   ]
  },
  {
   "cell_type": "markdown",
   "id": "c229c581",
   "metadata": {
    "deletable": false,
    "editable": false,
    "id": "c229c581"
   },
   "source": [
    "**Задание 13. Замените вещественный тип данных в столбце `total_income` на целочисленный с помощью метода `astype()`.**"
   ]
  },
  {
   "cell_type": "code",
   "execution_count": 13,
   "id": "31036462",
   "metadata": {
    "deletable": false,
    "id": "31036462"
   },
   "outputs": [],
   "source": [
    "data['total_income'] = data['total_income'].astype(int)"
   ]
  },
  {
   "cell_type": "markdown",
   "id": "b8e3d1d9",
   "metadata": {
    "deletable": false,
    "editable": false,
    "id": "b8e3d1d9"
   },
   "source": [
    "### Обработка дубликатов"
   ]
  },
  {
   "cell_type": "markdown",
   "id": "9be53c49",
   "metadata": {
    "deletable": false,
    "editable": false,
    "id": "9be53c49"
   },
   "source": [
    "**Задание 14. Обработайте неявные дубликаты в столбце `education`. В этом столбце есть одни и те же значения, но записанные по-разному: с использованием заглавных и строчных букв. Приведите их к нижнему регистру.**"
   ]
  },
  {
   "cell_type": "code",
   "execution_count": 14,
   "id": "d89e73e1",
   "metadata": {
    "deletable": false,
    "id": "d89e73e1"
   },
   "outputs": [],
   "source": [
    "data['education'] = data['education'].str.lower()"
   ]
  },
  {
   "cell_type": "markdown",
   "id": "01d4500e",
   "metadata": {
    "deletable": false,
    "editable": false,
    "id": "01d4500e"
   },
   "source": [
    "**Задание 15. Выведите на экран количество строк-дубликатов в данных. Если такие строки присутствуют, удалите их.**"
   ]
  },
  {
   "cell_type": "code",
   "execution_count": 15,
   "id": "e10efb23",
   "metadata": {
    "deletable": false,
    "id": "e10efb23",
    "outputId": "9684deba-1934-42d1-99e1-cda61740f822"
   },
   "outputs": [
    {
     "data": {
      "text/plain": [
       "71"
      ]
     },
     "execution_count": 15,
     "metadata": {},
     "output_type": "execute_result"
    }
   ],
   "source": [
    "data.duplicated().sum()"
   ]
  },
  {
   "cell_type": "code",
   "execution_count": 16,
   "id": "df853f20",
   "metadata": {
    "deletable": false,
    "id": "df853f20"
   },
   "outputs": [],
   "source": [
    "data = data.drop_duplicates()"
   ]
  },
  {
   "cell_type": "markdown",
   "id": "627be38f",
   "metadata": {
    "deletable": false,
    "editable": false,
    "id": "627be38f"
   },
   "source": [
    "### Категоризация данных"
   ]
  },
  {
   "cell_type": "markdown",
   "id": "4684c3e0",
   "metadata": {
    "deletable": false,
    "editable": false,
    "id": "4684c3e0"
   },
   "source": [
    "**Задание 16. На основании диапазонов, указанных ниже, создайте в датафрейме `data` столбец `total_income_category` с категориями:**\n",
    "\n",
    "- 0–30000 — `'E'`;\n",
    "- 30001–50000 — `'D'`;\n",
    "- 50001–200000 — `'C'`;\n",
    "- 200001–1000000 — `'B'`;\n",
    "- 1000001 и выше — `'A'`.\n",
    "\n",
    "\n",
    "**Например, кредитополучателю с доходом 25000 нужно назначить категорию `'E'`, а клиенту, получающему 235000, — `'B'`. Используйте собственную функцию с именем `categorize_income()` и метод `apply()`.**"
   ]
  },
  {
   "cell_type": "code",
   "execution_count": 17,
   "id": "78965238",
   "metadata": {
    "deletable": false,
    "id": "78965238"
   },
   "outputs": [],
   "source": [
    "def categorize_income(income):\n",
    "    try:\n",
    "        if 0 <= income <= 30000:\n",
    "            return 'E'\n",
    "        elif 30001 <= income <= 50000:\n",
    "            return 'D'\n",
    "        elif 50001 <= income <= 200000:\n",
    "            return 'C'\n",
    "        elif 200001 <= income <= 1000000:\n",
    "            return 'B'\n",
    "        elif income >= 1000001:\n",
    "            return 'A'\n",
    "    except:\n",
    "        pass"
   ]
  },
  {
   "cell_type": "code",
   "execution_count": 18,
   "id": "0980ada1",
   "metadata": {
    "deletable": false,
    "id": "0980ada1"
   },
   "outputs": [],
   "source": [
    "data['total_income_category'] = data['total_income'].apply(categorize_income)"
   ]
  },
  {
   "cell_type": "markdown",
   "id": "9917bba0",
   "metadata": {
    "deletable": false,
    "editable": false,
    "id": "9917bba0"
   },
   "source": [
    "**Задание 17. Выведите на экран перечень уникальных целей взятия кредита из столбца `purpose`.**"
   ]
  },
  {
   "cell_type": "code",
   "execution_count": 19,
   "id": "ee07b65e",
   "metadata": {
    "deletable": false,
    "id": "ee07b65e",
    "outputId": "673c12d9-7d7e-4ae0-9812-c622c89dd244"
   },
   "outputs": [
    {
     "data": {
      "text/plain": [
       "array(['покупка жилья', 'приобретение автомобиля',\n",
       "       'дополнительное образование', 'сыграть свадьбу',\n",
       "       'операции с жильем', 'образование', 'на проведение свадьбы',\n",
       "       'покупка жилья для семьи', 'покупка недвижимости',\n",
       "       'покупка коммерческой недвижимости', 'покупка жилой недвижимости',\n",
       "       'строительство собственной недвижимости', 'недвижимость',\n",
       "       'строительство недвижимости', 'на покупку подержанного автомобиля',\n",
       "       'на покупку своего автомобиля',\n",
       "       'операции с коммерческой недвижимостью',\n",
       "       'строительство жилой недвижимости', 'жилье',\n",
       "       'операции со своей недвижимостью', 'автомобили',\n",
       "       'заняться образованием', 'сделка с подержанным автомобилем',\n",
       "       'получение образования', 'автомобиль', 'свадьба',\n",
       "       'получение дополнительного образования', 'покупка своего жилья',\n",
       "       'операции с недвижимостью', 'получение высшего образования',\n",
       "       'свой автомобиль', 'сделка с автомобилем',\n",
       "       'профильное образование', 'высшее образование',\n",
       "       'покупка жилья для сдачи', 'на покупку автомобиля', 'ремонт жилью',\n",
       "       'заняться высшим образованием'], dtype=object)"
      ]
     },
     "execution_count": 19,
     "metadata": {},
     "output_type": "execute_result"
    }
   ],
   "source": [
    "data['purpose'].unique()"
   ]
  },
  {
   "cell_type": "markdown",
   "id": "52b79d56",
   "metadata": {
    "deletable": false,
    "editable": false,
    "id": "52b79d56"
   },
   "source": [
    "**Задание 18. Создайте функцию, которая на основании данных из столбца `purpose` сформирует новый столбец `purpose_category`, в который войдут следующие категории:**\n",
    "\n",
    "- `'операции с автомобилем'`,\n",
    "- `'операции с недвижимостью'`,\n",
    "- `'проведение свадьбы'`,\n",
    "- `'получение образования'`.\n",
    "\n",
    "**Например, если в столбце `purpose` находится подстрока `'на покупку автомобиля'`, то в столбце `purpose_category` должна появиться строка `'операции с автомобилем'`.**\n",
    "\n",
    "**Используйте собственную функцию с именем `categorize_purpose()` и метод `apply()`. Изучите данные в столбце `purpose` и определите, какие подстроки помогут вам правильно определить категорию.**"
   ]
  },
  {
   "cell_type": "code",
   "execution_count": 20,
   "id": "be41da5d",
   "metadata": {
    "deletable": false,
    "id": "be41da5d"
   },
   "outputs": [],
   "source": [
    "def categorize_purpose(row):\n",
    "    try:\n",
    "        if 'автом' in row:\n",
    "            return 'операции с автомобилем'\n",
    "        elif 'жил' in row or 'недвиж' in row:\n",
    "            return 'операции с недвижимостью'\n",
    "        elif 'свад' in row:\n",
    "            return 'проведение свадьбы'\n",
    "        elif 'образов' in row:\n",
    "            return 'получение образования'\n",
    "    except:\n",
    "        return 'нет категории'"
   ]
  },
  {
   "cell_type": "code",
   "execution_count": 21,
   "id": "94c4a19a",
   "metadata": {
    "deletable": false,
    "id": "94c4a19a"
   },
   "outputs": [],
   "source": [
    "data['purpose_category'] = data['purpose'].apply(categorize_purpose)"
   ]
  },
  {
   "cell_type": "markdown",
   "id": "3d596c34",
   "metadata": {
    "deletable": false,
    "editable": false,
    "id": "3d596c34"
   },
   "source": [
    "### Шаг 3. Исследуйте данные и ответьте на вопросы"
   ]
  },
  {
   "cell_type": "markdown",
   "id": "648db036",
   "metadata": {
    "deletable": false,
    "editable": false,
    "id": "648db036"
   },
   "source": [
    "#### 3.1 Есть ли зависимость между количеством детей и возвратом кредита в срок?"
   ]
  },
  {
   "cell_type": "code",
   "execution_count": 22,
   "id": "7fcff25e",
   "metadata": {
    "deletable": false,
    "id": "7fcff25e",
    "scrolled": false
   },
   "outputs": [
    {
     "data": {
      "text/html": [
       "<div>\n",
       "<style scoped>\n",
       "    .dataframe tbody tr th:only-of-type {\n",
       "        vertical-align: middle;\n",
       "    }\n",
       "\n",
       "    .dataframe tbody tr th {\n",
       "        vertical-align: top;\n",
       "    }\n",
       "\n",
       "    .dataframe thead th {\n",
       "        text-align: right;\n",
       "    }\n",
       "</style>\n",
       "<table border=\"1\" class=\"dataframe\">\n",
       "  <thead>\n",
       "    <tr style=\"text-align: right;\">\n",
       "      <th></th>\n",
       "      <th>всего_кредитополучателей</th>\n",
       "      <th>количество_должников</th>\n",
       "      <th>доля_должников</th>\n",
       "    </tr>\n",
       "    <tr>\n",
       "      <th>children</th>\n",
       "      <th></th>\n",
       "      <th></th>\n",
       "      <th></th>\n",
       "    </tr>\n",
       "  </thead>\n",
       "  <tbody>\n",
       "    <tr>\n",
       "      <th>4</th>\n",
       "      <td>41</td>\n",
       "      <td>4</td>\n",
       "      <td>9.76%</td>\n",
       "    </tr>\n",
       "    <tr>\n",
       "      <th>2</th>\n",
       "      <td>2052</td>\n",
       "      <td>194</td>\n",
       "      <td>9.45%</td>\n",
       "    </tr>\n",
       "    <tr>\n",
       "      <th>1</th>\n",
       "      <td>4808</td>\n",
       "      <td>444</td>\n",
       "      <td>9.23%</td>\n",
       "    </tr>\n",
       "    <tr>\n",
       "      <th>3</th>\n",
       "      <td>330</td>\n",
       "      <td>27</td>\n",
       "      <td>8.18%</td>\n",
       "    </tr>\n",
       "    <tr>\n",
       "      <th>0</th>\n",
       "      <td>14091</td>\n",
       "      <td>1063</td>\n",
       "      <td>7.54%</td>\n",
       "    </tr>\n",
       "    <tr>\n",
       "      <th>5</th>\n",
       "      <td>9</td>\n",
       "      <td>0</td>\n",
       "      <td>0.00%</td>\n",
       "    </tr>\n",
       "  </tbody>\n",
       "</table>\n",
       "</div>"
      ],
      "text/plain": [
       "          всего_кредитополучателей  количество_должников доля_должников\n",
       "children                                                               \n",
       "4                               41                     4          9.76%\n",
       "2                             2052                   194          9.45%\n",
       "1                             4808                   444          9.23%\n",
       "3                              330                    27          8.18%\n",
       "0                            14091                  1063          7.54%\n",
       "5                                9                     0          0.00%"
      ]
     },
     "metadata": {},
     "output_type": "display_data"
    },
    {
     "data": {
      "text/html": [
       "<div>\n",
       "<style scoped>\n",
       "    .dataframe tbody tr th:only-of-type {\n",
       "        vertical-align: middle;\n",
       "    }\n",
       "\n",
       "    .dataframe tbody tr th {\n",
       "        vertical-align: top;\n",
       "    }\n",
       "\n",
       "    .dataframe thead th {\n",
       "        text-align: right;\n",
       "    }\n",
       "</style>\n",
       "<table border=\"1\" class=\"dataframe\">\n",
       "  <thead>\n",
       "    <tr style=\"text-align: right;\">\n",
       "      <th></th>\n",
       "      <th>всего_кредитополучателей</th>\n",
       "      <th>количество_должников</th>\n",
       "      <th>доля_должников</th>\n",
       "    </tr>\n",
       "    <tr>\n",
       "      <th>наличие_детей</th>\n",
       "      <th></th>\n",
       "      <th></th>\n",
       "      <th></th>\n",
       "    </tr>\n",
       "  </thead>\n",
       "  <tbody>\n",
       "    <tr>\n",
       "      <th>есть дети</th>\n",
       "      <td>7240</td>\n",
       "      <td>669</td>\n",
       "      <td>9.24%</td>\n",
       "    </tr>\n",
       "    <tr>\n",
       "      <th>нет детей</th>\n",
       "      <td>14091</td>\n",
       "      <td>1063</td>\n",
       "      <td>7.54%</td>\n",
       "    </tr>\n",
       "  </tbody>\n",
       "</table>\n",
       "</div>"
      ],
      "text/plain": [
       "               всего_кредитополучателей  количество_должников доля_должников\n",
       "наличие_детей                                                               \n",
       "есть дети                          7240                   669          9.24%\n",
       "нет детей                         14091                  1063          7.54%"
      ]
     },
     "metadata": {},
     "output_type": "display_data"
    }
   ],
   "source": [
    "def data_grouped(category):\n",
    "    data_grouped = data.groupby(category).agg({'debt':['count','sum']}).droplevel(0, axis=1)\n",
    "    data_grouped['доля_должников'] = data_grouped['sum'] / data_grouped['count']\n",
    "    data_grouped['доля_должников'] = data_grouped['доля_должников'].apply('{:.2%}'.format)\n",
    "    data_grouped.columns = ['всего_кредитополучателей', 'количество_должников', 'доля_должников']\n",
    "    display(data_grouped.sort_values(by = 'доля_должников', ascending = False))\n",
    "data_grouped('children')\n",
    "\n",
    "def new_kids_category(kids):\n",
    "    if kids !=0:\n",
    "        return 'есть дети'\n",
    "    else:\n",
    "        return 'нет детей'\n",
    "data['наличие_детей'] = data['children'].apply(new_kids_category)\n",
    "data_grouped('наличие_детей')"
   ]
  },
  {
   "cell_type": "markdown",
   "id": "11802781",
   "metadata": {},
   "source": [
    "<div class=\"alert alert-success\">\n",
    "<b>Комментарий ревьюера №1</b> ✅ \n",
    "    \n",
    "Для вывода датафрейма на экран можно использовать `display()` вместо `print()` Чтобы убрать мультииндекс, можно использовать метод `.droplevel()` или переименовать столбцы так:\n",
    "\n",
    "    data_grouped_ch.columns = ['Всего кредитополучателей', 'Количество должников', 'Доля должников']\n",
    "    \n",
    "Также могу посоветовать написать функцию для построения сводных во всех вопросах.\n",
    "</div>"
   ]
  },
  {
   "cell_type": "markdown",
   "id": "e75a793f",
   "metadata": {},
   "source": [
    "<div class=\"alert alert-info\">\n",
    "<b>Комментарий студента №1</b>\n",
    "    \n",
    "Катя, cпасибо за супер полезные замечания))\n",
    "- Избавилась от мультииндекса\n",
    "- Переименовала столбцы\n",
    "- Изенила print() на display()\n",
    "- Написала функцию для построения сводников\n",
    "\n",
    "Табличка преобразилась!))"
   ]
  },
  {
   "cell_type": "markdown",
   "id": "7f0a4ee2",
   "metadata": {},
   "source": [
    "<div class=\"alert alert-success\">\n",
    "<b>Комментарий ревьюера №2</b> ✅\n",
    "    \n",
    "Хорошо, вот как можно было разбить клиентов по наличию детей\n",
    "    \n",
    "    data['наличие_детей'] = ['есть дети' if x!=0 else 'нет детей' for x in data['children']]\n",
    "</div>"
   ]
  },
  {
   "cell_type": "markdown",
   "id": "2eb9088e",
   "metadata": {
    "deletable": false,
    "id": "2eb9088e"
   },
   "source": [
    "**Вывод:**\n",
    "\n",
    "Если поделить все данные на две категории: **без детей** и **с детьми**, то явно видно, что заемщики **без детей** являются более надежными, чем заемщики с **с детьми**. Доля задолженности в этих категориях составляет `7,54%` и `9,24%` соответственно."
   ]
  },
  {
   "cell_type": "markdown",
   "id": "993cf1f1",
   "metadata": {},
   "source": [
    "<div class=\"alert alert-danger\">\n",
    "<b>Комментарий ревьюера №1</b> ❌\n",
    "    \n",
    "Можно еще раз подумать над зависимостью, сравнив только самые большие, сопоставимые по размеру категории.\n",
    "</div>"
   ]
  },
  {
   "cell_type": "markdown",
   "id": "c5fbd359",
   "metadata": {},
   "source": [
    "<div class=\"alert alert-info\">\n",
    "<b>Комментарий студента №1</b>\n",
    "\n",
    "Исправила выводы."
   ]
  },
  {
   "cell_type": "markdown",
   "id": "ed2d7d89",
   "metadata": {},
   "source": [
    "<div class=\"alert alert-warning\">\n",
    "<b>Комментарий ревьюера №2</b> ⚠️\n",
    "    \n",
    "Данных по многодетным (3 и более детей) недостаточно для корректных выводов по ним. По людям с 0-2 детьми: чем больше детей, тем выше процент должников \n",
    "</div>"
   ]
  },
  {
   "cell_type": "markdown",
   "id": "74c9b3a7",
   "metadata": {
    "deletable": false,
    "editable": false,
    "id": "74c9b3a7"
   },
   "source": [
    "#### 3.2 Есть ли зависимость между семейным положением и возвратом кредита в срок?"
   ]
  },
  {
   "cell_type": "code",
   "execution_count": 23,
   "id": "8098ab3b",
   "metadata": {
    "deletable": false,
    "id": "8098ab3b"
   },
   "outputs": [
    {
     "data": {
      "text/html": [
       "<div>\n",
       "<style scoped>\n",
       "    .dataframe tbody tr th:only-of-type {\n",
       "        vertical-align: middle;\n",
       "    }\n",
       "\n",
       "    .dataframe tbody tr th {\n",
       "        vertical-align: top;\n",
       "    }\n",
       "\n",
       "    .dataframe thead th {\n",
       "        text-align: right;\n",
       "    }\n",
       "</style>\n",
       "<table border=\"1\" class=\"dataframe\">\n",
       "  <thead>\n",
       "    <tr style=\"text-align: right;\">\n",
       "      <th></th>\n",
       "      <th>всего_кредитополучателей</th>\n",
       "      <th>количество_должников</th>\n",
       "      <th>доля_должников</th>\n",
       "    </tr>\n",
       "    <tr>\n",
       "      <th>family_status</th>\n",
       "      <th></th>\n",
       "      <th></th>\n",
       "      <th></th>\n",
       "    </tr>\n",
       "  </thead>\n",
       "  <tbody>\n",
       "    <tr>\n",
       "      <th>Не женат / не замужем</th>\n",
       "      <td>2796</td>\n",
       "      <td>273</td>\n",
       "      <td>9.76%</td>\n",
       "    </tr>\n",
       "    <tr>\n",
       "      <th>гражданский брак</th>\n",
       "      <td>4134</td>\n",
       "      <td>385</td>\n",
       "      <td>9.31%</td>\n",
       "    </tr>\n",
       "    <tr>\n",
       "      <th>женат / замужем</th>\n",
       "      <td>12261</td>\n",
       "      <td>927</td>\n",
       "      <td>7.56%</td>\n",
       "    </tr>\n",
       "    <tr>\n",
       "      <th>в разводе</th>\n",
       "      <td>1189</td>\n",
       "      <td>84</td>\n",
       "      <td>7.06%</td>\n",
       "    </tr>\n",
       "    <tr>\n",
       "      <th>вдовец / вдова</th>\n",
       "      <td>951</td>\n",
       "      <td>63</td>\n",
       "      <td>6.62%</td>\n",
       "    </tr>\n",
       "  </tbody>\n",
       "</table>\n",
       "</div>"
      ],
      "text/plain": [
       "                       всего_кредитополучателей  количество_должников  \\\n",
       "family_status                                                           \n",
       "Не женат / не замужем                      2796                   273   \n",
       "гражданский брак                           4134                   385   \n",
       "женат / замужем                           12261                   927   \n",
       "в разводе                                  1189                    84   \n",
       "вдовец / вдова                              951                    63   \n",
       "\n",
       "                      доля_должников  \n",
       "family_status                         \n",
       "Не женат / не замужем          9.76%  \n",
       "гражданский брак               9.31%  \n",
       "женат / замужем                7.56%  \n",
       "в разводе                      7.06%  \n",
       "вдовец / вдова                 6.62%  "
      ]
     },
     "metadata": {},
     "output_type": "display_data"
    }
   ],
   "source": [
    "data_grouped('family_status')"
   ]
  },
  {
   "cell_type": "markdown",
   "id": "c389ca63",
   "metadata": {
    "deletable": false,
    "id": "c389ca63"
   },
   "source": [
    "**Вывод:**\n",
    "\n",
    "Заемщики, которые были или находятся в официальном браке (категории `вдовец/вдова`, `в разводе` и `женат / замужем`), чаще отдают кредиты в срок, чем заемщкики никогда не состоявшие в официальном браке. Самая большая доля заложенностей приходится на категорию `Не женат / не замужем` `9,76%` от общего числа кредитов в этой категории."
   ]
  },
  {
   "cell_type": "markdown",
   "id": "76fd7c90",
   "metadata": {},
   "source": [
    "<div class=\"alert alert-success\">\n",
    "<b>Комментарий ревьюера №1</b> ✅\n",
    "    \n",
    "Люди, побывавшие в официальном браке, наиболее надежны. Возможно, есть связь с возрастом\n",
    "</div>"
   ]
  },
  {
   "cell_type": "markdown",
   "id": "9529de68",
   "metadata": {
    "deletable": false,
    "editable": false,
    "id": "9529de68"
   },
   "source": [
    "#### 3.3 Есть ли зависимость между уровнем дохода и возвратом кредита в срок?"
   ]
  },
  {
   "cell_type": "code",
   "execution_count": 24,
   "id": "8787f44a",
   "metadata": {
    "deletable": false,
    "id": "8787f44a"
   },
   "outputs": [
    {
     "data": {
      "text/html": [
       "<div>\n",
       "<style scoped>\n",
       "    .dataframe tbody tr th:only-of-type {\n",
       "        vertical-align: middle;\n",
       "    }\n",
       "\n",
       "    .dataframe tbody tr th {\n",
       "        vertical-align: top;\n",
       "    }\n",
       "\n",
       "    .dataframe thead th {\n",
       "        text-align: right;\n",
       "    }\n",
       "</style>\n",
       "<table border=\"1\" class=\"dataframe\">\n",
       "  <thead>\n",
       "    <tr style=\"text-align: right;\">\n",
       "      <th></th>\n",
       "      <th>всего_кредитополучателей</th>\n",
       "      <th>количество_должников</th>\n",
       "      <th>доля_должников</th>\n",
       "    </tr>\n",
       "    <tr>\n",
       "      <th>total_income_category</th>\n",
       "      <th></th>\n",
       "      <th></th>\n",
       "      <th></th>\n",
       "    </tr>\n",
       "  </thead>\n",
       "  <tbody>\n",
       "    <tr>\n",
       "      <th>E</th>\n",
       "      <td>22</td>\n",
       "      <td>2</td>\n",
       "      <td>9.09%</td>\n",
       "    </tr>\n",
       "    <tr>\n",
       "      <th>C</th>\n",
       "      <td>15921</td>\n",
       "      <td>1353</td>\n",
       "      <td>8.50%</td>\n",
       "    </tr>\n",
       "    <tr>\n",
       "      <th>A</th>\n",
       "      <td>25</td>\n",
       "      <td>2</td>\n",
       "      <td>8.00%</td>\n",
       "    </tr>\n",
       "    <tr>\n",
       "      <th>B</th>\n",
       "      <td>5014</td>\n",
       "      <td>354</td>\n",
       "      <td>7.06%</td>\n",
       "    </tr>\n",
       "    <tr>\n",
       "      <th>D</th>\n",
       "      <td>349</td>\n",
       "      <td>21</td>\n",
       "      <td>6.02%</td>\n",
       "    </tr>\n",
       "  </tbody>\n",
       "</table>\n",
       "</div>"
      ],
      "text/plain": [
       "                       всего_кредитополучателей  количество_должников  \\\n",
       "total_income_category                                                   \n",
       "E                                            22                     2   \n",
       "C                                         15921                  1353   \n",
       "A                                            25                     2   \n",
       "B                                          5014                   354   \n",
       "D                                           349                    21   \n",
       "\n",
       "                      доля_должников  \n",
       "total_income_category                 \n",
       "E                              9.09%  \n",
       "C                              8.50%  \n",
       "A                              8.00%  \n",
       "B                              7.06%  \n",
       "D                              6.02%  "
      ]
     },
     "metadata": {},
     "output_type": "display_data"
    }
   ],
   "source": [
    "data_grouped('total_income_category')"
   ]
  },
  {
   "cell_type": "markdown",
   "id": "6dd14b57",
   "metadata": {
    "deletable": false,
    "id": "6dd14b57"
   },
   "source": [
    "**Вывод:**\n",
    "\n",
    "Кредитополучатели со средним уровнем дохода **от 50001 до 200000** (категория `C`) являются менее надежными заемщиками, чем кредитополучатели с высоким уровнем дохода от **200001** (категория `B`).\n"
   ]
  },
  {
   "cell_type": "markdown",
   "id": "46f40540",
   "metadata": {},
   "source": [
    "<div class=\"alert alert-danger\">\n",
    "<b>Комментарий ревьюера №1</b> ❌\n",
    "    \n",
    "Здесь лучше делать выводы по двум самым крупным категориям - B и С. По остальным категориям данных недостаточно для корректных выводов, статпогрешность большая\n",
    "</div>"
   ]
  },
  {
   "cell_type": "markdown",
   "id": "542246a5",
   "metadata": {},
   "source": [
    "<div class=\"alert alert-info\">\n",
    "<b>Комментарий студента №1</b>\n",
    "\n",
    "Исправила выводы."
   ]
  },
  {
   "cell_type": "markdown",
   "id": "6c3434de",
   "metadata": {},
   "source": [
    "<div class=\"alert alert-success\">\n",
    "<b>Комментарий ревьюера №2</b> ✅\n",
    "    \n",
    "👍\n",
    "</div>"
   ]
  },
  {
   "cell_type": "markdown",
   "id": "1dcc9b12",
   "metadata": {
    "deletable": false,
    "editable": false,
    "id": "1dcc9b12"
   },
   "source": [
    "#### 3.4 Как разные цели кредита влияют на его возврат в срок?"
   ]
  },
  {
   "cell_type": "code",
   "execution_count": 25,
   "id": "c602bc8b",
   "metadata": {
    "deletable": false,
    "id": "c602bc8b"
   },
   "outputs": [
    {
     "data": {
      "text/html": [
       "<div>\n",
       "<style scoped>\n",
       "    .dataframe tbody tr th:only-of-type {\n",
       "        vertical-align: middle;\n",
       "    }\n",
       "\n",
       "    .dataframe tbody tr th {\n",
       "        vertical-align: top;\n",
       "    }\n",
       "\n",
       "    .dataframe thead th {\n",
       "        text-align: right;\n",
       "    }\n",
       "</style>\n",
       "<table border=\"1\" class=\"dataframe\">\n",
       "  <thead>\n",
       "    <tr style=\"text-align: right;\">\n",
       "      <th></th>\n",
       "      <th>всего_кредитополучателей</th>\n",
       "      <th>количество_должников</th>\n",
       "      <th>доля_должников</th>\n",
       "    </tr>\n",
       "    <tr>\n",
       "      <th>purpose_category</th>\n",
       "      <th></th>\n",
       "      <th></th>\n",
       "      <th></th>\n",
       "    </tr>\n",
       "  </thead>\n",
       "  <tbody>\n",
       "    <tr>\n",
       "      <th>операции с автомобилем</th>\n",
       "      <td>4279</td>\n",
       "      <td>400</td>\n",
       "      <td>9.35%</td>\n",
       "    </tr>\n",
       "    <tr>\n",
       "      <th>получение образования</th>\n",
       "      <td>3988</td>\n",
       "      <td>369</td>\n",
       "      <td>9.25%</td>\n",
       "    </tr>\n",
       "    <tr>\n",
       "      <th>проведение свадьбы</th>\n",
       "      <td>2313</td>\n",
       "      <td>183</td>\n",
       "      <td>7.91%</td>\n",
       "    </tr>\n",
       "    <tr>\n",
       "      <th>операции с недвижимостью</th>\n",
       "      <td>10751</td>\n",
       "      <td>780</td>\n",
       "      <td>7.26%</td>\n",
       "    </tr>\n",
       "  </tbody>\n",
       "</table>\n",
       "</div>"
      ],
      "text/plain": [
       "                          всего_кредитополучателей  количество_должников  \\\n",
       "purpose_category                                                           \n",
       "операции с автомобилем                        4279                   400   \n",
       "получение образования                         3988                   369   \n",
       "проведение свадьбы                            2313                   183   \n",
       "операции с недвижимостью                     10751                   780   \n",
       "\n",
       "                         доля_должников  \n",
       "purpose_category                         \n",
       "операции с автомобилем            9.35%  \n",
       "получение образования             9.25%  \n",
       "проведение свадьбы                7.91%  \n",
       "операции с недвижимостью          7.26%  "
      ]
     },
     "metadata": {},
     "output_type": "display_data"
    }
   ],
   "source": [
    "data_grouped('purpose_category')"
   ]
  },
  {
   "cell_type": "markdown",
   "id": "cf05ed63",
   "metadata": {
    "deletable": false,
    "id": "cf05ed63"
   },
   "source": [
    "**Вывод:** Заемщики, которые берут кредиты на `операции с автомобилем` и `получение образования` являются менее надежными, чем остальные две категории. Наименьшее число задолженностей присуща кредитам в категории `операции с недвижимостью` `7,26%` от общего числа кредитов в данной категории."
   ]
  },
  {
   "cell_type": "markdown",
   "id": "4b8586d6",
   "metadata": {},
   "source": [
    "<div class=\"alert alert-success\">\n",
    "<b>Комментарий ревьюера №1</b> ✅ \n",
    "    \n",
    "Верно\n",
    "</div>"
   ]
  },
  {
   "cell_type": "markdown",
   "id": "46c1f10b",
   "metadata": {
    "deletable": false,
    "editable": false,
    "id": "46c1f10b"
   },
   "source": [
    "#### 3.5 Приведите возможные причины появления пропусков в исходных данных."
   ]
  },
  {
   "cell_type": "markdown",
   "id": "3697d2a9",
   "metadata": {
    "deletable": false,
    "id": "3697d2a9"
   },
   "source": [
    "*Ответ:*\n",
    "- Техническая ошибка при выгрузке данных\n",
    "- Заявитель не указал эти данные\n",
    "- Ошибка в автоматической сиситеме сбора данных"
   ]
  },
  {
   "cell_type": "markdown",
   "id": "0180a9bf",
   "metadata": {},
   "source": [
    "<div class=\"alert alert-success\">\n",
    "<b>Комментарий ревьюера №1</b> ✅\n",
    "    \n",
    "Клиенты могли не предоставить данные. Возможно, эту информацию не требуют в некоторых случаях. Проблемы могли возникнуть на этапе загрузки и на этапе выгрузки данных. Неправильный запрос, объединение таблиц также может быть причиной.\n",
    "</div>"
   ]
  },
  {
   "cell_type": "markdown",
   "id": "3137d257",
   "metadata": {
    "deletable": false,
    "editable": false,
    "id": "3137d257"
   },
   "source": [
    "#### 3.6 Объясните, почему заполнить пропуски медианным значением — лучшее решение для количественных переменных."
   ]
  },
  {
   "cell_type": "markdown",
   "id": "cf40012a",
   "metadata": {
    "deletable": false,
    "id": "cf40012a"
   },
   "source": [
    "*Ответ:* Медиана, в отличие от средарифметисекого занчения, не искажет результат при наличии статистических выбросов."
   ]
  },
  {
   "cell_type": "markdown",
   "id": "f0abaa9d",
   "metadata": {},
   "source": [
    "<div class=\"alert alert-success\">\n",
    "<b>Комментарий ревьюера №1</b> ✅\n",
    "    \n",
    "Да, смотрим на наличие выбросов👍\n",
    "</div>"
   ]
  },
  {
   "cell_type": "markdown",
   "id": "57bc304e",
   "metadata": {
    "deletable": false,
    "editable": false,
    "id": "57bc304e"
   },
   "source": [
    "### Шаг 4: общий вывод."
   ]
  },
  {
   "cell_type": "markdown",
   "id": "1ab75d1c",
   "metadata": {
    "deletable": false,
    "id": "1ab75d1c"
   },
   "source": [
    "От банка-заказчика была предоставлена статистка о платёжеспособности клиентов.\n",
    "\n",
    "**В данные были внесены следующие изменения:**\n",
    "- Заменены пропущенные значения в столбцах `total_income` и `days_employed` медианными значениями по каждому типу занятости `income_type`.\n",
    "- Обработаны аномальные значения в столбцах `days_employed` и `children`\n",
    " - в столбце `days_employed` все отрицательные значения были заменены положительными с помощью метода abs()\n",
    " - в столбце `children` было замечено два аномальных значения. Строки с этими значениями были удалены из датафрейма\n",
    "- Был изменен тип данных в столбце `total_income` на целочисленный с помощью метода astype().\n",
    "- Была проведена работа с дубликами данных\n",
    " - Были обработаны неявные дубликаты в столбце `education`. Все значения были приведены к нижнему регистру методом str.lower().\n",
    " - Из датафрейма были удалены строки-дубликаты методом drop_duplicates().\n",
    "- Была проведена категоризация данных\n",
    " - на основании диапазонов, указанных ниже, в датафрейме был создан столбец total_income_category с категориями:\n",
    "   - 0–30000 — 'E';\n",
    "   - 30001–50000 — 'D';\n",
    "   - 50001–200000 — 'C';\n",
    "   - 200001–1000000 — 'B';\n",
    "   - 1000001 и выше — 'A'.\n",
    " - на остновании данных из столбца `purpose` был создан новый столбец `purpose_category`, содержащий более крупные категории с целями кредита:\n",
    "    - 'операции с автомобилем',\n",
    "    - 'операции с недвижимостью',\n",
    "    - 'проведение свадьбы',\n",
    "    - 'получение образования'.\n",
    " \n",
    "**Выводы:**\n",
    "На факт погашения кредита в срок влияют следующие факторы:\n",
    "- `Наличие детей:` заемщики без детей являются более надежными, чем заемщики с с детьми;\n",
    "- `Семейное положение:` \n",
    " - люди, побывавшие в официальном браке, наиболее надежны\n",
    " - кредитополучатели, не находящиеся в браке или живущие гражданским браком, наименнее надежны\n",
    "- `Уровень дохода:` кредитополучатели со средним уровнем дохода (от 50000) являются менее надежными заемщиками, чем кредитополучатели с высоким уровнем дохода (от 200000);\n",
    "- `Цель кредита:`\n",
    " - меньше всего задолженностей по кредитам на оперции с недвижимостью и проведение свадеб\n",
    " - больше всего заложенностей по кредитам на операции с автомобилем и получение образования\n",
    "\n",
    "**Рекомендации:**\n",
    "\n",
    "На основании проведенного анализа данных рекомендуем включить в модель кредитного скоринга для оценки способности потенциального заёмщика вернуть кредит банку 4 нижеуказаннх фактора:\n",
    "- Наличие детей\n",
    "- Семейное положение\n",
    "- Уровень дохода\n",
    "- Цель кредита"
   ]
  },
  {
   "cell_type": "markdown",
   "id": "773036b2",
   "metadata": {},
   "source": [
    "<div class=\"alert alert-danger\">\n",
    "<b>Комментарий ревьюера №1</b> ❌ \n",
    "    \n",
    "Выводы нужно будет поправить после изменений в проекте. Опиши все зависимости. Здесь также нужно описать какая работа над данными была проведена и добавить рекомендации банку-заказчику\n",
    "</div>"
   ]
  },
  {
   "cell_type": "markdown",
   "id": "c2f38aba",
   "metadata": {},
   "source": [
    "<div class=\"alert alert-info\">\n",
    "<b>Комментарий студента №1</b>\n",
    "\n",
    "Скорректировала общий вывод. Добавила информацию, что было сделано с данными, исправила выводы и включила рекомендации. "
   ]
  },
  {
   "cell_type": "markdown",
   "id": "ed73f48c",
   "metadata": {},
   "source": [
    "<div class=\"alert alert-success\">\n",
    "<b>Комментарий ревьюера №2</b> ✅\n",
    "    \n",
    "В качестве рекомендаций можно предложить другую категоризацию по доходам. Можно попробовать разбить всех клиентов на равные по количеству человек группы. Для категоризации данных также можно использовать методы pd.cut() и pd.qcut(). Подробнее о них можно почитать здесь https://www.geeksforgeeks.org/how-to-use-pandas-cut-and-qcut/ или <a href=\"https://dfedorov.spb.ru/pandas/%D0%A0%D0%B0%D0%B7%D0%B4%D0%B5%D0%BB%D0%B5%D0%BD%D0%B8%D0%B5%20%D0%B4%D0%B0%D0%BD%D0%BD%D1%8B%D1%85%20%D0%B2%20Pandas%20%D1%81%20%D0%BF%D0%BE%D0%BC%D0%BE%D1%89%D1%8C%D1%8E%20qcut%20%D0%B8%20cut.html\">здесь</a>. Можно предложить исследовать другие признаки, рассчитать другие метрики (отношение дохода к сумме выплат и др.). В анкете сделать поля о доходе и стаже обязательными к заполнению, добавить автопроверку на формат вводимых пользователем данных\n",
    "</div>"
   ]
  },
  {
   "cell_type": "markdown",
   "id": "8c0e95b9",
   "metadata": {},
   "source": [
    "<div style=\"border:solid purple 2px; padding: 20px\"> \n",
    "<b> <font color='purple' >   \n",
    "    \n",
    "В целом, работа хорошая. У тебя отличные аналитические навыки, но остались небольшие доработки. Нужно проверить выводы. Доделывай и присылай на повторную проверку.\n",
    "        \n",
    "Жду твоих исправлений 😊\n",
    "</font></b>\n",
    "</div>"
   ]
  },
  {
   "cell_type": "markdown",
   "id": "ab107540",
   "metadata": {},
   "source": [
    "<div style=\"border:solid purple 2px; padding: 20px\"> \n",
    "<b> <font color='purple' >   \n",
    "Отлично! Критических замечаний больше нет. Проект принят! 👏 Поздравляю и желаю удачи!\n",
    "</font></b>\n",
    "</div>"
   ]
  }
 ],
 "metadata": {
  "ExecuteTimeLog": [
   {
    "duration": 514,
    "start_time": "2023-09-24T09:05:51.846Z"
   },
   {
    "duration": 24,
    "start_time": "2023-09-24T09:05:52.362Z"
   },
   {
    "duration": 26,
    "start_time": "2023-09-24T09:05:52.388Z"
   },
   {
    "duration": 11,
    "start_time": "2023-09-24T09:05:52.417Z"
   },
   {
    "duration": 76,
    "start_time": "2023-09-24T09:05:52.429Z"
   },
   {
    "duration": 4,
    "start_time": "2023-09-24T09:05:52.507Z"
   },
   {
    "duration": 32,
    "start_time": "2023-09-24T09:05:52.513Z"
   },
   {
    "duration": 35,
    "start_time": "2023-09-24T09:05:52.546Z"
   },
   {
    "duration": 46,
    "start_time": "2023-09-24T09:05:52.582Z"
   },
   {
    "duration": 11,
    "start_time": "2023-09-24T09:05:52.631Z"
   },
   {
    "duration": 78,
    "start_time": "2023-09-24T09:05:52.644Z"
   },
   {
    "duration": 11,
    "start_time": "2023-09-24T09:05:52.723Z"
   },
   {
    "duration": 34,
    "start_time": "2023-09-24T09:05:52.736Z"
   },
   {
    "duration": 31,
    "start_time": "2023-09-24T09:05:52.772Z"
   },
   {
    "duration": 31,
    "start_time": "2023-09-24T09:05:52.804Z"
   },
   {
    "duration": 31,
    "start_time": "2023-09-24T09:05:52.837Z"
   },
   {
    "duration": 15,
    "start_time": "2023-09-24T09:05:52.871Z"
   },
   {
    "duration": 43,
    "start_time": "2023-09-24T09:05:52.888Z"
   },
   {
    "duration": 13,
    "start_time": "2023-09-24T09:05:52.933Z"
   },
   {
    "duration": 13,
    "start_time": "2023-09-24T09:05:52.949Z"
   },
   {
    "duration": 33,
    "start_time": "2023-09-24T09:05:52.964Z"
   },
   {
    "duration": 21,
    "start_time": "2023-09-24T09:05:52.998Z"
   },
   {
    "duration": 8,
    "start_time": "2023-09-24T09:05:53.021Z"
   },
   {
    "duration": 10,
    "start_time": "2023-09-24T09:05:53.031Z"
   },
   {
    "duration": 42,
    "start_time": "2023-09-24T09:05:53.042Z"
   },
   {
    "duration": 42,
    "start_time": "2023-09-24T11:35:23.948Z"
   },
   {
    "duration": 6,
    "start_time": "2023-09-24T11:36:02.293Z"
   },
   {
    "duration": 5,
    "start_time": "2023-09-24T11:36:57.455Z"
   },
   {
    "duration": 472,
    "start_time": "2023-09-24T11:38:33.077Z"
   },
   {
    "duration": 19,
    "start_time": "2023-09-24T11:38:33.551Z"
   },
   {
    "duration": 15,
    "start_time": "2023-09-24T11:38:33.571Z"
   },
   {
    "duration": 9,
    "start_time": "2023-09-24T11:38:33.588Z"
   },
   {
    "duration": 34,
    "start_time": "2023-09-24T11:38:33.598Z"
   },
   {
    "duration": 12,
    "start_time": "2023-09-24T11:38:33.633Z"
   },
   {
    "duration": 12,
    "start_time": "2023-09-24T11:38:33.647Z"
   },
   {
    "duration": 4,
    "start_time": "2023-09-24T11:38:33.660Z"
   },
   {
    "duration": 7,
    "start_time": "2023-09-24T11:38:33.665Z"
   },
   {
    "duration": 8,
    "start_time": "2023-09-24T11:38:33.674Z"
   },
   {
    "duration": 37,
    "start_time": "2023-09-24T11:38:33.683Z"
   },
   {
    "duration": 25,
    "start_time": "2023-09-24T11:38:33.722Z"
   },
   {
    "duration": 3,
    "start_time": "2023-09-24T11:38:33.749Z"
   },
   {
    "duration": 11,
    "start_time": "2023-09-24T11:38:33.754Z"
   },
   {
    "duration": 19,
    "start_time": "2023-09-24T11:38:33.767Z"
   },
   {
    "duration": 17,
    "start_time": "2023-09-24T11:38:33.787Z"
   },
   {
    "duration": 4,
    "start_time": "2023-09-24T11:38:33.805Z"
   },
   {
    "duration": 40,
    "start_time": "2023-09-24T11:38:33.810Z"
   },
   {
    "duration": 9,
    "start_time": "2023-09-24T11:38:33.852Z"
   },
   {
    "duration": 3,
    "start_time": "2023-09-24T11:38:33.863Z"
   },
   {
    "duration": 11,
    "start_time": "2023-09-24T11:38:33.867Z"
   },
   {
    "duration": 83,
    "start_time": "2023-09-24T11:38:33.879Z"
   },
   {
    "duration": 0,
    "start_time": "2023-09-24T11:38:33.964Z"
   },
   {
    "duration": 0,
    "start_time": "2023-09-24T11:38:33.965Z"
   },
   {
    "duration": 0,
    "start_time": "2023-09-24T11:38:33.966Z"
   },
   {
    "duration": 7,
    "start_time": "2023-09-24T11:40:37.832Z"
   },
   {
    "duration": 5,
    "start_time": "2023-09-24T11:40:48.954Z"
   },
   {
    "duration": 8,
    "start_time": "2023-09-24T11:42:21.757Z"
   },
   {
    "duration": 5,
    "start_time": "2023-09-24T11:42:41.292Z"
   },
   {
    "duration": 5,
    "start_time": "2023-09-24T12:09:48.590Z"
   },
   {
    "duration": 6,
    "start_time": "2023-09-24T12:10:07.387Z"
   },
   {
    "duration": 5,
    "start_time": "2023-09-24T12:16:37.991Z"
   },
   {
    "duration": 1284,
    "start_time": "2023-09-24T12:17:02.100Z"
   },
   {
    "duration": 8,
    "start_time": "2023-09-24T12:22:32.978Z"
   },
   {
    "duration": 4,
    "start_time": "2023-09-24T12:30:48.677Z"
   },
   {
    "duration": 4,
    "start_time": "2023-09-24T12:30:59.607Z"
   },
   {
    "duration": 9,
    "start_time": "2023-09-24T12:31:22.291Z"
   },
   {
    "duration": 4,
    "start_time": "2023-09-24T12:32:21.988Z"
   },
   {
    "duration": 10,
    "start_time": "2023-09-24T12:33:01.774Z"
   },
   {
    "duration": 97,
    "start_time": "2023-09-24T12:35:52.744Z"
   },
   {
    "duration": 93,
    "start_time": "2023-09-24T12:36:52.694Z"
   },
   {
    "duration": 113,
    "start_time": "2023-09-24T12:37:43.492Z"
   },
   {
    "duration": 13,
    "start_time": "2023-09-24T12:38:12.003Z"
   },
   {
    "duration": 16,
    "start_time": "2023-09-24T12:38:35.069Z"
   },
   {
    "duration": 91,
    "start_time": "2023-09-24T13:32:34.779Z"
   },
   {
    "duration": 89,
    "start_time": "2023-09-24T13:33:26.218Z"
   },
   {
    "duration": 6,
    "start_time": "2023-09-24T13:34:09.332Z"
   },
   {
    "duration": 1709,
    "start_time": "2023-09-24T13:34:19.645Z"
   },
   {
    "duration": 9,
    "start_time": "2023-09-24T13:37:39.867Z"
   },
   {
    "duration": 3,
    "start_time": "2023-09-24T13:43:12.726Z"
   },
   {
    "duration": 8,
    "start_time": "2023-09-24T13:43:41.951Z"
   },
   {
    "duration": 12,
    "start_time": "2023-09-24T13:44:02.919Z"
   },
   {
    "duration": 14,
    "start_time": "2023-09-24T13:46:11.280Z"
   },
   {
    "duration": 15,
    "start_time": "2023-09-24T13:46:27.089Z"
   },
   {
    "duration": 20,
    "start_time": "2023-09-24T13:48:38.836Z"
   },
   {
    "duration": 19,
    "start_time": "2023-09-24T13:49:40.142Z"
   },
   {
    "duration": 89,
    "start_time": "2023-09-24T13:51:19.802Z"
   },
   {
    "duration": 462,
    "start_time": "2023-09-24T13:53:01.347Z"
   },
   {
    "duration": 20,
    "start_time": "2023-09-24T13:53:01.811Z"
   },
   {
    "duration": 14,
    "start_time": "2023-09-24T13:53:01.832Z"
   },
   {
    "duration": 23,
    "start_time": "2023-09-24T13:53:01.847Z"
   },
   {
    "duration": 38,
    "start_time": "2023-09-24T13:53:01.871Z"
   },
   {
    "duration": 3,
    "start_time": "2023-09-24T13:53:01.910Z"
   },
   {
    "duration": 17,
    "start_time": "2023-09-24T13:53:01.915Z"
   },
   {
    "duration": 4,
    "start_time": "2023-09-24T13:53:01.934Z"
   },
   {
    "duration": 8,
    "start_time": "2023-09-24T13:53:01.939Z"
   },
   {
    "duration": 16,
    "start_time": "2023-09-24T13:53:01.950Z"
   },
   {
    "duration": 39,
    "start_time": "2023-09-24T13:53:01.968Z"
   },
   {
    "duration": 9,
    "start_time": "2023-09-24T13:53:02.009Z"
   },
   {
    "duration": 10,
    "start_time": "2023-09-24T13:53:02.020Z"
   },
   {
    "duration": 19,
    "start_time": "2023-09-24T13:53:02.031Z"
   },
   {
    "duration": 30,
    "start_time": "2023-09-24T13:53:02.051Z"
   },
   {
    "duration": 19,
    "start_time": "2023-09-24T13:53:02.082Z"
   },
   {
    "duration": 6,
    "start_time": "2023-09-24T13:53:02.102Z"
   },
   {
    "duration": 16,
    "start_time": "2023-09-24T13:53:02.109Z"
   },
   {
    "duration": 5,
    "start_time": "2023-09-24T13:53:02.126Z"
   },
   {
    "duration": 3,
    "start_time": "2023-09-24T13:53:02.133Z"
   },
   {
    "duration": 11,
    "start_time": "2023-09-24T13:53:02.144Z"
   },
   {
    "duration": 11,
    "start_time": "2023-09-24T13:53:02.157Z"
   },
   {
    "duration": 25,
    "start_time": "2023-09-24T13:53:02.169Z"
   },
   {
    "duration": 2,
    "start_time": "2023-09-24T13:53:02.196Z"
   },
   {
    "duration": 5,
    "start_time": "2023-09-24T13:53:02.200Z"
   },
   {
    "duration": 14,
    "start_time": "2023-09-24T13:53:02.206Z"
   },
   {
    "duration": 45,
    "start_time": "2023-09-24T16:43:53.460Z"
   },
   {
    "duration": 959,
    "start_time": "2023-09-24T16:44:34.532Z"
   },
   {
    "duration": 19,
    "start_time": "2023-09-24T16:44:35.493Z"
   },
   {
    "duration": 23,
    "start_time": "2023-09-24T16:44:35.514Z"
   },
   {
    "duration": 29,
    "start_time": "2023-09-24T16:44:35.538Z"
   },
   {
    "duration": 58,
    "start_time": "2023-09-24T16:44:35.569Z"
   },
   {
    "duration": 27,
    "start_time": "2023-09-24T16:44:35.628Z"
   },
   {
    "duration": 71,
    "start_time": "2023-09-24T16:44:35.663Z"
   },
   {
    "duration": 33,
    "start_time": "2023-09-24T16:44:35.736Z"
   },
   {
    "duration": 44,
    "start_time": "2023-09-24T16:44:35.770Z"
   },
   {
    "duration": 47,
    "start_time": "2023-09-24T16:44:35.815Z"
   },
   {
    "duration": 62,
    "start_time": "2023-09-24T16:44:35.863Z"
   },
   {
    "duration": 115,
    "start_time": "2023-09-24T16:44:35.926Z"
   },
   {
    "duration": 76,
    "start_time": "2023-09-24T16:44:36.042Z"
   },
   {
    "duration": 39,
    "start_time": "2023-09-24T16:44:36.122Z"
   },
   {
    "duration": 48,
    "start_time": "2023-09-24T16:44:36.162Z"
   },
   {
    "duration": 15,
    "start_time": "2023-09-24T16:44:36.211Z"
   },
   {
    "duration": 5,
    "start_time": "2023-09-24T16:44:36.228Z"
   },
   {
    "duration": 14,
    "start_time": "2023-09-24T16:44:36.234Z"
   },
   {
    "duration": 16,
    "start_time": "2023-09-24T16:44:36.249Z"
   },
   {
    "duration": 15,
    "start_time": "2023-09-24T16:44:36.266Z"
   },
   {
    "duration": 25,
    "start_time": "2023-09-24T16:44:36.283Z"
   },
   {
    "duration": 30,
    "start_time": "2023-09-24T16:44:36.310Z"
   },
   {
    "duration": 18,
    "start_time": "2023-09-24T16:44:36.342Z"
   },
   {
    "duration": 83,
    "start_time": "2023-09-24T16:44:36.362Z"
   },
   {
    "duration": 0,
    "start_time": "2023-09-24T16:44:36.447Z"
   },
   {
    "duration": 0,
    "start_time": "2023-09-24T16:44:36.448Z"
   },
   {
    "duration": 21,
    "start_time": "2023-09-24T16:44:57.807Z"
   },
   {
    "duration": 8,
    "start_time": "2023-09-24T16:48:58.225Z"
   },
   {
    "duration": 24,
    "start_time": "2023-09-24T16:53:14.141Z"
   },
   {
    "duration": 11,
    "start_time": "2023-09-24T16:54:11.592Z"
   },
   {
    "duration": 21,
    "start_time": "2023-09-24T16:54:24.049Z"
   },
   {
    "duration": 13,
    "start_time": "2023-09-24T16:55:44.124Z"
   },
   {
    "duration": 432,
    "start_time": "2023-09-24T16:56:03.897Z"
   },
   {
    "duration": 32,
    "start_time": "2023-09-24T16:56:04.331Z"
   },
   {
    "duration": 19,
    "start_time": "2023-09-24T16:56:04.364Z"
   },
   {
    "duration": 22,
    "start_time": "2023-09-24T16:56:04.386Z"
   },
   {
    "duration": 47,
    "start_time": "2023-09-24T16:56:04.410Z"
   },
   {
    "duration": 4,
    "start_time": "2023-09-24T16:56:04.459Z"
   },
   {
    "duration": 28,
    "start_time": "2023-09-24T16:56:04.468Z"
   },
   {
    "duration": 39,
    "start_time": "2023-09-24T16:56:04.497Z"
   },
   {
    "duration": 27,
    "start_time": "2023-09-24T16:56:04.537Z"
   },
   {
    "duration": 32,
    "start_time": "2023-09-24T16:56:04.567Z"
   },
   {
    "duration": 53,
    "start_time": "2023-09-24T16:56:04.600Z"
   },
   {
    "duration": 17,
    "start_time": "2023-09-24T16:56:04.655Z"
   },
   {
    "duration": 8,
    "start_time": "2023-09-24T16:56:04.674Z"
   },
   {
    "duration": 20,
    "start_time": "2023-09-24T16:56:04.683Z"
   },
   {
    "duration": 24,
    "start_time": "2023-09-24T16:56:04.705Z"
   },
   {
    "duration": 16,
    "start_time": "2023-09-24T16:56:04.730Z"
   },
   {
    "duration": 17,
    "start_time": "2023-09-24T16:56:04.748Z"
   },
   {
    "duration": 19,
    "start_time": "2023-09-24T16:56:04.766Z"
   },
   {
    "duration": 5,
    "start_time": "2023-09-24T16:56:04.786Z"
   },
   {
    "duration": 4,
    "start_time": "2023-09-24T16:56:04.793Z"
   },
   {
    "duration": 14,
    "start_time": "2023-09-24T16:56:04.799Z"
   },
   {
    "duration": 14,
    "start_time": "2023-09-24T16:56:04.814Z"
   },
   {
    "duration": 34,
    "start_time": "2023-09-24T16:56:04.830Z"
   },
   {
    "duration": 95,
    "start_time": "2023-09-24T16:56:04.866Z"
   },
   {
    "duration": 0,
    "start_time": "2023-09-24T16:56:04.963Z"
   },
   {
    "duration": 0,
    "start_time": "2023-09-24T16:56:04.964Z"
   },
   {
    "duration": 13,
    "start_time": "2023-09-24T16:57:29.486Z"
   },
   {
    "duration": 16,
    "start_time": "2023-09-24T16:57:43.476Z"
   },
   {
    "duration": 15,
    "start_time": "2023-09-24T16:58:09.693Z"
   },
   {
    "duration": 15,
    "start_time": "2023-09-24T16:58:46.808Z"
   },
   {
    "duration": 14,
    "start_time": "2023-09-24T16:59:05.966Z"
   },
   {
    "duration": 18,
    "start_time": "2023-09-24T17:14:38.362Z"
   },
   {
    "duration": 17,
    "start_time": "2023-09-24T17:16:59.368Z"
   },
   {
    "duration": 13,
    "start_time": "2023-09-24T17:18:36.564Z"
   },
   {
    "duration": 17,
    "start_time": "2023-09-24T17:18:51.082Z"
   },
   {
    "duration": 23,
    "start_time": "2023-09-24T17:20:39.567Z"
   },
   {
    "duration": 23,
    "start_time": "2023-09-24T17:20:52.861Z"
   },
   {
    "duration": 27,
    "start_time": "2023-09-24T17:22:00.286Z"
   },
   {
    "duration": 29,
    "start_time": "2023-09-24T17:22:13.335Z"
   },
   {
    "duration": 17,
    "start_time": "2023-09-24T17:24:30.128Z"
   },
   {
    "duration": 16,
    "start_time": "2023-09-24T17:28:36.564Z"
   },
   {
    "duration": 15,
    "start_time": "2023-09-24T17:29:01.906Z"
   },
   {
    "duration": 13,
    "start_time": "2023-09-24T17:29:27.280Z"
   },
   {
    "duration": 1498,
    "start_time": "2023-09-24T17:35:16.556Z"
   },
   {
    "duration": 13,
    "start_time": "2023-09-24T17:35:49.172Z"
   },
   {
    "duration": 2119,
    "start_time": "2023-09-24T17:36:15.072Z"
   },
   {
    "duration": 1748,
    "start_time": "2023-09-24T17:36:54.361Z"
   },
   {
    "duration": 439,
    "start_time": "2023-09-24T17:57:48.197Z"
   },
   {
    "duration": 27,
    "start_time": "2023-09-24T17:57:48.638Z"
   },
   {
    "duration": 15,
    "start_time": "2023-09-24T17:57:48.667Z"
   },
   {
    "duration": 16,
    "start_time": "2023-09-24T17:57:48.684Z"
   },
   {
    "duration": 32,
    "start_time": "2023-09-24T17:57:48.702Z"
   },
   {
    "duration": 3,
    "start_time": "2023-09-24T17:57:48.735Z"
   },
   {
    "duration": 9,
    "start_time": "2023-09-24T17:57:48.751Z"
   },
   {
    "duration": 13,
    "start_time": "2023-09-24T17:57:48.761Z"
   },
   {
    "duration": 14,
    "start_time": "2023-09-24T17:57:48.775Z"
   },
   {
    "duration": 8,
    "start_time": "2023-09-24T17:57:48.791Z"
   },
   {
    "duration": 32,
    "start_time": "2023-09-24T17:57:48.800Z"
   },
   {
    "duration": 24,
    "start_time": "2023-09-24T17:57:48.834Z"
   },
   {
    "duration": 21,
    "start_time": "2023-09-24T17:57:48.859Z"
   },
   {
    "duration": 33,
    "start_time": "2023-09-24T17:57:48.881Z"
   },
   {
    "duration": 50,
    "start_time": "2023-09-24T17:57:48.916Z"
   },
   {
    "duration": 23,
    "start_time": "2023-09-24T17:57:48.968Z"
   },
   {
    "duration": 12,
    "start_time": "2023-09-24T17:57:48.993Z"
   },
   {
    "duration": 31,
    "start_time": "2023-09-24T17:57:49.006Z"
   },
   {
    "duration": 27,
    "start_time": "2023-09-24T17:57:49.039Z"
   },
   {
    "duration": 12,
    "start_time": "2023-09-24T17:57:49.068Z"
   },
   {
    "duration": 16,
    "start_time": "2023-09-24T17:57:49.082Z"
   },
   {
    "duration": 25,
    "start_time": "2023-09-24T17:57:49.100Z"
   },
   {
    "duration": 18,
    "start_time": "2023-09-24T17:57:49.127Z"
   },
   {
    "duration": 3,
    "start_time": "2023-09-24T17:57:49.146Z"
   },
   {
    "duration": 20,
    "start_time": "2023-09-24T17:57:49.150Z"
   },
   {
    "duration": 65,
    "start_time": "2023-09-24T18:34:15.510Z"
   },
   {
    "duration": 7,
    "start_time": "2023-09-24T18:34:29.506Z"
   },
   {
    "duration": 454,
    "start_time": "2023-09-24T18:34:37.670Z"
   },
   {
    "duration": 19,
    "start_time": "2023-09-24T18:34:38.126Z"
   },
   {
    "duration": 23,
    "start_time": "2023-09-24T18:34:38.147Z"
   },
   {
    "duration": 12,
    "start_time": "2023-09-24T18:34:38.172Z"
   },
   {
    "duration": 53,
    "start_time": "2023-09-24T18:34:38.185Z"
   },
   {
    "duration": 3,
    "start_time": "2023-09-24T18:34:38.240Z"
   },
   {
    "duration": 24,
    "start_time": "2023-09-24T18:34:38.244Z"
   },
   {
    "duration": 17,
    "start_time": "2023-09-24T18:34:38.270Z"
   },
   {
    "duration": 17,
    "start_time": "2023-09-24T18:34:38.288Z"
   },
   {
    "duration": 8,
    "start_time": "2023-09-24T18:34:38.307Z"
   },
   {
    "duration": 43,
    "start_time": "2023-09-24T18:34:38.316Z"
   },
   {
    "duration": 9,
    "start_time": "2023-09-24T18:34:38.364Z"
   },
   {
    "duration": 8,
    "start_time": "2023-09-24T18:34:38.375Z"
   },
   {
    "duration": 21,
    "start_time": "2023-09-24T18:34:38.385Z"
   },
   {
    "duration": 31,
    "start_time": "2023-09-24T18:34:38.407Z"
   },
   {
    "duration": 24,
    "start_time": "2023-09-24T18:34:38.440Z"
   },
   {
    "duration": 4,
    "start_time": "2023-09-24T18:34:38.471Z"
   },
   {
    "duration": 30,
    "start_time": "2023-09-24T18:34:38.476Z"
   },
   {
    "duration": 6,
    "start_time": "2023-09-24T18:34:38.508Z"
   },
   {
    "duration": 18,
    "start_time": "2023-09-24T18:34:38.516Z"
   },
   {
    "duration": 22,
    "start_time": "2023-09-24T18:34:38.535Z"
   },
   {
    "duration": 33,
    "start_time": "2023-09-24T18:34:38.562Z"
   },
   {
    "duration": 44,
    "start_time": "2023-09-24T18:34:38.596Z"
   },
   {
    "duration": 89,
    "start_time": "2023-09-24T18:34:38.641Z"
   },
   {
    "duration": 0,
    "start_time": "2023-09-24T18:34:38.732Z"
   },
   {
    "duration": 0,
    "start_time": "2023-09-24T18:34:38.733Z"
   },
   {
    "duration": 27,
    "start_time": "2023-09-24T18:34:57.889Z"
   },
   {
    "duration": 15,
    "start_time": "2023-09-24T18:35:35.373Z"
   },
   {
    "duration": 7,
    "start_time": "2023-09-24T18:41:22.615Z"
   },
   {
    "duration": 8,
    "start_time": "2023-09-24T18:41:42.971Z"
   },
   {
    "duration": 7,
    "start_time": "2023-09-24T18:41:47.439Z"
   },
   {
    "duration": 502,
    "start_time": "2023-09-24T18:41:58.968Z"
   },
   {
    "duration": 22,
    "start_time": "2023-09-24T18:41:59.472Z"
   },
   {
    "duration": 15,
    "start_time": "2023-09-24T18:41:59.495Z"
   },
   {
    "duration": 18,
    "start_time": "2023-09-24T18:41:59.512Z"
   },
   {
    "duration": 51,
    "start_time": "2023-09-24T18:41:59.531Z"
   },
   {
    "duration": 3,
    "start_time": "2023-09-24T18:41:59.584Z"
   },
   {
    "duration": 13,
    "start_time": "2023-09-24T18:41:59.588Z"
   },
   {
    "duration": 18,
    "start_time": "2023-09-24T18:41:59.602Z"
   },
   {
    "duration": 26,
    "start_time": "2023-09-24T18:41:59.621Z"
   },
   {
    "duration": 26,
    "start_time": "2023-09-24T18:41:59.650Z"
   },
   {
    "duration": 42,
    "start_time": "2023-09-24T18:41:59.678Z"
   },
   {
    "duration": 9,
    "start_time": "2023-09-24T18:41:59.721Z"
   },
   {
    "duration": 6,
    "start_time": "2023-09-24T18:41:59.732Z"
   },
   {
    "duration": 33,
    "start_time": "2023-09-24T18:41:59.739Z"
   },
   {
    "duration": 53,
    "start_time": "2023-09-24T18:41:59.774Z"
   },
   {
    "duration": 15,
    "start_time": "2023-09-24T18:41:59.829Z"
   },
   {
    "duration": 23,
    "start_time": "2023-09-24T18:41:59.845Z"
   },
   {
    "duration": 34,
    "start_time": "2023-09-24T18:41:59.870Z"
   },
   {
    "duration": 14,
    "start_time": "2023-09-24T18:41:59.905Z"
   },
   {
    "duration": 6,
    "start_time": "2023-09-24T18:41:59.920Z"
   },
   {
    "duration": 41,
    "start_time": "2023-09-24T18:41:59.928Z"
   },
   {
    "duration": 25,
    "start_time": "2023-09-24T18:41:59.970Z"
   },
   {
    "duration": 16,
    "start_time": "2023-09-24T18:41:59.996Z"
   },
   {
    "duration": 105,
    "start_time": "2023-09-24T18:42:00.014Z"
   },
   {
    "duration": 0,
    "start_time": "2023-09-24T18:42:00.120Z"
   },
   {
    "duration": 0,
    "start_time": "2023-09-24T18:42:00.121Z"
   },
   {
    "duration": 6,
    "start_time": "2023-09-24T18:42:26.724Z"
   },
   {
    "duration": 26,
    "start_time": "2023-09-24T18:42:44.463Z"
   },
   {
    "duration": 1329,
    "start_time": "2023-09-24T18:42:52.156Z"
   },
   {
    "duration": 14,
    "start_time": "2023-09-24T18:49:03.522Z"
   },
   {
    "duration": 13,
    "start_time": "2023-09-24T18:50:17.204Z"
   },
   {
    "duration": 18,
    "start_time": "2023-09-24T18:51:21.475Z"
   },
   {
    "duration": 21,
    "start_time": "2023-09-24T18:51:25.561Z"
   },
   {
    "duration": 27,
    "start_time": "2023-09-24T18:51:39.742Z"
   },
   {
    "duration": 38,
    "start_time": "2023-09-24T18:57:00.824Z"
   },
   {
    "duration": 17,
    "start_time": "2023-09-24T19:02:59.323Z"
   },
   {
    "duration": 15,
    "start_time": "2023-09-24T19:04:13.029Z"
   },
   {
    "duration": 1996,
    "start_time": "2023-09-24T19:04:43.961Z"
   },
   {
    "duration": 1481,
    "start_time": "2023-09-24T19:04:54.265Z"
   },
   {
    "duration": 1488,
    "start_time": "2023-09-24T19:05:06.428Z"
   },
   {
    "duration": 25,
    "start_time": "2023-09-24T19:05:34.384Z"
   },
   {
    "duration": 16,
    "start_time": "2023-09-24T19:05:51.312Z"
   },
   {
    "duration": 21,
    "start_time": "2023-09-24T19:07:44.295Z"
   },
   {
    "duration": 41,
    "start_time": "2023-09-24T19:13:57.028Z"
   },
   {
    "duration": 36,
    "start_time": "2023-09-24T19:14:11.913Z"
   },
   {
    "duration": 33,
    "start_time": "2023-09-24T19:14:28.966Z"
   },
   {
    "duration": 32,
    "start_time": "2023-09-24T19:15:35.321Z"
   },
   {
    "duration": 1416,
    "start_time": "2023-09-24T19:15:55.212Z"
   },
   {
    "duration": 46,
    "start_time": "2023-09-24T19:16:09.061Z"
   },
   {
    "duration": 36,
    "start_time": "2023-09-24T19:17:25.128Z"
   },
   {
    "duration": 99,
    "start_time": "2023-09-24T19:19:37.746Z"
   },
   {
    "duration": 93,
    "start_time": "2023-09-24T19:20:11.596Z"
   },
   {
    "duration": 1621,
    "start_time": "2023-09-24T19:20:32.629Z"
   },
   {
    "duration": 1497,
    "start_time": "2023-09-24T19:21:01.936Z"
   },
   {
    "duration": 34,
    "start_time": "2023-09-24T19:21:50.910Z"
   },
   {
    "duration": 1424,
    "start_time": "2023-09-24T19:25:41.896Z"
   },
   {
    "duration": 32,
    "start_time": "2023-09-24T19:25:55.212Z"
   },
   {
    "duration": 37,
    "start_time": "2023-09-24T19:26:41.123Z"
   },
   {
    "duration": 1367,
    "start_time": "2023-09-24T19:27:01.463Z"
   },
   {
    "duration": 34,
    "start_time": "2023-09-24T19:27:21.993Z"
   },
   {
    "duration": 32,
    "start_time": "2023-09-24T19:27:36.586Z"
   },
   {
    "duration": 32,
    "start_time": "2023-09-24T19:32:13.891Z"
   },
   {
    "duration": 38,
    "start_time": "2023-09-24T19:32:25.433Z"
   },
   {
    "duration": 1377,
    "start_time": "2023-09-24T19:33:05.864Z"
   },
   {
    "duration": 32,
    "start_time": "2023-09-24T19:34:04.996Z"
   },
   {
    "duration": 1399,
    "start_time": "2023-09-24T19:34:16.982Z"
   },
   {
    "duration": 2768,
    "start_time": "2023-09-24T19:35:00.516Z"
   },
   {
    "duration": 38,
    "start_time": "2023-09-24T19:35:43.949Z"
   },
   {
    "duration": 47,
    "start_time": "2023-09-24T19:40:46.361Z"
   },
   {
    "duration": 87,
    "start_time": "2023-09-24T19:41:31.619Z"
   },
   {
    "duration": 51,
    "start_time": "2023-09-24T19:41:56.317Z"
   },
   {
    "duration": 54,
    "start_time": "2023-09-24T19:42:09.163Z"
   },
   {
    "duration": 65,
    "start_time": "2023-09-24T19:49:34.861Z"
   },
   {
    "duration": 43,
    "start_time": "2023-09-24T19:49:46.120Z"
   },
   {
    "duration": 37,
    "start_time": "2023-09-24T19:49:53.439Z"
   },
   {
    "duration": 97,
    "start_time": "2023-09-24T19:56:41.965Z"
   },
   {
    "duration": 118,
    "start_time": "2023-09-24T20:00:42.464Z"
   },
   {
    "duration": 140,
    "start_time": "2023-09-24T20:00:50.573Z"
   },
   {
    "duration": 82,
    "start_time": "2023-09-24T20:01:13.415Z"
   },
   {
    "duration": 38,
    "start_time": "2023-09-24T20:01:21.756Z"
   },
   {
    "duration": 36,
    "start_time": "2023-09-24T20:04:20.216Z"
   },
   {
    "duration": 22,
    "start_time": "2023-09-24T20:04:39.413Z"
   },
   {
    "duration": 50,
    "start_time": "2023-09-25T09:29:12.389Z"
   },
   {
    "duration": 692,
    "start_time": "2023-09-25T09:29:25.805Z"
   },
   {
    "duration": 23,
    "start_time": "2023-09-25T09:29:26.499Z"
   },
   {
    "duration": 30,
    "start_time": "2023-09-25T09:29:26.524Z"
   },
   {
    "duration": 41,
    "start_time": "2023-09-25T09:29:26.557Z"
   },
   {
    "duration": 51,
    "start_time": "2023-09-25T09:29:26.600Z"
   },
   {
    "duration": 5,
    "start_time": "2023-09-25T09:29:26.653Z"
   },
   {
    "duration": 26,
    "start_time": "2023-09-25T09:29:26.659Z"
   },
   {
    "duration": 5,
    "start_time": "2023-09-25T09:29:26.687Z"
   },
   {
    "duration": 22,
    "start_time": "2023-09-25T09:29:26.694Z"
   },
   {
    "duration": 5,
    "start_time": "2023-09-25T09:29:26.719Z"
   },
   {
    "duration": 57,
    "start_time": "2023-09-25T09:29:26.726Z"
   },
   {
    "duration": 12,
    "start_time": "2023-09-25T09:29:26.785Z"
   },
   {
    "duration": 33,
    "start_time": "2023-09-25T09:29:26.799Z"
   },
   {
    "duration": 40,
    "start_time": "2023-09-25T09:29:26.834Z"
   },
   {
    "duration": 57,
    "start_time": "2023-09-25T09:29:26.876Z"
   },
   {
    "duration": 19,
    "start_time": "2023-09-25T09:29:26.935Z"
   },
   {
    "duration": 3,
    "start_time": "2023-09-25T09:29:26.956Z"
   },
   {
    "duration": 71,
    "start_time": "2023-09-25T09:29:26.960Z"
   },
   {
    "duration": 30,
    "start_time": "2023-09-25T09:29:27.032Z"
   },
   {
    "duration": 40,
    "start_time": "2023-09-25T09:29:27.064Z"
   },
   {
    "duration": 54,
    "start_time": "2023-09-25T09:29:27.105Z"
   },
   {
    "duration": 48,
    "start_time": "2023-09-25T09:29:27.161Z"
   },
   {
    "duration": 24,
    "start_time": "2023-09-25T09:29:27.211Z"
   },
   {
    "duration": 108,
    "start_time": "2023-09-25T09:29:27.237Z"
   },
   {
    "duration": 0,
    "start_time": "2023-09-25T09:29:27.347Z"
   },
   {
    "duration": 0,
    "start_time": "2023-09-25T09:29:27.348Z"
   },
   {
    "duration": 37,
    "start_time": "2023-09-25T09:29:49.687Z"
   },
   {
    "duration": 502,
    "start_time": "2023-09-25T10:01:51.077Z"
   },
   {
    "duration": 29,
    "start_time": "2023-09-25T10:01:51.581Z"
   },
   {
    "duration": 52,
    "start_time": "2023-09-25T10:01:51.611Z"
   },
   {
    "duration": 99,
    "start_time": "2023-09-25T10:01:51.664Z"
   },
   {
    "duration": 70,
    "start_time": "2023-09-25T10:01:51.765Z"
   },
   {
    "duration": 11,
    "start_time": "2023-09-25T10:01:51.837Z"
   },
   {
    "duration": 65,
    "start_time": "2023-09-25T10:01:51.849Z"
   },
   {
    "duration": 42,
    "start_time": "2023-09-25T10:01:51.916Z"
   },
   {
    "duration": 36,
    "start_time": "2023-09-25T10:01:51.960Z"
   },
   {
    "duration": 36,
    "start_time": "2023-09-25T10:01:51.997Z"
   },
   {
    "duration": 91,
    "start_time": "2023-09-25T10:01:52.035Z"
   },
   {
    "duration": 30,
    "start_time": "2023-09-25T10:01:52.128Z"
   },
   {
    "duration": 52,
    "start_time": "2023-09-25T10:01:52.161Z"
   },
   {
    "duration": 90,
    "start_time": "2023-09-25T10:01:52.216Z"
   },
   {
    "duration": 72,
    "start_time": "2023-09-25T10:01:52.307Z"
   },
   {
    "duration": 28,
    "start_time": "2023-09-25T10:01:52.390Z"
   },
   {
    "duration": 21,
    "start_time": "2023-09-25T10:01:52.419Z"
   },
   {
    "duration": 60,
    "start_time": "2023-09-25T10:01:52.441Z"
   },
   {
    "duration": 46,
    "start_time": "2023-09-25T10:01:52.503Z"
   },
   {
    "duration": 29,
    "start_time": "2023-09-25T10:01:52.551Z"
   },
   {
    "duration": 38,
    "start_time": "2023-09-25T10:01:52.593Z"
   },
   {
    "duration": 73,
    "start_time": "2023-09-25T10:01:52.633Z"
   },
   {
    "duration": 32,
    "start_time": "2023-09-25T10:01:52.709Z"
   },
   {
    "duration": 93,
    "start_time": "2023-09-25T10:01:52.742Z"
   },
   {
    "duration": 23,
    "start_time": "2023-09-25T10:04:12.575Z"
   },
   {
    "duration": 21,
    "start_time": "2023-09-25T10:12:22.773Z"
   },
   {
    "duration": 23,
    "start_time": "2023-09-25T10:12:38.321Z"
   },
   {
    "duration": 88,
    "start_time": "2023-09-25T10:15:46.221Z"
   },
   {
    "duration": 33,
    "start_time": "2023-09-25T10:16:51.234Z"
   },
   {
    "duration": 9,
    "start_time": "2023-09-25T10:17:01.358Z"
   },
   {
    "duration": 23,
    "start_time": "2023-09-25T10:22:11.104Z"
   },
   {
    "duration": 21,
    "start_time": "2023-09-25T10:22:24.704Z"
   },
   {
    "duration": 2328,
    "start_time": "2023-09-25T10:33:39.364Z"
   },
   {
    "duration": 17,
    "start_time": "2023-09-25T10:34:14.103Z"
   },
   {
    "duration": 18,
    "start_time": "2023-09-25T10:40:26.158Z"
   },
   {
    "duration": 17,
    "start_time": "2023-09-25T10:41:39.797Z"
   },
   {
    "duration": 481,
    "start_time": "2023-09-25T10:42:44.216Z"
   },
   {
    "duration": 22,
    "start_time": "2023-09-25T10:42:44.699Z"
   },
   {
    "duration": 106,
    "start_time": "2023-09-25T10:42:44.723Z"
   },
   {
    "duration": 10,
    "start_time": "2023-09-25T10:42:44.831Z"
   },
   {
    "duration": 55,
    "start_time": "2023-09-25T10:42:44.844Z"
   },
   {
    "duration": 4,
    "start_time": "2023-09-25T10:42:44.901Z"
   },
   {
    "duration": 24,
    "start_time": "2023-09-25T10:42:44.907Z"
   },
   {
    "duration": 17,
    "start_time": "2023-09-25T10:42:44.934Z"
   },
   {
    "duration": 18,
    "start_time": "2023-09-25T10:42:44.953Z"
   },
   {
    "duration": 30,
    "start_time": "2023-09-25T10:42:44.973Z"
   },
   {
    "duration": 106,
    "start_time": "2023-09-25T10:42:45.005Z"
   },
   {
    "duration": 10,
    "start_time": "2023-09-25T10:42:45.113Z"
   },
   {
    "duration": 25,
    "start_time": "2023-09-25T10:42:45.125Z"
   },
   {
    "duration": 39,
    "start_time": "2023-09-25T10:42:45.153Z"
   },
   {
    "duration": 22,
    "start_time": "2023-09-25T10:42:45.196Z"
   },
   {
    "duration": 20,
    "start_time": "2023-09-25T10:42:45.220Z"
   },
   {
    "duration": 8,
    "start_time": "2023-09-25T10:42:45.242Z"
   },
   {
    "duration": 42,
    "start_time": "2023-09-25T10:42:45.252Z"
   },
   {
    "duration": 35,
    "start_time": "2023-09-25T10:42:45.296Z"
   },
   {
    "duration": 26,
    "start_time": "2023-09-25T10:42:45.333Z"
   },
   {
    "duration": 43,
    "start_time": "2023-09-25T10:42:45.361Z"
   },
   {
    "duration": 30,
    "start_time": "2023-09-25T10:42:45.406Z"
   },
   {
    "duration": 39,
    "start_time": "2023-09-25T10:42:45.438Z"
   },
   {
    "duration": 56,
    "start_time": "2023-09-25T10:42:45.479Z"
   },
   {
    "duration": 19,
    "start_time": "2023-09-25T10:42:45.537Z"
   },
   {
    "duration": 91,
    "start_time": "2023-09-25T10:42:45.558Z"
   },
   {
    "duration": 19,
    "start_time": "2023-09-25T10:43:26.600Z"
   },
   {
    "duration": 20,
    "start_time": "2023-09-25T10:44:23.907Z"
   },
   {
    "duration": 21,
    "start_time": "2023-09-25T10:45:13.420Z"
   },
   {
    "duration": 10,
    "start_time": "2023-09-25T10:45:24.674Z"
   },
   {
    "duration": 21,
    "start_time": "2023-09-25T10:45:57.020Z"
   },
   {
    "duration": 495,
    "start_time": "2023-09-25T11:44:22.813Z"
   },
   {
    "duration": 23,
    "start_time": "2023-09-25T11:44:23.310Z"
   },
   {
    "duration": 17,
    "start_time": "2023-09-25T11:44:23.334Z"
   },
   {
    "duration": 29,
    "start_time": "2023-09-25T11:44:23.353Z"
   },
   {
    "duration": 38,
    "start_time": "2023-09-25T11:44:23.385Z"
   },
   {
    "duration": 3,
    "start_time": "2023-09-25T11:44:23.425Z"
   },
   {
    "duration": 11,
    "start_time": "2023-09-25T11:44:23.429Z"
   },
   {
    "duration": 5,
    "start_time": "2023-09-25T11:44:23.441Z"
   },
   {
    "duration": 38,
    "start_time": "2023-09-25T11:44:23.447Z"
   },
   {
    "duration": 4,
    "start_time": "2023-09-25T11:44:23.487Z"
   },
   {
    "duration": 40,
    "start_time": "2023-09-25T11:44:23.493Z"
   },
   {
    "duration": 11,
    "start_time": "2023-09-25T11:44:23.534Z"
   },
   {
    "duration": 8,
    "start_time": "2023-09-25T11:44:23.546Z"
   },
   {
    "duration": 33,
    "start_time": "2023-09-25T11:44:23.558Z"
   },
   {
    "duration": 29,
    "start_time": "2023-09-25T11:44:23.593Z"
   },
   {
    "duration": 47,
    "start_time": "2023-09-25T11:44:23.623Z"
   },
   {
    "duration": 4,
    "start_time": "2023-09-25T11:44:23.671Z"
   },
   {
    "duration": 14,
    "start_time": "2023-09-25T11:44:23.676Z"
   },
   {
    "duration": 5,
    "start_time": "2023-09-25T11:44:23.692Z"
   },
   {
    "duration": 6,
    "start_time": "2023-09-25T11:44:23.700Z"
   },
   {
    "duration": 15,
    "start_time": "2023-09-25T11:44:23.707Z"
   },
   {
    "duration": 15,
    "start_time": "2023-09-25T11:44:23.724Z"
   },
   {
    "duration": 40,
    "start_time": "2023-09-25T11:44:23.741Z"
   },
   {
    "duration": 50,
    "start_time": "2023-09-25T11:44:23.783Z"
   },
   {
    "duration": 19,
    "start_time": "2023-09-25T11:44:23.835Z"
   },
   {
    "duration": 50,
    "start_time": "2023-09-25T11:44:23.856Z"
   },
   {
    "duration": 1127,
    "start_time": "2023-09-25T12:03:11.339Z"
   },
   {
    "duration": 23,
    "start_time": "2023-09-25T12:03:12.467Z"
   },
   {
    "duration": 19,
    "start_time": "2023-09-25T12:03:12.492Z"
   },
   {
    "duration": 23,
    "start_time": "2023-09-25T12:03:12.513Z"
   },
   {
    "duration": 47,
    "start_time": "2023-09-25T12:03:12.539Z"
   },
   {
    "duration": 4,
    "start_time": "2023-09-25T12:03:12.588Z"
   },
   {
    "duration": 18,
    "start_time": "2023-09-25T12:03:12.593Z"
   },
   {
    "duration": 27,
    "start_time": "2023-09-25T12:03:12.613Z"
   },
   {
    "duration": 17,
    "start_time": "2023-09-25T12:03:12.642Z"
   },
   {
    "duration": 13,
    "start_time": "2023-09-25T12:03:12.665Z"
   },
   {
    "duration": 58,
    "start_time": "2023-09-25T12:03:12.680Z"
   },
   {
    "duration": 12,
    "start_time": "2023-09-25T12:03:12.740Z"
   },
   {
    "duration": 11,
    "start_time": "2023-09-25T12:03:12.753Z"
   },
   {
    "duration": 21,
    "start_time": "2023-09-25T12:03:12.766Z"
   },
   {
    "duration": 64,
    "start_time": "2023-09-25T12:03:12.789Z"
   },
   {
    "duration": 41,
    "start_time": "2023-09-25T12:03:12.855Z"
   },
   {
    "duration": 5,
    "start_time": "2023-09-25T12:03:12.898Z"
   },
   {
    "duration": 34,
    "start_time": "2023-09-25T12:03:12.905Z"
   },
   {
    "duration": 28,
    "start_time": "2023-09-25T12:03:12.946Z"
   },
   {
    "duration": 8,
    "start_time": "2023-09-25T12:03:12.976Z"
   },
   {
    "duration": 47,
    "start_time": "2023-09-25T12:03:12.986Z"
   },
   {
    "duration": 26,
    "start_time": "2023-09-25T12:03:13.038Z"
   },
   {
    "duration": 51,
    "start_time": "2023-09-25T12:03:13.067Z"
   },
   {
    "duration": 59,
    "start_time": "2023-09-25T12:03:13.120Z"
   },
   {
    "duration": 23,
    "start_time": "2023-09-25T12:03:13.181Z"
   },
   {
    "duration": 104,
    "start_time": "2023-09-25T12:03:13.206Z"
   },
   {
    "duration": 21,
    "start_time": "2023-09-25T12:07:21.815Z"
   },
   {
    "duration": 495,
    "start_time": "2023-09-25T12:07:45.255Z"
   },
   {
    "duration": 22,
    "start_time": "2023-09-25T12:07:45.752Z"
   },
   {
    "duration": 43,
    "start_time": "2023-09-25T12:07:45.775Z"
   },
   {
    "duration": 48,
    "start_time": "2023-09-25T12:07:45.821Z"
   },
   {
    "duration": 186,
    "start_time": "2023-09-25T12:07:45.870Z"
   },
   {
    "duration": 124,
    "start_time": "2023-09-25T12:07:46.058Z"
   },
   {
    "duration": 58,
    "start_time": "2023-09-25T12:07:46.184Z"
   },
   {
    "duration": 31,
    "start_time": "2023-09-25T12:07:46.244Z"
   },
   {
    "duration": 38,
    "start_time": "2023-09-25T12:07:46.278Z"
   },
   {
    "duration": 13,
    "start_time": "2023-09-25T12:07:46.321Z"
   },
   {
    "duration": 63,
    "start_time": "2023-09-25T12:07:46.336Z"
   },
   {
    "duration": 15,
    "start_time": "2023-09-25T12:07:46.402Z"
   },
   {
    "duration": 22,
    "start_time": "2023-09-25T12:07:46.419Z"
   },
   {
    "duration": 33,
    "start_time": "2023-09-25T12:07:46.444Z"
   },
   {
    "duration": 62,
    "start_time": "2023-09-25T12:07:46.480Z"
   },
   {
    "duration": 61,
    "start_time": "2023-09-25T12:07:46.545Z"
   },
   {
    "duration": 4,
    "start_time": "2023-09-25T12:07:46.608Z"
   },
   {
    "duration": 36,
    "start_time": "2023-09-25T12:07:46.614Z"
   },
   {
    "duration": 28,
    "start_time": "2023-09-25T12:07:46.653Z"
   },
   {
    "duration": 53,
    "start_time": "2023-09-25T12:07:46.683Z"
   },
   {
    "duration": 77,
    "start_time": "2023-09-25T12:07:46.738Z"
   },
   {
    "duration": 234,
    "start_time": "2023-09-25T12:07:46.817Z"
   },
   {
    "duration": 142,
    "start_time": "2023-09-25T12:07:47.053Z"
   },
   {
    "duration": 250,
    "start_time": "2023-09-25T12:07:47.197Z"
   },
   {
    "duration": 126,
    "start_time": "2023-09-25T12:07:47.449Z"
   },
   {
    "duration": 46,
    "start_time": "2023-09-25T12:07:47.576Z"
   },
   {
    "duration": 561,
    "start_time": "2023-09-26T10:34:17.472Z"
   },
   {
    "duration": 26,
    "start_time": "2023-09-26T10:34:18.035Z"
   },
   {
    "duration": 29,
    "start_time": "2023-09-26T10:34:18.063Z"
   },
   {
    "duration": 14,
    "start_time": "2023-09-26T10:34:18.095Z"
   },
   {
    "duration": 41,
    "start_time": "2023-09-26T10:34:18.110Z"
   },
   {
    "duration": 30,
    "start_time": "2023-09-26T10:34:18.153Z"
   },
   {
    "duration": 18,
    "start_time": "2023-09-26T10:34:18.184Z"
   },
   {
    "duration": 6,
    "start_time": "2023-09-26T10:34:18.204Z"
   },
   {
    "duration": 10,
    "start_time": "2023-09-26T10:34:18.212Z"
   },
   {
    "duration": 8,
    "start_time": "2023-09-26T10:34:18.226Z"
   },
   {
    "duration": 69,
    "start_time": "2023-09-26T10:34:18.236Z"
   },
   {
    "duration": 13,
    "start_time": "2023-09-26T10:34:18.307Z"
   },
   {
    "duration": 4,
    "start_time": "2023-09-26T10:34:18.322Z"
   },
   {
    "duration": 17,
    "start_time": "2023-09-26T10:34:18.328Z"
   },
   {
    "duration": 50,
    "start_time": "2023-09-26T10:34:18.347Z"
   },
   {
    "duration": 22,
    "start_time": "2023-09-26T10:34:18.399Z"
   },
   {
    "duration": 4,
    "start_time": "2023-09-26T10:34:18.423Z"
   },
   {
    "duration": 16,
    "start_time": "2023-09-26T10:34:18.429Z"
   },
   {
    "duration": 12,
    "start_time": "2023-09-26T10:34:18.447Z"
   },
   {
    "duration": 5,
    "start_time": "2023-09-26T10:34:18.481Z"
   },
   {
    "duration": 25,
    "start_time": "2023-09-26T10:34:18.488Z"
   },
   {
    "duration": 90,
    "start_time": "2023-09-26T10:34:18.515Z"
   },
   {
    "duration": 0,
    "start_time": "2023-09-26T10:34:18.607Z"
   },
   {
    "duration": 0,
    "start_time": "2023-09-26T10:34:18.609Z"
   },
   {
    "duration": 0,
    "start_time": "2023-09-26T10:34:18.610Z"
   },
   {
    "duration": 0,
    "start_time": "2023-09-26T10:34:18.612Z"
   },
   {
    "duration": 17,
    "start_time": "2023-09-26T10:35:09.124Z"
   },
   {
    "duration": 13,
    "start_time": "2023-09-26T10:35:54.141Z"
   },
   {
    "duration": 15,
    "start_time": "2023-09-26T10:40:07.152Z"
   },
   {
    "duration": 18,
    "start_time": "2023-09-26T10:40:32.056Z"
   },
   {
    "duration": 17,
    "start_time": "2023-09-26T10:41:14.306Z"
   },
   {
    "duration": 15,
    "start_time": "2023-09-26T10:41:58.628Z"
   },
   {
    "duration": 15,
    "start_time": "2023-09-26T10:42:38.843Z"
   },
   {
    "duration": 17,
    "start_time": "2023-09-26T10:42:48.022Z"
   },
   {
    "duration": 18,
    "start_time": "2023-09-26T10:43:09.421Z"
   },
   {
    "duration": 16,
    "start_time": "2023-09-26T10:45:47.922Z"
   },
   {
    "duration": 19,
    "start_time": "2023-09-26T10:46:11.419Z"
   },
   {
    "duration": 15,
    "start_time": "2023-09-26T10:46:36.407Z"
   },
   {
    "duration": 472,
    "start_time": "2023-09-26T10:46:40.914Z"
   },
   {
    "duration": 23,
    "start_time": "2023-09-26T10:46:41.388Z"
   },
   {
    "duration": 20,
    "start_time": "2023-09-26T10:46:41.412Z"
   },
   {
    "duration": 11,
    "start_time": "2023-09-26T10:46:41.434Z"
   },
   {
    "duration": 53,
    "start_time": "2023-09-26T10:46:41.446Z"
   },
   {
    "duration": 3,
    "start_time": "2023-09-26T10:46:41.501Z"
   },
   {
    "duration": 24,
    "start_time": "2023-09-26T10:46:41.505Z"
   },
   {
    "duration": 10,
    "start_time": "2023-09-26T10:46:41.531Z"
   },
   {
    "duration": 16,
    "start_time": "2023-09-26T10:46:41.542Z"
   },
   {
    "duration": 5,
    "start_time": "2023-09-26T10:46:41.561Z"
   },
   {
    "duration": 40,
    "start_time": "2023-09-26T10:46:41.567Z"
   },
   {
    "duration": 11,
    "start_time": "2023-09-26T10:46:41.609Z"
   },
   {
    "duration": 10,
    "start_time": "2023-09-26T10:46:41.621Z"
   },
   {
    "duration": 13,
    "start_time": "2023-09-26T10:46:41.633Z"
   },
   {
    "duration": 36,
    "start_time": "2023-09-26T10:46:41.648Z"
   },
   {
    "duration": 17,
    "start_time": "2023-09-26T10:46:41.685Z"
   },
   {
    "duration": 4,
    "start_time": "2023-09-26T10:46:41.704Z"
   },
   {
    "duration": 28,
    "start_time": "2023-09-26T10:46:41.710Z"
   },
   {
    "duration": 17,
    "start_time": "2023-09-26T10:46:41.740Z"
   },
   {
    "duration": 8,
    "start_time": "2023-09-26T10:46:41.758Z"
   },
   {
    "duration": 14,
    "start_time": "2023-09-26T10:46:41.768Z"
   },
   {
    "duration": 16,
    "start_time": "2023-09-26T10:46:41.784Z"
   },
   {
    "duration": 24,
    "start_time": "2023-09-26T10:46:41.802Z"
   },
   {
    "duration": 58,
    "start_time": "2023-09-26T10:46:41.828Z"
   },
   {
    "duration": 17,
    "start_time": "2023-09-26T10:46:41.888Z"
   },
   {
    "duration": 20,
    "start_time": "2023-09-26T10:46:41.907Z"
   },
   {
    "duration": 500,
    "start_time": "2023-09-26T10:50:19.163Z"
   },
   {
    "duration": 18,
    "start_time": "2023-09-26T10:50:39.904Z"
   },
   {
    "duration": 20,
    "start_time": "2023-09-26T10:53:59.538Z"
   },
   {
    "duration": 13,
    "start_time": "2023-09-26T10:56:30.482Z"
   },
   {
    "duration": 17,
    "start_time": "2023-09-26T10:56:37.265Z"
   },
   {
    "duration": 16,
    "start_time": "2023-09-26T10:56:41.655Z"
   },
   {
    "duration": 14,
    "start_time": "2023-09-26T10:56:45.738Z"
   },
   {
    "duration": 1643,
    "start_time": "2023-09-26T10:59:20.956Z"
   },
   {
    "duration": 16,
    "start_time": "2023-09-26T10:59:45.721Z"
   },
   {
    "duration": 20,
    "start_time": "2023-09-26T11:33:22.370Z"
   },
   {
    "duration": 22,
    "start_time": "2023-09-26T11:33:33.661Z"
   },
   {
    "duration": 856,
    "start_time": "2023-09-26T14:03:11.280Z"
   },
   {
    "duration": 26,
    "start_time": "2023-09-26T14:03:12.147Z"
   },
   {
    "duration": 17,
    "start_time": "2023-09-26T14:03:12.175Z"
   },
   {
    "duration": 13,
    "start_time": "2023-09-26T14:03:12.194Z"
   },
   {
    "duration": 64,
    "start_time": "2023-09-26T14:03:12.209Z"
   },
   {
    "duration": 4,
    "start_time": "2023-09-26T14:03:12.275Z"
   },
   {
    "duration": 16,
    "start_time": "2023-09-26T14:03:12.281Z"
   },
   {
    "duration": 28,
    "start_time": "2023-09-26T14:03:12.310Z"
   },
   {
    "duration": 14,
    "start_time": "2023-09-26T14:03:12.346Z"
   },
   {
    "duration": 6,
    "start_time": "2023-09-26T14:03:12.363Z"
   },
   {
    "duration": 71,
    "start_time": "2023-09-26T14:03:12.371Z"
   },
   {
    "duration": 21,
    "start_time": "2023-09-26T14:03:12.444Z"
   },
   {
    "duration": 5,
    "start_time": "2023-09-26T14:03:12.467Z"
   },
   {
    "duration": 19,
    "start_time": "2023-09-26T14:03:12.476Z"
   },
   {
    "duration": 73,
    "start_time": "2023-09-26T14:03:12.497Z"
   },
   {
    "duration": 64,
    "start_time": "2023-09-26T14:03:12.574Z"
   },
   {
    "duration": 28,
    "start_time": "2023-09-26T14:03:12.650Z"
   },
   {
    "duration": 36,
    "start_time": "2023-09-26T14:03:12.681Z"
   },
   {
    "duration": 28,
    "start_time": "2023-09-26T14:03:12.719Z"
   },
   {
    "duration": 17,
    "start_time": "2023-09-26T14:03:12.749Z"
   },
   {
    "duration": 51,
    "start_time": "2023-09-26T14:03:12.768Z"
   },
   {
    "duration": 37,
    "start_time": "2023-09-26T14:03:12.821Z"
   },
   {
    "duration": 30,
    "start_time": "2023-09-26T14:03:12.865Z"
   },
   {
    "duration": 76,
    "start_time": "2023-09-26T14:03:12.897Z"
   },
   {
    "duration": 66,
    "start_time": "2023-09-26T14:03:12.976Z"
   },
   {
    "duration": 28,
    "start_time": "2023-09-26T14:03:13.051Z"
   },
   {
    "duration": 626,
    "start_time": "2023-09-26T14:14:57.808Z"
   },
   {
    "duration": 33,
    "start_time": "2023-09-26T14:14:58.436Z"
   },
   {
    "duration": 26,
    "start_time": "2023-09-26T14:14:58.472Z"
   },
   {
    "duration": 40,
    "start_time": "2023-09-26T14:14:58.501Z"
   },
   {
    "duration": 101,
    "start_time": "2023-09-26T14:14:58.543Z"
   },
   {
    "duration": 8,
    "start_time": "2023-09-26T14:14:58.653Z"
   },
   {
    "duration": 31,
    "start_time": "2023-09-26T14:14:58.663Z"
   },
   {
    "duration": 40,
    "start_time": "2023-09-26T14:14:58.696Z"
   },
   {
    "duration": 21,
    "start_time": "2023-09-26T14:14:58.739Z"
   },
   {
    "duration": 6,
    "start_time": "2023-09-26T14:14:58.763Z"
   },
   {
    "duration": 65,
    "start_time": "2023-09-26T14:14:58.771Z"
   },
   {
    "duration": 14,
    "start_time": "2023-09-26T14:14:58.839Z"
   },
   {
    "duration": 32,
    "start_time": "2023-09-26T14:14:58.856Z"
   },
   {
    "duration": 61,
    "start_time": "2023-09-26T14:14:58.890Z"
   },
   {
    "duration": 23,
    "start_time": "2023-09-26T14:14:58.953Z"
   },
   {
    "duration": 20,
    "start_time": "2023-09-26T14:14:58.978Z"
   },
   {
    "duration": 4,
    "start_time": "2023-09-26T14:14:58.999Z"
   },
   {
    "duration": 33,
    "start_time": "2023-09-26T14:14:59.005Z"
   },
   {
    "duration": 13,
    "start_time": "2023-09-26T14:14:59.041Z"
   },
   {
    "duration": 10,
    "start_time": "2023-09-26T14:14:59.056Z"
   },
   {
    "duration": 35,
    "start_time": "2023-09-26T14:14:59.068Z"
   },
   {
    "duration": 45,
    "start_time": "2023-09-26T14:14:59.105Z"
   },
   {
    "duration": 518,
    "start_time": "2023-09-26T14:14:59.153Z"
   },
   {
    "duration": 0,
    "start_time": "2023-09-26T14:14:59.673Z"
   },
   {
    "duration": 0,
    "start_time": "2023-09-26T14:14:59.674Z"
   },
   {
    "duration": 0,
    "start_time": "2023-09-26T14:14:59.675Z"
   },
   {
    "duration": 0,
    "start_time": "2023-09-26T14:14:59.676Z"
   },
   {
    "duration": 682,
    "start_time": "2023-09-26T14:17:10.186Z"
   },
   {
    "duration": 523,
    "start_time": "2023-09-26T14:18:47.243Z"
   },
   {
    "duration": 6,
    "start_time": "2023-09-26T14:24:32.928Z"
   },
   {
    "duration": 553,
    "start_time": "2023-09-26T14:24:45.703Z"
   },
   {
    "duration": 582,
    "start_time": "2023-09-26T14:26:31.083Z"
   },
   {
    "duration": 28,
    "start_time": "2023-09-26T14:26:31.668Z"
   },
   {
    "duration": 59,
    "start_time": "2023-09-26T14:26:31.698Z"
   },
   {
    "duration": 94,
    "start_time": "2023-09-26T14:26:31.761Z"
   },
   {
    "duration": 102,
    "start_time": "2023-09-26T14:26:31.857Z"
   },
   {
    "duration": 4,
    "start_time": "2023-09-26T14:26:31.963Z"
   },
   {
    "duration": 35,
    "start_time": "2023-09-26T14:26:31.969Z"
   },
   {
    "duration": 28,
    "start_time": "2023-09-26T14:26:32.007Z"
   },
   {
    "duration": 36,
    "start_time": "2023-09-26T14:26:32.048Z"
   },
   {
    "duration": 32,
    "start_time": "2023-09-26T14:26:32.091Z"
   },
   {
    "duration": 103,
    "start_time": "2023-09-26T14:26:32.136Z"
   },
   {
    "duration": 23,
    "start_time": "2023-09-26T14:26:32.245Z"
   },
   {
    "duration": 21,
    "start_time": "2023-09-26T14:26:32.270Z"
   },
   {
    "duration": 73,
    "start_time": "2023-09-26T14:26:32.293Z"
   },
   {
    "duration": 95,
    "start_time": "2023-09-26T14:26:32.368Z"
   },
   {
    "duration": 36,
    "start_time": "2023-09-26T14:26:32.467Z"
   },
   {
    "duration": 40,
    "start_time": "2023-09-26T14:26:32.506Z"
   },
   {
    "duration": 54,
    "start_time": "2023-09-26T14:26:32.548Z"
   },
   {
    "duration": 53,
    "start_time": "2023-09-26T14:26:32.604Z"
   },
   {
    "duration": 5,
    "start_time": "2023-09-26T14:26:32.664Z"
   },
   {
    "duration": 24,
    "start_time": "2023-09-26T14:26:32.671Z"
   },
   {
    "duration": 68,
    "start_time": "2023-09-26T14:26:32.698Z"
   },
   {
    "duration": 682,
    "start_time": "2023-09-26T14:26:32.769Z"
   },
   {
    "duration": 0,
    "start_time": "2023-09-26T14:26:33.454Z"
   },
   {
    "duration": 0,
    "start_time": "2023-09-26T14:26:33.455Z"
   },
   {
    "duration": 0,
    "start_time": "2023-09-26T14:26:33.456Z"
   },
   {
    "duration": 0,
    "start_time": "2023-09-26T14:26:33.457Z"
   },
   {
    "duration": 11,
    "start_time": "2023-09-26T14:27:07.734Z"
   },
   {
    "duration": 545,
    "start_time": "2023-09-26T14:30:37.051Z"
   },
   {
    "duration": 720,
    "start_time": "2023-09-26T14:36:30.782Z"
   },
   {
    "duration": 560,
    "start_time": "2023-09-26T14:37:38.334Z"
   },
   {
    "duration": 592,
    "start_time": "2023-09-26T14:38:09.690Z"
   },
   {
    "duration": 491,
    "start_time": "2023-09-26T14:39:47.090Z"
   },
   {
    "duration": 615,
    "start_time": "2023-09-26T14:41:13.744Z"
   },
   {
    "duration": 744,
    "start_time": "2023-09-26T14:41:23.555Z"
   },
   {
    "duration": 19,
    "start_time": "2023-09-26T14:41:35.747Z"
   },
   {
    "duration": 11,
    "start_time": "2023-09-26T14:44:07.838Z"
   },
   {
    "duration": 5,
    "start_time": "2023-09-26T14:44:37.398Z"
   },
   {
    "duration": 7,
    "start_time": "2023-09-26T14:44:58.449Z"
   },
   {
    "duration": 12,
    "start_time": "2023-09-26T14:45:03.041Z"
   },
   {
    "duration": 115,
    "start_time": "2023-09-26T14:45:48.055Z"
   },
   {
    "duration": 506,
    "start_time": "2023-09-26T14:45:59.409Z"
   },
   {
    "duration": 518,
    "start_time": "2023-09-26T14:46:17.948Z"
   },
   {
    "duration": 594,
    "start_time": "2023-09-26T14:49:35.046Z"
   },
   {
    "duration": 29,
    "start_time": "2023-09-26T14:51:43.935Z"
   },
   {
    "duration": 15,
    "start_time": "2023-09-26T15:36:18.064Z"
   },
   {
    "duration": 13,
    "start_time": "2023-09-26T15:45:15.681Z"
   },
   {
    "duration": 499,
    "start_time": "2023-09-26T15:46:38.464Z"
   },
   {
    "duration": 23,
    "start_time": "2023-09-26T15:46:38.965Z"
   },
   {
    "duration": 42,
    "start_time": "2023-09-26T15:46:38.990Z"
   },
   {
    "duration": 12,
    "start_time": "2023-09-26T15:46:39.035Z"
   },
   {
    "duration": 42,
    "start_time": "2023-09-26T15:46:39.048Z"
   },
   {
    "duration": 4,
    "start_time": "2023-09-26T15:46:39.092Z"
   },
   {
    "duration": 28,
    "start_time": "2023-09-26T15:46:39.097Z"
   },
   {
    "duration": 13,
    "start_time": "2023-09-26T15:46:39.127Z"
   },
   {
    "duration": 10,
    "start_time": "2023-09-26T15:46:39.141Z"
   },
   {
    "duration": 6,
    "start_time": "2023-09-26T15:46:39.155Z"
   },
   {
    "duration": 64,
    "start_time": "2023-09-26T15:46:39.163Z"
   },
   {
    "duration": 11,
    "start_time": "2023-09-26T15:46:39.229Z"
   },
   {
    "duration": 12,
    "start_time": "2023-09-26T15:46:39.241Z"
   },
   {
    "duration": 14,
    "start_time": "2023-09-26T15:46:39.254Z"
   },
   {
    "duration": 22,
    "start_time": "2023-09-26T15:46:39.270Z"
   },
   {
    "duration": 44,
    "start_time": "2023-09-26T15:46:39.294Z"
   },
   {
    "duration": 4,
    "start_time": "2023-09-26T15:46:39.339Z"
   },
   {
    "duration": 18,
    "start_time": "2023-09-26T15:46:39.345Z"
   },
   {
    "duration": 11,
    "start_time": "2023-09-26T15:46:39.365Z"
   },
   {
    "duration": 4,
    "start_time": "2023-09-26T15:46:39.378Z"
   },
   {
    "duration": 11,
    "start_time": "2023-09-26T15:46:39.384Z"
   },
   {
    "duration": 37,
    "start_time": "2023-09-26T15:46:39.397Z"
   },
   {
    "duration": 26,
    "start_time": "2023-09-26T15:46:39.436Z"
   },
   {
    "duration": 64,
    "start_time": "2023-09-26T15:46:39.464Z"
   },
   {
    "duration": 20,
    "start_time": "2023-09-26T15:46:39.530Z"
   },
   {
    "duration": 20,
    "start_time": "2023-09-26T15:46:39.552Z"
   },
   {
    "duration": 14,
    "start_time": "2023-09-26T15:47:54.140Z"
   },
   {
    "duration": 15,
    "start_time": "2023-09-26T15:48:36.219Z"
   },
   {
    "duration": 14,
    "start_time": "2023-09-26T15:49:10.433Z"
   },
   {
    "duration": 603,
    "start_time": "2023-09-27T09:09:23.050Z"
   },
   {
    "duration": 26,
    "start_time": "2023-09-27T09:09:23.655Z"
   },
   {
    "duration": 18,
    "start_time": "2023-09-27T09:09:23.683Z"
   },
   {
    "duration": 12,
    "start_time": "2023-09-27T09:09:23.702Z"
   },
   {
    "duration": 65,
    "start_time": "2023-09-27T09:09:23.716Z"
   },
   {
    "duration": 4,
    "start_time": "2023-09-27T09:09:23.782Z"
   },
   {
    "duration": 13,
    "start_time": "2023-09-27T09:09:23.787Z"
   },
   {
    "duration": 8,
    "start_time": "2023-09-27T09:09:23.802Z"
   },
   {
    "duration": 10,
    "start_time": "2023-09-27T09:09:23.812Z"
   },
   {
    "duration": 5,
    "start_time": "2023-09-27T09:09:23.824Z"
   },
   {
    "duration": 58,
    "start_time": "2023-09-27T09:09:23.857Z"
   },
   {
    "duration": 14,
    "start_time": "2023-09-27T09:09:23.917Z"
   },
   {
    "duration": 13,
    "start_time": "2023-09-27T09:09:23.933Z"
   },
   {
    "duration": 13,
    "start_time": "2023-09-27T09:09:23.956Z"
   },
   {
    "duration": 26,
    "start_time": "2023-09-27T09:09:23.971Z"
   },
   {
    "duration": 20,
    "start_time": "2023-09-27T09:09:23.999Z"
   },
   {
    "duration": 5,
    "start_time": "2023-09-27T09:09:24.021Z"
   },
   {
    "duration": 56,
    "start_time": "2023-09-27T09:09:24.028Z"
   },
   {
    "duration": 10,
    "start_time": "2023-09-27T09:09:24.086Z"
   },
   {
    "duration": 7,
    "start_time": "2023-09-27T09:09:24.097Z"
   },
   {
    "duration": 44,
    "start_time": "2023-09-27T09:09:24.106Z"
   },
   {
    "duration": 27,
    "start_time": "2023-09-27T09:09:24.152Z"
   },
   {
    "duration": 26,
    "start_time": "2023-09-27T09:09:24.181Z"
   },
   {
    "duration": 15,
    "start_time": "2023-09-27T09:09:24.209Z"
   },
   {
    "duration": 34,
    "start_time": "2023-09-27T09:09:24.226Z"
   },
   {
    "duration": 15,
    "start_time": "2023-09-27T09:09:24.262Z"
   },
   {
    "duration": 39,
    "start_time": "2023-09-27T09:13:49.000Z"
   },
   {
    "duration": 99,
    "start_time": "2023-09-27T09:15:41.321Z"
   },
   {
    "duration": 63,
    "start_time": "2023-09-27T09:24:18.486Z"
   },
   {
    "duration": 14,
    "start_time": "2023-09-27T09:24:25.772Z"
   },
   {
    "duration": 23,
    "start_time": "2023-09-27T09:26:59.056Z"
   },
   {
    "duration": 3,
    "start_time": "2023-09-27T09:27:59.312Z"
   },
   {
    "duration": 18,
    "start_time": "2023-09-27T09:28:05.506Z"
   },
   {
    "duration": 21,
    "start_time": "2023-09-27T09:28:32.108Z"
   },
   {
    "duration": 16,
    "start_time": "2023-09-27T09:29:05.845Z"
   },
   {
    "duration": 5,
    "start_time": "2023-09-27T09:30:10.362Z"
   },
   {
    "duration": 4,
    "start_time": "2023-09-27T09:30:47.374Z"
   },
   {
    "duration": 17,
    "start_time": "2023-09-27T09:31:33.390Z"
   },
   {
    "duration": 14,
    "start_time": "2023-09-27T09:31:41.888Z"
   },
   {
    "duration": 30,
    "start_time": "2023-09-27T09:42:40.291Z"
   },
   {
    "duration": 10,
    "start_time": "2023-09-27T09:46:51.475Z"
   },
   {
    "duration": 6,
    "start_time": "2023-09-27T09:47:59.699Z"
   },
   {
    "duration": 33,
    "start_time": "2023-09-27T09:50:28.425Z"
   },
   {
    "duration": 2,
    "start_time": "2023-09-27T09:52:46.546Z"
   },
   {
    "duration": 7,
    "start_time": "2023-09-27T09:59:38.157Z"
   },
   {
    "duration": 15,
    "start_time": "2023-09-27T10:05:44.773Z"
   },
   {
    "duration": 25,
    "start_time": "2023-09-27T10:06:36.308Z"
   },
   {
    "duration": 26,
    "start_time": "2023-09-27T10:06:41.965Z"
   },
   {
    "duration": 29,
    "start_time": "2023-09-27T10:07:30.908Z"
   },
   {
    "duration": 9,
    "start_time": "2023-09-27T10:08:23.708Z"
   },
   {
    "duration": 19,
    "start_time": "2023-09-27T10:08:26.956Z"
   },
   {
    "duration": 568,
    "start_time": "2023-09-27T10:08:42.850Z"
   },
   {
    "duration": 26,
    "start_time": "2023-09-27T10:08:43.420Z"
   },
   {
    "duration": 18,
    "start_time": "2023-09-27T10:08:43.456Z"
   },
   {
    "duration": 12,
    "start_time": "2023-09-27T10:08:43.476Z"
   },
   {
    "duration": 70,
    "start_time": "2023-09-27T10:08:43.490Z"
   },
   {
    "duration": 3,
    "start_time": "2023-09-27T10:08:43.562Z"
   },
   {
    "duration": 32,
    "start_time": "2023-09-27T10:08:43.567Z"
   },
   {
    "duration": 9,
    "start_time": "2023-09-27T10:08:43.601Z"
   },
   {
    "duration": 10,
    "start_time": "2023-09-27T10:08:43.612Z"
   },
   {
    "duration": 17,
    "start_time": "2023-09-27T10:08:43.625Z"
   },
   {
    "duration": 47,
    "start_time": "2023-09-27T10:08:43.643Z"
   },
   {
    "duration": 11,
    "start_time": "2023-09-27T10:08:43.692Z"
   },
   {
    "duration": 15,
    "start_time": "2023-09-27T10:08:43.705Z"
   },
   {
    "duration": 18,
    "start_time": "2023-09-27T10:08:43.722Z"
   },
   {
    "duration": 35,
    "start_time": "2023-09-27T10:08:43.742Z"
   },
   {
    "duration": 20,
    "start_time": "2023-09-27T10:08:43.779Z"
   },
   {
    "duration": 4,
    "start_time": "2023-09-27T10:08:43.801Z"
   },
   {
    "duration": 15,
    "start_time": "2023-09-27T10:08:43.807Z"
   },
   {
    "duration": 33,
    "start_time": "2023-09-27T10:08:43.824Z"
   },
   {
    "duration": 3,
    "start_time": "2023-09-27T10:08:43.860Z"
   },
   {
    "duration": 18,
    "start_time": "2023-09-27T10:08:43.865Z"
   },
   {
    "duration": 41,
    "start_time": "2023-09-27T10:08:43.885Z"
   },
   {
    "duration": 32,
    "start_time": "2023-09-27T10:08:43.928Z"
   },
   {
    "duration": 104,
    "start_time": "2023-09-27T10:08:43.962Z"
   },
   {
    "duration": 0,
    "start_time": "2023-09-27T10:08:44.068Z"
   },
   {
    "duration": 0,
    "start_time": "2023-09-27T10:08:44.070Z"
   },
   {
    "duration": 0,
    "start_time": "2023-09-27T10:08:44.071Z"
   },
   {
    "duration": 8,
    "start_time": "2023-09-27T10:08:58.108Z"
   },
   {
    "duration": 8,
    "start_time": "2023-09-27T10:09:08.557Z"
   },
   {
    "duration": 31,
    "start_time": "2023-09-27T10:10:35.974Z"
   },
   {
    "duration": 6,
    "start_time": "2023-09-27T10:11:03.167Z"
   },
   {
    "duration": 22,
    "start_time": "2023-09-27T10:16:21.438Z"
   },
   {
    "duration": 27,
    "start_time": "2023-09-27T10:16:49.700Z"
   },
   {
    "duration": 553,
    "start_time": "2023-09-27T10:21:29.934Z"
   },
   {
    "duration": 27,
    "start_time": "2023-09-27T10:21:30.490Z"
   },
   {
    "duration": 69,
    "start_time": "2023-09-27T10:21:30.519Z"
   },
   {
    "duration": 53,
    "start_time": "2023-09-27T10:21:30.590Z"
   },
   {
    "duration": 105,
    "start_time": "2023-09-27T10:21:30.645Z"
   },
   {
    "duration": 21,
    "start_time": "2023-09-27T10:21:30.752Z"
   },
   {
    "duration": 37,
    "start_time": "2023-09-27T10:21:30.775Z"
   },
   {
    "duration": 77,
    "start_time": "2023-09-27T10:21:30.815Z"
   },
   {
    "duration": 32,
    "start_time": "2023-09-27T10:21:30.893Z"
   },
   {
    "duration": 54,
    "start_time": "2023-09-27T10:21:30.928Z"
   },
   {
    "duration": 89,
    "start_time": "2023-09-27T10:21:30.984Z"
   },
   {
    "duration": 24,
    "start_time": "2023-09-27T10:21:31.075Z"
   },
   {
    "duration": 30,
    "start_time": "2023-09-27T10:21:31.101Z"
   },
   {
    "duration": 42,
    "start_time": "2023-09-27T10:21:31.134Z"
   },
   {
    "duration": 29,
    "start_time": "2023-09-27T10:21:31.178Z"
   },
   {
    "duration": 57,
    "start_time": "2023-09-27T10:21:31.209Z"
   },
   {
    "duration": 16,
    "start_time": "2023-09-27T10:21:31.268Z"
   },
   {
    "duration": 56,
    "start_time": "2023-09-27T10:21:31.286Z"
   },
   {
    "duration": 43,
    "start_time": "2023-09-27T10:21:31.344Z"
   },
   {
    "duration": 47,
    "start_time": "2023-09-27T10:21:31.389Z"
   },
   {
    "duration": 38,
    "start_time": "2023-09-27T10:21:31.438Z"
   },
   {
    "duration": 59,
    "start_time": "2023-09-27T10:21:31.478Z"
   },
   {
    "duration": 34,
    "start_time": "2023-09-27T10:21:31.539Z"
   },
   {
    "duration": 26,
    "start_time": "2023-09-27T10:21:31.576Z"
   },
   {
    "duration": 28,
    "start_time": "2023-09-27T10:21:31.605Z"
   },
   {
    "duration": 496,
    "start_time": "2023-09-27T12:37:10.172Z"
   },
   {
    "duration": 37,
    "start_time": "2023-09-27T12:37:10.752Z"
   },
   {
    "duration": 16,
    "start_time": "2023-09-27T12:37:10.791Z"
   },
   {
    "duration": 35,
    "start_time": "2023-09-27T12:37:10.808Z"
   },
   {
    "duration": 65,
    "start_time": "2023-09-27T12:37:10.844Z"
   },
   {
    "duration": 4,
    "start_time": "2023-09-27T12:37:10.912Z"
   },
   {
    "duration": 39,
    "start_time": "2023-09-27T12:37:10.918Z"
   },
   {
    "duration": 6,
    "start_time": "2023-09-27T12:37:10.959Z"
   },
   {
    "duration": 15,
    "start_time": "2023-09-27T12:37:10.968Z"
   },
   {
    "duration": 7,
    "start_time": "2023-09-27T12:37:10.985Z"
   },
   {
    "duration": 43,
    "start_time": "2023-09-27T12:37:10.993Z"
   },
   {
    "duration": 32,
    "start_time": "2023-09-27T12:37:11.037Z"
   },
   {
    "duration": 4,
    "start_time": "2023-09-27T12:37:11.071Z"
   },
   {
    "duration": 15,
    "start_time": "2023-09-27T12:37:11.078Z"
   },
   {
    "duration": 27,
    "start_time": "2023-09-27T12:37:11.096Z"
   },
   {
    "duration": 47,
    "start_time": "2023-09-27T12:37:11.125Z"
   },
   {
    "duration": 5,
    "start_time": "2023-09-27T12:37:11.174Z"
   },
   {
    "duration": 23,
    "start_time": "2023-09-27T12:37:11.181Z"
   },
   {
    "duration": 14,
    "start_time": "2023-09-27T12:37:11.205Z"
   },
   {
    "duration": 17,
    "start_time": "2023-09-27T12:37:11.220Z"
   },
   {
    "duration": 26,
    "start_time": "2023-09-27T12:37:11.239Z"
   },
   {
    "duration": 152,
    "start_time": "2023-09-27T12:37:11.268Z"
   },
   {
    "duration": 95,
    "start_time": "2023-09-27T12:37:11.422Z"
   },
   {
    "duration": 13,
    "start_time": "2023-09-27T12:37:11.519Z"
   },
   {
    "duration": 14,
    "start_time": "2023-09-27T12:37:11.534Z"
   },
   {
    "duration": 93,
    "start_time": "2023-09-27T12:38:38.578Z"
   },
   {
    "duration": 695,
    "start_time": "2023-09-27T12:56:42.206Z"
   },
   {
    "duration": 23,
    "start_time": "2023-09-27T12:56:42.903Z"
   },
   {
    "duration": 107,
    "start_time": "2023-09-27T12:56:42.928Z"
   },
   {
    "duration": 14,
    "start_time": "2023-09-27T12:56:43.038Z"
   },
   {
    "duration": 197,
    "start_time": "2023-09-27T12:56:43.054Z"
   },
   {
    "duration": 60,
    "start_time": "2023-09-27T12:56:43.252Z"
   },
   {
    "duration": 43,
    "start_time": "2023-09-27T12:56:43.313Z"
   },
   {
    "duration": 49,
    "start_time": "2023-09-27T12:56:43.358Z"
   },
   {
    "duration": 45,
    "start_time": "2023-09-27T12:56:43.409Z"
   },
   {
    "duration": 31,
    "start_time": "2023-09-27T12:56:43.456Z"
   },
   {
    "duration": 56,
    "start_time": "2023-09-27T12:56:43.488Z"
   },
   {
    "duration": 24,
    "start_time": "2023-09-27T12:56:43.546Z"
   },
   {
    "duration": 16,
    "start_time": "2023-09-27T12:56:43.571Z"
   },
   {
    "duration": 44,
    "start_time": "2023-09-27T12:56:43.588Z"
   },
   {
    "duration": 60,
    "start_time": "2023-09-27T12:56:43.634Z"
   },
   {
    "duration": 26,
    "start_time": "2023-09-27T12:56:43.696Z"
   },
   {
    "duration": 18,
    "start_time": "2023-09-27T12:56:43.724Z"
   },
   {
    "duration": 24,
    "start_time": "2023-09-27T12:56:43.744Z"
   },
   {
    "duration": 28,
    "start_time": "2023-09-27T12:56:43.769Z"
   },
   {
    "duration": 22,
    "start_time": "2023-09-27T12:56:43.800Z"
   },
   {
    "duration": 47,
    "start_time": "2023-09-27T12:56:43.824Z"
   },
   {
    "duration": 65,
    "start_time": "2023-09-27T12:56:43.872Z"
   },
   {
    "duration": 17,
    "start_time": "2023-09-27T12:56:43.939Z"
   },
   {
    "duration": 22,
    "start_time": "2023-09-27T12:56:43.958Z"
   },
   {
    "duration": 31,
    "start_time": "2023-09-27T12:56:43.983Z"
   },
   {
    "duration": 10,
    "start_time": "2023-09-27T13:00:44.116Z"
   },
   {
    "duration": 36,
    "start_time": "2023-09-27T13:00:45.795Z"
   }
  ],
  "celltoolbar": "Необработанный формат ячейки",
  "colab": {
   "provenance": []
  },
  "kernelspec": {
   "display_name": "Python 3 (ipykernel)",
   "language": "python",
   "name": "python3"
  },
  "language_info": {
   "codemirror_mode": {
    "name": "ipython",
    "version": 3
   },
   "file_extension": ".py",
   "mimetype": "text/x-python",
   "name": "python",
   "nbconvert_exporter": "python",
   "pygments_lexer": "ipython3",
   "version": "3.9.5"
  },
  "toc": {
   "base_numbering": 1,
   "nav_menu": {
    "height": "289px",
    "width": "418px"
   },
   "number_sections": true,
   "sideBar": true,
   "skip_h1_title": true,
   "title_cell": "Table of Contents",
   "title_sidebar": "Contents",
   "toc_cell": false,
   "toc_position": {},
   "toc_section_display": true,
   "toc_window_display": false
  }
 },
 "nbformat": 4,
 "nbformat_minor": 5
}
