{
 "cells": [
  {
   "cell_type": "markdown",
   "metadata": {
    "deletable": false,
    "editable": false,
    "id": "E0vqbgi9ay0H"
   },
   "source": [
    "# Яндекс Музыка"
   ]
  },
  {
   "cell_type": "markdown",
   "metadata": {
    "deletable": false,
    "editable": false,
    "id": "VUC88oWjTJw2"
   },
   "source": [
    "Сравнение Москвы и Петербурга окружено мифами. Например:\n",
    " * Москва — мегаполис, подчинённый жёсткому ритму рабочей недели;\n",
    " * Петербург — культурная столица, со своими вкусами.\n",
    "\n",
    "На данных Яндекс Музыки вы сравните поведение пользователей двух столиц.\n",
    "\n",
    "**Цель исследования** — проверьте три гипотезы:\n",
    "1. Активность пользователей зависит от дня недели. Причём в Москве и Петербурге это проявляется по-разному.\n",
    "2. В понедельник утром в Москве преобладают одни жанры, а в Петербурге — другие. Так же и вечером пятницы преобладают разные жанры — в зависимости от города.\n",
    "3. Москва и Петербург предпочитают разные жанры музыки. В Москве чаще слушают поп-музыку, в Петербурге — русский рэп.\n",
    "\n",
    "**Ход исследования**\n",
    "\n",
    "Данные о поведении пользователей вы получите из файла `yandex_music_project.csv`. О качестве данных ничего не известно. Поэтому перед проверкой гипотез понадобится обзор данных.\n",
    "\n",
    "Вы проверите данные на ошибки и оцените их влияние на исследование. Затем, на этапе предобработки вы поищете возможность исправить самые критичные ошибки данных.\n",
    "\n",
    "Таким образом, исследование пройдёт в три этапа:\n",
    " 1. Обзор данных.\n",
    " 2. Предобработка данных.\n",
    " 3. Проверка гипотез.\n",
    "\n"
   ]
  },
  {
   "cell_type": "markdown",
   "metadata": {
    "deletable": false,
    "editable": false,
    "id": "Ml1hmfXC_Zcs"
   },
   "source": [
    "## Обзор данных\n",
    "\n",
    "Составьте первое представление о данных Яндекс Музыки.\n",
    "\n",
    "\n"
   ]
  },
  {
   "cell_type": "markdown",
   "metadata": {
    "deletable": false,
    "editable": false,
    "id": "57eAOGIz_Zcs",
    "tags": [
     "start_task"
    ]
   },
   "source": [
    "**Задание 1**\n",
    "\n",
    "Основной инструмент аналитика — `pandas`. Импортируйте эту библиотеку."
   ]
  },
  {
   "cell_type": "code",
   "execution_count": 1,
   "metadata": {
    "deletable": false,
    "id": "AXN7PHPN_Zcs"
   },
   "outputs": [],
   "source": [
    "# импорт библиотеки pandas\n",
    "import pandas as pd"
   ]
  },
  {
   "cell_type": "markdown",
   "metadata": {
    "deletable": false,
    "editable": false,
    "id": "SG23P8tt_Zcs",
    "tags": [
     "start_task"
    ]
   },
   "source": [
    "**Задание 2**\n",
    "\n",
    "Прочитайте файл `yandex_music_project.csv` из папки `/datasets` и сохраните его в переменной `df`:"
   ]
  },
  {
   "cell_type": "code",
   "execution_count": 2,
   "metadata": {
    "deletable": false,
    "id": "fFVu7vqh_Zct"
   },
   "outputs": [],
   "source": [
    "# чтение файла с данными и сохранение в df\n",
    "df = pd.read_csv('/datasets/yandex_music_project.csv')"
   ]
  },
  {
   "cell_type": "markdown",
   "metadata": {
    "deletable": false,
    "editable": false,
    "id": "rDoOMd3uTqnZ",
    "tags": [
     "start_task"
    ]
   },
   "source": [
    "**Задание 3**\n",
    "\n",
    "\n",
    "Выведите на экран первые десять строк таблицы:"
   ]
  },
  {
   "cell_type": "code",
   "execution_count": 3,
   "metadata": {
    "deletable": false,
    "id": "oWTVX3gW_Zct"
   },
   "outputs": [
    {
     "data": {
      "text/html": [
       "<div>\n",
       "<style scoped>\n",
       "    .dataframe tbody tr th:only-of-type {\n",
       "        vertical-align: middle;\n",
       "    }\n",
       "\n",
       "    .dataframe tbody tr th {\n",
       "        vertical-align: top;\n",
       "    }\n",
       "\n",
       "    .dataframe thead th {\n",
       "        text-align: right;\n",
       "    }\n",
       "</style>\n",
       "<table border=\"1\" class=\"dataframe\">\n",
       "  <thead>\n",
       "    <tr style=\"text-align: right;\">\n",
       "      <th></th>\n",
       "      <th>userID</th>\n",
       "      <th>Track</th>\n",
       "      <th>artist</th>\n",
       "      <th>genre</th>\n",
       "      <th>City</th>\n",
       "      <th>time</th>\n",
       "      <th>Day</th>\n",
       "    </tr>\n",
       "  </thead>\n",
       "  <tbody>\n",
       "    <tr>\n",
       "      <th>0</th>\n",
       "      <td>FFB692EC</td>\n",
       "      <td>Kamigata To Boots</td>\n",
       "      <td>The Mass Missile</td>\n",
       "      <td>rock</td>\n",
       "      <td>Saint-Petersburg</td>\n",
       "      <td>20:28:33</td>\n",
       "      <td>Wednesday</td>\n",
       "    </tr>\n",
       "    <tr>\n",
       "      <th>1</th>\n",
       "      <td>55204538</td>\n",
       "      <td>Delayed Because of Accident</td>\n",
       "      <td>Andreas Rönnberg</td>\n",
       "      <td>rock</td>\n",
       "      <td>Moscow</td>\n",
       "      <td>14:07:09</td>\n",
       "      <td>Friday</td>\n",
       "    </tr>\n",
       "    <tr>\n",
       "      <th>2</th>\n",
       "      <td>20EC38</td>\n",
       "      <td>Funiculì funiculà</td>\n",
       "      <td>Mario Lanza</td>\n",
       "      <td>pop</td>\n",
       "      <td>Saint-Petersburg</td>\n",
       "      <td>20:58:07</td>\n",
       "      <td>Wednesday</td>\n",
       "    </tr>\n",
       "    <tr>\n",
       "      <th>3</th>\n",
       "      <td>A3DD03C9</td>\n",
       "      <td>Dragons in the Sunset</td>\n",
       "      <td>Fire + Ice</td>\n",
       "      <td>folk</td>\n",
       "      <td>Saint-Petersburg</td>\n",
       "      <td>08:37:09</td>\n",
       "      <td>Monday</td>\n",
       "    </tr>\n",
       "    <tr>\n",
       "      <th>4</th>\n",
       "      <td>E2DC1FAE</td>\n",
       "      <td>Soul People</td>\n",
       "      <td>Space Echo</td>\n",
       "      <td>dance</td>\n",
       "      <td>Moscow</td>\n",
       "      <td>08:34:34</td>\n",
       "      <td>Monday</td>\n",
       "    </tr>\n",
       "    <tr>\n",
       "      <th>5</th>\n",
       "      <td>842029A1</td>\n",
       "      <td>Преданная</td>\n",
       "      <td>IMPERVTOR</td>\n",
       "      <td>rusrap</td>\n",
       "      <td>Saint-Petersburg</td>\n",
       "      <td>13:09:41</td>\n",
       "      <td>Friday</td>\n",
       "    </tr>\n",
       "    <tr>\n",
       "      <th>6</th>\n",
       "      <td>4CB90AA5</td>\n",
       "      <td>True</td>\n",
       "      <td>Roman Messer</td>\n",
       "      <td>dance</td>\n",
       "      <td>Moscow</td>\n",
       "      <td>13:00:07</td>\n",
       "      <td>Wednesday</td>\n",
       "    </tr>\n",
       "    <tr>\n",
       "      <th>7</th>\n",
       "      <td>F03E1C1F</td>\n",
       "      <td>Feeling This Way</td>\n",
       "      <td>Polina Griffith</td>\n",
       "      <td>dance</td>\n",
       "      <td>Moscow</td>\n",
       "      <td>20:47:49</td>\n",
       "      <td>Wednesday</td>\n",
       "    </tr>\n",
       "    <tr>\n",
       "      <th>8</th>\n",
       "      <td>8FA1D3BE</td>\n",
       "      <td>И вновь продолжается бой</td>\n",
       "      <td>NaN</td>\n",
       "      <td>ruspop</td>\n",
       "      <td>Moscow</td>\n",
       "      <td>09:17:40</td>\n",
       "      <td>Friday</td>\n",
       "    </tr>\n",
       "    <tr>\n",
       "      <th>9</th>\n",
       "      <td>E772D5C0</td>\n",
       "      <td>Pessimist</td>\n",
       "      <td>NaN</td>\n",
       "      <td>dance</td>\n",
       "      <td>Saint-Petersburg</td>\n",
       "      <td>21:20:49</td>\n",
       "      <td>Wednesday</td>\n",
       "    </tr>\n",
       "  </tbody>\n",
       "</table>\n",
       "</div>"
      ],
      "text/plain": [
       "     userID                        Track            artist   genre  \\\n",
       "0  FFB692EC            Kamigata To Boots  The Mass Missile    rock   \n",
       "1  55204538  Delayed Because of Accident  Andreas Rönnberg    rock   \n",
       "2    20EC38            Funiculì funiculà       Mario Lanza     pop   \n",
       "3  A3DD03C9        Dragons in the Sunset        Fire + Ice    folk   \n",
       "4  E2DC1FAE                  Soul People        Space Echo   dance   \n",
       "5  842029A1                    Преданная         IMPERVTOR  rusrap   \n",
       "6  4CB90AA5                         True      Roman Messer   dance   \n",
       "7  F03E1C1F             Feeling This Way   Polina Griffith   dance   \n",
       "8  8FA1D3BE     И вновь продолжается бой               NaN  ruspop   \n",
       "9  E772D5C0                    Pessimist               NaN   dance   \n",
       "\n",
       "             City        time        Day  \n",
       "0  Saint-Petersburg  20:28:33  Wednesday  \n",
       "1            Moscow  14:07:09     Friday  \n",
       "2  Saint-Petersburg  20:58:07  Wednesday  \n",
       "3  Saint-Petersburg  08:37:09     Monday  \n",
       "4            Moscow  08:34:34     Monday  \n",
       "5  Saint-Petersburg  13:09:41     Friday  \n",
       "6            Moscow  13:00:07  Wednesday  \n",
       "7            Moscow  20:47:49  Wednesday  \n",
       "8            Moscow  09:17:40     Friday  \n",
       "9  Saint-Petersburg  21:20:49  Wednesday  "
      ]
     },
     "execution_count": 3,
     "metadata": {},
     "output_type": "execute_result"
    }
   ],
   "source": [
    "# получение первых 10 строк таблицы df\n",
    "df.head(10)"
   ]
  },
  {
   "cell_type": "markdown",
   "metadata": {
    "deletable": false,
    "editable": false,
    "id": "EO73Kwic_Zct",
    "tags": [
     "start_task"
    ]
   },
   "source": [
    "**Задание 4**\n",
    "\n",
    "\n",
    "Одной командой получить общую информацию о таблице c помощью метода `info()`:"
   ]
  },
  {
   "cell_type": "code",
   "execution_count": 4,
   "metadata": {
    "deletable": false,
    "id": "DSf2kIb-_Zct"
   },
   "outputs": [
    {
     "name": "stdout",
     "output_type": "stream",
     "text": [
      "<class 'pandas.core.frame.DataFrame'>\n",
      "RangeIndex: 65079 entries, 0 to 65078\n",
      "Data columns (total 7 columns):\n",
      " #   Column    Non-Null Count  Dtype \n",
      "---  ------    --------------  ----- \n",
      " 0     userID  65079 non-null  object\n",
      " 1   Track     63848 non-null  object\n",
      " 2   artist    57876 non-null  object\n",
      " 3   genre     63881 non-null  object\n",
      " 4     City    65079 non-null  object\n",
      " 5   time      65079 non-null  object\n",
      " 6   Day       65079 non-null  object\n",
      "dtypes: object(7)\n",
      "memory usage: 3.5+ MB\n"
     ]
    }
   ],
   "source": [
    "# получение общей информации о данных в таблице df\n",
    "df.info()"
   ]
  },
  {
   "cell_type": "markdown",
   "metadata": {
    "deletable": false,
    "editable": false,
    "id": "TaQ2Iwbr_Zct"
   },
   "source": [
    "Итак, в таблице семь столбцов. Тип данных во всех столбцах — `object`.\n",
    "\n",
    "Согласно документации к данным:\n",
    "* `userID` — идентификатор пользователя;\n",
    "* `Track` — название трека;  \n",
    "* `artist` — имя исполнителя;\n",
    "* `genre` — название жанра;\n",
    "* `City` — город пользователя;\n",
    "* `time` — время начала прослушивания;\n",
    "* `Day` — день недели.\n",
    "\n",
    "Количество значений в столбцах различается. Значит, в данных есть пропущенные значения."
   ]
  },
  {
   "cell_type": "markdown",
   "metadata": {
    "deletable": false,
    "editable": false,
    "id": "4P0UCWzswgEm",
    "tags": [
     "start_task"
    ]
   },
   "source": [
    "**Задание 5**\n",
    "\n",
    "**Вопрос со свободной формой ответа**\n",
    "\n",
    "В названиях колонок видны три нарушения стиля:\n",
    "1. Строчные буквы сочетаются с прописными.\n",
    "2. Встречаются пробелы."
   ]
  },
  {
   "cell_type": "code",
   "execution_count": 5,
   "metadata": {
    "id": "c137-ZstwgEm"
   },
   "outputs": [],
   "source": [
    "# 3. При сочетании двух слов не используется знак подчеркивания \"змеиный регистр\"."
   ]
  },
  {
   "cell_type": "markdown",
   "metadata": {
    "deletable": false,
    "editable": false,
    "id": "MCB6-dXG_Zct"
   },
   "source": [
    "**Выводы**\n",
    "\n",
    "В каждой строке таблицы — данные о прослушанном треке. Часть колонок описывает саму композицию: название, исполнителя и жанр. Остальные данные рассказывают о пользователе: из какого он города, когда он слушал музыку.\n",
    "\n",
    "Предварительно можно утверждать, что данных достаточно для проверки гипотез. Но встречаются пропуски в данных, а в названиях колонок — расхождения с хорошим стилем.\n",
    "\n",
    "Чтобы двигаться дальше, нужно устранить проблемы в данных."
   ]
  },
  {
   "cell_type": "markdown",
   "metadata": {
    "deletable": false,
    "editable": false,
    "id": "SjYF6Ub9_Zct"
   },
   "source": [
    "## Предобработка данных\n",
    "Исправьте стиль в заголовках столбцов, исключите пропуски. Затем проверьте данные на дубликаты."
   ]
  },
  {
   "cell_type": "markdown",
   "metadata": {
    "deletable": false,
    "editable": false,
    "id": "dIaKXr29_Zct",
    "tags": [
     "start_task"
    ]
   },
   "source": [
    "### Стиль заголовков\n",
    "\n",
    "**Задание 6**\n",
    "\n",
    "Выведите на экран названия столбцов:"
   ]
  },
  {
   "cell_type": "code",
   "execution_count": 6,
   "metadata": {
    "deletable": false,
    "id": "oKOTdF_Q_Zct"
   },
   "outputs": [
    {
     "data": {
      "text/plain": [
       "Index(['  userID', 'Track', 'artist', 'genre', '  City  ', 'time', 'Day'], dtype='object')"
      ]
     },
     "execution_count": 6,
     "metadata": {},
     "output_type": "execute_result"
    }
   ],
   "source": [
    "# перечень названий столбцов таблицы df\n",
    "df.columns"
   ]
  },
  {
   "cell_type": "markdown",
   "metadata": {
    "deletable": false,
    "editable": false,
    "id": "zj5534cv_Zct",
    "tags": [
     "start_task"
    ]
   },
   "source": [
    "**Задание 7**\n",
    "\n",
    "\n",
    "Приведите названия в соответствие с хорошим стилем:\n",
    "* несколько слов в названии запишите в «змеином_регистре»,\n",
    "* все символы сделайте строчными,\n",
    "* устраните пробелы.\n",
    "\n",
    "Для этого переименуйте колонки так:\n",
    "* `'  userID'` → `'user_id'`;\n",
    "* `'Track'` → `'track'`;\n",
    "* `'  City  '` → `'city'`;\n",
    "* `'Day'` → `'day'`."
   ]
  },
  {
   "cell_type": "code",
   "execution_count": 7,
   "metadata": {
    "deletable": false,
    "id": "ISlFqs5y_Zct"
   },
   "outputs": [],
   "source": [
    "# переименование столбцов\n",
    "df = df.rename(columns={'  userID':'user_id', 'Track':'track', '  City  ':'city', 'Day':'day'})"
   ]
  },
  {
   "cell_type": "markdown",
   "metadata": {
    "deletable": false,
    "editable": false,
    "id": "1dqbh00J_Zct",
    "tags": [
     "start_task"
    ]
   },
   "source": [
    "**Задание 8**\n",
    "\n",
    "\n",
    "Проверьте результат. Для этого ещё раз выведите на экран названия столбцов:"
   ]
  },
  {
   "cell_type": "code",
   "execution_count": 8,
   "metadata": {
    "deletable": false,
    "id": "d4NOAmTW_Zct"
   },
   "outputs": [
    {
     "data": {
      "text/plain": [
       "Index(['user_id', 'track', 'artist', 'genre', 'city', 'time', 'day'], dtype='object')"
      ]
     },
     "execution_count": 8,
     "metadata": {},
     "output_type": "execute_result"
    }
   ],
   "source": [
    "# проверка результатов - перечень названий столбцов\n",
    "df.columns"
   ]
  },
  {
   "cell_type": "markdown",
   "metadata": {
    "deletable": false,
    "editable": false,
    "id": "5ISfbcfY_Zct",
    "tags": [
     "start_task"
    ]
   },
   "source": [
    "### Пропуски значений\n",
    "\n",
    "**Задание 9**\n",
    "\n",
    "Сначала посчитайте, сколько в таблице пропущенных значений. Для этого достаточно двух методов `pandas`:"
   ]
  },
  {
   "cell_type": "code",
   "execution_count": 9,
   "metadata": {
    "deletable": false,
    "id": "RskX29qr_Zct"
   },
   "outputs": [
    {
     "data": {
      "text/plain": [
       "user_id       0\n",
       "track      1231\n",
       "artist     7203\n",
       "genre      1198\n",
       "city          0\n",
       "time          0\n",
       "day           0\n",
       "dtype: int64"
      ]
     },
     "execution_count": 9,
     "metadata": {},
     "output_type": "execute_result"
    }
   ],
   "source": [
    "# подсчёт пропусков\n",
    "df.isna().sum()"
   ]
  },
  {
   "cell_type": "markdown",
   "metadata": {
    "deletable": false,
    "editable": false,
    "id": "qubhgnlO_Zct"
   },
   "source": [
    "Не все пропущенные значения влияют на исследование. Так, в `track` и `artist` пропуски не важны для вашей работы. Достаточно заменить их явными обозначениями.\n",
    "\n",
    "Но пропуски в `genre` могут помешать сравнить музыкальные вкусы в Москве и Санкт-Петербурге. На практике было бы правильно установить причину пропусков и восстановить данные. Такой возможности нет в учебном проекте. Поэтому придётся:\n",
    "* заполнить и эти пропуски явными обозначениями;\n",
    "* оценить, насколько они повредят расчётам."
   ]
  },
  {
   "cell_type": "markdown",
   "metadata": {
    "deletable": false,
    "editable": false,
    "id": "fSv2laPA_Zct",
    "tags": [
     "start_task"
    ]
   },
   "source": [
    "**Задание 10**\n",
    "\n",
    "Замените пропущенные значения в столбцах `track`, `artist` и `genre` на строку `'unknown'`. Для этого создайте список `columns_to_replace`, переберите его элементы циклом `for` и для каждого столбца выполните замену пропущенных значений:"
   ]
  },
  {
   "cell_type": "code",
   "execution_count": 10,
   "metadata": {
    "deletable": false,
    "id": "KplB5qWs_Zct",
    "scrolled": true
   },
   "outputs": [],
   "source": [
    "# перебор названий столбцов в цикле и замена пропущенных значений на 'unknown'\n",
    "columns_to_replace = ['track', 'artist', 'genre']\n",
    "for column in columns_to_replace:\n",
    "    df[column] = df[column].fillna('unknown')\n",
    "    "
   ]
  },
  {
   "cell_type": "markdown",
   "metadata": {
    "deletable": false,
    "editable": false,
    "id": "Ilsm-MZo_Zct",
    "tags": [
     "start_task"
    ]
   },
   "source": [
    "**Задание 11**\n",
    "\n",
    "Убедитесь, что в таблице не осталось пропусков. Для этого ещё раз посчитайте пропущенные значения."
   ]
  },
  {
   "cell_type": "code",
   "execution_count": 11,
   "metadata": {
    "deletable": false,
    "id": "Tq4nYRX4_Zct"
   },
   "outputs": [
    {
     "data": {
      "text/plain": [
       "user_id    0\n",
       "track      0\n",
       "artist     0\n",
       "genre      0\n",
       "city       0\n",
       "time       0\n",
       "day        0\n",
       "dtype: int64"
      ]
     },
     "execution_count": 11,
     "metadata": {},
     "output_type": "execute_result"
    }
   ],
   "source": [
    "# подсчёт пропусков\n",
    "df.isna().sum()"
   ]
  },
  {
   "cell_type": "markdown",
   "metadata": {
    "deletable": false,
    "editable": false,
    "id": "BWKRtBJ3_Zct",
    "tags": [
     "start_task"
    ]
   },
   "source": [
    "### Дубликаты\n",
    "\n",
    "**Задание 12**\n",
    "\n",
    "Посчитайте явные дубликаты в таблице одной командой:"
   ]
  },
  {
   "cell_type": "code",
   "execution_count": 12,
   "metadata": {
    "deletable": false,
    "id": "36eES_S0_Zct"
   },
   "outputs": [
    {
     "data": {
      "text/plain": [
       "3826"
      ]
     },
     "execution_count": 12,
     "metadata": {},
     "output_type": "execute_result"
    }
   ],
   "source": [
    "# подсчёт явных дубликатов\n",
    "df.duplicated().sum()"
   ]
  },
  {
   "cell_type": "markdown",
   "metadata": {
    "deletable": false,
    "editable": false,
    "id": "Ot25h6XR_Zct",
    "tags": [
     "start_task"
    ]
   },
   "source": [
    "**Задание 13**\n",
    "\n",
    "Вызовите специальный метод `pandas`, чтобы удалить явные дубликаты:"
   ]
  },
  {
   "cell_type": "code",
   "execution_count": 13,
   "metadata": {
    "deletable": false,
    "id": "exFHq6tt_Zct"
   },
   "outputs": [],
   "source": [
    "# удаление явных дубликатов\n",
    "df = df.drop_duplicates()"
   ]
  },
  {
   "cell_type": "markdown",
   "metadata": {
    "deletable": false,
    "editable": false,
    "id": "Im2YwBEG_Zct",
    "tags": [
     "start_task"
    ]
   },
   "source": [
    "**Задание 14**\n",
    "\n",
    "Ещё раз посчитайте явные дубликаты в таблице — убедитесь, что полностью от них избавились:"
   ]
  },
  {
   "cell_type": "code",
   "execution_count": 14,
   "metadata": {
    "deletable": false,
    "id": "-8PuNWQ0_Zct"
   },
   "outputs": [
    {
     "data": {
      "text/plain": [
       "0"
      ]
     },
     "execution_count": 14,
     "metadata": {},
     "output_type": "execute_result"
    }
   ],
   "source": [
    "# проверка на отсутствие дубликатов\n",
    "df.duplicated().sum()"
   ]
  },
  {
   "cell_type": "markdown",
   "metadata": {
    "deletable": false,
    "editable": false,
    "id": "QlFBsxAr_Zct"
   },
   "source": [
    "Теперь избавьтесь от неявных дубликатов в колонке `genre`. Например, название одного и того же жанра может быть записано немного по-разному. Такие ошибки тоже повлияют на результат исследования."
   ]
  },
  {
   "cell_type": "markdown",
   "metadata": {
    "deletable": false,
    "editable": false,
    "id": "eSjWwsOh_Zct",
    "tags": [
     "start_task"
    ]
   },
   "source": [
    "**Задание 15**\n",
    "\n",
    "Выведите на экран список уникальных названий жанров, отсортированный в алфавитном порядке. Для этого:\n",
    "* извлеките нужный столбец датафрейма;\n",
    "* примените к нему метод сортировки;\n",
    "* для отсортированного столбца вызовите метод, который вернёт уникальные значения из столбца."
   ]
  },
  {
   "cell_type": "code",
   "execution_count": 15,
   "metadata": {
    "deletable": false,
    "id": "JIUcqzZN_Zct"
   },
   "outputs": [
    {
     "data": {
      "text/plain": [
       "array(['acid', 'acoustic', 'action', 'adult', 'africa', 'afrikaans',\n",
       "       'alternative', 'alternativepunk', 'ambient', 'americana',\n",
       "       'animated', 'anime', 'arabesk', 'arabic', 'arena',\n",
       "       'argentinetango', 'art', 'audiobook', 'author', 'avantgarde',\n",
       "       'axé', 'baile', 'balkan', 'beats', 'bigroom', 'black', 'bluegrass',\n",
       "       'blues', 'bollywood', 'bossa', 'brazilian', 'breakbeat', 'breaks',\n",
       "       'broadway', 'cantautori', 'cantopop', 'canzone', 'caribbean',\n",
       "       'caucasian', 'celtic', 'chamber', 'chanson', 'children', 'chill',\n",
       "       'chinese', 'choral', 'christian', 'christmas', 'classical',\n",
       "       'classicmetal', 'club', 'colombian', 'comedy', 'conjazz',\n",
       "       'contemporary', 'country', 'cuban', 'dance', 'dancehall',\n",
       "       'dancepop', 'dark', 'death', 'deep', 'deutschrock', 'deutschspr',\n",
       "       'dirty', 'disco', 'dnb', 'documentary', 'downbeat', 'downtempo',\n",
       "       'drum', 'dub', 'dubstep', 'eastern', 'easy', 'electronic',\n",
       "       'electropop', 'emo', 'entehno', 'epicmetal', 'estrada', 'ethnic',\n",
       "       'eurofolk', 'european', 'experimental', 'extrememetal', 'fado',\n",
       "       'fairytail', 'film', 'fitness', 'flamenco', 'folk', 'folklore',\n",
       "       'folkmetal', 'folkrock', 'folktronica', 'forró', 'frankreich',\n",
       "       'französisch', 'french', 'funk', 'future', 'gangsta', 'garage',\n",
       "       'german', 'ghazal', 'gitarre', 'glitch', 'gospel', 'gothic',\n",
       "       'grime', 'grunge', 'gypsy', 'handsup', \"hard'n'heavy\", 'hardcore',\n",
       "       'hardstyle', 'hardtechno', 'hip', 'hip-hop', 'hiphop',\n",
       "       'historisch', 'holiday', 'hop', 'horror', 'house', 'hymn', 'idm',\n",
       "       'independent', 'indian', 'indie', 'indipop', 'industrial',\n",
       "       'inspirational', 'instrumental', 'international', 'irish', 'jam',\n",
       "       'japanese', 'jazz', 'jewish', 'jpop', 'jungle', 'k-pop',\n",
       "       'karadeniz', 'karaoke', 'kayokyoku', 'korean', 'laiko', 'latin',\n",
       "       'latino', 'leftfield', 'local', 'lounge', 'loungeelectronic',\n",
       "       'lovers', 'malaysian', 'mandopop', 'marschmusik', 'meditative',\n",
       "       'mediterranean', 'melodic', 'metal', 'metalcore', 'mexican',\n",
       "       'middle', 'minimal', 'miscellaneous', 'modern', 'mood', 'mpb',\n",
       "       'muslim', 'native', 'neoklassik', 'neue', 'new', 'newage',\n",
       "       'newwave', 'nu', 'nujazz', 'numetal', 'oceania', 'old', 'opera',\n",
       "       'orchestral', 'other', 'piano', 'podcasts', 'pop', 'popdance',\n",
       "       'popelectronic', 'popeurodance', 'poprussian', 'post',\n",
       "       'posthardcore', 'postrock', 'power', 'progmetal', 'progressive',\n",
       "       'psychedelic', 'punjabi', 'punk', 'quebecois', 'ragga', 'ram',\n",
       "       'rancheras', 'rap', 'rave', 'reggae', 'reggaeton', 'regional',\n",
       "       'relax', 'religious', 'retro', 'rhythm', 'rnb', 'rnr', 'rock',\n",
       "       'rockabilly', 'rockalternative', 'rockindie', 'rockother',\n",
       "       'romance', 'roots', 'ruspop', 'rusrap', 'rusrock', 'russian',\n",
       "       'salsa', 'samba', 'scenic', 'schlager', 'self', 'sertanejo',\n",
       "       'shanson', 'shoegazing', 'showtunes', 'singer', 'ska', 'skarock',\n",
       "       'slow', 'smooth', 'soft', 'soul', 'soulful', 'sound', 'soundtrack',\n",
       "       'southern', 'specialty', 'speech', 'spiritual', 'sport',\n",
       "       'stonerrock', 'surf', 'swing', 'synthpop', 'synthrock',\n",
       "       'sängerportrait', 'tango', 'tanzorchester', 'taraftar', 'tatar',\n",
       "       'tech', 'techno', 'teen', 'thrash', 'top', 'traditional',\n",
       "       'tradjazz', 'trance', 'tribal', 'trip', 'triphop', 'tropical',\n",
       "       'türk', 'türkçe', 'ukrrock', 'unknown', 'urban', 'uzbek',\n",
       "       'variété', 'vi', 'videogame', 'vocal', 'western', 'world',\n",
       "       'worldbeat', 'ïîï', 'электроника'], dtype=object)"
      ]
     },
     "execution_count": 15,
     "metadata": {},
     "output_type": "execute_result"
    }
   ],
   "source": [
    "# Просмотр уникальных названий жанров\n",
    "df['genre'].sort_values().unique()"
   ]
  },
  {
   "cell_type": "markdown",
   "metadata": {
    "deletable": false,
    "editable": false,
    "id": "qej-Qmuo_Zct",
    "tags": [
     "start_task"
    ]
   },
   "source": [
    "**Задание 16**\n",
    "\n",
    "Просмотрите список и найдите неявные дубликаты названия `hiphop`. Это могут быть названия с ошибками или альтернативные названия того же жанра.\n",
    "\n",
    "Вы увидите следующие неявные дубликаты:\n",
    "* *hip*,\n",
    "* *hop*,\n",
    "* *hip-hop*.\n",
    "\n",
    "Чтобы очистить от них таблицу, используйте метод `replace()` с двумя аргументами: списком строк-дубликатов (включающий *hip*, *hop* и *hip-hop*) и строкой с правильным значением. Вам нужно исправить колонку `genre` в таблице `df`: заменить каждое значение из списка дубликатов на верное. Вместо `hip`, `hop` и `hip-hop` в таблице должно быть значение `hiphop`:"
   ]
  },
  {
   "cell_type": "code",
   "execution_count": 16,
   "metadata": {
    "deletable": false,
    "id": "ErNDkmns_Zct"
   },
   "outputs": [],
   "source": [
    "# Устранение неявных дубликатов\n",
    "duplicates = ['hip', 'hop','hip-hop']\n",
    "name = 'hiphop'\n",
    "df['genre'] = df['genre'].replace(duplicates,name)"
   ]
  },
  {
   "cell_type": "markdown",
   "metadata": {
    "deletable": false,
    "editable": false,
    "id": "zQKF16_RG15m",
    "tags": [
     "start_task"
    ]
   },
   "source": [
    "**Задание 17**\n",
    "\n",
    "Проверьте, что заменили неправильные названия:\n",
    "\n",
    "*   *hip*,\n",
    "*   *hop*,\n",
    "*   *hip-hop*.\n",
    "\n",
    "Выведите отсортированный список уникальных значений столбца `genre`:"
   ]
  },
  {
   "cell_type": "code",
   "execution_count": 17,
   "metadata": {
    "deletable": false,
    "id": "wvixALnFG15m"
   },
   "outputs": [
    {
     "data": {
      "text/plain": [
       "array(['acid', 'acoustic', 'action', 'adult', 'africa', 'afrikaans',\n",
       "       'alternative', 'alternativepunk', 'ambient', 'americana',\n",
       "       'animated', 'anime', 'arabesk', 'arabic', 'arena',\n",
       "       'argentinetango', 'art', 'audiobook', 'author', 'avantgarde',\n",
       "       'axé', 'baile', 'balkan', 'beats', 'bigroom', 'black', 'bluegrass',\n",
       "       'blues', 'bollywood', 'bossa', 'brazilian', 'breakbeat', 'breaks',\n",
       "       'broadway', 'cantautori', 'cantopop', 'canzone', 'caribbean',\n",
       "       'caucasian', 'celtic', 'chamber', 'chanson', 'children', 'chill',\n",
       "       'chinese', 'choral', 'christian', 'christmas', 'classical',\n",
       "       'classicmetal', 'club', 'colombian', 'comedy', 'conjazz',\n",
       "       'contemporary', 'country', 'cuban', 'dance', 'dancehall',\n",
       "       'dancepop', 'dark', 'death', 'deep', 'deutschrock', 'deutschspr',\n",
       "       'dirty', 'disco', 'dnb', 'documentary', 'downbeat', 'downtempo',\n",
       "       'drum', 'dub', 'dubstep', 'eastern', 'easy', 'electronic',\n",
       "       'electropop', 'emo', 'entehno', 'epicmetal', 'estrada', 'ethnic',\n",
       "       'eurofolk', 'european', 'experimental', 'extrememetal', 'fado',\n",
       "       'fairytail', 'film', 'fitness', 'flamenco', 'folk', 'folklore',\n",
       "       'folkmetal', 'folkrock', 'folktronica', 'forró', 'frankreich',\n",
       "       'französisch', 'french', 'funk', 'future', 'gangsta', 'garage',\n",
       "       'german', 'ghazal', 'gitarre', 'glitch', 'gospel', 'gothic',\n",
       "       'grime', 'grunge', 'gypsy', 'handsup', \"hard'n'heavy\", 'hardcore',\n",
       "       'hardstyle', 'hardtechno', 'hiphop', 'historisch', 'holiday',\n",
       "       'horror', 'house', 'hymn', 'idm', 'independent', 'indian', 'indie',\n",
       "       'indipop', 'industrial', 'inspirational', 'instrumental',\n",
       "       'international', 'irish', 'jam', 'japanese', 'jazz', 'jewish',\n",
       "       'jpop', 'jungle', 'k-pop', 'karadeniz', 'karaoke', 'kayokyoku',\n",
       "       'korean', 'laiko', 'latin', 'latino', 'leftfield', 'local',\n",
       "       'lounge', 'loungeelectronic', 'lovers', 'malaysian', 'mandopop',\n",
       "       'marschmusik', 'meditative', 'mediterranean', 'melodic', 'metal',\n",
       "       'metalcore', 'mexican', 'middle', 'minimal', 'miscellaneous',\n",
       "       'modern', 'mood', 'mpb', 'muslim', 'native', 'neoklassik', 'neue',\n",
       "       'new', 'newage', 'newwave', 'nu', 'nujazz', 'numetal', 'oceania',\n",
       "       'old', 'opera', 'orchestral', 'other', 'piano', 'podcasts', 'pop',\n",
       "       'popdance', 'popelectronic', 'popeurodance', 'poprussian', 'post',\n",
       "       'posthardcore', 'postrock', 'power', 'progmetal', 'progressive',\n",
       "       'psychedelic', 'punjabi', 'punk', 'quebecois', 'ragga', 'ram',\n",
       "       'rancheras', 'rap', 'rave', 'reggae', 'reggaeton', 'regional',\n",
       "       'relax', 'religious', 'retro', 'rhythm', 'rnb', 'rnr', 'rock',\n",
       "       'rockabilly', 'rockalternative', 'rockindie', 'rockother',\n",
       "       'romance', 'roots', 'ruspop', 'rusrap', 'rusrock', 'russian',\n",
       "       'salsa', 'samba', 'scenic', 'schlager', 'self', 'sertanejo',\n",
       "       'shanson', 'shoegazing', 'showtunes', 'singer', 'ska', 'skarock',\n",
       "       'slow', 'smooth', 'soft', 'soul', 'soulful', 'sound', 'soundtrack',\n",
       "       'southern', 'specialty', 'speech', 'spiritual', 'sport',\n",
       "       'stonerrock', 'surf', 'swing', 'synthpop', 'synthrock',\n",
       "       'sängerportrait', 'tango', 'tanzorchester', 'taraftar', 'tatar',\n",
       "       'tech', 'techno', 'teen', 'thrash', 'top', 'traditional',\n",
       "       'tradjazz', 'trance', 'tribal', 'trip', 'triphop', 'tropical',\n",
       "       'türk', 'türkçe', 'ukrrock', 'unknown', 'urban', 'uzbek',\n",
       "       'variété', 'vi', 'videogame', 'vocal', 'western', 'world',\n",
       "       'worldbeat', 'ïîï', 'электроника'], dtype=object)"
      ]
     },
     "execution_count": 17,
     "metadata": {},
     "output_type": "execute_result"
    }
   ],
   "source": [
    "# Проверка на неявные дубликаты\n",
    "df['genre'].sort_values().unique()"
   ]
  },
  {
   "cell_type": "markdown",
   "metadata": {
    "deletable": false,
    "editable": false,
    "id": "jz6a9-7HQUDd"
   },
   "source": [
    "**Выводы**\n",
    "\n",
    "Предобработка обнаружила три проблемы в данных:\n",
    "\n",
    "- нарушения в стиле заголовков,\n",
    "- пропущенные значения,\n",
    "- дубликаты — явные и неявные.\n",
    "\n",
    "Вы исправили заголовки, чтобы упростить работу с таблицей. Без дубликатов исследование станет более точным.\n",
    "\n",
    "Пропущенные значения вы заменили на `'unknown'`. Ещё предстоит увидеть, не повредят ли исследованию пропуски в колонке `genre`.\n",
    "\n",
    "Теперь можно перейти к проверке гипотез."
   ]
  },
  {
   "cell_type": "markdown",
   "metadata": {
    "deletable": false,
    "editable": false,
    "id": "WttZHXH0SqKk"
   },
   "source": [
    "## Проверка гипотез"
   ]
  },
  {
   "cell_type": "markdown",
   "metadata": {
    "deletable": false,
    "editable": false,
    "id": "Im936VVi_Zcu"
   },
   "source": [
    "### Сравнение поведения пользователей двух столиц"
   ]
  },
  {
   "cell_type": "markdown",
   "metadata": {
    "deletable": false,
    "editable": false,
    "id": "nwt_MuaL_Zcu"
   },
   "source": [
    "Первая гипотеза утверждает, что пользователи по-разному слушают музыку в Москве и Санкт-Петербурге. Проверьте это предположение по данным о трёх днях недели — понедельнике, среде и пятнице. Для этого:\n",
    "\n",
    "* Разделите пользователей Москвы и Санкт-Петербурга.\n",
    "* Сравните, сколько треков послушала каждая группа пользователей в понедельник, среду и пятницу.\n"
   ]
  },
  {
   "cell_type": "markdown",
   "metadata": {
    "deletable": false,
    "editable": false,
    "id": "8Dw_YMmT_Zcu",
    "tags": [
     "start_task"
    ]
   },
   "source": [
    "**Задание 18**\n",
    "\n",
    "Для тренировки сначала выполните каждый из расчётов по отдельности.\n",
    "\n",
    "Оцените активность пользователей в каждом городе. Сгруппируйте данные по городу и посчитайте прослушивания в каждой группе.\n",
    "\n"
   ]
  },
  {
   "cell_type": "code",
   "execution_count": 18,
   "metadata": {
    "deletable": false,
    "id": "0_Qs96oh_Zcu"
   },
   "outputs": [
    {
     "data": {
      "text/plain": [
       "city\n",
       "Moscow              42741\n",
       "Saint-Petersburg    18512\n",
       "Name: track, dtype: int64"
      ]
     },
     "execution_count": 18,
     "metadata": {},
     "output_type": "execute_result"
    }
   ],
   "source": [
    "# Подсчёт прослушиваний в каждом городе\n",
    "df.groupby('city')['track'].count()"
   ]
  },
  {
   "cell_type": "markdown",
   "metadata": {
    "deletable": false,
    "editable": false,
    "id": "dzli3w8o_Zcu",
    "tags": [
     "start_task"
    ]
   },
   "source": [
    "В Москве прослушиваний больше, чем в Петербурге. Из этого не следует, что московские пользователи чаще слушают музыку. Просто самих пользователей в Москве больше.\n",
    "\n",
    "**Задание 19**\n",
    "\n",
    "Теперь сгруппируйте данные по дню недели и посчитайте прослушивания в понедельник, среду и пятницу. Учтите, что в данных есть информация о прослушиваниях только за эти дни.\n"
   ]
  },
  {
   "cell_type": "code",
   "execution_count": 19,
   "metadata": {
    "deletable": false,
    "id": "uZMKjiJz_Zcu"
   },
   "outputs": [
    {
     "data": {
      "text/plain": [
       "day\n",
       "Friday       21840\n",
       "Monday       21354\n",
       "Wednesday    18059\n",
       "Name: track, dtype: int64"
      ]
     },
     "execution_count": 19,
     "metadata": {},
     "output_type": "execute_result"
    }
   ],
   "source": [
    "# Подсчёт прослушиваний в каждый из трёх дней\n",
    "df.groupby('day')['track'].count()"
   ]
  },
  {
   "cell_type": "markdown",
   "metadata": {
    "deletable": false,
    "editable": false,
    "id": "cC2tNrlL_Zcu"
   },
   "source": [
    "В среднем пользователи из двух городов менее активны по средам. Но картина может измениться, если рассмотреть каждый город в отдельности."
   ]
  },
  {
   "cell_type": "markdown",
   "metadata": {
    "deletable": false,
    "editable": false,
    "id": "POzs8bGa_Zcu",
    "tags": [
     "start_task"
    ]
   },
   "source": [
    "**Задание 20**\n",
    "\n",
    "\n",
    "Вы видели, как работает группировка по городу и по дням недели. Теперь напишите функцию, которая объединит два эти расчёта.\n",
    "\n",
    "Создайте функцию `number_tracks()`, которая посчитает прослушивания для заданного дня и города. Ей понадобятся два параметра:\n",
    "* день недели,\n",
    "* название города.\n",
    "\n",
    "В функции сохраните в переменную строки исходной таблицы, у которых значение:\n",
    "  * в колонке `day` равно параметру `day`,\n",
    "  * в колонке `city` равно параметру `city`.\n",
    "\n",
    "Для этого примените последовательную фильтрацию с логической индексацией (или сложные логические выражения в одну строку, если вы уже знакомы с ними).\n",
    "\n",
    "Затем посчитайте значения в столбце `user_id` получившейся таблицы. Результат сохраните в новую переменную. Верните эту переменную из функции."
   ]
  },
  {
   "cell_type": "code",
   "execution_count": 20,
   "metadata": {
    "deletable": false,
    "id": "Nz3GdQB1_Zcu"
   },
   "outputs": [],
   "source": [
    "# <создание функции number_tracks()>\n",
    "# Объявляется функция с двумя параметрами: day, city.\n",
    "# В переменной track_list сохраняются те строки таблицы df, для которых\n",
    "# значение в столбце 'day' равно параметру day и одновременно значение\n",
    "# в столбце 'city' равно параметру city (используйте последовательную фильтрацию\n",
    "# с помощью логической индексации или сложные логические выражения в одну строку, если вы уже знакомы с ними).\n",
    "# В переменной track_list_count сохраняется число значений столбца 'user_id',\n",
    "# рассчитанное методом count() для таблицы track_list.\n",
    "# Функция возвращает число - значение track_list_count.\n",
    "\n",
    "# Функция для подсчёта прослушиваний для конкретного города и дня.\n",
    "# С помощью последовательной фильтрации с логической индексацией она\n",
    "# сначала получит из исходной таблицы строки с нужным днём,\n",
    "# затем из результата отфильтрует строки с нужным городом,\n",
    "# методом count() посчитает количество значений в колонке user_id.\n",
    "# Это количество функция вернёт в качестве результата\n",
    "def number_tracks(day, city):\n",
    "    track_list = df[(df['day'] == day) & (df['city'] == city)]\n",
    "    track_list_count = track_list['user_id'].count()\n",
    "    return track_list_count\n",
    "        "
   ]
  },
  {
   "cell_type": "markdown",
   "metadata": {
    "deletable": false,
    "editable": false,
    "id": "ytf7xFrFJQ2r",
    "tags": [
     "start_task"
    ]
   },
   "source": [
    "**Задание 21**\n",
    "\n",
    "Вызовите `number_tracks()` шесть раз, меняя значение параметров — так, чтобы получить данные для каждого города в каждый из трёх дней."
   ]
  },
  {
   "cell_type": "code",
   "execution_count": 21,
   "metadata": {
    "deletable": false,
    "id": "rJcRATNQ_Zcu"
   },
   "outputs": [
    {
     "data": {
      "text/plain": [
       "15740"
      ]
     },
     "execution_count": 21,
     "metadata": {},
     "output_type": "execute_result"
    }
   ],
   "source": [
    "# количество прослушиваний в Москве по понедельникам\n",
    "number_tracks('Monday', 'Moscow')"
   ]
  },
  {
   "cell_type": "code",
   "execution_count": 22,
   "metadata": {
    "deletable": false,
    "id": "hq_ncZ5T_Zcu"
   },
   "outputs": [
    {
     "data": {
      "text/plain": [
       "5614"
      ]
     },
     "execution_count": 22,
     "metadata": {},
     "output_type": "execute_result"
    }
   ],
   "source": [
    "# количество прослушиваний в Санкт-Петербурге по понедельникам\n",
    "number_tracks('Monday', 'Saint-Petersburg')"
   ]
  },
  {
   "cell_type": "code",
   "execution_count": 23,
   "metadata": {
    "deletable": false,
    "id": "_NTy2VPU_Zcu"
   },
   "outputs": [
    {
     "data": {
      "text/plain": [
       "11056"
      ]
     },
     "execution_count": 23,
     "metadata": {},
     "output_type": "execute_result"
    }
   ],
   "source": [
    "# количество прослушиваний в Москве по средам\n",
    "number_tracks('Wednesday', 'Moscow')"
   ]
  },
  {
   "cell_type": "code",
   "execution_count": 24,
   "metadata": {
    "deletable": false,
    "id": "j2y3TAwo_Zcu"
   },
   "outputs": [
    {
     "data": {
      "text/plain": [
       "7003"
      ]
     },
     "execution_count": 24,
     "metadata": {},
     "output_type": "execute_result"
    }
   ],
   "source": [
    "# количество прослушиваний в Санкт-Петербурге по средам\n",
    "number_tracks('Wednesday', 'Saint-Petersburg')"
   ]
  },
  {
   "cell_type": "code",
   "execution_count": 25,
   "metadata": {
    "deletable": false,
    "id": "vYDw5u_K_Zcu"
   },
   "outputs": [
    {
     "data": {
      "text/plain": [
       "15945"
      ]
     },
     "execution_count": 25,
     "metadata": {},
     "output_type": "execute_result"
    }
   ],
   "source": [
    "# количество прослушиваний в Москве по пятницам\n",
    "number_tracks('Friday', 'Moscow')"
   ]
  },
  {
   "cell_type": "code",
   "execution_count": 26,
   "metadata": {
    "deletable": false,
    "id": "8_yzFtW3_Zcu"
   },
   "outputs": [
    {
     "data": {
      "text/plain": [
       "5895"
      ]
     },
     "execution_count": 26,
     "metadata": {},
     "output_type": "execute_result"
    }
   ],
   "source": [
    "# количество прослушиваний в Санкт-Петербурге по пятницам\n",
    "number_tracks('Friday', 'Saint-Petersburg')"
   ]
  },
  {
   "cell_type": "markdown",
   "metadata": {
    "deletable": false,
    "editable": false,
    "id": "7QXffbO-_Zcu",
    "tags": [
     "start_task"
    ]
   },
   "source": [
    "**Задание 22**\n",
    "\n",
    "С помощью конструктора `pd.DataFrame` создайте таблицу, где\n",
    "* названия колонок — `['city', 'monday', 'wednesday', 'friday']`;\n",
    "* данные — результаты, которые вы получили с помощью `number_tracks`."
   ]
  },
  {
   "cell_type": "code",
   "execution_count": 27,
   "metadata": {
    "deletable": false,
    "id": "APAcLpOr_Zcu"
   },
   "outputs": [
    {
     "data": {
      "text/html": [
       "<div>\n",
       "<style scoped>\n",
       "    .dataframe tbody tr th:only-of-type {\n",
       "        vertical-align: middle;\n",
       "    }\n",
       "\n",
       "    .dataframe tbody tr th {\n",
       "        vertical-align: top;\n",
       "    }\n",
       "\n",
       "    .dataframe thead th {\n",
       "        text-align: right;\n",
       "    }\n",
       "</style>\n",
       "<table border=\"1\" class=\"dataframe\">\n",
       "  <thead>\n",
       "    <tr style=\"text-align: right;\">\n",
       "      <th></th>\n",
       "      <th>city</th>\n",
       "      <th>monday</th>\n",
       "      <th>wednesday</th>\n",
       "      <th>friday</th>\n",
       "    </tr>\n",
       "  </thead>\n",
       "  <tbody>\n",
       "    <tr>\n",
       "      <th>0</th>\n",
       "      <td>Moscow</td>\n",
       "      <td>15740</td>\n",
       "      <td>11056</td>\n",
       "      <td>15945</td>\n",
       "    </tr>\n",
       "    <tr>\n",
       "      <th>1</th>\n",
       "      <td>Saint-Petersburg</td>\n",
       "      <td>5614</td>\n",
       "      <td>7003</td>\n",
       "      <td>5895</td>\n",
       "    </tr>\n",
       "  </tbody>\n",
       "</table>\n",
       "</div>"
      ],
      "text/plain": [
       "               city  monday  wednesday  friday\n",
       "0            Moscow   15740      11056   15945\n",
       "1  Saint-Petersburg    5614       7003    5895"
      ]
     },
     "execution_count": 27,
     "metadata": {},
     "output_type": "execute_result"
    }
   ],
   "source": [
    "# Таблица с результатами\n",
    "dat = [\n",
    "    ['Moscow', 15740, 11056, 15945],\n",
    "    ['Saint-Petersburg', 5614, 7003, 5895]\n",
    "]\n",
    "col = ['city', 'monday', 'wednesday', 'friday']\n",
    "comparison_tracks = pd.DataFrame(data=dat, columns=col)\n",
    "comparison_tracks"
   ]
  },
  {
   "cell_type": "markdown",
   "metadata": {
    "deletable": false,
    "editable": false,
    "id": "-EgPIHYu_Zcu"
   },
   "source": [
    "**Выводы**\n",
    "\n",
    "Данные показывают разницу поведения пользователей:\n",
    "\n",
    "- В Москве пик прослушиваний приходится на понедельник и пятницу, а в среду заметен спад.\n",
    "- В Петербурге, наоборот, больше слушают музыку по средам. Активность в понедельник и пятницу здесь почти в равной мере уступает среде.\n",
    "\n",
    "Значит, данные говорят в пользу первой гипотезы."
   ]
  },
  {
   "cell_type": "markdown",
   "metadata": {
    "deletable": false,
    "editable": false,
    "id": "atZAxtq4_Zcu"
   },
   "source": [
    "### Музыка в начале и в конце недели"
   ]
  },
  {
   "cell_type": "markdown",
   "metadata": {
    "deletable": false,
    "editable": false,
    "id": "eXrQqXFH_Zcu"
   },
   "source": [
    "Согласно второй гипотезе, утром в понедельник в Москве преобладают одни жанры, а в Петербурге — другие. Так же и вечером пятницы преобладают разные жанры — в зависимости от города."
   ]
  },
  {
   "cell_type": "markdown",
   "metadata": {
    "deletable": false,
    "editable": false,
    "id": "S8UcW6Hw_Zcu",
    "tags": [
     "start_task"
    ]
   },
   "source": [
    "**Задание 23**\n",
    "\n",
    "Сохраните таблицы с данными в две переменные:\n",
    "* по Москве — в `moscow_general`;\n",
    "* по Санкт-Петербургу — в `spb_general`."
   ]
  },
  {
   "cell_type": "code",
   "execution_count": 28,
   "metadata": {
    "deletable": false,
    "id": "qeaFfM_P_Zcu"
   },
   "outputs": [],
   "source": [
    "# получение таблицы moscow_general из тех строк таблицы df,\n",
    "# для которых значение в столбце 'city' равно 'Moscow'\n",
    "moscow_general = df[df['city'] == 'Moscow']"
   ]
  },
  {
   "cell_type": "code",
   "execution_count": 29,
   "metadata": {
    "deletable": false,
    "id": "ORaVRKto_Zcu"
   },
   "outputs": [],
   "source": [
    "# получение таблицы spb_general из тех строк таблицы df,\n",
    "# для которых значение в столбце 'city' равно 'Saint-Petersburg'\n",
    "spb_general = df[df['city'] == 'Saint-Petersburg']"
   ]
  },
  {
   "cell_type": "markdown",
   "metadata": {
    "deletable": false,
    "id": "MEJV-CX2_Zcu",
    "tags": [
     "start_task"
    ]
   },
   "source": [
    "**Задание 24**\n",
    "\n",
    "Создайте функцию `genre_weekday()` с четырьмя параметрами:\n",
    "* таблица (датафрейм) с данными,\n",
    "* день недели,\n",
    "* начальная временная метка в формате 'hh:mm',\n",
    "* последняя временная метка в формате 'hh:mm'.\n",
    "\n",
    "Функция должна вернуть информацию о топ-10 жанров тех треков, которые прослушивали в указанный день, в промежутке между двумя отметками времени."
   ]
  },
  {
   "cell_type": "code",
   "execution_count": 30,
   "metadata": {
    "deletable": false,
    "id": "laJT9BYl_Zcu"
   },
   "outputs": [],
   "source": [
    "# Объявление функции genre_weekday() с параметрами df, day, time1, time2,\n",
    "# которая возвращает информацию о самых популярных жанрах в указанный день в\n",
    "# заданное время:\n",
    "# 1) в переменную genre_df сохраняются те строки переданного датафрейма df, для\n",
    "#    которых одновременно:\n",
    "#    - значение в столбце day равно значению аргумента day\n",
    "#    - значение в столбце time больше значения аргумента time1\n",
    "#    - значение в столбце time меньше значения аргумента time2\n",
    "#    Используйте последовательную фильтрацию с помощью логической индексации.\n",
    "# 2) сгруппировать датафрейм genre_df по столбцу genre, взять один из его\n",
    "#    столбцов и посчитать методом count() количество записей для каждого из\n",
    "#    присутствующих жанров, получившийся Series записать в переменную\n",
    "#    genre_df_grouped\n",
    "# 3) отсортировать genre_df_grouped по убыванию встречаемости и сохранить\n",
    "#    в переменную genre_df_sorted\n",
    "# 4) вернуть Series из 10 первых значений genre_df_sorted, это будут топ-10\n",
    "#    популярных жанров (в указанный день, в заданное время)\n",
    "\n",
    "def genre_weekday(df, day, time1, time2):\n",
    "    # последовательная фильтрация\n",
    "    # оставляем в genre_df только те строки df, у которых день равен day\n",
    "    genre_df = df[df['day'] == day] # ваш код здесь\n",
    "    # оставляем в genre_df только те строки genre_df, у которых время меньше time2\n",
    "    genre_df = genre_df[genre_df['time'] < time2] # ваш код здесь\n",
    "    # оставляем в genre_df только те строки genre_df, у которых время больше time1\n",
    "    genre_df = genre_df[genre_df['time'] > time1] # ваш код здесь\n",
    "    # сгруппируем отфильтрованный датафрейм по столбцу с названиями жанров, возьмём столбец genre и посчитаем кол-во строк для каждого жанра методом count()\n",
    "    genre_df_grouped = genre_df.groupby('genre')['genre'].count() # ваш код здесь\n",
    "    # отсортируем результат по убыванию (чтобы в начале Series оказались самые популярные жанры)\n",
    "    genre_df_sorted = genre_df_grouped.sort_values(ascending=False) # ваш код здесь\n",
    "    # вернём Series с 10 самыми популярными жанрами в указанный отрезок времени заданного дня\n",
    "    return genre_df_sorted[:10]"
   ]
  },
  {
   "cell_type": "markdown",
   "metadata": {
    "deletable": false,
    "editable": false,
    "id": "la2s2_PF_Zcu",
    "tags": [
     "start_task"
    ]
   },
   "source": [
    "**Задание 25**\n",
    "\n",
    "\n",
    "Cравните результаты функции `genre_weekday()` для Москвы и Санкт-Петербурга в понедельник утром (с 7:00 до 11:00) и в пятницу вечером (с 17:00 до 23:00):"
   ]
  },
  {
   "cell_type": "code",
   "execution_count": 31,
   "metadata": {
    "deletable": false,
    "id": "yz7itPUQ_Zcu"
   },
   "outputs": [
    {
     "data": {
      "text/plain": [
       "genre\n",
       "pop            781\n",
       "dance          549\n",
       "electronic     480\n",
       "rock           474\n",
       "hiphop         286\n",
       "ruspop         186\n",
       "world          181\n",
       "rusrap         175\n",
       "alternative    164\n",
       "unknown        161\n",
       "Name: genre, dtype: int64"
      ]
     },
     "execution_count": 31,
     "metadata": {},
     "output_type": "execute_result"
    }
   ],
   "source": [
    "# вызов функции для утра понедельника в Москве (вместо df — таблица moscow_general)\n",
    "# объекты, хранящие время, являются строками и сравниваются как строки\n",
    "# пример вызова: genre_weekday(moscow_general, 'Monday', '07:00', '11:00')\n",
    "genre_weekday(moscow_general, 'Monday', '07:00', '11:00')"
   ]
  },
  {
   "cell_type": "code",
   "execution_count": 32,
   "metadata": {
    "deletable": false,
    "id": "kwUcHPdy_Zcu"
   },
   "outputs": [
    {
     "data": {
      "text/plain": [
       "genre\n",
       "pop            218\n",
       "dance          182\n",
       "rock           162\n",
       "electronic     147\n",
       "hiphop          80\n",
       "ruspop          64\n",
       "alternative     58\n",
       "rusrap          55\n",
       "jazz            44\n",
       "classical       40\n",
       "Name: genre, dtype: int64"
      ]
     },
     "execution_count": 32,
     "metadata": {},
     "output_type": "execute_result"
    }
   ],
   "source": [
    "# вызов функции для утра понедельника в Петербурге (вместо df — таблица spb_general)\n",
    "genre_weekday(spb_general, 'Monday', '07:00', '11:00')"
   ]
  },
  {
   "cell_type": "code",
   "execution_count": 33,
   "metadata": {
    "deletable": false,
    "id": "EzXVRE1o_Zcu"
   },
   "outputs": [
    {
     "data": {
      "text/plain": [
       "genre\n",
       "pop            713\n",
       "rock           517\n",
       "dance          495\n",
       "electronic     482\n",
       "hiphop         273\n",
       "world          208\n",
       "ruspop         170\n",
       "alternative    163\n",
       "classical      163\n",
       "rusrap         142\n",
       "Name: genre, dtype: int64"
      ]
     },
     "execution_count": 33,
     "metadata": {},
     "output_type": "execute_result"
    }
   ],
   "source": [
    "# вызов функции для вечера пятницы в Москве\n",
    "genre_weekday(moscow_general, 'Friday', '17:00', '23:00')"
   ]
  },
  {
   "cell_type": "code",
   "execution_count": 34,
   "metadata": {
    "deletable": false,
    "id": "JZaEKu5v_Zcu"
   },
   "outputs": [
    {
     "data": {
      "text/plain": [
       "genre\n",
       "pop            256\n",
       "electronic     216\n",
       "rock           216\n",
       "dance          210\n",
       "hiphop          97\n",
       "alternative     63\n",
       "jazz            61\n",
       "classical       60\n",
       "rusrap          59\n",
       "world           54\n",
       "Name: genre, dtype: int64"
      ]
     },
     "execution_count": 34,
     "metadata": {},
     "output_type": "execute_result"
    }
   ],
   "source": [
    "# вызов функции для вечера пятницы в Петербурге\n",
    "genre_weekday(spb_general, 'Friday', '17:00', '23:00')"
   ]
  },
  {
   "cell_type": "markdown",
   "metadata": {
    "deletable": false,
    "editable": false,
    "id": "wrCe4MNX_Zcu"
   },
   "source": [
    "**Выводы**\n",
    "\n",
    "Если сравнить топ-10 жанров в понедельник утром, можно сделать такие выводы:\n",
    "\n",
    "1. В Москве и Петербурге слушают похожую музыку. Единственное различие — в московский рейтинг вошёл жанр “world”, а в петербургский — джаз и классика.\n",
    "\n",
    "2. В Москве пропущенных значений оказалось так много, что значение `'unknown'` заняло десятое место среди самых популярных жанров. Значит, пропущенные значения занимают существенную долю в данных и угрожают достоверности исследования.\n",
    "\n",
    "Вечер пятницы не меняет эту картину. Некоторые жанры поднимаются немного выше, другие спускаются, но в целом топ-10 остаётся тем же самым.\n",
    "\n",
    "Таким образом, вторая гипотеза подтвердилась лишь частично:\n",
    "* Пользователи слушают похожую музыку в начале недели и в конце.\n",
    "* Разница между Москвой и Петербургом не слишком выражена. В Москве чаще слушают русскую популярную музыку, в Петербурге — джаз.\n",
    "\n",
    "Однако пропуски в данных ставят под сомнение этот результат. В Москве их так много, что рейтинг топ-10 мог бы выглядеть иначе, если бы не утерянные  данные о жанрах."
   ]
  },
  {
   "cell_type": "markdown",
   "metadata": {
    "deletable": false,
    "editable": false,
    "id": "JolODAqr_Zcu"
   },
   "source": [
    "### Жанровые предпочтения в Москве и Петербурге\n",
    "\n",
    "Гипотеза: Петербург — столица рэпа, музыку этого жанра там слушают чаще, чем в Москве.  А Москва — город контрастов, в котором, тем не менее, преобладает поп-музыка."
   ]
  },
  {
   "cell_type": "markdown",
   "metadata": {
    "deletable": false,
    "editable": false,
    "id": "DlegSvaT_Zcu",
    "tags": [
     "start_task"
    ]
   },
   "source": [
    "**Задание 26**\n",
    "\n",
    "Сгруппируйте таблицу `moscow_general` по жанру и посчитайте прослушивания треков каждого жанра методом `count()`. Затем отсортируйте результат в порядке убывания и сохраните его в таблице `moscow_genres`."
   ]
  },
  {
   "cell_type": "code",
   "execution_count": 35,
   "metadata": {
    "deletable": false,
    "id": "r19lIPke_Zcu"
   },
   "outputs": [],
   "source": [
    "# одной строкой: группировка таблицы moscow_general по столбцу 'genre',\n",
    "moscow_genres = moscow_general.groupby('genre')['genre'].count().sort_values(ascending = False)\n",
    "# подсчёт числа значений 'genre' в этой группировке методом count(),\n",
    "# сортировка получившегося Series в порядке убывания и сохранение в moscow_genres"
   ]
  },
  {
   "cell_type": "markdown",
   "metadata": {
    "deletable": false,
    "editable": false,
    "id": "6kMuomxTiIr8",
    "tags": [
     "start_task"
    ]
   },
   "source": [
    "**Задание 27**\n",
    "\n",
    "Выведите на экран первые десять строк `moscow_genres`:"
   ]
  },
  {
   "cell_type": "code",
   "execution_count": 36,
   "metadata": {
    "deletable": false,
    "id": "WhCSooF8_Zcv"
   },
   "outputs": [
    {
     "data": {
      "text/plain": [
       "genre\n",
       "pop            5892\n",
       "dance          4435\n",
       "rock           3965\n",
       "electronic     3786\n",
       "hiphop         2096\n",
       "classical      1616\n",
       "world          1432\n",
       "alternative    1379\n",
       "ruspop         1372\n",
       "rusrap         1161\n",
       "Name: genre, dtype: int64"
      ]
     },
     "execution_count": 36,
     "metadata": {},
     "output_type": "execute_result"
    }
   ],
   "source": [
    "# просмотр первых 10 строк moscow_genres\n",
    "moscow_genres.head(10)"
   ]
  },
  {
   "cell_type": "markdown",
   "metadata": {
    "deletable": false,
    "editable": false,
    "id": "cnPG2vnN_Zcv",
    "tags": [
     "start_task"
    ]
   },
   "source": [
    "**Задание 28**\n",
    "\n",
    "\n",
    "Теперь повторите то же и для Петербурга.\n",
    "\n",
    "Сгруппируйте таблицу `spb_general` по жанру. Посчитайте прослушивания треков каждого жанра. Результат отсортируйте в порядке убывания и сохраните в таблице `spb_genres`:\n"
   ]
  },
  {
   "cell_type": "code",
   "execution_count": 37,
   "metadata": {
    "deletable": false,
    "id": "gluLIpE7_Zcv"
   },
   "outputs": [],
   "source": [
    "# одной строкой: группировка таблицы spb_general по столбцу 'genre',\n",
    "# подсчёт числа значений 'genre' в этой группировке методом count(),\n",
    "# сортировка получившегося Series в порядке убывания и сохранение в spb_genres\n",
    "spb_genres = spb_general.groupby('genre')['genre'].count().sort_values(ascending = False)"
   ]
  },
  {
   "cell_type": "markdown",
   "metadata": {
    "deletable": false,
    "editable": false,
    "id": "5Doha_ODgyQ8",
    "tags": [
     "start_task"
    ]
   },
   "source": [
    "**Задание 29**\n",
    "\n",
    "Выведите на экран первые десять строк `spb_genres`:"
   ]
  },
  {
   "cell_type": "code",
   "execution_count": 38,
   "metadata": {
    "deletable": false,
    "id": "uaGJHjVU_Zcv"
   },
   "outputs": [
    {
     "data": {
      "text/plain": [
       "genre\n",
       "pop            2431\n",
       "dance          1932\n",
       "rock           1879\n",
       "electronic     1736\n",
       "hiphop          960\n",
       "alternative     649\n",
       "classical       646\n",
       "rusrap          564\n",
       "ruspop          538\n",
       "world           515\n",
       "Name: genre, dtype: int64"
      ]
     },
     "execution_count": 38,
     "metadata": {},
     "output_type": "execute_result"
    }
   ],
   "source": [
    "# просмотр первых 10 строк spb_genres\n",
    "spb_genres.head(10)"
   ]
  },
  {
   "cell_type": "markdown",
   "metadata": {
    "deletable": false,
    "editable": false,
    "id": "RY51YJYu_Zcv"
   },
   "source": [
    "**Выводы**"
   ]
  },
  {
   "cell_type": "markdown",
   "metadata": {
    "deletable": false,
    "editable": false,
    "id": "nVhnJEm__Zcv"
   },
   "source": [
    "Гипотеза частично подтвердилась:\n",
    "* Поп-музыка — самый популярный жанр в Москве, как и предполагала гипотеза. Более того, в топ-10 жанров встречается близкий жанр — русская популярная музыка.\n",
    "* Вопреки ожиданиям, рэп одинаково популярен в Москве и Петербурге.\n"
   ]
  },
  {
   "cell_type": "markdown",
   "metadata": {
    "deletable": false,
    "editable": false,
    "id": "ykKQ0N65_Zcv"
   },
   "source": [
    "## Итоги исследования"
   ]
  },
  {
   "cell_type": "markdown",
   "metadata": {
    "deletable": false,
    "editable": false,
    "id": "tjUwbHb3_Zcv"
   },
   "source": [
    "Вы проверили три гипотезы и установили:\n",
    "\n",
    "1. День недели по-разному влияет на активность пользователей в Москве и Петербурге.\n",
    "\n",
    "Первая гипотеза полностью подтвердилась.\n",
    "\n",
    "2. Музыкальные предпочтения не сильно меняются в течение недели — будь то Москва или Петербург. Небольшие различия заметны в начале недели, по понедельникам:\n",
    "* в Москве слушают музыку жанра “world”,\n",
    "* в Петербурге — джаз и классику.\n",
    "\n",
    "Таким образом, вторая гипотеза подтвердилась лишь отчасти. Этот результат мог оказаться иным, если бы не пропуски в данных.\n",
    "\n",
    "3. Во вкусах пользователей Москвы и Петербурга больше общего, чем различий. Вопреки ожиданиям, предпочтения жанров в Петербурге напоминают московские.\n",
    "\n",
    "Третья гипотеза не подтвердилась. Если различия в предпочтениях и существуют, на основной массе пользователей они незаметны.\n",
    "\n",
    "**На практике исследования содержат проверки статистических гипотез.**\n",
    "Из данных одного сервиса не всегда можно сделать вывод о всех жителях города.\n",
    "Проверки статистических гипотез покажут, насколько они достоверны, исходя из имеющихся данных.\n",
    "С методами проверок гипотез вы ещё познакомитесь в следующих темах."
   ]
  }
 ],
 "metadata": {
  "ExecuteTimeLog": [
   {
    "duration": 414,
    "start_time": "2023-09-13T17:38:21.968Z"
   },
   {
    "duration": 294,
    "start_time": "2023-09-13T17:41:05.343Z"
   },
   {
    "duration": 18,
    "start_time": "2023-09-13T17:41:27.005Z"
   },
   {
    "duration": 46,
    "start_time": "2023-09-13T17:42:35.289Z"
   },
   {
    "duration": 72,
    "start_time": "2023-09-13T17:58:56.333Z"
   },
   {
    "duration": 4,
    "start_time": "2023-09-13T17:59:23.928Z"
   },
   {
    "duration": 95,
    "start_time": "2023-09-13T18:05:30.238Z"
   },
   {
    "duration": 77,
    "start_time": "2023-09-13T18:06:23.980Z"
   },
   {
    "duration": 83,
    "start_time": "2023-09-13T18:06:31.425Z"
   },
   {
    "duration": 15,
    "start_time": "2023-09-13T18:07:14.463Z"
   },
   {
    "duration": 5,
    "start_time": "2023-09-13T18:07:36.042Z"
   },
   {
    "duration": 29,
    "start_time": "2023-09-13T18:09:31.647Z"
   },
   {
    "duration": 1593,
    "start_time": "2023-09-13T18:18:46.246Z"
   },
   {
    "duration": 2082,
    "start_time": "2023-09-13T18:19:38.208Z"
   },
   {
    "duration": 1698,
    "start_time": "2023-09-13T18:20:24.930Z"
   },
   {
    "duration": 2335,
    "start_time": "2023-09-13T18:21:13.330Z"
   },
   {
    "duration": 8,
    "start_time": "2023-09-13T18:22:20.106Z"
   },
   {
    "duration": 7,
    "start_time": "2023-09-13T18:25:47.412Z"
   },
   {
    "duration": 8,
    "start_time": "2023-09-13T18:26:24.510Z"
   },
   {
    "duration": 9,
    "start_time": "2023-09-13T18:38:22.529Z"
   },
   {
    "duration": 8,
    "start_time": "2023-09-13T18:38:36.615Z"
   },
   {
    "duration": 1436,
    "start_time": "2023-09-13T18:43:57.074Z"
   },
   {
    "duration": 1748,
    "start_time": "2023-09-13T18:52:41.884Z"
   },
   {
    "duration": 1181,
    "start_time": "2023-09-13T18:55:27.392Z"
   },
   {
    "duration": 1240,
    "start_time": "2023-09-13T18:58:32.738Z"
   },
   {
    "duration": 27,
    "start_time": "2023-09-13T19:01:47.657Z"
   },
   {
    "duration": 28,
    "start_time": "2023-09-13T19:02:29.985Z"
   },
   {
    "duration": 85,
    "start_time": "2023-09-13T19:04:19.998Z"
   },
   {
    "duration": 68,
    "start_time": "2023-09-13T19:05:23.546Z"
   },
   {
    "duration": 89,
    "start_time": "2023-09-13T19:07:13.963Z"
   },
   {
    "duration": 81,
    "start_time": "2023-09-13T19:09:12.415Z"
   },
   {
    "duration": 90,
    "start_time": "2023-09-13T19:09:51.625Z"
   },
   {
    "duration": 80,
    "start_time": "2023-09-13T19:09:59.231Z"
   },
   {
    "duration": 9,
    "start_time": "2023-09-13T19:18:15.774Z"
   },
   {
    "duration": 9,
    "start_time": "2023-09-13T19:19:58.730Z"
   },
   {
    "duration": 9,
    "start_time": "2023-09-13T19:22:20.674Z"
   },
   {
    "duration": 9,
    "start_time": "2023-09-13T19:22:27.688Z"
   },
   {
    "duration": 9,
    "start_time": "2023-09-13T19:24:53.732Z"
   },
   {
    "duration": 9,
    "start_time": "2023-09-13T19:27:40.481Z"
   },
   {
    "duration": 25,
    "start_time": "2023-09-13T19:28:12.365Z"
   },
   {
    "duration": 7,
    "start_time": "2023-09-13T19:33:44.880Z"
   },
   {
    "duration": 9,
    "start_time": "2023-09-13T19:34:13.462Z"
   },
   {
    "duration": 10,
    "start_time": "2023-09-13T19:34:32.903Z"
   },
   {
    "duration": 8,
    "start_time": "2023-09-13T19:34:38.945Z"
   },
   {
    "duration": 32,
    "start_time": "2023-09-13T19:35:00.978Z"
   },
   {
    "duration": 27,
    "start_time": "2023-09-13T19:35:17.110Z"
   },
   {
    "duration": 26,
    "start_time": "2023-09-13T19:35:41.125Z"
   },
   {
    "duration": 33,
    "start_time": "2023-09-13T19:36:50.385Z"
   },
   {
    "duration": 11,
    "start_time": "2023-09-13T19:37:12.609Z"
   },
   {
    "duration": 80,
    "start_time": "2023-09-13T19:41:12.194Z"
   },
   {
    "duration": 68,
    "start_time": "2023-09-13T19:41:16.193Z"
   },
   {
    "duration": 11,
    "start_time": "2023-09-13T19:41:23.076Z"
   },
   {
    "duration": 8,
    "start_time": "2023-09-13T19:45:50.024Z"
   },
   {
    "duration": 15,
    "start_time": "2023-09-13T19:46:50.390Z"
   },
   {
    "duration": 8,
    "start_time": "2023-09-13T19:47:31.940Z"
   },
   {
    "duration": 9,
    "start_time": "2023-09-13T19:47:40.222Z"
   },
   {
    "duration": 10,
    "start_time": "2023-09-13T19:48:51.125Z"
   },
   {
    "duration": 14,
    "start_time": "2023-09-13T20:00:50.460Z"
   },
   {
    "duration": 14,
    "start_time": "2023-09-13T20:01:54.402Z"
   },
   {
    "duration": 82,
    "start_time": "2023-09-13T20:21:32.603Z"
   },
   {
    "duration": 92,
    "start_time": "2023-09-13T20:21:54.016Z"
   },
   {
    "duration": 107,
    "start_time": "2023-09-13T20:36:36.366Z"
   },
   {
    "duration": 74,
    "start_time": "2023-09-13T20:37:22.710Z"
   },
   {
    "duration": 75,
    "start_time": "2023-09-13T20:40:05.734Z"
   },
   {
    "duration": 4,
    "start_time": "2023-09-13T21:00:15.820Z"
   },
   {
    "duration": 8,
    "start_time": "2023-09-13T21:02:38.510Z"
   },
   {
    "duration": 14,
    "start_time": "2023-09-13T21:03:07.745Z"
   },
   {
    "duration": 3,
    "start_time": "2023-09-13T21:05:57.995Z"
   },
   {
    "duration": 11,
    "start_time": "2023-09-13T21:06:01.686Z"
   },
   {
    "duration": 439,
    "start_time": "2023-09-13T21:06:43.113Z"
   },
   {
    "duration": 189,
    "start_time": "2023-09-13T21:06:43.554Z"
   },
   {
    "duration": 19,
    "start_time": "2023-09-13T21:06:43.745Z"
   },
   {
    "duration": 33,
    "start_time": "2023-09-13T21:06:43.766Z"
   },
   {
    "duration": 12,
    "start_time": "2023-09-13T21:06:43.800Z"
   },
   {
    "duration": 20,
    "start_time": "2023-09-13T21:06:43.814Z"
   },
   {
    "duration": 23,
    "start_time": "2023-09-13T21:06:43.836Z"
   },
   {
    "duration": 20,
    "start_time": "2023-09-13T21:06:43.860Z"
   },
   {
    "duration": 35,
    "start_time": "2023-09-13T21:06:43.881Z"
   },
   {
    "duration": 30,
    "start_time": "2023-09-13T21:06:43.919Z"
   },
   {
    "duration": 28,
    "start_time": "2023-09-13T21:06:43.951Z"
   },
   {
    "duration": 93,
    "start_time": "2023-09-13T21:06:43.981Z"
   },
   {
    "duration": 100,
    "start_time": "2023-09-13T21:06:44.075Z"
   },
   {
    "duration": 70,
    "start_time": "2023-09-13T21:06:44.177Z"
   },
   {
    "duration": 11,
    "start_time": "2023-09-13T21:06:44.249Z"
   },
   {
    "duration": 13,
    "start_time": "2023-09-13T21:06:44.261Z"
   },
   {
    "duration": 30,
    "start_time": "2023-09-13T21:06:44.275Z"
   },
   {
    "duration": 20,
    "start_time": "2023-09-13T21:06:44.306Z"
   },
   {
    "duration": 26,
    "start_time": "2023-09-13T21:06:44.328Z"
   },
   {
    "duration": 26,
    "start_time": "2023-09-13T21:06:44.356Z"
   },
   {
    "duration": 93,
    "start_time": "2023-09-13T21:06:44.383Z"
   },
   {
    "duration": 0,
    "start_time": "2023-09-13T21:06:44.478Z"
   },
   {
    "duration": 0,
    "start_time": "2023-09-13T21:06:44.480Z"
   },
   {
    "duration": 0,
    "start_time": "2023-09-13T21:06:44.481Z"
   },
   {
    "duration": 0,
    "start_time": "2023-09-13T21:06:44.481Z"
   },
   {
    "duration": 0,
    "start_time": "2023-09-13T21:06:44.482Z"
   },
   {
    "duration": 0,
    "start_time": "2023-09-13T21:06:44.483Z"
   },
   {
    "duration": 0,
    "start_time": "2023-09-13T21:06:44.484Z"
   },
   {
    "duration": 0,
    "start_time": "2023-09-13T21:06:44.485Z"
   },
   {
    "duration": 0,
    "start_time": "2023-09-13T21:06:44.486Z"
   },
   {
    "duration": 0,
    "start_time": "2023-09-13T21:06:44.487Z"
   },
   {
    "duration": 0,
    "start_time": "2023-09-13T21:06:44.488Z"
   },
   {
    "duration": 0,
    "start_time": "2023-09-13T21:06:44.489Z"
   },
   {
    "duration": 0,
    "start_time": "2023-09-13T21:06:44.490Z"
   },
   {
    "duration": 0,
    "start_time": "2023-09-13T21:06:44.491Z"
   },
   {
    "duration": 0,
    "start_time": "2023-09-13T21:06:44.492Z"
   },
   {
    "duration": 0,
    "start_time": "2023-09-13T21:06:44.493Z"
   },
   {
    "duration": 0,
    "start_time": "2023-09-13T21:06:44.494Z"
   },
   {
    "duration": 10,
    "start_time": "2023-09-13T21:06:59.802Z"
   },
   {
    "duration": 4,
    "start_time": "2023-09-13T21:07:32.386Z"
   },
   {
    "duration": 9,
    "start_time": "2023-09-13T21:07:35.454Z"
   },
   {
    "duration": 4,
    "start_time": "2023-09-13T21:09:41.607Z"
   },
   {
    "duration": 14,
    "start_time": "2023-09-13T21:09:45.668Z"
   },
   {
    "duration": 442,
    "start_time": "2023-09-13T21:09:58.321Z"
   },
   {
    "duration": 190,
    "start_time": "2023-09-13T21:09:58.766Z"
   },
   {
    "duration": 18,
    "start_time": "2023-09-13T21:09:58.958Z"
   },
   {
    "duration": 58,
    "start_time": "2023-09-13T21:09:58.978Z"
   },
   {
    "duration": 8,
    "start_time": "2023-09-13T21:09:59.038Z"
   },
   {
    "duration": 15,
    "start_time": "2023-09-13T21:09:59.048Z"
   },
   {
    "duration": 22,
    "start_time": "2023-09-13T21:09:59.065Z"
   },
   {
    "duration": 10,
    "start_time": "2023-09-13T21:09:59.089Z"
   },
   {
    "duration": 44,
    "start_time": "2023-09-13T21:09:59.102Z"
   },
   {
    "duration": 24,
    "start_time": "2023-09-13T21:09:59.148Z"
   },
   {
    "duration": 28,
    "start_time": "2023-09-13T21:09:59.174Z"
   },
   {
    "duration": 87,
    "start_time": "2023-09-13T21:09:59.204Z"
   },
   {
    "duration": 91,
    "start_time": "2023-09-13T21:09:59.293Z"
   },
   {
    "duration": 69,
    "start_time": "2023-09-13T21:09:59.386Z"
   },
   {
    "duration": 11,
    "start_time": "2023-09-13T21:09:59.456Z"
   },
   {
    "duration": 26,
    "start_time": "2023-09-13T21:09:59.469Z"
   },
   {
    "duration": 57,
    "start_time": "2023-09-13T21:09:59.496Z"
   },
   {
    "duration": 26,
    "start_time": "2023-09-13T21:09:59.554Z"
   },
   {
    "duration": 23,
    "start_time": "2023-09-13T21:09:59.582Z"
   },
   {
    "duration": 9,
    "start_time": "2023-09-13T21:09:59.606Z"
   },
   {
    "duration": 27,
    "start_time": "2023-09-13T21:09:59.616Z"
   },
   {
    "duration": 14,
    "start_time": "2023-09-13T21:09:59.644Z"
   },
   {
    "duration": 15,
    "start_time": "2023-09-13T21:09:59.659Z"
   },
   {
    "duration": 16,
    "start_time": "2023-09-13T21:09:59.675Z"
   },
   {
    "duration": 9,
    "start_time": "2023-09-13T21:09:59.692Z"
   },
   {
    "duration": 10,
    "start_time": "2023-09-13T21:09:59.702Z"
   },
   {
    "duration": 10,
    "start_time": "2023-09-13T21:09:59.713Z"
   },
   {
    "duration": 10,
    "start_time": "2023-09-13T21:09:59.725Z"
   },
   {
    "duration": 5,
    "start_time": "2023-09-13T21:09:59.737Z"
   },
   {
    "duration": 86,
    "start_time": "2023-09-13T21:09:59.743Z"
   },
   {
    "duration": 0,
    "start_time": "2023-09-13T21:09:59.831Z"
   },
   {
    "duration": 0,
    "start_time": "2023-09-13T21:09:59.833Z"
   },
   {
    "duration": 0,
    "start_time": "2023-09-13T21:09:59.835Z"
   },
   {
    "duration": 0,
    "start_time": "2023-09-13T21:09:59.836Z"
   },
   {
    "duration": 0,
    "start_time": "2023-09-13T21:09:59.838Z"
   },
   {
    "duration": 0,
    "start_time": "2023-09-13T21:09:59.839Z"
   },
   {
    "duration": 0,
    "start_time": "2023-09-13T21:09:59.841Z"
   },
   {
    "duration": 0,
    "start_time": "2023-09-13T21:09:59.842Z"
   },
   {
    "duration": 3,
    "start_time": "2023-09-13T21:10:52.763Z"
   },
   {
    "duration": 68,
    "start_time": "2023-09-13T21:11:26.619Z"
   },
   {
    "duration": 14,
    "start_time": "2023-09-13T21:11:41.726Z"
   },
   {
    "duration": 17,
    "start_time": "2023-09-13T21:12:27.679Z"
   },
   {
    "duration": 17,
    "start_time": "2023-09-13T21:13:21.687Z"
   },
   {
    "duration": 17,
    "start_time": "2023-09-13T21:13:48.269Z"
   },
   {
    "duration": 16,
    "start_time": "2023-09-13T21:14:06.494Z"
   },
   {
    "duration": 30,
    "start_time": "2023-09-13T21:14:42.285Z"
   },
   {
    "duration": 16,
    "start_time": "2023-09-13T21:14:45.036Z"
   },
   {
    "duration": 9,
    "start_time": "2023-09-13T21:26:23.098Z"
   },
   {
    "duration": 8,
    "start_time": "2023-09-13T21:27:29.540Z"
   },
   {
    "duration": 9,
    "start_time": "2023-09-13T21:28:25.766Z"
   },
   {
    "duration": 4,
    "start_time": "2023-09-13T21:31:38.935Z"
   },
   {
    "duration": 9,
    "start_time": "2023-09-13T21:31:54.702Z"
   },
   {
    "duration": 22,
    "start_time": "2023-09-13T21:35:27.472Z"
   },
   {
    "duration": 18,
    "start_time": "2023-09-13T21:36:25.204Z"
   },
   {
    "duration": 5,
    "start_time": "2023-09-13T21:47:47.399Z"
   },
   {
    "duration": 34,
    "start_time": "2023-09-13T21:49:58.453Z"
   },
   {
    "duration": 19,
    "start_time": "2023-09-13T21:50:36.921Z"
   },
   {
    "duration": 32,
    "start_time": "2023-09-13T21:51:24.611Z"
   },
   {
    "duration": 18,
    "start_time": "2023-09-13T21:51:47.486Z"
   },
   {
    "duration": 367,
    "start_time": "2023-09-13T21:55:43.102Z"
   },
   {
    "duration": 186,
    "start_time": "2023-09-13T21:55:43.471Z"
   },
   {
    "duration": 19,
    "start_time": "2023-09-13T21:55:43.659Z"
   },
   {
    "duration": 34,
    "start_time": "2023-09-13T21:55:43.680Z"
   },
   {
    "duration": 3,
    "start_time": "2023-09-13T21:55:43.715Z"
   },
   {
    "duration": 8,
    "start_time": "2023-09-13T21:55:43.720Z"
   },
   {
    "duration": 12,
    "start_time": "2023-09-13T21:55:43.747Z"
   },
   {
    "duration": 24,
    "start_time": "2023-09-13T21:55:43.761Z"
   },
   {
    "duration": 32,
    "start_time": "2023-09-13T21:55:43.787Z"
   },
   {
    "duration": 28,
    "start_time": "2023-09-13T21:55:43.822Z"
   },
   {
    "duration": 34,
    "start_time": "2023-09-13T21:55:43.852Z"
   },
   {
    "duration": 80,
    "start_time": "2023-09-13T21:55:43.888Z"
   },
   {
    "duration": 93,
    "start_time": "2023-09-13T21:55:43.970Z"
   },
   {
    "duration": 72,
    "start_time": "2023-09-13T21:55:44.065Z"
   },
   {
    "duration": 16,
    "start_time": "2023-09-13T21:55:44.139Z"
   },
   {
    "duration": 35,
    "start_time": "2023-09-13T21:55:44.157Z"
   },
   {
    "duration": 20,
    "start_time": "2023-09-13T21:55:44.194Z"
   },
   {
    "duration": 15,
    "start_time": "2023-09-13T21:55:44.215Z"
   },
   {
    "duration": 13,
    "start_time": "2023-09-13T21:55:44.231Z"
   },
   {
    "duration": 3,
    "start_time": "2023-09-13T21:55:44.246Z"
   },
   {
    "duration": 35,
    "start_time": "2023-09-13T21:55:44.251Z"
   },
   {
    "duration": 18,
    "start_time": "2023-09-13T21:55:44.287Z"
   },
   {
    "duration": 20,
    "start_time": "2023-09-13T21:55:44.307Z"
   },
   {
    "duration": 21,
    "start_time": "2023-09-13T21:55:44.329Z"
   },
   {
    "duration": 18,
    "start_time": "2023-09-13T21:55:44.352Z"
   },
   {
    "duration": 19,
    "start_time": "2023-09-13T21:55:44.372Z"
   },
   {
    "duration": 9,
    "start_time": "2023-09-13T21:55:44.393Z"
   },
   {
    "duration": 15,
    "start_time": "2023-09-13T21:55:44.405Z"
   },
   {
    "duration": 31,
    "start_time": "2023-09-13T21:55:44.421Z"
   },
   {
    "duration": 18,
    "start_time": "2023-09-13T21:55:44.454Z"
   },
   {
    "duration": 50,
    "start_time": "2023-09-13T21:55:44.474Z"
   },
   {
    "duration": 19,
    "start_time": "2023-09-13T21:55:44.526Z"
   },
   {
    "duration": 29,
    "start_time": "2023-09-13T21:55:44.547Z"
   },
   {
    "duration": 18,
    "start_time": "2023-09-13T21:55:44.578Z"
   },
   {
    "duration": 3,
    "start_time": "2023-09-13T21:55:44.597Z"
   },
   {
    "duration": 14,
    "start_time": "2023-09-13T21:55:44.601Z"
   },
   {
    "duration": 5,
    "start_time": "2023-09-13T21:55:44.616Z"
   },
   {
    "duration": 4,
    "start_time": "2023-09-13T21:55:44.623Z"
   },
   {
    "duration": 5,
    "start_time": "2023-09-13T22:04:01.934Z"
   },
   {
    "duration": 124,
    "start_time": "2023-09-13T22:04:08.999Z"
   },
   {
    "duration": 5,
    "start_time": "2023-09-13T22:04:33.416Z"
   },
   {
    "duration": 29,
    "start_time": "2023-09-13T22:04:36.910Z"
   },
   {
    "duration": 6,
    "start_time": "2023-09-13T22:05:00.912Z"
   },
   {
    "duration": 42,
    "start_time": "2023-09-13T22:05:03.296Z"
   },
   {
    "duration": 20,
    "start_time": "2023-09-13T22:10:47.987Z"
   },
   {
    "duration": 13,
    "start_time": "2023-09-13T22:12:49.678Z"
   },
   {
    "duration": 8,
    "start_time": "2023-09-13T22:13:10.838Z"
   },
   {
    "duration": 5,
    "start_time": "2023-09-13T22:13:26.227Z"
   },
   {
    "duration": 7,
    "start_time": "2023-09-13T22:14:42.139Z"
   },
   {
    "duration": 5,
    "start_time": "2023-09-13T22:14:59.848Z"
   },
   {
    "duration": 405,
    "start_time": "2023-09-13T22:16:55.167Z"
   },
   {
    "duration": 188,
    "start_time": "2023-09-13T22:16:55.574Z"
   },
   {
    "duration": 18,
    "start_time": "2023-09-13T22:16:55.764Z"
   },
   {
    "duration": 36,
    "start_time": "2023-09-13T22:16:55.784Z"
   },
   {
    "duration": 10,
    "start_time": "2023-09-13T22:16:55.821Z"
   },
   {
    "duration": 17,
    "start_time": "2023-09-13T22:16:55.832Z"
   },
   {
    "duration": 33,
    "start_time": "2023-09-13T22:16:55.851Z"
   },
   {
    "duration": 7,
    "start_time": "2023-09-13T22:16:55.886Z"
   },
   {
    "duration": 39,
    "start_time": "2023-09-13T22:16:55.895Z"
   },
   {
    "duration": 23,
    "start_time": "2023-09-13T22:16:55.937Z"
   },
   {
    "duration": 33,
    "start_time": "2023-09-13T22:16:55.961Z"
   },
   {
    "duration": 91,
    "start_time": "2023-09-13T22:16:55.996Z"
   },
   {
    "duration": 94,
    "start_time": "2023-09-13T22:16:56.089Z"
   },
   {
    "duration": 71,
    "start_time": "2023-09-13T22:16:56.185Z"
   },
   {
    "duration": 10,
    "start_time": "2023-09-13T22:16:56.258Z"
   },
   {
    "duration": 12,
    "start_time": "2023-09-13T22:16:56.270Z"
   },
   {
    "duration": 18,
    "start_time": "2023-09-13T22:16:56.284Z"
   },
   {
    "duration": 16,
    "start_time": "2023-09-13T22:16:56.303Z"
   },
   {
    "duration": 38,
    "start_time": "2023-09-13T22:16:56.321Z"
   },
   {
    "duration": 4,
    "start_time": "2023-09-13T22:16:56.361Z"
   },
   {
    "duration": 27,
    "start_time": "2023-09-13T22:16:56.366Z"
   },
   {
    "duration": 16,
    "start_time": "2023-09-13T22:16:56.394Z"
   },
   {
    "duration": 38,
    "start_time": "2023-09-13T22:16:56.411Z"
   },
   {
    "duration": 15,
    "start_time": "2023-09-13T22:16:56.451Z"
   },
   {
    "duration": 27,
    "start_time": "2023-09-13T22:16:56.468Z"
   },
   {
    "duration": 16,
    "start_time": "2023-09-13T22:16:56.497Z"
   },
   {
    "duration": 14,
    "start_time": "2023-09-13T22:16:56.515Z"
   },
   {
    "duration": 12,
    "start_time": "2023-09-13T22:16:56.549Z"
   },
   {
    "duration": 10,
    "start_time": "2023-09-13T22:16:56.563Z"
   },
   {
    "duration": 5,
    "start_time": "2023-09-13T22:16:56.574Z"
   },
   {
    "duration": 45,
    "start_time": "2023-09-13T22:16:56.581Z"
   },
   {
    "duration": 33,
    "start_time": "2023-09-13T22:16:56.628Z"
   },
   {
    "duration": 30,
    "start_time": "2023-09-13T22:16:56.663Z"
   },
   {
    "duration": 17,
    "start_time": "2023-09-13T22:16:56.695Z"
   },
   {
    "duration": 37,
    "start_time": "2023-09-13T22:16:56.714Z"
   },
   {
    "duration": 4,
    "start_time": "2023-09-13T22:16:56.753Z"
   },
   {
    "duration": 13,
    "start_time": "2023-09-13T22:16:56.759Z"
   },
   {
    "duration": 10,
    "start_time": "2023-09-13T22:16:56.774Z"
   },
   {
    "duration": 67,
    "start_time": "2023-09-13T22:21:21.804Z"
   },
   {
    "duration": 420,
    "start_time": "2023-09-13T22:21:41.155Z"
   },
   {
    "duration": 188,
    "start_time": "2023-09-13T22:21:41.577Z"
   },
   {
    "duration": 24,
    "start_time": "2023-09-13T22:21:41.767Z"
   },
   {
    "duration": 36,
    "start_time": "2023-09-13T22:21:41.793Z"
   },
   {
    "duration": 16,
    "start_time": "2023-09-13T22:21:41.831Z"
   },
   {
    "duration": 4,
    "start_time": "2023-09-13T22:21:41.849Z"
   },
   {
    "duration": 17,
    "start_time": "2023-09-13T22:21:41.855Z"
   },
   {
    "duration": 9,
    "start_time": "2023-09-13T22:21:41.874Z"
   },
   {
    "duration": 39,
    "start_time": "2023-09-13T22:21:41.885Z"
   },
   {
    "duration": 30,
    "start_time": "2023-09-13T22:21:41.927Z"
   },
   {
    "duration": 30,
    "start_time": "2023-09-13T22:21:41.959Z"
   },
   {
    "duration": 82,
    "start_time": "2023-09-13T22:21:41.991Z"
   },
   {
    "duration": 90,
    "start_time": "2023-09-13T22:21:42.075Z"
   },
   {
    "duration": 64,
    "start_time": "2023-09-13T22:21:42.167Z"
   },
   {
    "duration": 20,
    "start_time": "2023-09-13T22:21:42.233Z"
   },
   {
    "duration": 17,
    "start_time": "2023-09-13T22:21:42.254Z"
   },
   {
    "duration": 19,
    "start_time": "2023-09-13T22:21:42.273Z"
   },
   {
    "duration": 14,
    "start_time": "2023-09-13T22:21:42.294Z"
   },
   {
    "duration": 15,
    "start_time": "2023-09-13T22:21:42.309Z"
   },
   {
    "duration": 23,
    "start_time": "2023-09-13T22:21:42.326Z"
   },
   {
    "duration": 34,
    "start_time": "2023-09-13T22:21:42.351Z"
   },
   {
    "duration": 18,
    "start_time": "2023-09-13T22:21:42.386Z"
   },
   {
    "duration": 23,
    "start_time": "2023-09-13T22:21:42.406Z"
   },
   {
    "duration": 21,
    "start_time": "2023-09-13T22:21:42.431Z"
   },
   {
    "duration": 30,
    "start_time": "2023-09-13T22:21:42.453Z"
   },
   {
    "duration": 23,
    "start_time": "2023-09-13T22:21:42.484Z"
   },
   {
    "duration": 21,
    "start_time": "2023-09-13T22:21:42.508Z"
   },
   {
    "duration": 18,
    "start_time": "2023-09-13T22:21:42.532Z"
   },
   {
    "duration": 26,
    "start_time": "2023-09-13T22:21:42.551Z"
   },
   {
    "duration": 23,
    "start_time": "2023-09-13T22:21:42.579Z"
   },
   {
    "duration": 56,
    "start_time": "2023-09-13T22:21:42.604Z"
   },
   {
    "duration": 18,
    "start_time": "2023-09-13T22:21:42.662Z"
   },
   {
    "duration": 31,
    "start_time": "2023-09-13T22:21:42.681Z"
   },
   {
    "duration": 43,
    "start_time": "2023-09-13T22:21:42.714Z"
   },
   {
    "duration": 13,
    "start_time": "2023-09-13T22:21:42.758Z"
   },
   {
    "duration": 22,
    "start_time": "2023-09-13T22:21:42.773Z"
   },
   {
    "duration": 10,
    "start_time": "2023-09-13T22:21:42.797Z"
   },
   {
    "duration": 14,
    "start_time": "2023-09-13T22:21:42.808Z"
   },
   {
    "duration": 57,
    "start_time": "2023-09-13T22:25:55.228Z"
   },
   {
    "duration": 406,
    "start_time": "2023-09-13T22:26:18.688Z"
   },
   {
    "duration": 185,
    "start_time": "2023-09-13T22:26:19.096Z"
   },
   {
    "duration": 18,
    "start_time": "2023-09-13T22:26:19.283Z"
   },
   {
    "duration": 54,
    "start_time": "2023-09-13T22:26:19.303Z"
   },
   {
    "duration": 11,
    "start_time": "2023-09-13T22:26:19.359Z"
   },
   {
    "duration": 32,
    "start_time": "2023-09-13T22:26:19.372Z"
   },
   {
    "duration": 27,
    "start_time": "2023-09-13T22:26:19.406Z"
   },
   {
    "duration": 20,
    "start_time": "2023-09-13T22:26:19.434Z"
   },
   {
    "duration": 53,
    "start_time": "2023-09-13T22:26:19.456Z"
   },
   {
    "duration": 27,
    "start_time": "2023-09-13T22:26:19.511Z"
   },
   {
    "duration": 30,
    "start_time": "2023-09-13T22:26:19.539Z"
   },
   {
    "duration": 81,
    "start_time": "2023-09-13T22:26:19.570Z"
   },
   {
    "duration": 75,
    "start_time": "2023-09-13T22:26:19.653Z"
   },
   {
    "duration": 78,
    "start_time": "2023-09-13T22:26:19.729Z"
   },
   {
    "duration": 58,
    "start_time": "2023-09-13T22:26:19.809Z"
   },
   {
    "duration": 12,
    "start_time": "2023-09-13T22:26:19.869Z"
   },
   {
    "duration": 19,
    "start_time": "2023-09-13T22:26:19.883Z"
   },
   {
    "duration": 38,
    "start_time": "2023-09-13T22:26:19.903Z"
   },
   {
    "duration": 29,
    "start_time": "2023-09-13T22:26:19.943Z"
   },
   {
    "duration": 7,
    "start_time": "2023-09-13T22:26:19.973Z"
   },
   {
    "duration": 38,
    "start_time": "2023-09-13T22:26:19.982Z"
   },
   {
    "duration": 30,
    "start_time": "2023-09-13T22:26:20.022Z"
   },
   {
    "duration": 64,
    "start_time": "2023-09-13T22:26:20.054Z"
   },
   {
    "duration": 25,
    "start_time": "2023-09-13T22:26:20.120Z"
   },
   {
    "duration": 49,
    "start_time": "2023-09-13T22:26:20.147Z"
   },
   {
    "duration": 20,
    "start_time": "2023-09-13T22:26:20.198Z"
   },
   {
    "duration": 21,
    "start_time": "2023-09-13T22:26:20.220Z"
   },
   {
    "duration": 17,
    "start_time": "2023-09-13T22:26:20.246Z"
   },
   {
    "duration": 27,
    "start_time": "2023-09-13T22:26:20.265Z"
   },
   {
    "duration": 10,
    "start_time": "2023-09-13T22:26:20.294Z"
   },
   {
    "duration": 40,
    "start_time": "2023-09-13T22:26:20.306Z"
   },
   {
    "duration": 20,
    "start_time": "2023-09-13T22:26:20.348Z"
   },
   {
    "duration": 48,
    "start_time": "2023-09-13T22:26:20.370Z"
   },
   {
    "duration": 19,
    "start_time": "2023-09-13T22:26:20.419Z"
   },
   {
    "duration": 10,
    "start_time": "2023-09-13T22:26:20.447Z"
   },
   {
    "duration": 5,
    "start_time": "2023-09-13T22:26:20.458Z"
   },
   {
    "duration": 14,
    "start_time": "2023-09-13T22:26:20.464Z"
   },
   {
    "duration": 7,
    "start_time": "2023-09-13T22:26:20.479Z"
   },
   {
    "duration": 40,
    "start_time": "2023-09-13T22:27:57.759Z"
   },
   {
    "duration": 46,
    "start_time": "2023-09-13T22:29:01.220Z"
   },
   {
    "duration": 417,
    "start_time": "2023-09-13T22:30:41.556Z"
   },
   {
    "duration": 191,
    "start_time": "2023-09-13T22:30:41.975Z"
   },
   {
    "duration": 17,
    "start_time": "2023-09-13T22:30:42.168Z"
   },
   {
    "duration": 54,
    "start_time": "2023-09-13T22:30:42.187Z"
   },
   {
    "duration": 23,
    "start_time": "2023-09-13T22:30:42.243Z"
   },
   {
    "duration": 39,
    "start_time": "2023-09-13T22:30:42.268Z"
   },
   {
    "duration": 30,
    "start_time": "2023-09-13T22:30:42.309Z"
   },
   {
    "duration": 29,
    "start_time": "2023-09-13T22:30:42.341Z"
   },
   {
    "duration": 44,
    "start_time": "2023-09-13T22:30:42.371Z"
   },
   {
    "duration": 38,
    "start_time": "2023-09-13T22:30:42.417Z"
   },
   {
    "duration": 54,
    "start_time": "2023-09-13T22:30:42.457Z"
   },
   {
    "duration": 97,
    "start_time": "2023-09-13T22:30:42.513Z"
   },
   {
    "duration": 80,
    "start_time": "2023-09-13T22:30:42.613Z"
   },
   {
    "duration": 78,
    "start_time": "2023-09-13T22:30:42.697Z"
   },
   {
    "duration": 48,
    "start_time": "2023-09-13T22:30:42.777Z"
   },
   {
    "duration": 26,
    "start_time": "2023-09-13T22:30:42.827Z"
   },
   {
    "duration": 66,
    "start_time": "2023-09-13T22:30:42.854Z"
   },
   {
    "duration": 13,
    "start_time": "2023-09-13T22:30:42.922Z"
   },
   {
    "duration": 38,
    "start_time": "2023-09-13T22:30:42.937Z"
   },
   {
    "duration": 17,
    "start_time": "2023-09-13T22:30:42.977Z"
   },
   {
    "duration": 50,
    "start_time": "2023-09-13T22:30:42.995Z"
   },
   {
    "duration": 21,
    "start_time": "2023-09-13T22:30:43.046Z"
   },
   {
    "duration": 36,
    "start_time": "2023-09-13T22:30:43.069Z"
   },
   {
    "duration": 35,
    "start_time": "2023-09-13T22:30:43.106Z"
   },
   {
    "duration": 43,
    "start_time": "2023-09-13T22:30:43.142Z"
   },
   {
    "duration": 26,
    "start_time": "2023-09-13T22:30:43.187Z"
   },
   {
    "duration": 12,
    "start_time": "2023-09-13T22:30:43.215Z"
   },
   {
    "duration": 33,
    "start_time": "2023-09-13T22:30:43.228Z"
   },
   {
    "duration": 26,
    "start_time": "2023-09-13T22:30:43.263Z"
   },
   {
    "duration": 16,
    "start_time": "2023-09-13T22:30:43.291Z"
   },
   {
    "duration": 63,
    "start_time": "2023-09-13T22:30:43.308Z"
   },
   {
    "duration": 18,
    "start_time": "2023-09-13T22:30:43.372Z"
   },
   {
    "duration": 40,
    "start_time": "2023-09-13T22:30:43.391Z"
   },
   {
    "duration": 28,
    "start_time": "2023-09-13T22:30:43.433Z"
   },
   {
    "duration": 13,
    "start_time": "2023-09-13T22:30:43.463Z"
   },
   {
    "duration": 20,
    "start_time": "2023-09-13T22:30:43.478Z"
   },
   {
    "duration": 37,
    "start_time": "2023-09-13T22:30:43.500Z"
   },
   {
    "duration": 35,
    "start_time": "2023-09-13T22:30:43.538Z"
   },
   {
    "duration": 4,
    "start_time": "2023-09-13T22:36:30.986Z"
   },
   {
    "duration": 385,
    "start_time": "2023-09-13T22:37:04.391Z"
   },
   {
    "duration": 190,
    "start_time": "2023-09-13T22:37:04.778Z"
   },
   {
    "duration": 18,
    "start_time": "2023-09-13T22:37:04.969Z"
   },
   {
    "duration": 35,
    "start_time": "2023-09-13T22:37:04.988Z"
   },
   {
    "duration": 13,
    "start_time": "2023-09-13T22:37:05.026Z"
   },
   {
    "duration": 8,
    "start_time": "2023-09-13T22:37:05.041Z"
   },
   {
    "duration": 16,
    "start_time": "2023-09-13T22:37:05.051Z"
   },
   {
    "duration": 13,
    "start_time": "2023-09-13T22:37:05.069Z"
   },
   {
    "duration": 35,
    "start_time": "2023-09-13T22:37:05.083Z"
   },
   {
    "duration": 28,
    "start_time": "2023-09-13T22:37:05.120Z"
   },
   {
    "duration": 37,
    "start_time": "2023-09-13T22:37:05.150Z"
   },
   {
    "duration": 104,
    "start_time": "2023-09-13T22:37:05.189Z"
   },
   {
    "duration": 83,
    "start_time": "2023-09-13T22:37:05.296Z"
   },
   {
    "duration": 74,
    "start_time": "2023-09-13T22:37:05.382Z"
   },
   {
    "duration": 48,
    "start_time": "2023-09-13T22:37:05.457Z"
   },
   {
    "duration": 12,
    "start_time": "2023-09-13T22:37:05.507Z"
   },
   {
    "duration": 66,
    "start_time": "2023-09-13T22:37:05.521Z"
   },
   {
    "duration": 14,
    "start_time": "2023-09-13T22:37:05.589Z"
   },
   {
    "duration": 22,
    "start_time": "2023-09-13T22:37:05.605Z"
   },
   {
    "duration": 19,
    "start_time": "2023-09-13T22:37:05.629Z"
   },
   {
    "duration": 37,
    "start_time": "2023-09-13T22:37:05.650Z"
   },
   {
    "duration": 16,
    "start_time": "2023-09-13T22:37:05.689Z"
   },
   {
    "duration": 23,
    "start_time": "2023-09-13T22:37:05.707Z"
   },
   {
    "duration": 24,
    "start_time": "2023-09-13T22:37:05.732Z"
   },
   {
    "duration": 26,
    "start_time": "2023-09-13T22:37:05.758Z"
   },
   {
    "duration": 16,
    "start_time": "2023-09-13T22:37:05.786Z"
   },
   {
    "duration": 10,
    "start_time": "2023-09-13T22:37:05.805Z"
   },
   {
    "duration": 29,
    "start_time": "2023-09-13T22:37:05.817Z"
   },
   {
    "duration": 12,
    "start_time": "2023-09-13T22:37:05.848Z"
   },
   {
    "duration": 18,
    "start_time": "2023-09-13T22:37:05.862Z"
   },
   {
    "duration": 49,
    "start_time": "2023-09-13T22:37:05.882Z"
   },
   {
    "duration": 20,
    "start_time": "2023-09-13T22:37:05.933Z"
   },
   {
    "duration": 29,
    "start_time": "2023-09-13T22:37:05.955Z"
   },
   {
    "duration": 18,
    "start_time": "2023-09-13T22:37:05.986Z"
   },
   {
    "duration": 13,
    "start_time": "2023-09-13T22:37:06.006Z"
   },
   {
    "duration": 29,
    "start_time": "2023-09-13T22:37:06.021Z"
   },
   {
    "duration": 18,
    "start_time": "2023-09-13T22:37:06.052Z"
   },
   {
    "duration": 21,
    "start_time": "2023-09-13T22:37:06.072Z"
   },
   {
    "duration": 8,
    "start_time": "2023-09-13T22:51:33.876Z"
   },
   {
    "duration": 375,
    "start_time": "2023-09-13T22:51:53.301Z"
   },
   {
    "duration": 192,
    "start_time": "2023-09-13T22:51:53.678Z"
   },
   {
    "duration": 18,
    "start_time": "2023-09-13T22:51:53.871Z"
   },
   {
    "duration": 37,
    "start_time": "2023-09-13T22:51:53.892Z"
   },
   {
    "duration": 23,
    "start_time": "2023-09-13T22:51:53.931Z"
   },
   {
    "duration": 23,
    "start_time": "2023-09-13T22:51:53.956Z"
   },
   {
    "duration": 61,
    "start_time": "2023-09-13T22:51:53.981Z"
   },
   {
    "duration": 29,
    "start_time": "2023-09-13T22:51:54.044Z"
   },
   {
    "duration": 65,
    "start_time": "2023-09-13T22:51:54.074Z"
   },
   {
    "duration": 52,
    "start_time": "2023-09-13T22:51:54.142Z"
   },
   {
    "duration": 78,
    "start_time": "2023-09-13T22:51:54.195Z"
   },
   {
    "duration": 90,
    "start_time": "2023-09-13T22:51:54.275Z"
   },
   {
    "duration": 83,
    "start_time": "2023-09-13T22:51:54.367Z"
   },
   {
    "duration": 65,
    "start_time": "2023-09-13T22:51:54.452Z"
   },
   {
    "duration": 65,
    "start_time": "2023-09-13T22:51:54.518Z"
   },
   {
    "duration": 14,
    "start_time": "2023-09-13T22:51:54.584Z"
   },
   {
    "duration": 102,
    "start_time": "2023-09-13T22:51:54.600Z"
   },
   {
    "duration": 20,
    "start_time": "2023-09-13T22:51:54.704Z"
   },
   {
    "duration": 85,
    "start_time": "2023-09-13T22:51:54.726Z"
   },
   {
    "duration": 10,
    "start_time": "2023-09-13T22:51:54.813Z"
   },
   {
    "duration": 50,
    "start_time": "2023-09-13T22:51:54.825Z"
   },
   {
    "duration": 28,
    "start_time": "2023-09-13T22:51:54.877Z"
   },
   {
    "duration": 24,
    "start_time": "2023-09-13T22:51:54.906Z"
   },
   {
    "duration": 27,
    "start_time": "2023-09-13T22:51:54.931Z"
   },
   {
    "duration": 37,
    "start_time": "2023-09-13T22:51:54.959Z"
   },
   {
    "duration": 34,
    "start_time": "2023-09-13T22:51:54.998Z"
   },
   {
    "duration": 10,
    "start_time": "2023-09-13T22:51:55.034Z"
   },
   {
    "duration": 27,
    "start_time": "2023-09-13T22:51:55.047Z"
   },
   {
    "duration": 40,
    "start_time": "2023-09-13T22:51:55.076Z"
   },
   {
    "duration": 7,
    "start_time": "2023-09-13T22:51:55.118Z"
   },
   {
    "duration": 38,
    "start_time": "2023-09-13T22:51:55.127Z"
   },
   {
    "duration": 18,
    "start_time": "2023-09-13T22:51:55.167Z"
   },
   {
    "duration": 26,
    "start_time": "2023-09-13T22:51:55.188Z"
   },
   {
    "duration": 42,
    "start_time": "2023-09-13T22:51:55.217Z"
   },
   {
    "duration": 17,
    "start_time": "2023-09-13T22:51:55.261Z"
   },
   {
    "duration": 7,
    "start_time": "2023-09-13T22:51:55.280Z"
   },
   {
    "duration": 21,
    "start_time": "2023-09-13T22:51:55.289Z"
   },
   {
    "duration": 5,
    "start_time": "2023-09-13T22:51:55.312Z"
   },
   {
    "duration": 10,
    "start_time": "2023-09-13T23:00:07.121Z"
   },
   {
    "duration": 6,
    "start_time": "2023-09-13T23:00:12.686Z"
   },
   {
    "duration": 409,
    "start_time": "2023-09-13T23:00:42.170Z"
   },
   {
    "duration": 189,
    "start_time": "2023-09-13T23:00:42.581Z"
   },
   {
    "duration": 18,
    "start_time": "2023-09-13T23:00:42.772Z"
   },
   {
    "duration": 47,
    "start_time": "2023-09-13T23:00:42.792Z"
   },
   {
    "duration": 123,
    "start_time": "2023-09-13T23:00:42.847Z"
   },
   {
    "duration": 29,
    "start_time": "2023-09-13T23:00:42.973Z"
   },
   {
    "duration": 46,
    "start_time": "2023-09-13T23:00:43.004Z"
   },
   {
    "duration": 35,
    "start_time": "2023-09-13T23:00:43.052Z"
   },
   {
    "duration": 53,
    "start_time": "2023-09-13T23:00:43.089Z"
   },
   {
    "duration": 30,
    "start_time": "2023-09-13T23:00:43.144Z"
   },
   {
    "duration": 34,
    "start_time": "2023-09-13T23:00:43.176Z"
   },
   {
    "duration": 93,
    "start_time": "2023-09-13T23:00:43.212Z"
   },
   {
    "duration": 86,
    "start_time": "2023-09-13T23:00:43.307Z"
   },
   {
    "duration": 72,
    "start_time": "2023-09-13T23:00:43.397Z"
   },
   {
    "duration": 52,
    "start_time": "2023-09-13T23:00:43.471Z"
   },
   {
    "duration": 27,
    "start_time": "2023-09-13T23:00:43.525Z"
   },
   {
    "duration": 69,
    "start_time": "2023-09-13T23:00:43.553Z"
   },
   {
    "duration": 13,
    "start_time": "2023-09-13T23:00:43.624Z"
   },
   {
    "duration": 20,
    "start_time": "2023-09-13T23:00:43.639Z"
   },
   {
    "duration": 8,
    "start_time": "2023-09-13T23:00:43.661Z"
   },
   {
    "duration": 27,
    "start_time": "2023-09-13T23:00:43.670Z"
   },
   {
    "duration": 35,
    "start_time": "2023-09-13T23:00:43.698Z"
   },
   {
    "duration": 46,
    "start_time": "2023-09-13T23:00:43.735Z"
   },
   {
    "duration": 30,
    "start_time": "2023-09-13T23:00:43.782Z"
   },
   {
    "duration": 29,
    "start_time": "2023-09-13T23:00:43.813Z"
   },
   {
    "duration": 23,
    "start_time": "2023-09-13T23:00:43.844Z"
   },
   {
    "duration": 22,
    "start_time": "2023-09-13T23:00:43.869Z"
   },
   {
    "duration": 14,
    "start_time": "2023-09-13T23:00:43.893Z"
   },
   {
    "duration": 22,
    "start_time": "2023-09-13T23:00:43.909Z"
   },
   {
    "duration": 10,
    "start_time": "2023-09-13T23:00:43.932Z"
   },
   {
    "duration": 40,
    "start_time": "2023-09-13T23:00:43.944Z"
   },
   {
    "duration": 13,
    "start_time": "2023-09-13T23:00:43.986Z"
   },
   {
    "duration": 41,
    "start_time": "2023-09-13T23:00:44.000Z"
   },
   {
    "duration": 13,
    "start_time": "2023-09-13T23:00:44.043Z"
   },
   {
    "duration": 37,
    "start_time": "2023-09-13T23:00:44.057Z"
   },
   {
    "duration": 8,
    "start_time": "2023-09-13T23:00:44.095Z"
   },
   {
    "duration": 16,
    "start_time": "2023-09-13T23:00:44.105Z"
   },
   {
    "duration": 9,
    "start_time": "2023-09-13T23:00:44.122Z"
   },
   {
    "duration": 8,
    "start_time": "2023-09-13T23:03:01.329Z"
   },
   {
    "duration": 430,
    "start_time": "2023-09-13T23:03:14.339Z"
   },
   {
    "duration": 195,
    "start_time": "2023-09-13T23:03:14.771Z"
   },
   {
    "duration": 18,
    "start_time": "2023-09-13T23:03:14.968Z"
   },
   {
    "duration": 58,
    "start_time": "2023-09-13T23:03:14.989Z"
   },
   {
    "duration": 47,
    "start_time": "2023-09-13T23:03:15.049Z"
   },
   {
    "duration": 20,
    "start_time": "2023-09-13T23:03:15.098Z"
   },
   {
    "duration": 14,
    "start_time": "2023-09-13T23:03:15.120Z"
   },
   {
    "duration": 7,
    "start_time": "2023-09-13T23:03:15.136Z"
   },
   {
    "duration": 34,
    "start_time": "2023-09-13T23:03:15.144Z"
   },
   {
    "duration": 24,
    "start_time": "2023-09-13T23:03:15.182Z"
   },
   {
    "duration": 44,
    "start_time": "2023-09-13T23:03:15.208Z"
   },
   {
    "duration": 94,
    "start_time": "2023-09-13T23:03:15.254Z"
   },
   {
    "duration": 77,
    "start_time": "2023-09-13T23:03:15.350Z"
   },
   {
    "duration": 76,
    "start_time": "2023-09-13T23:03:15.429Z"
   },
   {
    "duration": 56,
    "start_time": "2023-09-13T23:03:15.507Z"
   },
   {
    "duration": 12,
    "start_time": "2023-09-13T23:03:15.565Z"
   },
   {
    "duration": 51,
    "start_time": "2023-09-13T23:03:15.578Z"
   },
   {
    "duration": 26,
    "start_time": "2023-09-13T23:03:15.631Z"
   },
   {
    "duration": 13,
    "start_time": "2023-09-13T23:03:15.658Z"
   },
   {
    "duration": 4,
    "start_time": "2023-09-13T23:03:15.673Z"
   },
   {
    "duration": 22,
    "start_time": "2023-09-13T23:03:15.679Z"
   },
   {
    "duration": 44,
    "start_time": "2023-09-13T23:03:15.703Z"
   },
   {
    "duration": 17,
    "start_time": "2023-09-13T23:03:15.749Z"
   },
   {
    "duration": 27,
    "start_time": "2023-09-13T23:03:15.768Z"
   },
   {
    "duration": 19,
    "start_time": "2023-09-13T23:03:15.796Z"
   },
   {
    "duration": 32,
    "start_time": "2023-09-13T23:03:15.817Z"
   },
   {
    "duration": 10,
    "start_time": "2023-09-13T23:03:15.850Z"
   },
   {
    "duration": 24,
    "start_time": "2023-09-13T23:03:15.863Z"
   },
   {
    "duration": 27,
    "start_time": "2023-09-13T23:03:15.889Z"
   },
   {
    "duration": 7,
    "start_time": "2023-09-13T23:03:15.918Z"
   },
   {
    "duration": 33,
    "start_time": "2023-09-13T23:03:15.927Z"
   },
   {
    "duration": 19,
    "start_time": "2023-09-13T23:03:15.961Z"
   },
   {
    "duration": 31,
    "start_time": "2023-09-13T23:03:15.982Z"
   },
   {
    "duration": 21,
    "start_time": "2023-09-13T23:03:16.015Z"
   },
   {
    "duration": 10,
    "start_time": "2023-09-13T23:03:16.038Z"
   },
   {
    "duration": 8,
    "start_time": "2023-09-13T23:03:16.049Z"
   },
   {
    "duration": 9,
    "start_time": "2023-09-13T23:03:16.058Z"
   },
   {
    "duration": 20,
    "start_time": "2023-09-13T23:03:16.069Z"
   }
  ],
  "colab": {
   "collapsed_sections": [
    "E0vqbgi9ay0H",
    "VUC88oWjTJw2"
   ],
   "provenance": []
  },
  "kernelspec": {
   "display_name": "Python 3 (ipykernel)",
   "language": "python",
   "name": "python3"
  },
  "language_info": {
   "codemirror_mode": {
    "name": "ipython",
    "version": 3
   },
   "file_extension": ".py",
   "mimetype": "text/x-python",
   "name": "python",
   "nbconvert_exporter": "python",
   "pygments_lexer": "ipython3",
   "version": "3.9.5"
  },
  "toc": {
   "base_numbering": 1,
   "nav_menu": {
    "height": "215px",
    "width": "403px"
   },
   "number_sections": true,
   "sideBar": true,
   "skip_h1_title": true,
   "title_cell": "Table of Contents",
   "title_sidebar": "Contents",
   "toc_cell": false,
   "toc_position": {
    "height": "calc(100% - 180px)",
    "left": "10px",
    "top": "150px",
    "width": "285.825px"
   },
   "toc_section_display": true,
   "toc_window_display": false
  }
 },
 "nbformat": 4,
 "nbformat_minor": 1
}
