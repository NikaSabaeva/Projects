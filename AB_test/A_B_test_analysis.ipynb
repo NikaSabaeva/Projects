{
 "cells": [
  {
   "cell_type": "markdown",
   "metadata": {},
   "source": [
    "# Принятие решений в бизнесе"
   ]
  },
  {
   "cell_type": "markdown",
   "metadata": {},
   "source": [
    "**Заказчик:** интернет-магазин\n",
    "    \n",
    "**Цель исследования:**\n",
    "\n",
    "- Приоритизировать гипотезы по увеличению выручки магазина, подготовленные отделом маркетинга;\n",
    "- Запустить A/B-тест и проанализировать результаты.\n",
    "\n",
    "В результате проведенного исследования будет принято одно из решений:\n",
    "\n",
    "- Остановить тест, зафиксировать победу одной из групп;\n",
    "- Остановить тест, зафиксировать отсутствие различий между группами;\n",
    "- Продолжить тест.\n",
    "\n",
    "**Входные данные:**\n",
    "\n",
    "Список гипотез с параметрами /datasets/hypothesis.csv\n",
    "\n",
    "- Hypothesis — краткое описание гипотезы;\n",
    "- Reach — охват пользователей по 10-балльной шкале;\n",
    "- Impact — влияние на пользователей по 10-балльной шкале;\n",
    "- Confidence — уверенность в гипотезе по 10-балльной шкале;\n",
    "- Efforts — затраты ресурсов на проверку гипотезы по 10-балльной шкале. Чем больше значение Efforts, тем дороже проверка гипотезы.\n",
    "\n",
    "Данные о заказах /datasets/orders.csv\n",
    "\n",
    "- transactionId — идентификатор заказа;\n",
    "- visitorId — идентификатор пользователя, совершившего заказ;\n",
    "- date — дата, когда был совершён заказ;\n",
    "- revenue — выручка заказа;\n",
    "- group — группа A/B-теста, в которую попал заказ.\n",
    "\n",
    "Данные о пользователях сайта /datasets/visitors.csv\n",
    "\n",
    "- date — дата;\n",
    "- group — группа A/B-теста;\n",
    "- visitors — количество пользователей в указанную дату в указанной группе A/B-теста."
   ]
  },
  {
   "cell_type": "markdown",
   "metadata": {},
   "source": [
    "### Предобработка данных"
   ]
  },
  {
   "cell_type": "code",
   "execution_count": 1,
   "metadata": {},
   "outputs": [],
   "source": [
    "import pandas as pd\n",
    "import numpy as np\n",
    "import matplotlib.pyplot as plt\n",
    "import scipy.stats as stats"
   ]
  },
  {
   "cell_type": "code",
   "execution_count": 2,
   "metadata": {
    "scrolled": true
   },
   "outputs": [],
   "source": [
    "pd.set_option('display.max_colwidth', None)\n",
    "\n",
    "try:\n",
    "    hypothesis, orders, visitors = (\n",
    "        pd.read_csv('/datasets/hypothesis.csv'),\n",
    "        pd.read_csv('/datasets/orders.csv', parse_dates=['date']),\n",
    "        pd.read_csv('/datasets/visitors.csv', parse_dates=['date'])\n",
    ")\n",
    "except:\n",
    "    hypothesis, orders, visitors = (\n",
    "        pd.read_csv('hypothesis.csv'),\n",
    "        pd.read_csv('orders.csv', parse_dates=['date']),\n",
    "        pd.read_csv('visitors.csv', parse_dates=['date'])\n",
    ")"
   ]
  },
  {
   "cell_type": "code",
   "execution_count": 3,
   "metadata": {},
   "outputs": [],
   "source": [
    "def description(tables):\n",
    "    for table in tables:\n",
    "        table.info()\n",
    "        display(table.head())\n",
    "        display(table.columns)\n",
    "        print('\\033[1m' + 'Наличие дубликатов в таблице:' + '\\033[0m')\n",
    "        display(table.duplicated().sum())\n",
    "        print('\\033[1m' + 'Наличие пропусков в таблице:' + '\\033[0m')\n",
    "        display(table.isna().sum())\n",
    "        print()\n",
    "\n",
    "tables=[hypothesis, orders, visitors]"
   ]
  },
  {
   "cell_type": "code",
   "execution_count": 4,
   "metadata": {
    "scrolled": false
   },
   "outputs": [
    {
     "name": "stdout",
     "output_type": "stream",
     "text": [
      "<class 'pandas.core.frame.DataFrame'>\n",
      "RangeIndex: 9 entries, 0 to 8\n",
      "Data columns (total 5 columns):\n",
      " #   Column      Non-Null Count  Dtype \n",
      "---  ------      --------------  ----- \n",
      " 0   Hypothesis  9 non-null      object\n",
      " 1   Reach       9 non-null      int64 \n",
      " 2   Impact      9 non-null      int64 \n",
      " 3   Confidence  9 non-null      int64 \n",
      " 4   Efforts     9 non-null      int64 \n",
      "dtypes: int64(4), object(1)\n",
      "memory usage: 488.0+ bytes\n"
     ]
    },
    {
     "data": {
      "text/html": [
       "<div>\n",
       "<style scoped>\n",
       "    .dataframe tbody tr th:only-of-type {\n",
       "        vertical-align: middle;\n",
       "    }\n",
       "\n",
       "    .dataframe tbody tr th {\n",
       "        vertical-align: top;\n",
       "    }\n",
       "\n",
       "    .dataframe thead th {\n",
       "        text-align: right;\n",
       "    }\n",
       "</style>\n",
       "<table border=\"1\" class=\"dataframe\">\n",
       "  <thead>\n",
       "    <tr style=\"text-align: right;\">\n",
       "      <th></th>\n",
       "      <th>Hypothesis</th>\n",
       "      <th>Reach</th>\n",
       "      <th>Impact</th>\n",
       "      <th>Confidence</th>\n",
       "      <th>Efforts</th>\n",
       "    </tr>\n",
       "  </thead>\n",
       "  <tbody>\n",
       "    <tr>\n",
       "      <th>0</th>\n",
       "      <td>Добавить два новых канала привлечения трафика, что позволит привлекать на 30% больше пользователей</td>\n",
       "      <td>3</td>\n",
       "      <td>10</td>\n",
       "      <td>8</td>\n",
       "      <td>6</td>\n",
       "    </tr>\n",
       "    <tr>\n",
       "      <th>1</th>\n",
       "      <td>Запустить собственную службу доставки, что сократит срок доставки заказов</td>\n",
       "      <td>2</td>\n",
       "      <td>5</td>\n",
       "      <td>4</td>\n",
       "      <td>10</td>\n",
       "    </tr>\n",
       "    <tr>\n",
       "      <th>2</th>\n",
       "      <td>Добавить блоки рекомендаций товаров на сайт интернет магазина, чтобы повысить конверсию и средний чек заказа</td>\n",
       "      <td>8</td>\n",
       "      <td>3</td>\n",
       "      <td>7</td>\n",
       "      <td>3</td>\n",
       "    </tr>\n",
       "    <tr>\n",
       "      <th>3</th>\n",
       "      <td>Изменить структура категорий, что увеличит конверсию, т.к. пользователи быстрее найдут нужный товар</td>\n",
       "      <td>8</td>\n",
       "      <td>3</td>\n",
       "      <td>3</td>\n",
       "      <td>8</td>\n",
       "    </tr>\n",
       "    <tr>\n",
       "      <th>4</th>\n",
       "      <td>Изменить цвет фона главной страницы, чтобы увеличить вовлеченность пользователей</td>\n",
       "      <td>3</td>\n",
       "      <td>1</td>\n",
       "      <td>1</td>\n",
       "      <td>1</td>\n",
       "    </tr>\n",
       "  </tbody>\n",
       "</table>\n",
       "</div>"
      ],
      "text/plain": [
       "                                                                                                     Hypothesis  \\\n",
       "0            Добавить два новых канала привлечения трафика, что позволит привлекать на 30% больше пользователей   \n",
       "1                                     Запустить собственную службу доставки, что сократит срок доставки заказов   \n",
       "2  Добавить блоки рекомендаций товаров на сайт интернет магазина, чтобы повысить конверсию и средний чек заказа   \n",
       "3           Изменить структура категорий, что увеличит конверсию, т.к. пользователи быстрее найдут нужный товар   \n",
       "4                              Изменить цвет фона главной страницы, чтобы увеличить вовлеченность пользователей   \n",
       "\n",
       "   Reach  Impact  Confidence  Efforts  \n",
       "0      3      10           8        6  \n",
       "1      2       5           4       10  \n",
       "2      8       3           7        3  \n",
       "3      8       3           3        8  \n",
       "4      3       1           1        1  "
      ]
     },
     "metadata": {},
     "output_type": "display_data"
    },
    {
     "data": {
      "text/plain": [
       "Index(['Hypothesis', 'Reach', 'Impact', 'Confidence', 'Efforts'], dtype='object')"
      ]
     },
     "metadata": {},
     "output_type": "display_data"
    },
    {
     "name": "stdout",
     "output_type": "stream",
     "text": [
      "\u001b[1mНаличие дубликатов в таблице:\u001b[0m\n"
     ]
    },
    {
     "data": {
      "text/plain": [
       "0"
      ]
     },
     "metadata": {},
     "output_type": "display_data"
    },
    {
     "name": "stdout",
     "output_type": "stream",
     "text": [
      "\u001b[1mНаличие пропусков в таблице:\u001b[0m\n"
     ]
    },
    {
     "data": {
      "text/plain": [
       "Hypothesis    0\n",
       "Reach         0\n",
       "Impact        0\n",
       "Confidence    0\n",
       "Efforts       0\n",
       "dtype: int64"
      ]
     },
     "metadata": {},
     "output_type": "display_data"
    },
    {
     "name": "stdout",
     "output_type": "stream",
     "text": [
      "\n",
      "<class 'pandas.core.frame.DataFrame'>\n",
      "RangeIndex: 1197 entries, 0 to 1196\n",
      "Data columns (total 5 columns):\n",
      " #   Column         Non-Null Count  Dtype         \n",
      "---  ------         --------------  -----         \n",
      " 0   transactionId  1197 non-null   int64         \n",
      " 1   visitorId      1197 non-null   int64         \n",
      " 2   date           1197 non-null   datetime64[ns]\n",
      " 3   revenue        1197 non-null   int64         \n",
      " 4   group          1197 non-null   object        \n",
      "dtypes: datetime64[ns](1), int64(3), object(1)\n",
      "memory usage: 46.9+ KB\n"
     ]
    },
    {
     "data": {
      "text/html": [
       "<div>\n",
       "<style scoped>\n",
       "    .dataframe tbody tr th:only-of-type {\n",
       "        vertical-align: middle;\n",
       "    }\n",
       "\n",
       "    .dataframe tbody tr th {\n",
       "        vertical-align: top;\n",
       "    }\n",
       "\n",
       "    .dataframe thead th {\n",
       "        text-align: right;\n",
       "    }\n",
       "</style>\n",
       "<table border=\"1\" class=\"dataframe\">\n",
       "  <thead>\n",
       "    <tr style=\"text-align: right;\">\n",
       "      <th></th>\n",
       "      <th>transactionId</th>\n",
       "      <th>visitorId</th>\n",
       "      <th>date</th>\n",
       "      <th>revenue</th>\n",
       "      <th>group</th>\n",
       "    </tr>\n",
       "  </thead>\n",
       "  <tbody>\n",
       "    <tr>\n",
       "      <th>0</th>\n",
       "      <td>3667963787</td>\n",
       "      <td>3312258926</td>\n",
       "      <td>2019-08-15</td>\n",
       "      <td>1650</td>\n",
       "      <td>B</td>\n",
       "    </tr>\n",
       "    <tr>\n",
       "      <th>1</th>\n",
       "      <td>2804400009</td>\n",
       "      <td>3642806036</td>\n",
       "      <td>2019-08-15</td>\n",
       "      <td>730</td>\n",
       "      <td>B</td>\n",
       "    </tr>\n",
       "    <tr>\n",
       "      <th>2</th>\n",
       "      <td>2961555356</td>\n",
       "      <td>4069496402</td>\n",
       "      <td>2019-08-15</td>\n",
       "      <td>400</td>\n",
       "      <td>A</td>\n",
       "    </tr>\n",
       "    <tr>\n",
       "      <th>3</th>\n",
       "      <td>3797467345</td>\n",
       "      <td>1196621759</td>\n",
       "      <td>2019-08-15</td>\n",
       "      <td>9759</td>\n",
       "      <td>B</td>\n",
       "    </tr>\n",
       "    <tr>\n",
       "      <th>4</th>\n",
       "      <td>2282983706</td>\n",
       "      <td>2322279887</td>\n",
       "      <td>2019-08-15</td>\n",
       "      <td>2308</td>\n",
       "      <td>B</td>\n",
       "    </tr>\n",
       "  </tbody>\n",
       "</table>\n",
       "</div>"
      ],
      "text/plain": [
       "   transactionId   visitorId       date  revenue group\n",
       "0     3667963787  3312258926 2019-08-15     1650     B\n",
       "1     2804400009  3642806036 2019-08-15      730     B\n",
       "2     2961555356  4069496402 2019-08-15      400     A\n",
       "3     3797467345  1196621759 2019-08-15     9759     B\n",
       "4     2282983706  2322279887 2019-08-15     2308     B"
      ]
     },
     "metadata": {},
     "output_type": "display_data"
    },
    {
     "data": {
      "text/plain": [
       "Index(['transactionId', 'visitorId', 'date', 'revenue', 'group'], dtype='object')"
      ]
     },
     "metadata": {},
     "output_type": "display_data"
    },
    {
     "name": "stdout",
     "output_type": "stream",
     "text": [
      "\u001b[1mНаличие дубликатов в таблице:\u001b[0m\n"
     ]
    },
    {
     "data": {
      "text/plain": [
       "0"
      ]
     },
     "metadata": {},
     "output_type": "display_data"
    },
    {
     "name": "stdout",
     "output_type": "stream",
     "text": [
      "\u001b[1mНаличие пропусков в таблице:\u001b[0m\n"
     ]
    },
    {
     "data": {
      "text/plain": [
       "transactionId    0\n",
       "visitorId        0\n",
       "date             0\n",
       "revenue          0\n",
       "group            0\n",
       "dtype: int64"
      ]
     },
     "metadata": {},
     "output_type": "display_data"
    },
    {
     "name": "stdout",
     "output_type": "stream",
     "text": [
      "\n",
      "<class 'pandas.core.frame.DataFrame'>\n",
      "RangeIndex: 62 entries, 0 to 61\n",
      "Data columns (total 3 columns):\n",
      " #   Column    Non-Null Count  Dtype         \n",
      "---  ------    --------------  -----         \n",
      " 0   date      62 non-null     datetime64[ns]\n",
      " 1   group     62 non-null     object        \n",
      " 2   visitors  62 non-null     int64         \n",
      "dtypes: datetime64[ns](1), int64(1), object(1)\n",
      "memory usage: 1.6+ KB\n"
     ]
    },
    {
     "data": {
      "text/html": [
       "<div>\n",
       "<style scoped>\n",
       "    .dataframe tbody tr th:only-of-type {\n",
       "        vertical-align: middle;\n",
       "    }\n",
       "\n",
       "    .dataframe tbody tr th {\n",
       "        vertical-align: top;\n",
       "    }\n",
       "\n",
       "    .dataframe thead th {\n",
       "        text-align: right;\n",
       "    }\n",
       "</style>\n",
       "<table border=\"1\" class=\"dataframe\">\n",
       "  <thead>\n",
       "    <tr style=\"text-align: right;\">\n",
       "      <th></th>\n",
       "      <th>date</th>\n",
       "      <th>group</th>\n",
       "      <th>visitors</th>\n",
       "    </tr>\n",
       "  </thead>\n",
       "  <tbody>\n",
       "    <tr>\n",
       "      <th>0</th>\n",
       "      <td>2019-08-01</td>\n",
       "      <td>A</td>\n",
       "      <td>719</td>\n",
       "    </tr>\n",
       "    <tr>\n",
       "      <th>1</th>\n",
       "      <td>2019-08-02</td>\n",
       "      <td>A</td>\n",
       "      <td>619</td>\n",
       "    </tr>\n",
       "    <tr>\n",
       "      <th>2</th>\n",
       "      <td>2019-08-03</td>\n",
       "      <td>A</td>\n",
       "      <td>507</td>\n",
       "    </tr>\n",
       "    <tr>\n",
       "      <th>3</th>\n",
       "      <td>2019-08-04</td>\n",
       "      <td>A</td>\n",
       "      <td>717</td>\n",
       "    </tr>\n",
       "    <tr>\n",
       "      <th>4</th>\n",
       "      <td>2019-08-05</td>\n",
       "      <td>A</td>\n",
       "      <td>756</td>\n",
       "    </tr>\n",
       "  </tbody>\n",
       "</table>\n",
       "</div>"
      ],
      "text/plain": [
       "        date group  visitors\n",
       "0 2019-08-01     A       719\n",
       "1 2019-08-02     A       619\n",
       "2 2019-08-03     A       507\n",
       "3 2019-08-04     A       717\n",
       "4 2019-08-05     A       756"
      ]
     },
     "metadata": {},
     "output_type": "display_data"
    },
    {
     "data": {
      "text/plain": [
       "Index(['date', 'group', 'visitors'], dtype='object')"
      ]
     },
     "metadata": {},
     "output_type": "display_data"
    },
    {
     "name": "stdout",
     "output_type": "stream",
     "text": [
      "\u001b[1mНаличие дубликатов в таблице:\u001b[0m\n"
     ]
    },
    {
     "data": {
      "text/plain": [
       "0"
      ]
     },
     "metadata": {},
     "output_type": "display_data"
    },
    {
     "name": "stdout",
     "output_type": "stream",
     "text": [
      "\u001b[1mНаличие пропусков в таблице:\u001b[0m\n"
     ]
    },
    {
     "data": {
      "text/plain": [
       "date        0\n",
       "group       0\n",
       "visitors    0\n",
       "dtype: int64"
      ]
     },
     "metadata": {},
     "output_type": "display_data"
    },
    {
     "name": "stdout",
     "output_type": "stream",
     "text": [
      "\n"
     ]
    }
   ],
   "source": [
    "description(tables)"
   ]
  },
  {
   "cell_type": "code",
   "execution_count": 5,
   "metadata": {},
   "outputs": [],
   "source": [
    "#приведем заголовки к змеиному регистру и избимся от заглавных букв\n",
    "hypothesis.columns = hypothesis.columns.str.lower()"
   ]
  },
  {
   "cell_type": "markdown",
   "metadata": {},
   "source": [
    "**Вывод:**\n",
    "    \n",
    "- Даты приведены к типу datetime;\n",
    "- Заголовки столбцов датафрейма hypothesis приведены к единому стилю (избавились от заглавных букв);\n",
    "- Дубликаты данных отстутсвуют;\n",
    "- NULL значения отсутствуют.\n",
    "\n",
    "Можно приступать к анализу."
   ]
  },
  {
   "cell_type": "markdown",
   "metadata": {},
   "source": [
    "### Приоритизация гипотез"
   ]
  },
  {
   "cell_type": "markdown",
   "metadata": {},
   "source": [
    "Приоритезируем гипотезы методами ICE и RICE.\n",
    "\n",
    "Фреймворк ICE состоит из трех компонентов:\n",
    "- Impact — насколько сильно изменение повлияет на пользователей, их опыт и удовлетворение от продукта;\n",
    "- Confidence — насколько вы уверены, что это изменение повлияет на пользователей именно так; \n",
    "- Efforts — сколько стоит протестировать эту гипотезу.\n",
    "\n",
    "ICE рассчитывается по формуле:\n",
    "**Impact * Confidence / Efforts**\n",
    "\n",
    "\n",
    "Фреймворк RICE, в отличие от ICE, состоит из четырех компонентов. Помимо трех вышеперечисленных в формулу добавляется параметр Reach.\n",
    "- Reach — скольких пользователей затронет изменение, которое вы хотите внести.\n",
    "\n",
    "RICE рассчитывается по формуле:\n",
    "**Reach * Impact * Confidence / Efforts**"
   ]
  },
  {
   "cell_type": "code",
   "execution_count": 6,
   "metadata": {},
   "outputs": [],
   "source": [
    "hypothesis['ICE'] = round(hypothesis['impact']* hypothesis['confidence']/hypothesis['efforts'],2)"
   ]
  },
  {
   "cell_type": "code",
   "execution_count": 7,
   "metadata": {},
   "outputs": [],
   "source": [
    "hypothesis['RICE'] = round(hypothesis['reach']* hypothesis['impact']* hypothesis['confidence']/hypothesis['efforts'], 2)"
   ]
  },
  {
   "cell_type": "code",
   "execution_count": 8,
   "metadata": {
    "scrolled": true
   },
   "outputs": [
    {
     "data": {
      "text/html": [
       "<div>\n",
       "<style scoped>\n",
       "    .dataframe tbody tr th:only-of-type {\n",
       "        vertical-align: middle;\n",
       "    }\n",
       "\n",
       "    .dataframe tbody tr th {\n",
       "        vertical-align: top;\n",
       "    }\n",
       "\n",
       "    .dataframe thead th {\n",
       "        text-align: right;\n",
       "    }\n",
       "</style>\n",
       "<table border=\"1\" class=\"dataframe\">\n",
       "  <thead>\n",
       "    <tr style=\"text-align: right;\">\n",
       "      <th></th>\n",
       "      <th>hypothesis</th>\n",
       "      <th>reach</th>\n",
       "      <th>impact</th>\n",
       "      <th>confidence</th>\n",
       "      <th>efforts</th>\n",
       "      <th>ICE</th>\n",
       "      <th>RICE</th>\n",
       "    </tr>\n",
       "  </thead>\n",
       "  <tbody>\n",
       "    <tr>\n",
       "      <th>7</th>\n",
       "      <td>Добавить форму подписки на все основные страницы, чтобы собрать базу клиентов для email-рассылок</td>\n",
       "      <td>10</td>\n",
       "      <td>7</td>\n",
       "      <td>8</td>\n",
       "      <td>5</td>\n",
       "      <td>11.20</td>\n",
       "      <td>112.0</td>\n",
       "    </tr>\n",
       "    <tr>\n",
       "      <th>2</th>\n",
       "      <td>Добавить блоки рекомендаций товаров на сайт интернет магазина, чтобы повысить конверсию и средний чек заказа</td>\n",
       "      <td>8</td>\n",
       "      <td>3</td>\n",
       "      <td>7</td>\n",
       "      <td>3</td>\n",
       "      <td>7.00</td>\n",
       "      <td>56.0</td>\n",
       "    </tr>\n",
       "    <tr>\n",
       "      <th>0</th>\n",
       "      <td>Добавить два новых канала привлечения трафика, что позволит привлекать на 30% больше пользователей</td>\n",
       "      <td>3</td>\n",
       "      <td>10</td>\n",
       "      <td>8</td>\n",
       "      <td>6</td>\n",
       "      <td>13.33</td>\n",
       "      <td>40.0</td>\n",
       "    </tr>\n",
       "    <tr>\n",
       "      <th>6</th>\n",
       "      <td>Показать на главной странице баннеры с актуальными акциями и распродажами, чтобы увеличить конверсию</td>\n",
       "      <td>5</td>\n",
       "      <td>3</td>\n",
       "      <td>8</td>\n",
       "      <td>3</td>\n",
       "      <td>8.00</td>\n",
       "      <td>40.0</td>\n",
       "    </tr>\n",
       "    <tr>\n",
       "      <th>8</th>\n",
       "      <td>Запустить акцию, дающую скидку на товар в день рождения</td>\n",
       "      <td>1</td>\n",
       "      <td>9</td>\n",
       "      <td>9</td>\n",
       "      <td>5</td>\n",
       "      <td>16.20</td>\n",
       "      <td>16.2</td>\n",
       "    </tr>\n",
       "    <tr>\n",
       "      <th>3</th>\n",
       "      <td>Изменить структура категорий, что увеличит конверсию, т.к. пользователи быстрее найдут нужный товар</td>\n",
       "      <td>8</td>\n",
       "      <td>3</td>\n",
       "      <td>3</td>\n",
       "      <td>8</td>\n",
       "      <td>1.12</td>\n",
       "      <td>9.0</td>\n",
       "    </tr>\n",
       "    <tr>\n",
       "      <th>1</th>\n",
       "      <td>Запустить собственную службу доставки, что сократит срок доставки заказов</td>\n",
       "      <td>2</td>\n",
       "      <td>5</td>\n",
       "      <td>4</td>\n",
       "      <td>10</td>\n",
       "      <td>2.00</td>\n",
       "      <td>4.0</td>\n",
       "    </tr>\n",
       "    <tr>\n",
       "      <th>5</th>\n",
       "      <td>Добавить страницу отзывов клиентов о магазине, что позволит увеличить количество заказов</td>\n",
       "      <td>3</td>\n",
       "      <td>2</td>\n",
       "      <td>2</td>\n",
       "      <td>3</td>\n",
       "      <td>1.33</td>\n",
       "      <td>4.0</td>\n",
       "    </tr>\n",
       "    <tr>\n",
       "      <th>4</th>\n",
       "      <td>Изменить цвет фона главной страницы, чтобы увеличить вовлеченность пользователей</td>\n",
       "      <td>3</td>\n",
       "      <td>1</td>\n",
       "      <td>1</td>\n",
       "      <td>1</td>\n",
       "      <td>1.00</td>\n",
       "      <td>3.0</td>\n",
       "    </tr>\n",
       "  </tbody>\n",
       "</table>\n",
       "</div>"
      ],
      "text/plain": [
       "                                                                                                     hypothesis  \\\n",
       "7              Добавить форму подписки на все основные страницы, чтобы собрать базу клиентов для email-рассылок   \n",
       "2  Добавить блоки рекомендаций товаров на сайт интернет магазина, чтобы повысить конверсию и средний чек заказа   \n",
       "0            Добавить два новых канала привлечения трафика, что позволит привлекать на 30% больше пользователей   \n",
       "6          Показать на главной странице баннеры с актуальными акциями и распродажами, чтобы увеличить конверсию   \n",
       "8                                                       Запустить акцию, дающую скидку на товар в день рождения   \n",
       "3           Изменить структура категорий, что увеличит конверсию, т.к. пользователи быстрее найдут нужный товар   \n",
       "1                                     Запустить собственную службу доставки, что сократит срок доставки заказов   \n",
       "5                      Добавить страницу отзывов клиентов о магазине, что позволит увеличить количество заказов   \n",
       "4                              Изменить цвет фона главной страницы, чтобы увеличить вовлеченность пользователей   \n",
       "\n",
       "   reach  impact  confidence  efforts    ICE   RICE  \n",
       "7     10       7           8        5  11.20  112.0  \n",
       "2      8       3           7        3   7.00   56.0  \n",
       "0      3      10           8        6  13.33   40.0  \n",
       "6      5       3           8        3   8.00   40.0  \n",
       "8      1       9           9        5  16.20   16.2  \n",
       "3      8       3           3        8   1.12    9.0  \n",
       "1      2       5           4       10   2.00    4.0  \n",
       "5      3       2           2        3   1.33    4.0  \n",
       "4      3       1           1        1   1.00    3.0  "
      ]
     },
     "execution_count": 8,
     "metadata": {},
     "output_type": "execute_result"
    }
   ],
   "source": [
    "hypothesis.sort_values(by=['RICE', 'ICE'], ascending=False)"
   ]
  },
  {
   "cell_type": "markdown",
   "metadata": {},
   "source": [
    "**Вывод:**\n",
    "\n",
    "- Наиболее перспективные гипотезы по ICE: 8,0,7 (номера соответсвуют индексам датафрейма)\n",
    " - 8: Запустить акцию, дающую скидку на товар в день рождения;\n",
    " - 0: Добавить два новых канала привлечения трафика, что позволит привлекать на 30% больше пользователей;\n",
    " - 7: Добавить форму подписки на все основные страницы, чтобы собрать базу клиентов для email-рассылок.\n",
    "- Наиболее перспективные гипотезы по RICE: 7,2,0,6 (номера соответсвуют индексам датафрейма)\n",
    " - 7: Добавить форму подписки на все основные страницы, чтобы собрать базу клиентов для email-рассылок;\n",
    " - 2: Добавить блоки рекомендаций товаров на сайт интернет магазина, чтобы повысить конверсию и средний чек заказа;\n",
    " - 0: Добавить два новых канала привлечения трафика, что позволит привлекать на 30% больше пользователей;\n",
    " - 6: Показать на главной странице баннеры с актуальными акциями и распродажами, чтобы увеличить конверсию.\n",
    "\n",
    "Среди лидеров по ICE и RICE две гипотезы под индексами 0 и 7.\n",
    "\n",
    "Высокий приоритет по RICE у гипотез под индексами 2 и 6 присвоен из-за большого охвата пользователей у данных гипотез и высокого уровня уверенности в оценках. То, как много пользователей затронет гипотеза-очень значимый показатель, который необходимо учитываь при прнятии решений. Однако, уровень оценки силы влияния изменений на пользователей у данных гипотез относительно невысокий."
   ]
  },
  {
   "cell_type": "markdown",
   "metadata": {},
   "source": [
    "### Анализ A/B-теста"
   ]
  },
  {
   "cell_type": "markdown",
   "metadata": {},
   "source": [
    "Для проведения А/В теста пользователи были поделены на две группы. Проверим количество уникальных пользователей в каждой тестовой группе."
   ]
  },
  {
   "cell_type": "code",
   "execution_count": 9,
   "metadata": {
    "scrolled": true
   },
   "outputs": [
    {
     "data": {
      "text/html": [
       "<div>\n",
       "<style scoped>\n",
       "    .dataframe tbody tr th:only-of-type {\n",
       "        vertical-align: middle;\n",
       "    }\n",
       "\n",
       "    .dataframe tbody tr th {\n",
       "        vertical-align: top;\n",
       "    }\n",
       "\n",
       "    .dataframe thead th {\n",
       "        text-align: right;\n",
       "    }\n",
       "</style>\n",
       "<table border=\"1\" class=\"dataframe\">\n",
       "  <thead>\n",
       "    <tr style=\"text-align: right;\">\n",
       "      <th></th>\n",
       "      <th>group</th>\n",
       "      <th>number_of_participants</th>\n",
       "    </tr>\n",
       "  </thead>\n",
       "  <tbody>\n",
       "    <tr>\n",
       "      <th>0</th>\n",
       "      <td>A</td>\n",
       "      <td>503</td>\n",
       "    </tr>\n",
       "    <tr>\n",
       "      <th>1</th>\n",
       "      <td>B</td>\n",
       "      <td>586</td>\n",
       "    </tr>\n",
       "  </tbody>\n",
       "</table>\n",
       "</div>"
      ],
      "text/plain": [
       "  group  number_of_participants\n",
       "0     A                     503\n",
       "1     B                     586"
      ]
     },
     "execution_count": 9,
     "metadata": {},
     "output_type": "execute_result"
    }
   ],
   "source": [
    "groups = orders.groupby('group', as_index=False).agg({'visitorId':'nunique'})\n",
    "groups.columns=['group', 'number_of_participants']\n",
    "groups"
   ]
  },
  {
   "cell_type": "markdown",
   "metadata": {},
   "source": [
    "В группе А на 83 пользователя меньше, чем в группе В. Разница в 15% является существенной при проведнеии А/В теста. Если группа В покажет лучшие результаты, то это может поставить под сомнение достоверность проведенного теста. Возможно придется его повторить, разделив пользователей на более равномерные группы."
   ]
  },
  {
   "cell_type": "code",
   "execution_count": 10,
   "metadata": {},
   "outputs": [
    {
     "name": "stdout",
     "output_type": "stream",
     "text": [
      "А/B тест был проведен за период: 2019-08-01 - 2019-08-31\n",
      "продолжительность теста: 30 дней\n"
     ]
    }
   ],
   "source": [
    "print(f'А/B тест был проведен за период: {orders[\"date\"].min().date()} - {orders[\"date\"].max().date()}\\nпродолжительность теста: {(orders[\"date\"].max().date()-orders[\"date\"].min().date()).days} дней')"
   ]
  },
  {
   "cell_type": "markdown",
   "metadata": {},
   "source": [
    "Проверим нет ли в тестовых группах А/B одинаковых пользователей."
   ]
  },
  {
   "cell_type": "code",
   "execution_count": 11,
   "metadata": {
    "scrolled": true
   },
   "outputs": [
    {
     "data": {
      "text/plain": [
       "58"
      ]
     },
     "execution_count": 11,
     "metadata": {},
     "output_type": "execute_result"
    }
   ],
   "source": [
    "group_A=orders[orders['group']=='A'][['group','visitorId']].drop_duplicates()\n",
    "group_B=orders[orders['group']=='B'][['group','visitorId']].drop_duplicates()\n",
    "all_users = pd.concat([group_A['visitorId'], group_B['visitorId']])\n",
    "all_users.duplicated().sum()"
   ]
  },
  {
   "cell_type": "markdown",
   "metadata": {},
   "source": [
    "В тестовых группах есть 58 пользователей, которые входят одновременно в группу А и в группу В. По этим пользователям невозможно оценить влияние нововведения на их покупательскую активность, поэтому целесообразно было бы исключить данных пользователей из групп до проведения А/В теста.\n",
    "\n",
    "На этапе анализа результатов А/В теста неправильным было бы исключать этих пользователей из датафрейма orders, т.к. у нас нет возможности удалить статистику по ним из таблицы visitors (в данной таблице нет идентификатора пользователя). Если мы исключим на этапе анализа 58 пользователей из одной таблицы, но не исключим из другой, то это еще больше исказит данные. Поэтому будем проводить дальнейший анализ с учетом этих пользователей."
   ]
  },
  {
   "cell_type": "code",
   "execution_count": 12,
   "metadata": {},
   "outputs": [
    {
     "data": {
      "text/html": [
       "<div>\n",
       "<style scoped>\n",
       "    .dataframe tbody tr th:only-of-type {\n",
       "        vertical-align: middle;\n",
       "    }\n",
       "\n",
       "    .dataframe tbody tr th {\n",
       "        vertical-align: top;\n",
       "    }\n",
       "\n",
       "    .dataframe thead th {\n",
       "        text-align: right;\n",
       "    }\n",
       "</style>\n",
       "<table border=\"1\" class=\"dataframe\">\n",
       "  <thead>\n",
       "    <tr style=\"text-align: right;\">\n",
       "      <th></th>\n",
       "      <th>date</th>\n",
       "      <th>group</th>\n",
       "      <th>orders</th>\n",
       "      <th>buyers</th>\n",
       "      <th>revenue</th>\n",
       "      <th>visitors</th>\n",
       "    </tr>\n",
       "  </thead>\n",
       "  <tbody>\n",
       "    <tr>\n",
       "      <th>0</th>\n",
       "      <td>2019-08-01</td>\n",
       "      <td>A</td>\n",
       "      <td>24</td>\n",
       "      <td>20</td>\n",
       "      <td>148579</td>\n",
       "      <td>719</td>\n",
       "    </tr>\n",
       "    <tr>\n",
       "      <th>1</th>\n",
       "      <td>2019-08-01</td>\n",
       "      <td>B</td>\n",
       "      <td>21</td>\n",
       "      <td>20</td>\n",
       "      <td>101217</td>\n",
       "      <td>713</td>\n",
       "    </tr>\n",
       "    <tr>\n",
       "      <th>2</th>\n",
       "      <td>2019-08-02</td>\n",
       "      <td>A</td>\n",
       "      <td>44</td>\n",
       "      <td>38</td>\n",
       "      <td>242401</td>\n",
       "      <td>1338</td>\n",
       "    </tr>\n",
       "    <tr>\n",
       "      <th>3</th>\n",
       "      <td>2019-08-02</td>\n",
       "      <td>B</td>\n",
       "      <td>45</td>\n",
       "      <td>43</td>\n",
       "      <td>266748</td>\n",
       "      <td>1294</td>\n",
       "    </tr>\n",
       "    <tr>\n",
       "      <th>4</th>\n",
       "      <td>2019-08-03</td>\n",
       "      <td>A</td>\n",
       "      <td>68</td>\n",
       "      <td>62</td>\n",
       "      <td>354874</td>\n",
       "      <td>1845</td>\n",
       "    </tr>\n",
       "  </tbody>\n",
       "</table>\n",
       "</div>"
      ],
      "text/plain": [
       "        date group  orders  buyers  revenue  visitors\n",
       "0 2019-08-01     A      24      20   148579       719\n",
       "1 2019-08-01     B      21      20   101217       713\n",
       "2 2019-08-02     A      44      38   242401      1338\n",
       "3 2019-08-02     B      45      43   266748      1294\n",
       "4 2019-08-03     A      68      62   354874      1845"
      ]
     },
     "execution_count": 12,
     "metadata": {},
     "output_type": "execute_result"
    }
   ],
   "source": [
    "# создаем массив уникальных пар значений дат и групп теста\n",
    "datesGroups = orders[['date','group']].drop_duplicates()\n",
    "\n",
    "#Соберём агрегированные кумулятивные по дням данные о заказах\n",
    "ordersAggregated = datesGroups.apply(lambda x: orders[np.logical_and(orders['date'] <= x['date'], orders['group'] == x['group'])]\\\n",
    ".agg({'date' : 'max', 'group' : 'max', 'transactionId' : 'nunique', 'visitorId' : 'nunique', 'revenue' : 'sum'}), axis=1).sort_values(by=['date','group'])\n",
    "\n",
    "#Получим агрегированные кумулятивные по дням данные о посетителях интернет-магазина: \n",
    "visitorsAggregated = datesGroups.apply(lambda x: visitors[np.logical_and(visitors['date'] <= x['date'], visitors['group'] == x['group'])].agg({'date' : 'max', 'group' : 'max', 'visitors' : 'sum'}), axis=1).sort_values(by=['date','group'])\n",
    "\n",
    "#Объединим две таблицы в одну\n",
    "cumulativeData = ordersAggregated.merge(visitorsAggregated, on=['date', 'group'])\n",
    "cumulativeData.columns = ['date', 'group', 'orders', 'buyers', 'revenue', 'visitors']\n",
    "cumulativeData.head(5)"
   ]
  },
  {
   "cell_type": "code",
   "execution_count": 13,
   "metadata": {},
   "outputs": [
    {
     "data": {
      "image/png": "[encoded data removed]",
      "text/plain": [
       "<Figure size 576x360 with 1 Axes>"
      ]
     },
     "metadata": {
      "needs_background": "light"
     },
     "output_type": "display_data"
    }
   ],
   "source": [
    "# датафрейм с кумулятивным количеством заказов и кумулятивной выручкой по дням в группе А\n",
    "cumulativeRevenueA = cumulativeData[cumulativeData['group']=='A'][['date','revenue', 'orders']]\n",
    "\n",
    "# датафрейм с кумулятивным количеством заказов и кумулятивной выручкой по дням в группе B\n",
    "cumulativeRevenueB = cumulativeData[cumulativeData['group']=='B'][['date','revenue', 'orders']]\n",
    "\n",
    "plt.figure(figsize=(8, 5))\n",
    "# Строим график выручки группы А\n",
    "plt.plot(cumulativeRevenueA['date'], cumulativeRevenueA['revenue'], label='A')\n",
    "# Строим график выручки группы B\n",
    "plt.plot(cumulativeRevenueB['date'], cumulativeRevenueB['revenue'], label='B')\n",
    "plt.legend()\n",
    "plt.xticks(rotation=90)\n",
    "plt.xlabel('дата')\n",
    "plt.ylabel('кумулятивная выручка')\n",
    "plt.title('Кумулятивная выручка по группам')\n",
    "plt.show()"
   ]
  },
  {
   "cell_type": "markdown",
   "metadata": {},
   "source": [
    "Вырчка увеличивается в течении всего теста в двух группах. Выручка группы B выше, чем группы A,  практически на протяжении всего периода (начиная с 05.08.2019). Однако, выручка группы В растет менее равномерно, наблюдается довольно резкий рост выручки в период между 18 и 20 августа. Это может свидетельствоватьо выбросах(появлении дорогих заказов, либо увеличении числа заказов)."
   ]
  },
  {
   "cell_type": "code",
   "execution_count": 14,
   "metadata": {},
   "outputs": [
    {
     "data": {
      "image/png": "[encoded data removed]",
      "text/plain": [
       "<Figure size 576x360 with 1 Axes>"
      ]
     },
     "metadata": {
      "needs_background": "light"
     },
     "output_type": "display_data"
    }
   ],
   "source": [
    "#Построим график кумулятивного среднего чека по группам\n",
    "plt.figure(figsize=(8, 5))\n",
    "plt.plot(cumulativeRevenueA['date'], cumulativeRevenueA['revenue']/cumulativeRevenueA['orders'], label='A')\n",
    "plt.plot(cumulativeRevenueB['date'], cumulativeRevenueB['revenue']/cumulativeRevenueB['orders'], label='B')\n",
    "plt.legend()\n",
    "plt.xticks(rotation=90)\n",
    "plt.xlabel('дата')\n",
    "plt.ylabel('кумулятивный средний чек')\n",
    "plt.title('Кумулятивный средний чек по группам')\n",
    "plt.show()"
   ]
  },
  {
   "cell_type": "markdown",
   "metadata": {},
   "source": [
    "В начале периода наблюдается падение среднего чека в группе А. Однако, cредний чек для группы А становится более равномерным к концу периода. В группе В виден резкий скачек, отмеченный на предыдущем графике. Группе В нужно больше данных, чтобы прийти к реальному среднему чеку и установиться на его уровне. Либо необходимо избавиться от выбросов."
   ]
  },
  {
   "cell_type": "code",
   "execution_count": 15,
   "metadata": {},
   "outputs": [
    {
     "data": {
      "image/png": "[encoded data removed]",
      "text/plain": [
       "<Figure size 576x360 with 1 Axes>"
      ]
     },
     "metadata": {
      "needs_background": "light"
     },
     "output_type": "display_data"
    }
   ],
   "source": [
    "#Построим график относительного изменения кумулятивного среднего чека двух групп\n",
    "mergedCumulativeRevenue = cumulativeRevenueA.merge(cumulativeRevenueB, on='date', how='left', suffixes=['A', 'B'])\n",
    "plt.figure(figsize=(8, 5))\n",
    "plt.plot(mergedCumulativeRevenue['date'], (mergedCumulativeRevenue['revenueB']/mergedCumulativeRevenue['ordersB'])/(mergedCumulativeRevenue['revenueA']/mergedCumulativeRevenue['ordersA'])-1)\n",
    "plt.axhline(y=0, color='black', linestyle='--')\n",
    "plt.xticks(rotation=90)\n",
    "plt.xlabel('дата')\n",
    "plt.ylabel('кумулятивный средний чек двух групп')\n",
    "plt.title('Относительное изменение кумулятивного среднего чека двух групп')\n",
    "plt.show()"
   ]
  },
  {
   "cell_type": "markdown",
   "metadata": {},
   "source": [
    "На графике наблюдаются резкие скачки, что явно свидетельствует о начилии выбросов. В начале и середине периода группа В проигрывала группе А, но на протяжении большей части времени обгоняла группу А по среднему чеку."
   ]
  },
  {
   "cell_type": "code",
   "execution_count": 16,
   "metadata": {
    "scrolled": false
   },
   "outputs": [
    {
     "data": {
      "image/png": "[encoded data removed]",
      "text/plain": [
       "<Figure size 576x360 with 1 Axes>"
      ]
     },
     "metadata": {
      "needs_background": "light"
     },
     "output_type": "display_data"
    }
   ],
   "source": [
    "# считаем среднее количество заказов на посетителя\n",
    "cumulativeData['conversion'] = cumulativeData['orders']/cumulativeData['visitors']\n",
    "\n",
    "# отделяем данные по группе A\n",
    "cumulativeDataA = cumulativeData[cumulativeData['group']=='A']\n",
    "\n",
    "# отделяем данные по группе B\n",
    "cumulativeDataB = cumulativeData[cumulativeData['group']=='B']\n",
    "\n",
    "# строим графики\n",
    "plt.figure(figsize=(8, 5)) \n",
    "plt.plot(cumulativeDataA['date'], cumulativeDataA['conversion'], label='A')\n",
    "plt.plot(cumulativeDataB['date'], cumulativeDataB['conversion'], label='B')\n",
    "plt.legend()\n",
    "plt.xticks(rotation=90)\n",
    "plt.xlabel('дата')\n",
    "plt.ylabel('кумулятивное среднее количество заказов')\n",
    "plt.title('Кумулятивное среднее количество заказов на посетителя по группам')\n",
    "plt.ylim(0, 0.04)\n",
    "plt.show()"
   ]
  },
  {
   "cell_type": "markdown",
   "metadata": {},
   "source": [
    "Кумулятивное среднее количество заказов группы В стабильно выше, чем группы А. Не смотря на колебания графиков в начале и середине периода, к концу периода группы стаблизиовались."
   ]
  },
  {
   "cell_type": "code",
   "execution_count": 17,
   "metadata": {},
   "outputs": [
    {
     "data": {
      "image/png": "[encoded data removed]",
      "text/plain": [
       "<Figure size 576x360 with 1 Axes>"
      ]
     },
     "metadata": {
      "needs_background": "light"
     },
     "output_type": "display_data"
    }
   ],
   "source": [
    "#Построим график изменения кумулятивного среднего количества заказов на посетителя группы B к группе A\n",
    "mergedCumulativeConversions = cumulativeDataA[['date','conversion']].merge(cumulativeDataB[['date','conversion']], on='date', how='left', suffixes=['A', 'B'])\n",
    "\n",
    "plt.figure(figsize=(8, 5))\n",
    "plt.plot(mergedCumulativeConversions['date'], mergedCumulativeConversions['conversionB']/mergedCumulativeConversions['conversionA']-1)\n",
    "plt.xticks(rotation=90)\n",
    "plt.xlabel('дата')\n",
    "plt.ylabel('кумулятивное среднее количество заказов')\n",
    "plt.title('Относительный прирост кумулятивного среднего количества заказов на посетителя группы B относительно группы A')\n",
    "plt.axhline(y=0, color='black', linestyle='--')\n",
    "plt.show()"
   ]
  },
  {
   "cell_type": "markdown",
   "metadata": {},
   "source": [
    "На пртяжении большей части периода (кроме начала) группа В лидировала по количеству заказов на посетителя.\n",
    "В целом отношение среднего количества заказов на посетителя ещё не установилось (наблюдаются сильные колебания), и сейчас делать какие-либо выводы по тесту нельзя."
   ]
  },
  {
   "cell_type": "code",
   "execution_count": 18,
   "metadata": {},
   "outputs": [
    {
     "name": "stdout",
     "output_type": "stream",
     "text": [
      "           users  number_of_orders\n",
      "1023  4256040402                11\n",
      "591   2458001652                11\n",
      "569   2378935119                 9\n",
      "487   2038680547                 8\n",
      "44     199603092                 5\n"
     ]
    }
   ],
   "source": [
    "#построим точечный график количества заказов по пользователям\n",
    "ordersByUsers = orders.groupby('visitorId', as_index=False).agg({'transactionId':'nunique'})\n",
    "ordersByUsers.columns=['users', 'number_of_orders']\n",
    "print(ordersByUsers.sort_values(by='number_of_orders', ascending=False).head())"
   ]
  },
  {
   "cell_type": "code",
   "execution_count": 19,
   "metadata": {},
   "outputs": [
    {
     "data": {
      "image/png": "[encoded data removed]",
      "text/plain": [
       "<Figure size 576x360 with 1 Axes>"
      ]
     },
     "metadata": {
      "needs_background": "light"
     },
     "output_type": "display_data"
    }
   ],
   "source": [
    "x_values = pd.Series(range(0,len(ordersByUsers)))\n",
    "plt.figure(figsize=(8, 5))\n",
    "plt.scatter(x_values, ordersByUsers['number_of_orders'])\n",
    "plt.title('Распределение количества заказов по пользователям')\n",
    "plt.xlabel('пользователи')\n",
    "plt.ylabel('количество заказов')\n",
    "plt.show()"
   ]
  },
  {
   "cell_type": "markdown",
   "metadata": {},
   "source": [
    "Большинство покупателей сделали один заказ. Однако доля пользователей с 2-3 заказами тоже значительна. Их точная доля не ясна — непонятно, считать их аномалиями или нет. "
   ]
  },
  {
   "cell_type": "code",
   "execution_count": 20,
   "metadata": {},
   "outputs": [
    {
     "data": {
      "text/plain": [
       "array([2., 4.])"
      ]
     },
     "execution_count": 20,
     "metadata": {},
     "output_type": "execute_result"
    }
   ],
   "source": [
    "#посчитаем выборочные перцентили количества заказов на одного пользователя\n",
    "np.percentile(ordersByUsers['number_of_orders'],[95,99])"
   ]
  },
  {
   "cell_type": "markdown",
   "metadata": {},
   "source": [
    "Не более 5% пользователей сделали больше 2 заказов и только 1% - больше 4 заказов. Возьмем 4 заказа за верхнюю границу числа заказов и отсеим аномальных пользователей по ней."
   ]
  },
  {
   "cell_type": "code",
   "execution_count": 21,
   "metadata": {},
   "outputs": [
    {
     "data": {
      "image/png": "[encoded data removed]",
      "text/plain": [
       "<Figure size 1152x360 with 2 Axes>"
      ]
     },
     "metadata": {
      "needs_background": "light"
     },
     "output_type": "display_data"
    }
   ],
   "source": [
    "#построим точечный график стоимостей заказов\n",
    "\n",
    "x_values = (range(0, len(orders['revenue'])))\n",
    "\n",
    "plt.figure(figsize=(16, 5))\n",
    "plt.subplot(1, 2, 1)\n",
    "plt.scatter(x_values, orders['revenue'])\n",
    "plt.title('Распределение стоимостей заказов')\n",
    "plt.xlabel('заказы')\n",
    "plt.ylabel('сумма заказа')\n",
    "\n",
    "plt.subplot(1, 2, 2)\n",
    "plt.scatter(x_values, orders['revenue'])\n",
    "plt.title('Распределение стоимостей заказов (с ограничением до 100 тыс.)')\n",
    "plt.xlabel('заказы')\n",
    "plt.ylabel('сумма заказа')\n",
    "plt.ylim(0, 100000)\n",
    "plt.show()"
   ]
  },
  {
   "cell_type": "markdown",
   "metadata": {},
   "source": [
    "На графике видно два аномально больших заказа: один - больше миллиона, второй-в районе 200 тыс. Основная доля заказов сосредоточена до 10 тыс рублей."
   ]
  },
  {
   "cell_type": "code",
   "execution_count": 22,
   "metadata": {
    "scrolled": true
   },
   "outputs": [
    {
     "data": {
      "text/plain": [
       "array([28000. , 58233.2])"
      ]
     },
     "execution_count": 22,
     "metadata": {},
     "output_type": "execute_result"
    }
   ],
   "source": [
    "np.percentile(orders['revenue'], [95,99])"
   ]
  },
  {
   "cell_type": "markdown",
   "metadata": {},
   "source": [
    "Не более 5% заказов дороже 28000 рублей и не более 1% дороже 58233 рублей. Примем заказы стоиомостью выше 58233 за аномальные."
   ]
  },
  {
   "cell_type": "markdown",
   "metadata": {},
   "source": [
    "Посчитаем статистическую значимость различий в среднем числе заказов на пользователя и среднем чеке между группами по «сырым» данным — без удаления аномальных пользователей.\n",
    "Cформулируем гипотезы.\n",
    "\n",
    "**Нулевая:** различий в среднем количестве заказов между группами нет.\n",
    "\n",
    "**Альтернативная:** различия в среднем между группами есть."
   ]
  },
  {
   "cell_type": "code",
   "execution_count": 23,
   "metadata": {},
   "outputs": [],
   "source": [
    "ordersByUsersA = orders[orders['group']=='A'].groupby('visitorId', as_index=False).agg({'transactionId':pd.Series.nunique})\n",
    "ordersByUsersA.columns = ['userId', 'orders']\n",
    "\n",
    "ordersByUsersB = orders[orders['group']=='B'].groupby('visitorId', as_index=False).agg({'transactionId':pd.Series.nunique})\n",
    "ordersByUsersB.columns = ['userId', 'orders']\n",
    "\n",
    "# объявим переменные\n",
    "sampleA = pd.concat([ordersByUsersA['orders'],pd.Series(0, index=np.arange(visitors[visitors['group']=='A']['visitors'].sum() - len(ordersByUsersA['orders'])), name='orders')],axis=0)\n",
    "\n",
    "sampleB = pd.concat([ordersByUsersB['orders'],pd.Series(0, index=np.arange(visitors[visitors['group']=='B']['visitors'].sum() - len(ordersByUsersB['orders'])), name='orders')],axis=0)"
   ]
  },
  {
   "cell_type": "code",
   "execution_count": 24,
   "metadata": {},
   "outputs": [
    {
     "name": "stdout",
     "output_type": "stream",
     "text": [
      "p-value: 0.02\n",
      "относительный прирост В к А: 0.14\n"
     ]
    }
   ],
   "source": [
    "print(\"p-value: \"\"{:.2f}\".format(stats.mannwhitneyu(sampleA, sampleB)[1]))\n",
    "\n",
    "print(\"относительный прирост В к А: \"\"{:.2f}\".format(sampleB.mean() / sampleA.mean() - 1))"
   ]
  },
  {
   "cell_type": "markdown",
   "metadata": {},
   "source": [
    "Первое число — p-value = 0.02 меньше, чем 0.05. Значит, нулевую гипотезу о том, что статистически значимых различий в среднем числе заказов между группами нет, можем отвергнуть. Данный вывод также подтвержается тем, что относительный выигрыш группы B равен 14%."
   ]
  },
  {
   "cell_type": "markdown",
   "metadata": {},
   "source": [
    "Теперь проверим статистическую значимость различий в среднем чеке между сегментами.\n",
    "\n",
    "**Нулевая гипотеза:** различий в среднем чеке между группами нет.\n",
    "    \n",
    "**Альтернативная гипотеза:** различия в среднем чеке между группами есть. "
   ]
  },
  {
   "cell_type": "code",
   "execution_count": 25,
   "metadata": {},
   "outputs": [
    {
     "name": "stdout",
     "output_type": "stream",
     "text": [
      "p-value: 0.729\n",
      "относительный прирост В к А: 0.259\n"
     ]
    }
   ],
   "source": [
    "print(\"p-value: \"'{:.3f}'.format(stats.mannwhitneyu(orders[orders['group']=='A']['revenue'], orders[orders['group']=='B']['revenue'])[1]))\n",
    "print(\"относительный прирост В к А: \"'{:.3f}'.format(orders[orders['group']=='B']['revenue'].mean()/orders[orders['group']=='A']['revenue'].mean()-1))"
   ]
  },
  {
   "cell_type": "markdown",
   "metadata": {},
   "source": [
    "P-value значительно больше 0.05. Значит, причин отвергать нулевую гипотезу и считать, что в среднем чеке есть различия, нет. Однако, судя по второму занчению 25,9%, средний чек группы В значительно выше среднего чека группы А. Скорее всего дело в аномально высоких чеках группы В."
   ]
  },
  {
   "cell_type": "markdown",
   "metadata": {},
   "source": [
    "Повторим тесты на очищенных данных. Примем за аномальных пользователей тех, кто совершил от 5 заказов или совершил заказ дороже 58 233 рублей. Так мы уберём 1% пользователей с наибольшим числом заказов и 1% пользователей с дорогими заказами."
   ]
  },
  {
   "cell_type": "code",
   "execution_count": 26,
   "metadata": {
    "scrolled": true
   },
   "outputs": [
    {
     "name": "stdout",
     "output_type": "stream",
     "text": [
      "Число аномальных пользователей по количеству заказов: 10\n",
      "Число аномальных пользователей по сумме заказа: 12\n",
      "Общее число аномальных пользователей: 21\n",
      "Доля аномальных пользователей: 2.04%\n"
     ]
    }
   ],
   "source": [
    "usersWithManyOrders = ordersByUsers[ordersByUsers['number_of_orders']>np.percentile(ordersByUsers['number_of_orders'],99)]['users']\n",
    "usersWithExpensiveOrders = orders[orders['revenue']>np.percentile(orders['revenue'], 99)]['visitorId']\n",
    "abnormalUsers=pd.concat([usersWithManyOrders, usersWithExpensiveOrders], axis=0).drop_duplicates().sort_values()\n",
    "print(f'Число аномальных пользователей по количеству заказов: {usersWithManyOrders.shape[0]}')\n",
    "print(f'Число аномальных пользователей по сумме заказа: {usersWithExpensiveOrders.shape[0]}')\n",
    "print(f'Общее число аномальных пользователей: {abnormalUsers.shape[0]}')\n",
    "print(f'Доля аномальных пользователей: {abnormalUsers.shape[0]/orders[\"visitorId\"].nunique():.2%}')"
   ]
  },
  {
   "cell_type": "markdown",
   "metadata": {},
   "source": [
    "<div class=\"alert alert-info\">\n",
    "<h2> Комментарий студента <a class=\"tocSkip\"> </h2>\n",
    "\n",
    "*Отличное замечание, не подумала об этом. Исправила код.*\n",
    "</div>"
   ]
  },
  {
   "cell_type": "code",
   "execution_count": 27,
   "metadata": {},
   "outputs": [],
   "source": [
    "sampleAFiltered = pd.concat(\n",
    "    [\n",
    "        ordersByUsersA[\n",
    "            np.logical_not(ordersByUsersA['userId'].isin(abnormalUsers))\n",
    "        ]['orders'],\n",
    "        pd.Series(\n",
    "            0,\n",
    "            index=np.arange(\n",
    "                visitors[visitors['group']=='A']['visitors'].sum() - len(ordersByUsersA['orders'])\n",
    "            ),\n",
    "            name='orders',\n",
    "        ),\n",
    "    ],\n",
    "    axis=0,\n",
    ")\n",
    "\n",
    "sampleBFiltered = pd.concat(\n",
    "    [\n",
    "        ordersByUsersB[\n",
    "            np.logical_not(ordersByUsersB['userId'].isin(abnormalUsers))\n",
    "        ]['orders'],\n",
    "        pd.Series(\n",
    "            0,\n",
    "            index=np.arange(\n",
    "                visitors[visitors['group']=='B']['visitors'].sum() - len(ordersByUsersB['orders'])\n",
    "            ),\n",
    "            name='orders',\n",
    "        ),\n",
    "    ],\n",
    "    axis=0,\n",
    ")"
   ]
  },
  {
   "cell_type": "code",
   "execution_count": 28,
   "metadata": {
    "scrolled": true
   },
   "outputs": [
    {
     "name": "stdout",
     "output_type": "stream",
     "text": [
      "p-value: 0.01\n",
      "относительный прирост В к А: 0.15\n"
     ]
    }
   ],
   "source": [
    "print(\"p-value: \"'{:.2f}'.format(stats.mannwhitneyu(sampleAFiltered, sampleBFiltered)[1]))\n",
    "print(\"относительный прирост В к А: \"'{0:.2f}'.format(sampleBFiltered.mean()/sampleAFiltered.mean()-1))"
   ]
  },
  {
   "cell_type": "markdown",
   "metadata": {},
   "source": [
    "p-value, как и в случае с сырыми данными, меньше, чем 0.05. Значит, нулевую гипотезу о том, что статистически значимых различий в среднем числе заказов между группами нет, можем отвергнуть. Относительный выигрыш группы B равен 15%."
   ]
  },
  {
   "cell_type": "code",
   "execution_count": 29,
   "metadata": {},
   "outputs": [
    {
     "name": "stdout",
     "output_type": "stream",
     "text": [
      "p-value: 0.958\n",
      "относительный прирост В к А: -0.014\n"
     ]
    }
   ],
   "source": [
    "print(\n",
    "    \"p-value: \"'{0:.3f}'.format(\n",
    "        stats.mannwhitneyu(\n",
    "            orders[\n",
    "                np.logical_and(\n",
    "                    orders['group'] == 'A',\n",
    "                    np.logical_not(orders['visitorId'].isin(abnormalUsers)),\n",
    "                )\n",
    "            ]['revenue'],\n",
    "            orders[\n",
    "                np.logical_and(\n",
    "                    orders['group'] == 'B',\n",
    "                    np.logical_not(orders['visitorId'].isin(abnormalUsers)),\n",
    "                )\n",
    "            ]['revenue'],\n",
    "        )[1]\n",
    "    )\n",
    ")\n",
    "\n",
    "print(\n",
    "    \"относительный прирост В к А: \"\"{0:.3f}\".format(\n",
    "        orders[\n",
    "            np.logical_and(\n",
    "                orders['group'] == 'B',\n",
    "                np.logical_not(orders['visitorId'].isin(abnormalUsers)),\n",
    "            )\n",
    "        ]['revenue'].mean()\n",
    "        / orders[\n",
    "            np.logical_and(\n",
    "                orders['group'] == 'A',\n",
    "                np.logical_not(orders['visitorId'].isin(abnormalUsers)),\n",
    "            )\n",
    "        ]['revenue'].mean()\n",
    "        - 1\n",
    "    )\n",
    ") "
   ]
  },
  {
   "cell_type": "markdown",
   "metadata": {},
   "source": [
    "Как и в случае с срыми данными, P-value значительно больше 0.05. Значит, причин отвергать нулевую гипотезу и считать, что в среднем чеке есть различия, нет. Относительный проигрыш В к А незначителен 1,4%. В тесте с сырыми данными относительный прирост В к А был очень высоким. Значит дело было в аномально высоком чеке."
   ]
  },
  {
   "cell_type": "markdown",
   "metadata": {},
   "source": [
    "**Вывод:**\n",
    "\n",
    "- Есть статистически значимое различие по среднему количеству заказов между группами, как по «сырым», так и по данным после фильтрации аномалий;\n",
    "- Нет статистически значимого различия по среднему чеку между группами ни по «сырым», ни по данным после фильтрации аномалий;\n",
    "- График различия среднего количества заказов между группами сообщает, что результаты группы B значительно лучше группы A."
   ]
  },
  {
   "cell_type": "markdown",
   "metadata": {},
   "source": [
    "###  Общие выводы и рекомендации"
   ]
  },
  {
   "cell_type": "markdown",
   "metadata": {},
   "source": [
    "Для проведенеия анализа были предоставлены следующие данные:\n",
    "- Список гипотез с оценочными параметрами Reach, Impact, Confidence, Efforts;\n",
    "- Данные о заказах;\n",
    "- Данные о пользователях сайта.\n",
    "\n",
    "**Задача:**\n",
    "\n",
    "Принять одно из решений после проведения А/В теста:\n",
    "- Остановить тест, зафиксировать победу одной из групп;\n",
    "- Остановить тест, зафиксировать отсутствие различий между группами;\n",
    "- Продолжить тест.\n",
    "\n",
    "На этапе предобработки все даты были приведены к типу datetime.\n",
    "\n",
    "**Выводы:**\n",
    "\n",
    "- Есть статистически значимое различие по среднему количеству заказов между группами, как по «сырым», так и по данным после фильтрации аномалий;\n",
    "- Нет статистически значимого различия по среднему чеку между группами ни по «сырым», ни по данным после фильтрации аномалий;\n",
    "- График различия среднего количества заказов между группами сообщает, что результаты группы B значительно лучше группы A.\n",
    "\n",
    "**Рекомендации**:\n",
    "\n",
    "В результате проведенных тестов было обнаружено статистически значимое различие по среднему количеству заказов между группами. Относительный выигрыш гуппы В к группе А составил 15% по сырым данным и 14% по очищенным данным. Рекомендуем остановить тест и зафиксировать победу группы В."
   ]
  }
 ],
 "metadata": {
  "ExecuteTimeLog": [
   {
    "duration": 0,
    "start_time": "2023-12-29T08:57:49.006Z"
   },
   {
    "duration": 3,
    "start_time": "2023-12-29T09:06:10.206Z"
   },
   {
    "duration": 347,
    "start_time": "2023-12-29T09:06:32.739Z"
   },
   {
    "duration": 128,
    "start_time": "2023-12-29T09:07:59.803Z"
   },
   {
    "duration": 54,
    "start_time": "2023-12-29T09:09:28.305Z"
   },
   {
    "duration": 63,
    "start_time": "2023-12-29T09:14:27.210Z"
   },
   {
    "duration": 43,
    "start_time": "2023-12-29T09:14:29.349Z"
   },
   {
    "duration": 112,
    "start_time": "2023-12-29T09:14:45.602Z"
   },
   {
    "duration": 52,
    "start_time": "2023-12-29T09:14:47.364Z"
   },
   {
    "duration": 61,
    "start_time": "2023-12-29T09:18:49.095Z"
   },
   {
    "duration": 7,
    "start_time": "2023-12-29T09:19:28.523Z"
   },
   {
    "duration": 20,
    "start_time": "2023-12-29T09:19:48.907Z"
   },
   {
    "duration": 12,
    "start_time": "2023-12-29T09:19:59.360Z"
   },
   {
    "duration": 10,
    "start_time": "2023-12-29T09:23:58.289Z"
   },
   {
    "duration": 13,
    "start_time": "2023-12-29T09:24:14.240Z"
   },
   {
    "duration": 11,
    "start_time": "2023-12-29T09:24:21.716Z"
   },
   {
    "duration": 8,
    "start_time": "2023-12-29T09:24:41.704Z"
   },
   {
    "duration": 6,
    "start_time": "2023-12-29T09:24:49.167Z"
   },
   {
    "duration": 13,
    "start_time": "2023-12-29T09:34:34.459Z"
   },
   {
    "duration": 9,
    "start_time": "2023-12-29T09:35:34.589Z"
   },
   {
    "duration": 9,
    "start_time": "2023-12-29T09:35:47.517Z"
   },
   {
    "duration": 8,
    "start_time": "2023-12-29T09:35:53.513Z"
   },
   {
    "duration": 12,
    "start_time": "2023-12-29T09:35:56.884Z"
   },
   {
    "duration": 11,
    "start_time": "2023-12-29T09:36:04.976Z"
   },
   {
    "duration": 12,
    "start_time": "2023-12-29T09:36:19.764Z"
   },
   {
    "duration": 16,
    "start_time": "2023-12-29T09:37:38.105Z"
   },
   {
    "duration": 13,
    "start_time": "2023-12-29T09:37:54.531Z"
   },
   {
    "duration": 12,
    "start_time": "2023-12-29T09:40:51.061Z"
   },
   {
    "duration": 13,
    "start_time": "2023-12-29T09:42:09.867Z"
   },
   {
    "duration": 15,
    "start_time": "2023-12-29T09:55:27.910Z"
   },
   {
    "duration": 48,
    "start_time": "2023-12-29T10:43:02.536Z"
   },
   {
    "duration": 51,
    "start_time": "2023-12-29T10:43:10.561Z"
   },
   {
    "duration": 12,
    "start_time": "2023-12-29T10:43:57.079Z"
   },
   {
    "duration": 13,
    "start_time": "2023-12-29T10:44:25.640Z"
   },
   {
    "duration": 15,
    "start_time": "2023-12-29T10:44:36.023Z"
   },
   {
    "duration": 14,
    "start_time": "2023-12-29T10:44:56.064Z"
   },
   {
    "duration": 354,
    "start_time": "2023-12-29T10:48:19.813Z"
   },
   {
    "duration": 7,
    "start_time": "2023-12-29T10:52:45.061Z"
   },
   {
    "duration": 12,
    "start_time": "2023-12-29T10:52:54.211Z"
   },
   {
    "duration": 30,
    "start_time": "2023-12-29T11:12:00.231Z"
   },
   {
    "duration": 3,
    "start_time": "2023-12-29T11:12:28.633Z"
   },
   {
    "duration": 20,
    "start_time": "2023-12-29T11:12:32.379Z"
   },
   {
    "duration": 157,
    "start_time": "2023-12-29T11:13:29.804Z"
   },
   {
    "duration": 253,
    "start_time": "2023-12-29T11:15:37.777Z"
   },
   {
    "duration": 52,
    "start_time": "2023-12-29T11:20:05.057Z"
   },
   {
    "duration": 251,
    "start_time": "2023-12-29T11:20:19.193Z"
   },
   {
    "duration": 246,
    "start_time": "2023-12-29T11:21:14.522Z"
   },
   {
    "duration": 244,
    "start_time": "2023-12-29T11:22:44.761Z"
   },
   {
    "duration": 252,
    "start_time": "2023-12-29T11:22:55.237Z"
   },
   {
    "duration": 248,
    "start_time": "2023-12-29T11:23:50.879Z"
   },
   {
    "duration": 45,
    "start_time": "2023-12-29T11:30:50.545Z"
   },
   {
    "duration": 10,
    "start_time": "2023-12-29T11:30:58.159Z"
   },
   {
    "duration": 48,
    "start_time": "2023-12-29T11:31:26.721Z"
   },
   {
    "duration": 10,
    "start_time": "2023-12-29T11:32:19.219Z"
   },
   {
    "duration": 5,
    "start_time": "2023-12-29T11:33:20.954Z"
   },
   {
    "duration": 4,
    "start_time": "2023-12-29T11:38:13.790Z"
   },
   {
    "duration": 263,
    "start_time": "2023-12-29T11:38:26.049Z"
   },
   {
    "duration": 172,
    "start_time": "2023-12-29T11:38:53.365Z"
   },
   {
    "duration": 151,
    "start_time": "2023-12-29T11:39:09.856Z"
   },
   {
    "duration": 81,
    "start_time": "2023-12-29T11:40:12.656Z"
   },
   {
    "duration": 159,
    "start_time": "2023-12-29T11:40:21.932Z"
   },
   {
    "duration": 154,
    "start_time": "2023-12-29T11:40:32.977Z"
   },
   {
    "duration": 176,
    "start_time": "2023-12-29T11:40:37.777Z"
   },
   {
    "duration": 159,
    "start_time": "2023-12-29T11:41:02.040Z"
   },
   {
    "duration": 153,
    "start_time": "2023-12-29T11:41:07.370Z"
   },
   {
    "duration": 155,
    "start_time": "2023-12-29T11:41:13.283Z"
   },
   {
    "duration": 159,
    "start_time": "2023-12-29T11:41:34.183Z"
   },
   {
    "duration": 159,
    "start_time": "2023-12-29T11:42:00.718Z"
   },
   {
    "duration": 152,
    "start_time": "2023-12-29T11:42:09.876Z"
   },
   {
    "duration": 157,
    "start_time": "2023-12-29T11:44:38.161Z"
   },
   {
    "duration": 154,
    "start_time": "2023-12-29T11:45:17.107Z"
   },
   {
    "duration": 220,
    "start_time": "2023-12-29T11:46:11.053Z"
   },
   {
    "duration": 188,
    "start_time": "2023-12-29T11:47:06.302Z"
   },
   {
    "duration": 194,
    "start_time": "2023-12-29T11:47:19.593Z"
   },
   {
    "duration": 3,
    "start_time": "2023-12-29T11:47:31.776Z"
   },
   {
    "duration": 193,
    "start_time": "2023-12-29T11:47:35.320Z"
   },
   {
    "duration": 555,
    "start_time": "2023-12-29T11:48:19.126Z"
   },
   {
    "duration": 77,
    "start_time": "2023-12-29T11:48:19.684Z"
   },
   {
    "duration": 46,
    "start_time": "2023-12-29T11:48:19.762Z"
   },
   {
    "duration": 5,
    "start_time": "2023-12-29T11:48:19.809Z"
   },
   {
    "duration": 15,
    "start_time": "2023-12-29T11:48:19.816Z"
   },
   {
    "duration": 285,
    "start_time": "2023-12-29T11:48:19.832Z"
   },
   {
    "duration": 287,
    "start_time": "2023-12-29T11:48:20.118Z"
   },
   {
    "duration": 200,
    "start_time": "2023-12-29T11:48:39.344Z"
   },
   {
    "duration": 57,
    "start_time": "2023-12-29T11:48:51.481Z"
   },
   {
    "duration": 38,
    "start_time": "2023-12-29T11:48:59.286Z"
   },
   {
    "duration": 160,
    "start_time": "2023-12-29T11:49:07.911Z"
   },
   {
    "duration": 272,
    "start_time": "2023-12-29T11:52:16.503Z"
   },
   {
    "duration": 167,
    "start_time": "2023-12-29T11:52:24.034Z"
   },
   {
    "duration": 191,
    "start_time": "2023-12-29T11:52:35.271Z"
   },
   {
    "duration": 193,
    "start_time": "2023-12-29T11:55:30.279Z"
   },
   {
    "duration": 170,
    "start_time": "2023-12-29T11:55:47.881Z"
   },
   {
    "duration": 80,
    "start_time": "2023-12-29T12:07:52.620Z"
   },
   {
    "duration": 236,
    "start_time": "2023-12-29T12:09:19.047Z"
   },
   {
    "duration": 164,
    "start_time": "2023-12-29T12:09:59.868Z"
   },
   {
    "duration": 13,
    "start_time": "2023-12-29T12:18:26.926Z"
   },
   {
    "duration": 137,
    "start_time": "2023-12-29T12:23:59.777Z"
   },
   {
    "duration": 266,
    "start_time": "2023-12-29T12:25:59.623Z"
   },
   {
    "duration": 165,
    "start_time": "2023-12-29T12:26:13.771Z"
   },
   {
    "duration": 167,
    "start_time": "2023-12-29T12:26:26.945Z"
   },
   {
    "duration": 391,
    "start_time": "2023-12-29T12:26:39.316Z"
   },
   {
    "duration": 198,
    "start_time": "2023-12-29T12:37:31.373Z"
   },
   {
    "duration": 56,
    "start_time": "2023-12-29T12:38:57.205Z"
   },
   {
    "duration": 65,
    "start_time": "2023-12-29T12:39:09.336Z"
   },
   {
    "duration": 283,
    "start_time": "2023-12-29T12:39:15.218Z"
   },
   {
    "duration": 307,
    "start_time": "2023-12-29T12:39:38.950Z"
   },
   {
    "duration": 203,
    "start_time": "2023-12-29T12:40:05.743Z"
   },
   {
    "duration": 212,
    "start_time": "2023-12-29T12:41:39.605Z"
   },
   {
    "duration": 59,
    "start_time": "2023-12-29T12:42:01.614Z"
   },
   {
    "duration": 47,
    "start_time": "2023-12-29T12:42:25.349Z"
   },
   {
    "duration": 198,
    "start_time": "2023-12-29T12:43:10.765Z"
   },
   {
    "duration": 268,
    "start_time": "2023-12-29T12:43:17.610Z"
   },
   {
    "duration": 205,
    "start_time": "2023-12-29T12:44:13.597Z"
   },
   {
    "duration": 163,
    "start_time": "2023-12-29T12:44:17.257Z"
   },
   {
    "duration": 179,
    "start_time": "2023-12-29T12:44:58.221Z"
   },
   {
    "duration": 267,
    "start_time": "2023-12-29T12:53:29.777Z"
   },
   {
    "duration": 265,
    "start_time": "2023-12-29T12:53:46.442Z"
   },
   {
    "duration": 313,
    "start_time": "2023-12-29T12:54:05.492Z"
   },
   {
    "duration": 288,
    "start_time": "2023-12-29T12:54:32.061Z"
   },
   {
    "duration": 306,
    "start_time": "2023-12-29T12:54:49.893Z"
   },
   {
    "duration": 305,
    "start_time": "2023-12-29T12:55:12.474Z"
   },
   {
    "duration": 341,
    "start_time": "2023-12-29T12:55:22.257Z"
   },
   {
    "duration": 311,
    "start_time": "2023-12-29T12:55:32.270Z"
   },
   {
    "duration": 756,
    "start_time": "2023-12-31T08:37:14.600Z"
   },
   {
    "duration": 206,
    "start_time": "2023-12-31T08:37:15.358Z"
   },
   {
    "duration": 49,
    "start_time": "2023-12-31T08:37:15.565Z"
   },
   {
    "duration": 6,
    "start_time": "2023-12-31T08:37:15.616Z"
   },
   {
    "duration": 52,
    "start_time": "2023-12-31T08:37:15.624Z"
   },
   {
    "duration": 310,
    "start_time": "2023-12-31T08:37:15.678Z"
   },
   {
    "duration": 270,
    "start_time": "2023-12-31T08:37:15.990Z"
   },
   {
    "duration": 180,
    "start_time": "2023-12-31T08:37:16.265Z"
   },
   {
    "duration": 362,
    "start_time": "2023-12-31T08:37:16.446Z"
   },
   {
    "duration": 265,
    "start_time": "2023-12-31T08:37:16.810Z"
   },
   {
    "duration": 301,
    "start_time": "2023-12-31T08:37:17.076Z"
   },
   {
    "duration": 69,
    "start_time": "2023-12-31T08:57:14.762Z"
   },
   {
    "duration": 7,
    "start_time": "2023-12-31T08:57:21.832Z"
   },
   {
    "duration": 14,
    "start_time": "2023-12-31T08:58:02.241Z"
   },
   {
    "duration": 9,
    "start_time": "2023-12-31T08:58:18.574Z"
   },
   {
    "duration": 11,
    "start_time": "2023-12-31T08:59:26.734Z"
   },
   {
    "duration": 20,
    "start_time": "2023-12-31T08:59:35.876Z"
   },
   {
    "duration": 15,
    "start_time": "2023-12-31T08:59:45.285Z"
   },
   {
    "duration": 8,
    "start_time": "2023-12-31T08:59:57.947Z"
   },
   {
    "duration": 8,
    "start_time": "2023-12-31T09:00:16.759Z"
   },
   {
    "duration": 8,
    "start_time": "2023-12-31T09:00:50.583Z"
   },
   {
    "duration": 107,
    "start_time": "2023-12-31T09:01:10.165Z"
   },
   {
    "duration": 9,
    "start_time": "2023-12-31T09:01:46.897Z"
   },
   {
    "duration": 8,
    "start_time": "2023-12-31T09:01:54.634Z"
   },
   {
    "duration": 197,
    "start_time": "2023-12-31T09:04:04.695Z"
   },
   {
    "duration": 229,
    "start_time": "2023-12-31T09:04:45.723Z"
   },
   {
    "duration": 118,
    "start_time": "2023-12-31T09:05:00.302Z"
   },
   {
    "duration": 8,
    "start_time": "2023-12-31T09:14:34.780Z"
   },
   {
    "duration": 8,
    "start_time": "2023-12-31T09:14:45.032Z"
   },
   {
    "duration": 4,
    "start_time": "2023-12-31T09:15:06.367Z"
   },
   {
    "duration": 144,
    "start_time": "2023-12-31T10:05:26.572Z"
   },
   {
    "duration": 75,
    "start_time": "2023-12-31T10:09:49.721Z"
   },
   {
    "duration": 74,
    "start_time": "2023-12-31T10:09:58.058Z"
   },
   {
    "duration": 8,
    "start_time": "2023-12-31T10:10:13.902Z"
   },
   {
    "duration": 5,
    "start_time": "2023-12-31T10:10:22.163Z"
   },
   {
    "duration": 93,
    "start_time": "2023-12-31T10:12:46.059Z"
   },
   {
    "duration": 11,
    "start_time": "2023-12-31T10:13:35.033Z"
   },
   {
    "duration": 6,
    "start_time": "2023-12-31T10:14:25.528Z"
   },
   {
    "duration": 10,
    "start_time": "2023-12-31T10:15:34.941Z"
   },
   {
    "duration": 7,
    "start_time": "2023-12-31T10:16:00.076Z"
   },
   {
    "duration": 10,
    "start_time": "2023-12-31T10:16:01.883Z"
   },
   {
    "duration": 7,
    "start_time": "2023-12-31T10:18:17.332Z"
   },
   {
    "duration": 11,
    "start_time": "2023-12-31T10:18:18.703Z"
   },
   {
    "duration": 7,
    "start_time": "2023-12-31T10:18:55.392Z"
   },
   {
    "duration": 7,
    "start_time": "2023-12-31T10:19:17.323Z"
   },
   {
    "duration": 6,
    "start_time": "2023-12-31T10:19:29.763Z"
   },
   {
    "duration": 137,
    "start_time": "2023-12-31T10:25:28.769Z"
   },
   {
    "duration": 140,
    "start_time": "2023-12-31T10:25:43.147Z"
   },
   {
    "duration": 137,
    "start_time": "2023-12-31T10:25:49.546Z"
   },
   {
    "duration": 147,
    "start_time": "2023-12-31T10:26:40.365Z"
   },
   {
    "duration": 239,
    "start_time": "2023-12-31T10:27:23.033Z"
   },
   {
    "duration": 137,
    "start_time": "2023-12-31T10:27:44.258Z"
   },
   {
    "duration": 150,
    "start_time": "2023-12-31T10:28:00.209Z"
   },
   {
    "duration": 113,
    "start_time": "2023-12-31T10:28:25.032Z"
   },
   {
    "duration": 114,
    "start_time": "2023-12-31T10:28:43.565Z"
   },
   {
    "duration": 7,
    "start_time": "2023-12-31T10:28:53.559Z"
   },
   {
    "duration": 137,
    "start_time": "2023-12-31T10:29:05.850Z"
   },
   {
    "duration": 153,
    "start_time": "2023-12-31T10:29:26.841Z"
   },
   {
    "duration": 166,
    "start_time": "2023-12-31T10:30:36.074Z"
   },
   {
    "duration": 168,
    "start_time": "2023-12-31T10:30:47.724Z"
   },
   {
    "duration": 168,
    "start_time": "2023-12-31T10:30:56.358Z"
   },
   {
    "duration": 147,
    "start_time": "2023-12-31T10:31:06.746Z"
   },
   {
    "duration": 373,
    "start_time": "2023-12-31T10:32:14.621Z"
   },
   {
    "duration": 303,
    "start_time": "2023-12-31T10:32:53.679Z"
   },
   {
    "duration": 320,
    "start_time": "2023-12-31T10:33:32.912Z"
   },
   {
    "duration": 286,
    "start_time": "2023-12-31T10:34:16.798Z"
   },
   {
    "duration": 276,
    "start_time": "2023-12-31T10:34:38.476Z"
   },
   {
    "duration": 289,
    "start_time": "2023-12-31T10:34:54.939Z"
   },
   {
    "duration": 237,
    "start_time": "2023-12-31T10:39:58.255Z"
   },
   {
    "duration": 205,
    "start_time": "2023-12-31T10:40:09.998Z"
   },
   {
    "duration": 281,
    "start_time": "2023-12-31T10:40:15.972Z"
   },
   {
    "duration": 290,
    "start_time": "2023-12-31T10:40:27.762Z"
   },
   {
    "duration": 142,
    "start_time": "2023-12-31T10:43:38.253Z"
   },
   {
    "duration": 211,
    "start_time": "2023-12-31T10:44:03.521Z"
   },
   {
    "duration": 147,
    "start_time": "2023-12-31T10:46:19.980Z"
   },
   {
    "duration": 194,
    "start_time": "2023-12-31T10:46:36.536Z"
   },
   {
    "duration": 272,
    "start_time": "2023-12-31T10:47:18.857Z"
   },
   {
    "duration": 116,
    "start_time": "2023-12-31T10:51:05.760Z"
   },
   {
    "duration": 625,
    "start_time": "2023-12-31T10:53:51.651Z"
   },
   {
    "duration": 77,
    "start_time": "2023-12-31T10:53:52.278Z"
   },
   {
    "duration": 51,
    "start_time": "2023-12-31T10:53:52.356Z"
   },
   {
    "duration": 6,
    "start_time": "2023-12-31T10:53:52.409Z"
   },
   {
    "duration": 19,
    "start_time": "2023-12-31T10:53:52.416Z"
   },
   {
    "duration": 296,
    "start_time": "2023-12-31T10:53:52.437Z"
   },
   {
    "duration": 267,
    "start_time": "2023-12-31T10:53:52.734Z"
   },
   {
    "duration": 218,
    "start_time": "2023-12-31T10:53:53.002Z"
   },
   {
    "duration": 323,
    "start_time": "2023-12-31T10:53:53.221Z"
   },
   {
    "duration": 238,
    "start_time": "2023-12-31T10:53:53.546Z"
   },
   {
    "duration": 283,
    "start_time": "2023-12-31T10:53:53.786Z"
   },
   {
    "duration": 7,
    "start_time": "2023-12-31T10:53:54.071Z"
   },
   {
    "duration": 127,
    "start_time": "2023-12-31T10:53:54.080Z"
   },
   {
    "duration": 4,
    "start_time": "2023-12-31T10:53:54.209Z"
   },
   {
    "duration": 226,
    "start_time": "2023-12-31T10:53:54.214Z"
   },
   {
    "duration": 254,
    "start_time": "2023-12-31T10:53:56.281Z"
   },
   {
    "duration": 618,
    "start_time": "2023-12-31T10:54:04.873Z"
   },
   {
    "duration": 77,
    "start_time": "2023-12-31T10:54:05.493Z"
   },
   {
    "duration": 49,
    "start_time": "2023-12-31T10:54:05.572Z"
   },
   {
    "duration": 5,
    "start_time": "2023-12-31T10:54:05.623Z"
   },
   {
    "duration": 45,
    "start_time": "2023-12-31T10:54:05.630Z"
   },
   {
    "duration": 304,
    "start_time": "2023-12-31T10:54:05.676Z"
   },
   {
    "duration": 287,
    "start_time": "2023-12-31T10:54:05.981Z"
   },
   {
    "duration": 200,
    "start_time": "2023-12-31T10:54:06.269Z"
   },
   {
    "duration": 316,
    "start_time": "2023-12-31T10:54:06.471Z"
   },
   {
    "duration": 254,
    "start_time": "2023-12-31T10:54:06.790Z"
   },
   {
    "duration": 321,
    "start_time": "2023-12-31T10:54:07.046Z"
   },
   {
    "duration": 10,
    "start_time": "2023-12-31T10:54:07.369Z"
   },
   {
    "duration": 134,
    "start_time": "2023-12-31T10:54:07.381Z"
   },
   {
    "duration": 4,
    "start_time": "2023-12-31T10:54:07.517Z"
   },
   {
    "duration": 279,
    "start_time": "2023-12-31T10:54:07.523Z"
   },
   {
    "duration": 803,
    "start_time": "2024-01-01T08:39:53.593Z"
   },
   {
    "duration": 202,
    "start_time": "2024-01-01T08:39:54.398Z"
   },
   {
    "duration": 54,
    "start_time": "2024-01-01T08:39:54.601Z"
   },
   {
    "duration": 6,
    "start_time": "2024-01-01T08:39:54.657Z"
   },
   {
    "duration": 18,
    "start_time": "2024-01-01T08:39:54.665Z"
   },
   {
    "duration": 288,
    "start_time": "2024-01-01T08:39:54.715Z"
   },
   {
    "duration": 280,
    "start_time": "2024-01-01T08:39:55.005Z"
   },
   {
    "duration": 200,
    "start_time": "2024-01-01T08:39:55.287Z"
   },
   {
    "duration": 382,
    "start_time": "2024-01-01T08:39:55.489Z"
   },
   {
    "duration": 263,
    "start_time": "2024-01-01T08:39:55.873Z"
   },
   {
    "duration": 311,
    "start_time": "2024-01-01T08:39:56.137Z"
   },
   {
    "duration": 11,
    "start_time": "2024-01-01T08:39:56.449Z"
   },
   {
    "duration": 145,
    "start_time": "2024-01-01T08:39:56.462Z"
   },
   {
    "duration": 4,
    "start_time": "2024-01-01T08:39:56.608Z"
   },
   {
    "duration": 305,
    "start_time": "2024-01-01T08:39:56.615Z"
   },
   {
    "duration": 208,
    "start_time": "2024-01-01T08:40:42.272Z"
   },
   {
    "duration": 4,
    "start_time": "2024-01-01T08:42:34.295Z"
   },
   {
    "duration": 198,
    "start_time": "2024-01-01T08:43:09.445Z"
   },
   {
    "duration": 277,
    "start_time": "2024-01-01T08:43:22.263Z"
   },
   {
    "duration": 200,
    "start_time": "2024-01-01T08:43:54.230Z"
   },
   {
    "duration": 284,
    "start_time": "2024-01-01T08:44:04.536Z"
   },
   {
    "duration": 264,
    "start_time": "2024-01-01T08:45:33.893Z"
   },
   {
    "duration": 208,
    "start_time": "2024-01-01T08:45:44.433Z"
   },
   {
    "duration": 157,
    "start_time": "2024-01-01T08:46:03.502Z"
   },
   {
    "duration": 112,
    "start_time": "2024-01-01T08:46:17.255Z"
   },
   {
    "duration": 105,
    "start_time": "2024-01-01T08:46:43.623Z"
   },
   {
    "duration": 207,
    "start_time": "2024-01-01T08:48:06.573Z"
   },
   {
    "duration": 266,
    "start_time": "2024-01-01T08:48:29.627Z"
   },
   {
    "duration": 242,
    "start_time": "2024-01-01T08:48:38.249Z"
   },
   {
    "duration": 653,
    "start_time": "2024-01-01T08:49:07.488Z"
   },
   {
    "duration": 78,
    "start_time": "2024-01-01T08:49:08.143Z"
   },
   {
    "duration": 50,
    "start_time": "2024-01-01T08:49:08.222Z"
   },
   {
    "duration": 6,
    "start_time": "2024-01-01T08:49:08.274Z"
   },
   {
    "duration": 44,
    "start_time": "2024-01-01T08:49:08.282Z"
   },
   {
    "duration": 269,
    "start_time": "2024-01-01T08:49:08.327Z"
   },
   {
    "duration": 286,
    "start_time": "2024-01-01T08:49:08.598Z"
   },
   {
    "duration": 188,
    "start_time": "2024-01-01T08:49:08.885Z"
   },
   {
    "duration": 279,
    "start_time": "2024-01-01T08:49:09.074Z"
   },
   {
    "duration": 244,
    "start_time": "2024-01-01T08:49:09.354Z"
   },
   {
    "duration": 336,
    "start_time": "2024-01-01T08:49:09.600Z"
   },
   {
    "duration": 8,
    "start_time": "2024-01-01T08:49:09.937Z"
   },
   {
    "duration": 131,
    "start_time": "2024-01-01T08:49:09.946Z"
   },
   {
    "duration": 4,
    "start_time": "2024-01-01T08:49:10.079Z"
   },
   {
    "duration": 259,
    "start_time": "2024-01-01T08:49:10.084Z"
   },
   {
    "duration": 78,
    "start_time": "2024-01-01T08:52:05.786Z"
   },
   {
    "duration": 5,
    "start_time": "2024-01-01T08:52:20.784Z"
   },
   {
    "duration": 4,
    "start_time": "2024-01-01T08:52:29.101Z"
   },
   {
    "duration": 16,
    "start_time": "2024-01-01T09:04:54.939Z"
   },
   {
    "duration": 149,
    "start_time": "2024-01-01T09:05:13.437Z"
   },
   {
    "duration": 9,
    "start_time": "2024-01-01T09:05:25.267Z"
   },
   {
    "duration": 10,
    "start_time": "2024-01-01T09:07:09.120Z"
   },
   {
    "duration": 119,
    "start_time": "2024-01-01T09:13:09.202Z"
   },
   {
    "duration": 146,
    "start_time": "2024-01-01T09:13:20.682Z"
   },
   {
    "duration": 152,
    "start_time": "2024-01-01T09:14:04.620Z"
   },
   {
    "duration": 144,
    "start_time": "2024-01-01T09:21:11.804Z"
   },
   {
    "duration": 145,
    "start_time": "2024-01-01T09:25:05.937Z"
   },
   {
    "duration": 197,
    "start_time": "2024-01-01T09:26:14.173Z"
   },
   {
    "duration": 6,
    "start_time": "2024-01-01T09:28:01.003Z"
   },
   {
    "duration": 136,
    "start_time": "2024-01-01T09:29:37.043Z"
   },
   {
    "duration": 8,
    "start_time": "2024-01-01T09:29:53.578Z"
   },
   {
    "duration": 80,
    "start_time": "2024-01-01T09:30:38.019Z"
   },
   {
    "duration": 445,
    "start_time": "2024-01-01T09:30:42.081Z"
   },
   {
    "duration": 27,
    "start_time": "2024-01-01T09:30:47.979Z"
   },
   {
    "duration": 25,
    "start_time": "2024-01-01T09:31:00.570Z"
   },
   {
    "duration": 10,
    "start_time": "2024-01-01T09:36:03.505Z"
   },
   {
    "duration": 9,
    "start_time": "2024-01-01T09:36:17.487Z"
   },
   {
    "duration": 9,
    "start_time": "2024-01-01T09:36:21.675Z"
   },
   {
    "duration": 206,
    "start_time": "2024-01-01T09:49:22.883Z"
   },
   {
    "duration": 76,
    "start_time": "2024-01-01T09:51:08.908Z"
   },
   {
    "duration": 101,
    "start_time": "2024-01-01T09:51:51.223Z"
   },
   {
    "duration": 24,
    "start_time": "2024-01-01T09:52:24.852Z"
   },
   {
    "duration": 10,
    "start_time": "2024-01-01T09:53:02.296Z"
   },
   {
    "duration": 23,
    "start_time": "2024-01-01T09:53:05.118Z"
   },
   {
    "duration": 11,
    "start_time": "2024-01-01T09:53:09.432Z"
   },
   {
    "duration": 1215,
    "start_time": "2024-01-02T08:22:45.303Z"
   },
   {
    "duration": 193,
    "start_time": "2024-01-02T08:22:46.520Z"
   },
   {
    "duration": 51,
    "start_time": "2024-01-02T08:22:46.715Z"
   },
   {
    "duration": 6,
    "start_time": "2024-01-02T08:22:46.768Z"
   },
   {
    "duration": 15,
    "start_time": "2024-01-02T08:22:46.775Z"
   },
   {
    "duration": 275,
    "start_time": "2024-01-02T08:22:46.791Z"
   },
   {
    "duration": 270,
    "start_time": "2024-01-02T08:22:47.068Z"
   },
   {
    "duration": 187,
    "start_time": "2024-01-02T08:22:47.340Z"
   },
   {
    "duration": 369,
    "start_time": "2024-01-02T08:22:47.529Z"
   },
   {
    "duration": 202,
    "start_time": "2024-01-02T08:22:47.900Z"
   },
   {
    "duration": 277,
    "start_time": "2024-01-02T08:22:48.104Z"
   },
   {
    "duration": 7,
    "start_time": "2024-01-02T08:22:48.383Z"
   },
   {
    "duration": 134,
    "start_time": "2024-01-02T08:22:48.392Z"
   },
   {
    "duration": 5,
    "start_time": "2024-01-02T08:22:48.527Z"
   },
   {
    "duration": 261,
    "start_time": "2024-01-02T08:22:48.533Z"
   },
   {
    "duration": 5,
    "start_time": "2024-01-02T08:22:48.795Z"
   },
   {
    "duration": 214,
    "start_time": "2024-01-02T08:22:48.801Z"
   },
   {
    "duration": 138,
    "start_time": "2024-01-02T08:22:49.016Z"
   },
   {
    "duration": 30,
    "start_time": "2024-01-02T08:22:49.156Z"
   },
   {
    "duration": 27,
    "start_time": "2024-01-02T08:22:49.188Z"
   },
   {
    "duration": 65,
    "start_time": "2024-01-02T08:25:38.379Z"
   },
   {
    "duration": 8,
    "start_time": "2024-01-02T08:33:22.522Z"
   },
   {
    "duration": 74,
    "start_time": "2024-01-02T08:34:07.858Z"
   },
   {
    "duration": 93,
    "start_time": "2024-01-02T08:34:46.512Z"
   },
   {
    "duration": 4,
    "start_time": "2024-01-02T08:35:09.455Z"
   },
   {
    "duration": 5,
    "start_time": "2024-01-02T08:35:27.030Z"
   },
   {
    "duration": 5,
    "start_time": "2024-01-02T08:35:39.760Z"
   },
   {
    "duration": 99,
    "start_time": "2024-01-02T08:36:31.797Z"
   },
   {
    "duration": 86,
    "start_time": "2024-01-02T08:36:52.294Z"
   },
   {
    "duration": 72,
    "start_time": "2024-01-02T08:37:12.374Z"
   },
   {
    "duration": 74,
    "start_time": "2024-01-02T08:38:08.249Z"
   },
   {
    "duration": 4,
    "start_time": "2024-01-02T08:39:55.119Z"
   },
   {
    "duration": 11,
    "start_time": "2024-01-02T08:42:18.480Z"
   },
   {
    "duration": 914,
    "start_time": "2024-01-02T08:42:25.166Z"
   },
   {
    "duration": 5,
    "start_time": "2024-01-02T08:42:51.889Z"
   },
   {
    "duration": 6,
    "start_time": "2024-01-02T08:43:24.838Z"
   },
   {
    "duration": 850,
    "start_time": "2024-01-02T08:43:49.912Z"
   },
   {
    "duration": 8,
    "start_time": "2024-01-02T08:44:31.880Z"
   },
   {
    "duration": 6,
    "start_time": "2024-01-02T08:44:53.963Z"
   },
   {
    "duration": 6,
    "start_time": "2024-01-02T08:45:05.979Z"
   },
   {
    "duration": 10,
    "start_time": "2024-01-02T08:46:08.080Z"
   },
   {
    "duration": 921,
    "start_time": "2024-01-02T08:46:19.678Z"
   },
   {
    "duration": 6,
    "start_time": "2024-01-02T08:46:47.628Z"
   },
   {
    "duration": 13,
    "start_time": "2024-01-02T08:48:27.803Z"
   },
   {
    "duration": 12,
    "start_time": "2024-01-02T08:49:42.016Z"
   },
   {
    "duration": 5,
    "start_time": "2024-01-02T08:55:44.643Z"
   },
   {
    "duration": 14,
    "start_time": "2024-01-02T08:58:32.691Z"
   },
   {
    "duration": 11,
    "start_time": "2024-01-02T09:10:15.774Z"
   },
   {
    "duration": 7,
    "start_time": "2024-01-02T09:11:11.826Z"
   },
   {
    "duration": 18,
    "start_time": "2024-01-02T09:11:23.966Z"
   },
   {
    "duration": 7,
    "start_time": "2024-01-02T09:11:31.218Z"
   },
   {
    "duration": 8,
    "start_time": "2024-01-02T09:12:12.344Z"
   },
   {
    "duration": 8,
    "start_time": "2024-01-02T09:12:23.207Z"
   },
   {
    "duration": 7,
    "start_time": "2024-01-02T09:12:29.616Z"
   },
   {
    "duration": 7,
    "start_time": "2024-01-02T09:12:42.374Z"
   },
   {
    "duration": 123,
    "start_time": "2024-01-02T09:18:52.310Z"
   },
   {
    "duration": 10,
    "start_time": "2024-01-02T09:21:55.286Z"
   },
   {
    "duration": 9,
    "start_time": "2024-01-02T09:22:03.197Z"
   },
   {
    "duration": 24,
    "start_time": "2024-01-02T09:22:05.192Z"
   },
   {
    "duration": 12,
    "start_time": "2024-01-02T09:25:08.673Z"
   },
   {
    "duration": 13,
    "start_time": "2024-01-02T09:25:35.668Z"
   },
   {
    "duration": 69,
    "start_time": "2024-01-02T09:44:05.978Z"
   },
   {
    "duration": 70,
    "start_time": "2024-01-02T09:44:10.663Z"
   },
   {
    "duration": 10,
    "start_time": "2024-01-02T09:44:17.540Z"
   },
   {
    "duration": 1365,
    "start_time": "2024-01-04T11:01:36.736Z"
   },
   {
    "duration": 199,
    "start_time": "2024-01-04T11:01:38.103Z"
   },
   {
    "duration": 5,
    "start_time": "2024-01-04T11:01:38.303Z"
   },
   {
    "duration": 83,
    "start_time": "2024-01-04T11:01:38.310Z"
   },
   {
    "duration": 8,
    "start_time": "2024-01-04T11:01:38.394Z"
   },
   {
    "duration": 9,
    "start_time": "2024-01-04T11:01:38.404Z"
   },
   {
    "duration": 8,
    "start_time": "2024-01-04T11:01:38.415Z"
   },
   {
    "duration": 36,
    "start_time": "2024-01-04T11:01:38.424Z"
   },
   {
    "duration": 342,
    "start_time": "2024-01-04T11:01:38.462Z"
   },
   {
    "duration": 317,
    "start_time": "2024-01-04T11:01:38.808Z"
   },
   {
    "duration": 229,
    "start_time": "2024-01-04T11:01:39.127Z"
   },
   {
    "duration": 393,
    "start_time": "2024-01-04T11:01:39.357Z"
   },
   {
    "duration": 229,
    "start_time": "2024-01-04T11:01:39.751Z"
   },
   {
    "duration": 336,
    "start_time": "2024-01-04T11:01:39.981Z"
   },
   {
    "duration": 10,
    "start_time": "2024-01-04T11:01:40.319Z"
   },
   {
    "duration": 163,
    "start_time": "2024-01-04T11:01:40.330Z"
   },
   {
    "duration": 5,
    "start_time": "2024-01-04T11:01:40.495Z"
   },
   {
    "duration": 299,
    "start_time": "2024-01-04T11:01:40.502Z"
   },
   {
    "duration": 4,
    "start_time": "2024-01-04T11:01:40.803Z"
   },
   {
    "duration": 306,
    "start_time": "2024-01-04T11:01:40.809Z"
   },
   {
    "duration": 141,
    "start_time": "2024-01-04T11:01:41.116Z"
   },
   {
    "duration": 35,
    "start_time": "2024-01-04T11:01:41.258Z"
   },
   {
    "duration": 11,
    "start_time": "2024-01-04T11:01:41.295Z"
   },
   {
    "duration": 14,
    "start_time": "2024-01-04T11:01:41.308Z"
   },
   {
    "duration": 17,
    "start_time": "2024-01-04T11:01:41.324Z"
   },
   {
    "duration": 35,
    "start_time": "2024-01-04T11:01:41.343Z"
   },
   {
    "duration": 22,
    "start_time": "2024-01-04T11:01:41.380Z"
   },
   {
    "duration": 55,
    "start_time": "2024-01-04T11:11:48.433Z"
   },
   {
    "duration": 51,
    "start_time": "2024-01-04T11:12:47.048Z"
   },
   {
    "duration": 1106,
    "start_time": "2024-01-04T11:13:01.237Z"
   },
   {
    "duration": 57,
    "start_time": "2024-01-04T11:13:02.345Z"
   },
   {
    "duration": 0,
    "start_time": "2024-01-04T11:13:02.404Z"
   },
   {
    "duration": 0,
    "start_time": "2024-01-04T11:13:02.406Z"
   },
   {
    "duration": 0,
    "start_time": "2024-01-04T11:13:02.407Z"
   },
   {
    "duration": 0,
    "start_time": "2024-01-04T11:13:02.409Z"
   },
   {
    "duration": 0,
    "start_time": "2024-01-04T11:13:02.410Z"
   },
   {
    "duration": 0,
    "start_time": "2024-01-04T11:13:02.412Z"
   },
   {
    "duration": 0,
    "start_time": "2024-01-04T11:13:02.414Z"
   },
   {
    "duration": 0,
    "start_time": "2024-01-04T11:13:02.416Z"
   },
   {
    "duration": 0,
    "start_time": "2024-01-04T11:13:02.417Z"
   },
   {
    "duration": 0,
    "start_time": "2024-01-04T11:13:02.418Z"
   },
   {
    "duration": 0,
    "start_time": "2024-01-04T11:13:02.420Z"
   },
   {
    "duration": 0,
    "start_time": "2024-01-04T11:13:02.421Z"
   },
   {
    "duration": 0,
    "start_time": "2024-01-04T11:13:02.423Z"
   },
   {
    "duration": 0,
    "start_time": "2024-01-04T11:13:02.424Z"
   },
   {
    "duration": 0,
    "start_time": "2024-01-04T11:13:02.426Z"
   },
   {
    "duration": 0,
    "start_time": "2024-01-04T11:13:02.427Z"
   },
   {
    "duration": 0,
    "start_time": "2024-01-04T11:13:02.429Z"
   },
   {
    "duration": 0,
    "start_time": "2024-01-04T11:13:02.430Z"
   },
   {
    "duration": 0,
    "start_time": "2024-01-04T11:13:02.432Z"
   },
   {
    "duration": 0,
    "start_time": "2024-01-04T11:13:02.433Z"
   },
   {
    "duration": 0,
    "start_time": "2024-01-04T11:13:02.433Z"
   },
   {
    "duration": 0,
    "start_time": "2024-01-04T11:13:02.434Z"
   },
   {
    "duration": 0,
    "start_time": "2024-01-04T11:13:02.435Z"
   },
   {
    "duration": 0,
    "start_time": "2024-01-04T11:13:02.437Z"
   },
   {
    "duration": 0,
    "start_time": "2024-01-04T11:13:02.438Z"
   },
   {
    "duration": 51,
    "start_time": "2024-01-04T11:13:57.427Z"
   },
   {
    "duration": 78,
    "start_time": "2024-01-04T11:14:29.854Z"
   },
   {
    "duration": 96,
    "start_time": "2024-01-04T11:14:40.737Z"
   },
   {
    "duration": 4,
    "start_time": "2024-01-04T11:14:53.112Z"
   },
   {
    "duration": 63,
    "start_time": "2024-01-04T11:14:56.450Z"
   },
   {
    "duration": 1193,
    "start_time": "2024-01-04T11:15:27.365Z"
   },
   {
    "duration": 79,
    "start_time": "2024-01-04T11:15:28.560Z"
   },
   {
    "duration": 4,
    "start_time": "2024-01-04T11:15:28.640Z"
   },
   {
    "duration": 62,
    "start_time": "2024-01-04T11:15:28.646Z"
   },
   {
    "duration": 3,
    "start_time": "2024-01-04T11:15:28.709Z"
   },
   {
    "duration": 14,
    "start_time": "2024-01-04T11:15:28.714Z"
   },
   {
    "duration": 5,
    "start_time": "2024-01-04T11:15:28.730Z"
   },
   {
    "duration": 17,
    "start_time": "2024-01-04T11:15:28.737Z"
   },
   {
    "duration": 322,
    "start_time": "2024-01-04T11:15:28.755Z"
   },
   {
    "duration": 314,
    "start_time": "2024-01-04T11:15:29.080Z"
   },
   {
    "duration": 213,
    "start_time": "2024-01-04T11:15:29.396Z"
   },
   {
    "duration": 307,
    "start_time": "2024-01-04T11:15:29.611Z"
   },
   {
    "duration": 249,
    "start_time": "2024-01-04T11:15:29.920Z"
   },
   {
    "duration": 352,
    "start_time": "2024-01-04T11:15:30.171Z"
   },
   {
    "duration": 14,
    "start_time": "2024-01-04T11:15:30.524Z"
   },
   {
    "duration": 180,
    "start_time": "2024-01-04T11:15:30.540Z"
   },
   {
    "duration": 5,
    "start_time": "2024-01-04T11:15:30.722Z"
   },
   {
    "duration": 327,
    "start_time": "2024-01-04T11:15:30.729Z"
   },
   {
    "duration": 6,
    "start_time": "2024-01-04T11:15:31.058Z"
   },
   {
    "duration": 251,
    "start_time": "2024-01-04T11:15:31.066Z"
   },
   {
    "duration": 181,
    "start_time": "2024-01-04T11:15:31.320Z"
   },
   {
    "duration": 27,
    "start_time": "2024-01-04T11:15:31.503Z"
   },
   {
    "duration": 34,
    "start_time": "2024-01-04T11:15:31.532Z"
   },
   {
    "duration": 20,
    "start_time": "2024-01-04T11:15:31.567Z"
   },
   {
    "duration": 41,
    "start_time": "2024-01-04T11:15:31.589Z"
   },
   {
    "duration": 68,
    "start_time": "2024-01-04T11:15:31.632Z"
   },
   {
    "duration": 77,
    "start_time": "2024-01-04T11:15:31.702Z"
   },
   {
    "duration": 1169,
    "start_time": "2024-01-04T11:27:26.684Z"
   },
   {
    "duration": 79,
    "start_time": "2024-01-04T11:27:27.855Z"
   },
   {
    "duration": 4,
    "start_time": "2024-01-04T11:27:27.935Z"
   },
   {
    "duration": 78,
    "start_time": "2024-01-04T11:27:27.940Z"
   },
   {
    "duration": 3,
    "start_time": "2024-01-04T11:27:28.020Z"
   },
   {
    "duration": 19,
    "start_time": "2024-01-04T11:27:28.025Z"
   },
   {
    "duration": 8,
    "start_time": "2024-01-04T11:27:28.046Z"
   },
   {
    "duration": 24,
    "start_time": "2024-01-04T11:27:28.055Z"
   },
   {
    "duration": 294,
    "start_time": "2024-01-04T11:27:28.080Z"
   },
   {
    "duration": 329,
    "start_time": "2024-01-04T11:27:28.376Z"
   },
   {
    "duration": 220,
    "start_time": "2024-01-04T11:27:28.707Z"
   },
   {
    "duration": 287,
    "start_time": "2024-01-04T11:27:28.929Z"
   },
   {
    "duration": 229,
    "start_time": "2024-01-04T11:27:29.218Z"
   },
   {
    "duration": 357,
    "start_time": "2024-01-04T11:27:29.451Z"
   },
   {
    "duration": 11,
    "start_time": "2024-01-04T11:27:29.810Z"
   },
   {
    "duration": 155,
    "start_time": "2024-01-04T11:27:29.822Z"
   },
   {
    "duration": 5,
    "start_time": "2024-01-04T11:27:29.979Z"
   },
   {
    "duration": 277,
    "start_time": "2024-01-04T11:27:29.992Z"
   },
   {
    "duration": 5,
    "start_time": "2024-01-04T11:27:30.270Z"
   },
   {
    "duration": 247,
    "start_time": "2024-01-04T11:27:30.277Z"
   },
   {
    "duration": 154,
    "start_time": "2024-01-04T11:27:30.526Z"
   },
   {
    "duration": 35,
    "start_time": "2024-01-04T11:27:30.682Z"
   },
   {
    "duration": 30,
    "start_time": "2024-01-04T11:27:30.719Z"
   },
   {
    "duration": 99,
    "start_time": "2024-01-04T11:27:30.751Z"
   },
   {
    "duration": 41,
    "start_time": "2024-01-04T11:27:30.852Z"
   },
   {
    "duration": 63,
    "start_time": "2024-01-04T11:27:30.895Z"
   },
   {
    "duration": 38,
    "start_time": "2024-01-04T11:27:30.960Z"
   },
   {
    "duration": 4,
    "start_time": "2024-01-04T11:33:40.009Z"
   },
   {
    "duration": 99,
    "start_time": "2024-01-04T11:33:50.601Z"
   },
   {
    "duration": 1153,
    "start_time": "2024-01-04T11:42:47.805Z"
   },
   {
    "duration": 80,
    "start_time": "2024-01-04T11:42:48.960Z"
   },
   {
    "duration": 5,
    "start_time": "2024-01-04T11:42:49.042Z"
   },
   {
    "duration": 74,
    "start_time": "2024-01-04T11:42:49.049Z"
   },
   {
    "duration": 3,
    "start_time": "2024-01-04T11:42:49.126Z"
   },
   {
    "duration": 12,
    "start_time": "2024-01-04T11:42:49.131Z"
   },
   {
    "duration": 5,
    "start_time": "2024-01-04T11:42:49.145Z"
   },
   {
    "duration": 42,
    "start_time": "2024-01-04T11:42:49.152Z"
   },
   {
    "duration": 305,
    "start_time": "2024-01-04T11:42:49.195Z"
   },
   {
    "duration": 310,
    "start_time": "2024-01-04T11:42:49.502Z"
   },
   {
    "duration": 217,
    "start_time": "2024-01-04T11:42:49.814Z"
   },
   {
    "duration": 314,
    "start_time": "2024-01-04T11:42:50.034Z"
   },
   {
    "duration": 243,
    "start_time": "2024-01-04T11:42:50.349Z"
   },
   {
    "duration": 330,
    "start_time": "2024-01-04T11:42:50.594Z"
   },
   {
    "duration": 9,
    "start_time": "2024-01-04T11:42:50.926Z"
   },
   {
    "duration": 150,
    "start_time": "2024-01-04T11:42:50.936Z"
   },
   {
    "duration": 5,
    "start_time": "2024-01-04T11:42:51.091Z"
   },
   {
    "duration": 281,
    "start_time": "2024-01-04T11:42:51.097Z"
   },
   {
    "duration": 12,
    "start_time": "2024-01-04T11:42:51.380Z"
   },
   {
    "duration": 244,
    "start_time": "2024-01-04T11:42:51.394Z"
   },
   {
    "duration": 152,
    "start_time": "2024-01-04T11:42:51.640Z"
   },
   {
    "duration": 25,
    "start_time": "2024-01-04T11:42:51.794Z"
   },
   {
    "duration": 17,
    "start_time": "2024-01-04T11:42:51.821Z"
   },
   {
    "duration": 11,
    "start_time": "2024-01-04T11:42:51.839Z"
   },
   {
    "duration": 13,
    "start_time": "2024-01-04T11:42:51.852Z"
   },
   {
    "duration": 39,
    "start_time": "2024-01-04T11:42:51.867Z"
   },
   {
    "duration": 14,
    "start_time": "2024-01-04T11:42:51.907Z"
   },
   {
    "duration": 51,
    "start_time": "2024-01-04T12:34:30.296Z"
   },
   {
    "duration": 102,
    "start_time": "2024-01-04T12:34:37.411Z"
   },
   {
    "duration": 8,
    "start_time": "2024-01-04T12:34:53.858Z"
   },
   {
    "duration": 9,
    "start_time": "2024-01-04T12:35:03.477Z"
   },
   {
    "duration": 8,
    "start_time": "2024-01-04T12:36:05.449Z"
   },
   {
    "duration": 10,
    "start_time": "2024-01-04T12:39:18.515Z"
   },
   {
    "duration": 10,
    "start_time": "2024-01-04T12:39:45.919Z"
   },
   {
    "duration": 13,
    "start_time": "2024-01-04T12:41:01.226Z"
   },
   {
    "duration": 9,
    "start_time": "2024-01-04T12:41:08.763Z"
   },
   {
    "duration": 11,
    "start_time": "2024-01-04T12:41:17.944Z"
   },
   {
    "duration": 11,
    "start_time": "2024-01-04T12:50:38.384Z"
   },
   {
    "duration": 74,
    "start_time": "2024-01-04T12:54:22.833Z"
   },
   {
    "duration": 57,
    "start_time": "2024-01-04T12:54:39.161Z"
   },
   {
    "duration": 62,
    "start_time": "2024-01-04T12:54:55.094Z"
   },
   {
    "duration": 4,
    "start_time": "2024-01-04T12:55:21.698Z"
   },
   {
    "duration": 5,
    "start_time": "2024-01-04T12:55:45.293Z"
   },
   {
    "duration": 4,
    "start_time": "2024-01-04T12:55:53.020Z"
   },
   {
    "duration": 4,
    "start_time": "2024-01-04T12:56:09.451Z"
   },
   {
    "duration": 8,
    "start_time": "2024-01-04T13:08:44.306Z"
   },
   {
    "duration": 17,
    "start_time": "2024-01-04T13:09:35.078Z"
   },
   {
    "duration": 15,
    "start_time": "2024-01-04T13:22:45.516Z"
   },
   {
    "duration": 742,
    "start_time": "2024-01-04T13:25:20.309Z"
   },
   {
    "duration": 16,
    "start_time": "2024-01-04T13:25:39.480Z"
   },
   {
    "duration": 12,
    "start_time": "2024-01-04T13:26:22.886Z"
   },
   {
    "duration": 13,
    "start_time": "2024-01-04T13:26:43.965Z"
   },
   {
    "duration": 15,
    "start_time": "2024-01-04T13:26:55.197Z"
   },
   {
    "duration": 21,
    "start_time": "2024-01-04T13:27:27.262Z"
   },
   {
    "duration": 14,
    "start_time": "2024-01-04T13:27:33.568Z"
   },
   {
    "duration": 16,
    "start_time": "2024-01-04T13:27:41.010Z"
   },
   {
    "duration": 14,
    "start_time": "2024-01-04T13:27:47.031Z"
   },
   {
    "duration": 12,
    "start_time": "2024-01-04T13:29:20.832Z"
   },
   {
    "duration": 6,
    "start_time": "2024-01-04T13:30:43.471Z"
   },
   {
    "duration": 6,
    "start_time": "2024-01-04T13:30:50.942Z"
   },
   {
    "duration": 12,
    "start_time": "2024-01-04T13:37:21.951Z"
   },
   {
    "duration": 13,
    "start_time": "2024-01-04T13:38:05.131Z"
   },
   {
    "duration": 14,
    "start_time": "2024-01-04T13:38:15.607Z"
   },
   {
    "duration": 14,
    "start_time": "2024-01-04T13:38:46.740Z"
   },
   {
    "duration": 8,
    "start_time": "2024-01-04T13:41:40.809Z"
   },
   {
    "duration": 11,
    "start_time": "2024-01-04T13:41:54.350Z"
   },
   {
    "duration": 8,
    "start_time": "2024-01-04T13:42:03.643Z"
   },
   {
    "duration": 8,
    "start_time": "2024-01-04T13:46:30.439Z"
   },
   {
    "duration": 8,
    "start_time": "2024-01-04T13:46:50.862Z"
   },
   {
    "duration": 8,
    "start_time": "2024-01-04T13:47:09.042Z"
   },
   {
    "duration": 47,
    "start_time": "2024-01-04T13:47:44.411Z"
   },
   {
    "duration": 11,
    "start_time": "2024-01-04T13:47:54.382Z"
   },
   {
    "duration": 15,
    "start_time": "2024-01-04T13:50:07.162Z"
   },
   {
    "duration": 7,
    "start_time": "2024-01-04T13:50:26.176Z"
   },
   {
    "duration": 10,
    "start_time": "2024-01-04T13:50:30.341Z"
   },
   {
    "duration": 8,
    "start_time": "2024-01-04T13:50:47.386Z"
   },
   {
    "duration": 19,
    "start_time": "2024-01-04T13:53:07.760Z"
   },
   {
    "duration": 6,
    "start_time": "2024-01-04T13:55:53.044Z"
   },
   {
    "duration": 9,
    "start_time": "2024-01-04T13:56:05.881Z"
   },
   {
    "duration": 8,
    "start_time": "2024-01-04T13:56:20.222Z"
   },
   {
    "duration": 10,
    "start_time": "2024-01-04T13:56:31.663Z"
   },
   {
    "duration": 6,
    "start_time": "2024-01-04T13:57:55.172Z"
   },
   {
    "duration": 10,
    "start_time": "2024-01-04T13:59:26.341Z"
   },
   {
    "duration": 15,
    "start_time": "2024-01-04T13:59:40.720Z"
   },
   {
    "duration": 1255,
    "start_time": "2024-01-04T15:31:43.595Z"
   },
   {
    "duration": 188,
    "start_time": "2024-01-04T15:31:44.852Z"
   },
   {
    "duration": 3,
    "start_time": "2024-01-04T15:31:45.042Z"
   },
   {
    "duration": 74,
    "start_time": "2024-01-04T15:31:45.047Z"
   },
   {
    "duration": 2,
    "start_time": "2024-01-04T15:31:45.124Z"
   },
   {
    "duration": 20,
    "start_time": "2024-01-04T15:31:45.128Z"
   },
   {
    "duration": 6,
    "start_time": "2024-01-04T15:31:45.149Z"
   },
   {
    "duration": 26,
    "start_time": "2024-01-04T15:31:45.156Z"
   },
   {
    "duration": 19,
    "start_time": "2024-01-04T15:31:45.184Z"
   },
   {
    "duration": 3,
    "start_time": "2024-01-04T15:31:45.205Z"
   },
   {
    "duration": 17,
    "start_time": "2024-01-04T15:31:45.209Z"
   },
   {
    "duration": 43,
    "start_time": "2024-01-04T15:31:45.228Z"
   },
   {
    "duration": 252,
    "start_time": "2024-01-04T15:31:45.273Z"
   },
   {
    "duration": 256,
    "start_time": "2024-01-04T15:31:45.528Z"
   },
   {
    "duration": 183,
    "start_time": "2024-01-04T15:31:45.785Z"
   },
   {
    "duration": 348,
    "start_time": "2024-01-04T15:31:45.969Z"
   },
   {
    "duration": 212,
    "start_time": "2024-01-04T15:31:46.318Z"
   },
   {
    "duration": 287,
    "start_time": "2024-01-04T15:31:46.531Z"
   },
   {
    "duration": 8,
    "start_time": "2024-01-04T15:31:46.820Z"
   },
   {
    "duration": 134,
    "start_time": "2024-01-04T15:31:46.829Z"
   },
   {
    "duration": 5,
    "start_time": "2024-01-04T15:31:46.965Z"
   },
   {
    "duration": 240,
    "start_time": "2024-01-04T15:31:46.971Z"
   },
   {
    "duration": 5,
    "start_time": "2024-01-04T15:31:47.212Z"
   },
   {
    "duration": 277,
    "start_time": "2024-01-04T15:31:47.218Z"
   },
   {
    "duration": 122,
    "start_time": "2024-01-04T15:31:47.496Z"
   },
   {
    "duration": 23,
    "start_time": "2024-01-04T15:31:47.620Z"
   },
   {
    "duration": 10,
    "start_time": "2024-01-04T15:31:47.645Z"
   },
   {
    "duration": 7,
    "start_time": "2024-01-04T15:31:47.656Z"
   },
   {
    "duration": 7,
    "start_time": "2024-01-04T15:31:47.664Z"
   },
   {
    "duration": 51,
    "start_time": "2024-01-04T15:31:47.673Z"
   },
   {
    "duration": 12,
    "start_time": "2024-01-04T15:31:47.726Z"
   },
   {
    "duration": 4,
    "start_time": "2024-01-04T15:33:45.089Z"
   },
   {
    "duration": 4,
    "start_time": "2024-01-04T15:37:01.864Z"
   },
   {
    "duration": 94,
    "start_time": "2024-01-04T15:37:34.289Z"
   },
   {
    "duration": 4,
    "start_time": "2024-01-04T15:37:39.748Z"
   },
   {
    "duration": 76,
    "start_time": "2024-01-04T15:40:26.798Z"
   },
   {
    "duration": 70,
    "start_time": "2024-01-04T15:40:44.920Z"
   },
   {
    "duration": 9,
    "start_time": "2024-01-04T15:41:34.791Z"
   },
   {
    "duration": 5,
    "start_time": "2024-01-04T15:41:46.325Z"
   },
   {
    "duration": 4,
    "start_time": "2024-01-04T15:42:08.580Z"
   },
   {
    "duration": 4,
    "start_time": "2024-01-04T15:43:00.533Z"
   },
   {
    "duration": 5,
    "start_time": "2024-01-04T15:43:33.332Z"
   },
   {
    "duration": 10,
    "start_time": "2024-01-04T15:43:42.802Z"
   },
   {
    "duration": 4,
    "start_time": "2024-01-04T15:45:09.458Z"
   },
   {
    "duration": 6,
    "start_time": "2024-01-04T15:45:31.435Z"
   },
   {
    "duration": 5,
    "start_time": "2024-01-04T15:47:06.672Z"
   },
   {
    "duration": 4,
    "start_time": "2024-01-04T15:47:17.189Z"
   },
   {
    "duration": 1066,
    "start_time": "2024-01-04T15:58:42.087Z"
   },
   {
    "duration": 78,
    "start_time": "2024-01-04T15:58:43.155Z"
   },
   {
    "duration": 4,
    "start_time": "2024-01-04T15:58:43.234Z"
   },
   {
    "duration": 78,
    "start_time": "2024-01-04T15:58:43.239Z"
   },
   {
    "duration": 2,
    "start_time": "2024-01-04T15:58:43.319Z"
   },
   {
    "duration": 17,
    "start_time": "2024-01-04T15:58:43.323Z"
   },
   {
    "duration": 14,
    "start_time": "2024-01-04T15:58:43.341Z"
   },
   {
    "duration": 22,
    "start_time": "2024-01-04T15:58:43.356Z"
   },
   {
    "duration": 9,
    "start_time": "2024-01-04T15:58:43.380Z"
   },
   {
    "duration": 3,
    "start_time": "2024-01-04T15:58:43.391Z"
   },
   {
    "duration": 10,
    "start_time": "2024-01-04T15:58:43.410Z"
   },
   {
    "duration": 296,
    "start_time": "2024-01-04T15:58:43.422Z"
   },
   {
    "duration": 276,
    "start_time": "2024-01-04T15:58:43.719Z"
   },
   {
    "duration": 193,
    "start_time": "2024-01-04T15:58:43.998Z"
   },
   {
    "duration": 307,
    "start_time": "2024-01-04T15:58:44.193Z"
   },
   {
    "duration": 205,
    "start_time": "2024-01-04T15:58:44.502Z"
   },
   {
    "duration": 308,
    "start_time": "2024-01-04T15:58:44.711Z"
   },
   {
    "duration": 10,
    "start_time": "2024-01-04T15:58:45.021Z"
   },
   {
    "duration": 165,
    "start_time": "2024-01-04T15:58:45.032Z"
   },
   {
    "duration": 16,
    "start_time": "2024-01-04T15:58:45.198Z"
   },
   {
    "duration": 305,
    "start_time": "2024-01-04T15:58:45.215Z"
   },
   {
    "duration": 6,
    "start_time": "2024-01-04T15:58:45.521Z"
   },
   {
    "duration": 216,
    "start_time": "2024-01-04T15:58:45.528Z"
   },
   {
    "duration": 140,
    "start_time": "2024-01-04T15:58:45.746Z"
   },
   {
    "duration": 43,
    "start_time": "2024-01-04T15:58:45.888Z"
   },
   {
    "duration": 14,
    "start_time": "2024-01-04T15:58:45.932Z"
   },
   {
    "duration": 8,
    "start_time": "2024-01-04T15:58:45.948Z"
   },
   {
    "duration": 15,
    "start_time": "2024-01-04T15:58:45.958Z"
   },
   {
    "duration": 58,
    "start_time": "2024-01-04T15:58:45.975Z"
   },
   {
    "duration": 14,
    "start_time": "2024-01-04T15:58:46.035Z"
   },
   {
    "duration": 1273,
    "start_time": "2024-01-05T06:50:45.647Z"
   },
   {
    "duration": 205,
    "start_time": "2024-01-05T06:50:46.922Z"
   },
   {
    "duration": 4,
    "start_time": "2024-01-05T06:50:47.128Z"
   },
   {
    "duration": 61,
    "start_time": "2024-01-05T06:50:47.133Z"
   },
   {
    "duration": 2,
    "start_time": "2024-01-05T06:50:47.197Z"
   },
   {
    "duration": 6,
    "start_time": "2024-01-05T06:50:47.200Z"
   },
   {
    "duration": 4,
    "start_time": "2024-01-05T06:50:47.207Z"
   },
   {
    "duration": 12,
    "start_time": "2024-01-05T06:50:47.212Z"
   },
   {
    "duration": 10,
    "start_time": "2024-01-05T06:50:47.265Z"
   },
   {
    "duration": 7,
    "start_time": "2024-01-05T06:50:47.276Z"
   },
   {
    "duration": 10,
    "start_time": "2024-01-05T06:50:47.284Z"
   },
   {
    "duration": 275,
    "start_time": "2024-01-05T06:50:47.296Z"
   },
   {
    "duration": 266,
    "start_time": "2024-01-05T06:50:47.572Z"
   },
   {
    "duration": 192,
    "start_time": "2024-01-05T06:50:47.840Z"
   },
   {
    "duration": 387,
    "start_time": "2024-01-05T06:50:48.033Z"
   },
   {
    "duration": 204,
    "start_time": "2024-01-05T06:50:48.422Z"
   },
   {
    "duration": 318,
    "start_time": "2024-01-05T06:50:48.628Z"
   },
   {
    "duration": 18,
    "start_time": "2024-01-05T06:50:48.947Z"
   },
   {
    "duration": 122,
    "start_time": "2024-01-05T06:50:48.966Z"
   },
   {
    "duration": 3,
    "start_time": "2024-01-05T06:50:49.090Z"
   },
   {
    "duration": 253,
    "start_time": "2024-01-05T06:50:49.095Z"
   },
   {
    "duration": 4,
    "start_time": "2024-01-05T06:50:49.350Z"
   },
   {
    "duration": 229,
    "start_time": "2024-01-05T06:50:49.355Z"
   },
   {
    "duration": 181,
    "start_time": "2024-01-05T06:50:49.585Z"
   },
   {
    "duration": 23,
    "start_time": "2024-01-05T06:50:49.768Z"
   },
   {
    "duration": 14,
    "start_time": "2024-01-05T06:50:49.792Z"
   },
   {
    "duration": 20,
    "start_time": "2024-01-05T06:50:49.807Z"
   },
   {
    "duration": 16,
    "start_time": "2024-01-05T06:50:49.828Z"
   },
   {
    "duration": 48,
    "start_time": "2024-01-05T06:50:49.845Z"
   },
   {
    "duration": 15,
    "start_time": "2024-01-05T06:50:49.895Z"
   },
   {
    "duration": 1017,
    "start_time": "2024-01-05T06:59:35.385Z"
   },
   {
    "duration": 79,
    "start_time": "2024-01-05T06:59:36.404Z"
   },
   {
    "duration": 4,
    "start_time": "2024-01-05T06:59:36.485Z"
   },
   {
    "duration": 88,
    "start_time": "2024-01-05T06:59:36.492Z"
   },
   {
    "duration": 3,
    "start_time": "2024-01-05T06:59:36.582Z"
   },
   {
    "duration": 22,
    "start_time": "2024-01-05T06:59:36.587Z"
   },
   {
    "duration": 12,
    "start_time": "2024-01-05T06:59:36.610Z"
   },
   {
    "duration": 20,
    "start_time": "2024-01-05T06:59:36.623Z"
   },
   {
    "duration": 28,
    "start_time": "2024-01-05T06:59:36.645Z"
   },
   {
    "duration": 13,
    "start_time": "2024-01-05T06:59:36.676Z"
   },
   {
    "duration": 28,
    "start_time": "2024-01-05T06:59:36.691Z"
   },
   {
    "duration": 267,
    "start_time": "2024-01-05T06:59:36.721Z"
   },
   {
    "duration": 269,
    "start_time": "2024-01-05T06:59:36.990Z"
   },
   {
    "duration": 186,
    "start_time": "2024-01-05T06:59:37.261Z"
   },
   {
    "duration": 321,
    "start_time": "2024-01-05T06:59:37.448Z"
   },
   {
    "duration": 205,
    "start_time": "2024-01-05T06:59:37.770Z"
   },
   {
    "duration": 298,
    "start_time": "2024-01-05T06:59:37.977Z"
   },
   {
    "duration": 9,
    "start_time": "2024-01-05T06:59:38.276Z"
   },
   {
    "duration": 137,
    "start_time": "2024-01-05T06:59:38.286Z"
   },
   {
    "duration": 4,
    "start_time": "2024-01-05T06:59:38.424Z"
   },
   {
    "duration": 278,
    "start_time": "2024-01-05T06:59:38.429Z"
   },
   {
    "duration": 4,
    "start_time": "2024-01-05T06:59:38.709Z"
   },
   {
    "duration": 24,
    "start_time": "2024-01-05T06:59:38.714Z"
   },
   {
    "duration": 253,
    "start_time": "2024-01-05T06:59:38.739Z"
   },
   {
    "duration": 0,
    "start_time": "2024-01-05T06:59:38.994Z"
   },
   {
    "duration": 0,
    "start_time": "2024-01-05T06:59:38.995Z"
   },
   {
    "duration": 0,
    "start_time": "2024-01-05T06:59:38.996Z"
   },
   {
    "duration": 0,
    "start_time": "2024-01-05T06:59:38.997Z"
   },
   {
    "duration": 0,
    "start_time": "2024-01-05T06:59:38.999Z"
   },
   {
    "duration": 0,
    "start_time": "2024-01-05T06:59:39.000Z"
   },
   {
    "duration": 1041,
    "start_time": "2024-01-05T07:02:27.876Z"
   },
   {
    "duration": 80,
    "start_time": "2024-01-05T07:02:28.919Z"
   },
   {
    "duration": 4,
    "start_time": "2024-01-05T07:02:29.001Z"
   },
   {
    "duration": 74,
    "start_time": "2024-01-05T07:02:29.006Z"
   },
   {
    "duration": 3,
    "start_time": "2024-01-05T07:02:29.082Z"
   },
   {
    "duration": 36,
    "start_time": "2024-01-05T07:02:29.086Z"
   },
   {
    "duration": 25,
    "start_time": "2024-01-05T07:02:29.123Z"
   },
   {
    "duration": 49,
    "start_time": "2024-01-05T07:02:29.149Z"
   },
   {
    "duration": 31,
    "start_time": "2024-01-05T07:02:29.199Z"
   },
   {
    "duration": 13,
    "start_time": "2024-01-05T07:02:29.231Z"
   },
   {
    "duration": 44,
    "start_time": "2024-01-05T07:02:29.245Z"
   },
   {
    "duration": 287,
    "start_time": "2024-01-05T07:02:29.290Z"
   },
   {
    "duration": 262,
    "start_time": "2024-01-05T07:02:29.579Z"
   },
   {
    "duration": 195,
    "start_time": "2024-01-05T07:02:29.844Z"
   },
   {
    "duration": 326,
    "start_time": "2024-01-05T07:02:30.041Z"
   },
   {
    "duration": 205,
    "start_time": "2024-01-05T07:02:30.369Z"
   },
   {
    "duration": 310,
    "start_time": "2024-01-05T07:02:30.575Z"
   },
   {
    "duration": 11,
    "start_time": "2024-01-05T07:02:30.887Z"
   },
   {
    "duration": 154,
    "start_time": "2024-01-05T07:02:30.900Z"
   },
   {
    "duration": 4,
    "start_time": "2024-01-05T07:02:31.056Z"
   },
   {
    "duration": 300,
    "start_time": "2024-01-05T07:02:31.062Z"
   },
   {
    "duration": 5,
    "start_time": "2024-01-05T07:02:31.363Z"
   },
   {
    "duration": 82,
    "start_time": "2024-01-05T07:02:31.370Z"
   },
   {
    "duration": 0,
    "start_time": "2024-01-05T07:02:31.454Z"
   },
   {
    "duration": 0,
    "start_time": "2024-01-05T07:02:31.456Z"
   },
   {
    "duration": 0,
    "start_time": "2024-01-05T07:02:31.457Z"
   },
   {
    "duration": 0,
    "start_time": "2024-01-05T07:02:31.458Z"
   },
   {
    "duration": 0,
    "start_time": "2024-01-05T07:02:31.459Z"
   },
   {
    "duration": 0,
    "start_time": "2024-01-05T07:02:31.460Z"
   },
   {
    "duration": 0,
    "start_time": "2024-01-05T07:02:31.461Z"
   },
   {
    "duration": 1085,
    "start_time": "2024-01-05T07:03:23.276Z"
   },
   {
    "duration": 80,
    "start_time": "2024-01-05T07:03:24.363Z"
   },
   {
    "duration": 4,
    "start_time": "2024-01-05T07:03:24.445Z"
   },
   {
    "duration": 84,
    "start_time": "2024-01-05T07:03:24.452Z"
   },
   {
    "duration": 28,
    "start_time": "2024-01-05T07:03:24.538Z"
   },
   {
    "duration": 31,
    "start_time": "2024-01-05T07:03:24.567Z"
   },
   {
    "duration": 33,
    "start_time": "2024-01-05T07:03:24.600Z"
   },
   {
    "duration": 69,
    "start_time": "2024-01-05T07:03:24.635Z"
   },
   {
    "duration": 63,
    "start_time": "2024-01-05T07:03:24.706Z"
   },
   {
    "duration": 14,
    "start_time": "2024-01-05T07:03:24.771Z"
   },
   {
    "duration": 39,
    "start_time": "2024-01-05T07:03:24.787Z"
   },
   {
    "duration": 268,
    "start_time": "2024-01-05T07:03:24.827Z"
   },
   {
    "duration": 279,
    "start_time": "2024-01-05T07:03:25.096Z"
   },
   {
    "duration": 207,
    "start_time": "2024-01-05T07:03:25.377Z"
   },
   {
    "duration": 299,
    "start_time": "2024-01-05T07:03:25.586Z"
   },
   {
    "duration": 224,
    "start_time": "2024-01-05T07:03:25.887Z"
   },
   {
    "duration": 294,
    "start_time": "2024-01-05T07:03:26.113Z"
   },
   {
    "duration": 8,
    "start_time": "2024-01-05T07:03:26.408Z"
   },
   {
    "duration": 145,
    "start_time": "2024-01-05T07:03:26.417Z"
   },
   {
    "duration": 5,
    "start_time": "2024-01-05T07:03:26.566Z"
   },
   {
    "duration": 293,
    "start_time": "2024-01-05T07:03:26.572Z"
   },
   {
    "duration": 5,
    "start_time": "2024-01-05T07:03:26.867Z"
   },
   {
    "duration": 218,
    "start_time": "2024-01-05T07:03:26.873Z"
   },
   {
    "duration": 143,
    "start_time": "2024-01-05T07:03:27.093Z"
   },
   {
    "duration": 29,
    "start_time": "2024-01-05T07:03:27.237Z"
   },
   {
    "duration": 42,
    "start_time": "2024-01-05T07:03:27.267Z"
   },
   {
    "duration": 38,
    "start_time": "2024-01-05T07:03:27.311Z"
   },
   {
    "duration": 23,
    "start_time": "2024-01-05T07:03:27.353Z"
   },
   {
    "duration": 78,
    "start_time": "2024-01-05T07:03:27.378Z"
   },
   {
    "duration": 21,
    "start_time": "2024-01-05T07:03:27.458Z"
   },
   {
    "duration": 148,
    "start_time": "2024-01-05T07:10:16.939Z"
   },
   {
    "duration": 24,
    "start_time": "2024-01-05T07:10:21.069Z"
   },
   {
    "duration": 13,
    "start_time": "2024-01-05T07:15:04.039Z"
   },
   {
    "duration": 33,
    "start_time": "2024-01-05T07:15:06.529Z"
   },
   {
    "duration": 1130,
    "start_time": "2024-01-05T07:15:56.839Z"
   },
   {
    "duration": 82,
    "start_time": "2024-01-05T07:15:57.971Z"
   },
   {
    "duration": 5,
    "start_time": "2024-01-05T07:15:58.054Z"
   },
   {
    "duration": 105,
    "start_time": "2024-01-05T07:15:58.060Z"
   },
   {
    "duration": 4,
    "start_time": "2024-01-05T07:15:58.167Z"
   },
   {
    "duration": 38,
    "start_time": "2024-01-05T07:15:58.172Z"
   },
   {
    "duration": 27,
    "start_time": "2024-01-05T07:15:58.212Z"
   },
   {
    "duration": 44,
    "start_time": "2024-01-05T07:15:58.241Z"
   },
   {
    "duration": 19,
    "start_time": "2024-01-05T07:15:58.287Z"
   },
   {
    "duration": 4,
    "start_time": "2024-01-05T07:15:58.309Z"
   },
   {
    "duration": 23,
    "start_time": "2024-01-05T07:15:58.315Z"
   },
   {
    "duration": 290,
    "start_time": "2024-01-05T07:15:58.340Z"
   },
   {
    "duration": 288,
    "start_time": "2024-01-05T07:15:58.632Z"
   },
   {
    "duration": 190,
    "start_time": "2024-01-05T07:15:58.922Z"
   },
   {
    "duration": 268,
    "start_time": "2024-01-05T07:15:59.113Z"
   },
   {
    "duration": 209,
    "start_time": "2024-01-05T07:15:59.383Z"
   },
   {
    "duration": 317,
    "start_time": "2024-01-05T07:15:59.594Z"
   },
   {
    "duration": 8,
    "start_time": "2024-01-05T07:15:59.912Z"
   },
   {
    "duration": 140,
    "start_time": "2024-01-05T07:15:59.921Z"
   },
   {
    "duration": 6,
    "start_time": "2024-01-05T07:16:00.062Z"
   },
   {
    "duration": 291,
    "start_time": "2024-01-05T07:16:00.069Z"
   },
   {
    "duration": 7,
    "start_time": "2024-01-05T07:16:00.361Z"
   },
   {
    "duration": 176,
    "start_time": "2024-01-05T07:16:00.370Z"
   },
   {
    "duration": 27,
    "start_time": "2024-01-05T07:16:00.548Z"
   },
   {
    "duration": 13,
    "start_time": "2024-01-05T07:16:00.577Z"
   },
   {
    "duration": 27,
    "start_time": "2024-01-05T07:16:00.592Z"
   },
   {
    "duration": 41,
    "start_time": "2024-01-05T07:16:00.621Z"
   },
   {
    "duration": 49,
    "start_time": "2024-01-05T07:16:00.666Z"
   },
   {
    "duration": 21,
    "start_time": "2024-01-05T07:16:00.716Z"
   },
   {
    "duration": 8,
    "start_time": "2024-01-05T07:23:15.149Z"
   },
   {
    "duration": 8,
    "start_time": "2024-01-05T07:23:37.499Z"
   },
   {
    "duration": 8,
    "start_time": "2024-01-05T07:35:40.804Z"
   },
   {
    "duration": 64,
    "start_time": "2024-01-05T07:36:39.553Z"
   },
   {
    "duration": 9,
    "start_time": "2024-01-05T07:37:03.565Z"
   },
   {
    "duration": 9,
    "start_time": "2024-01-05T07:41:33.887Z"
   },
   {
    "duration": 1058,
    "start_time": "2024-01-05T07:43:42.941Z"
   },
   {
    "duration": 78,
    "start_time": "2024-01-05T07:43:44.001Z"
   },
   {
    "duration": 4,
    "start_time": "2024-01-05T07:43:44.080Z"
   },
   {
    "duration": 58,
    "start_time": "2024-01-05T07:43:44.085Z"
   },
   {
    "duration": 19,
    "start_time": "2024-01-05T07:43:44.146Z"
   },
   {
    "duration": 4,
    "start_time": "2024-01-05T07:43:44.167Z"
   },
   {
    "duration": 19,
    "start_time": "2024-01-05T07:43:44.172Z"
   },
   {
    "duration": 16,
    "start_time": "2024-01-05T07:43:44.192Z"
   },
   {
    "duration": 39,
    "start_time": "2024-01-05T07:43:44.209Z"
   },
   {
    "duration": 25,
    "start_time": "2024-01-05T07:43:44.250Z"
   },
   {
    "duration": 33,
    "start_time": "2024-01-05T07:43:44.276Z"
   },
   {
    "duration": 268,
    "start_time": "2024-01-05T07:43:44.311Z"
   },
   {
    "duration": 271,
    "start_time": "2024-01-05T07:43:44.580Z"
   },
   {
    "duration": 188,
    "start_time": "2024-01-05T07:43:44.854Z"
   },
   {
    "duration": 308,
    "start_time": "2024-01-05T07:43:45.043Z"
   },
   {
    "duration": 240,
    "start_time": "2024-01-05T07:43:45.352Z"
   },
   {
    "duration": 318,
    "start_time": "2024-01-05T07:43:45.594Z"
   },
   {
    "duration": 10,
    "start_time": "2024-01-05T07:43:45.913Z"
   },
   {
    "duration": 139,
    "start_time": "2024-01-05T07:43:45.924Z"
   },
   {
    "duration": 4,
    "start_time": "2024-01-05T07:43:46.065Z"
   },
   {
    "duration": 250,
    "start_time": "2024-01-05T07:43:46.070Z"
   },
   {
    "duration": 5,
    "start_time": "2024-01-05T07:43:46.321Z"
   },
   {
    "duration": 138,
    "start_time": "2024-01-05T07:43:46.327Z"
   },
   {
    "duration": 24,
    "start_time": "2024-01-05T07:43:46.466Z"
   },
   {
    "duration": 9,
    "start_time": "2024-01-05T07:43:46.492Z"
   },
   {
    "duration": 8,
    "start_time": "2024-01-05T07:43:46.502Z"
   },
   {
    "duration": 7,
    "start_time": "2024-01-05T07:43:46.512Z"
   },
   {
    "duration": 51,
    "start_time": "2024-01-05T07:43:46.521Z"
   },
   {
    "duration": 12,
    "start_time": "2024-01-05T07:43:46.574Z"
   }
  ],
  "kernelspec": {
   "display_name": "Python 3 (ipykernel)",
   "language": "python",
   "name": "python3"
  },
  "language_info": {
   "codemirror_mode": {
    "name": "ipython",
    "version": 3
   },
   "file_extension": ".py",
   "mimetype": "text/x-python",
   "name": "python",
   "nbconvert_exporter": "python",
   "pygments_lexer": "ipython3",
   "version": "3.11.4"
  },
  "toc": {
   "base_numbering": 1,
   "nav_menu": {
    "height": "254px",
    "width": "365px"
   },
   "number_sections": true,
   "sideBar": true,
   "skip_h1_title": true,
   "title_cell": "Table of Contents",
   "title_sidebar": "Contents",
   "toc_cell": false,
   "toc_position": {},
   "toc_section_display": true,
   "toc_window_display": false
  }
 },
 "nbformat": 4,
 "nbformat_minor": 2
}
