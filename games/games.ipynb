{
 "cells": [
  {
   "cell_type": "markdown",
   "metadata": {},
   "source": [
    "# Исследование рынка компьютерных игр"
   ]
  },
  {
   "cell_type": "markdown",
   "metadata": {},
   "source": [
    "Целью данного исследования является выявление факторов, определяющих коммерческую успешность игры.\n",
    "\n",
    "В ходе исследования будет состален портерет пользователя каждого региона и проверены две гипотезы:\n",
    "- Средние пользовательские рейтинги платформ Xbox One и PC одинаковые;\n",
    "- Средние пользовательские рейтинги жанров Action и Sports разные.\n",
    "\n",
    "Резальтаты, полученные в ходе анализа, будут исполльзованы при выборе потенциально популярного продукта для проведения рекламной кампании.\n",
    " "
   ]
  },
  {
   "cell_type": "markdown",
   "metadata": {},
   "source": [
    "### Изучение общей информации"
   ]
  },
  {
   "cell_type": "code",
   "execution_count": 1,
   "metadata": {},
   "outputs": [],
   "source": [
    "import pandas as pd\n",
    "import numpy as np\n",
    "import matplotlib.pyplot as plt\n",
    "import seaborn as sns\n",
    "from scipy import stats as st"
   ]
  },
  {
   "cell_type": "code",
   "execution_count": 2,
   "metadata": {
    "scrolled": true
   },
   "outputs": [
    {
     "name": "stdout",
     "output_type": "stream",
     "text": [
      "<class 'pandas.core.frame.DataFrame'>\n",
      "RangeIndex: 16715 entries, 0 to 16714\n",
      "Data columns (total 11 columns):\n",
      " #   Column           Non-Null Count  Dtype  \n",
      "---  ------           --------------  -----  \n",
      " 0   Name             16713 non-null  object \n",
      " 1   Platform         16715 non-null  object \n",
      " 2   Year_of_Release  16446 non-null  float64\n",
      " 3   Genre            16713 non-null  object \n",
      " 4   NA_sales         16715 non-null  float64\n",
      " 5   EU_sales         16715 non-null  float64\n",
      " 6   JP_sales         16715 non-null  float64\n",
      " 7   Other_sales      16715 non-null  float64\n",
      " 8   Critic_Score     8137 non-null   float64\n",
      " 9   User_Score       10014 non-null  object \n",
      " 10  Rating           9949 non-null   object \n",
      "dtypes: float64(6), object(5)\n",
      "memory usage: 1.4+ MB\n"
     ]
    },
    {
     "data": {
      "text/html": [
       "<div>\n",
       "<style scoped>\n",
       "    .dataframe tbody tr th:only-of-type {\n",
       "        vertical-align: middle;\n",
       "    }\n",
       "\n",
       "    .dataframe tbody tr th {\n",
       "        vertical-align: top;\n",
       "    }\n",
       "\n",
       "    .dataframe thead th {\n",
       "        text-align: right;\n",
       "    }\n",
       "</style>\n",
       "<table border=\"1\" class=\"dataframe\">\n",
       "  <thead>\n",
       "    <tr style=\"text-align: right;\">\n",
       "      <th></th>\n",
       "      <th>Name</th>\n",
       "      <th>Platform</th>\n",
       "      <th>Year_of_Release</th>\n",
       "      <th>Genre</th>\n",
       "      <th>NA_sales</th>\n",
       "      <th>EU_sales</th>\n",
       "      <th>JP_sales</th>\n",
       "      <th>Other_sales</th>\n",
       "      <th>Critic_Score</th>\n",
       "      <th>User_Score</th>\n",
       "      <th>Rating</th>\n",
       "    </tr>\n",
       "  </thead>\n",
       "  <tbody>\n",
       "    <tr>\n",
       "      <th>0</th>\n",
       "      <td>Wii Sports</td>\n",
       "      <td>Wii</td>\n",
       "      <td>2006.0</td>\n",
       "      <td>Sports</td>\n",
       "      <td>41.36</td>\n",
       "      <td>28.96</td>\n",
       "      <td>3.77</td>\n",
       "      <td>8.45</td>\n",
       "      <td>76.0</td>\n",
       "      <td>8</td>\n",
       "      <td>E</td>\n",
       "    </tr>\n",
       "    <tr>\n",
       "      <th>1</th>\n",
       "      <td>Super Mario Bros.</td>\n",
       "      <td>NES</td>\n",
       "      <td>1985.0</td>\n",
       "      <td>Platform</td>\n",
       "      <td>29.08</td>\n",
       "      <td>3.58</td>\n",
       "      <td>6.81</td>\n",
       "      <td>0.77</td>\n",
       "      <td>NaN</td>\n",
       "      <td>NaN</td>\n",
       "      <td>NaN</td>\n",
       "    </tr>\n",
       "    <tr>\n",
       "      <th>2</th>\n",
       "      <td>Mario Kart Wii</td>\n",
       "      <td>Wii</td>\n",
       "      <td>2008.0</td>\n",
       "      <td>Racing</td>\n",
       "      <td>15.68</td>\n",
       "      <td>12.76</td>\n",
       "      <td>3.79</td>\n",
       "      <td>3.29</td>\n",
       "      <td>82.0</td>\n",
       "      <td>8.3</td>\n",
       "      <td>E</td>\n",
       "    </tr>\n",
       "    <tr>\n",
       "      <th>3</th>\n",
       "      <td>Wii Sports Resort</td>\n",
       "      <td>Wii</td>\n",
       "      <td>2009.0</td>\n",
       "      <td>Sports</td>\n",
       "      <td>15.61</td>\n",
       "      <td>10.93</td>\n",
       "      <td>3.28</td>\n",
       "      <td>2.95</td>\n",
       "      <td>80.0</td>\n",
       "      <td>8</td>\n",
       "      <td>E</td>\n",
       "    </tr>\n",
       "    <tr>\n",
       "      <th>4</th>\n",
       "      <td>Pokemon Red/Pokemon Blue</td>\n",
       "      <td>GB</td>\n",
       "      <td>1996.0</td>\n",
       "      <td>Role-Playing</td>\n",
       "      <td>11.27</td>\n",
       "      <td>8.89</td>\n",
       "      <td>10.22</td>\n",
       "      <td>1.00</td>\n",
       "      <td>NaN</td>\n",
       "      <td>NaN</td>\n",
       "      <td>NaN</td>\n",
       "    </tr>\n",
       "  </tbody>\n",
       "</table>\n",
       "</div>"
      ],
      "text/plain": [
       "                       Name Platform  Year_of_Release         Genre  NA_sales  \\\n",
       "0                Wii Sports      Wii           2006.0        Sports     41.36   \n",
       "1         Super Mario Bros.      NES           1985.0      Platform     29.08   \n",
       "2            Mario Kart Wii      Wii           2008.0        Racing     15.68   \n",
       "3         Wii Sports Resort      Wii           2009.0        Sports     15.61   \n",
       "4  Pokemon Red/Pokemon Blue       GB           1996.0  Role-Playing     11.27   \n",
       "\n",
       "   EU_sales  JP_sales  Other_sales  Critic_Score User_Score Rating  \n",
       "0     28.96      3.77         8.45          76.0          8      E  \n",
       "1      3.58      6.81         0.77           NaN        NaN    NaN  \n",
       "2     12.76      3.79         3.29          82.0        8.3      E  \n",
       "3     10.93      3.28         2.95          80.0          8      E  \n",
       "4      8.89     10.22         1.00           NaN        NaN    NaN  "
      ]
     },
     "execution_count": 2,
     "metadata": {},
     "output_type": "execute_result"
    }
   ],
   "source": [
    "data = pd.read_csv('/datasets/games.csv')\n",
    "data.info()\n",
    "data.head()"
   ]
  },
  {
   "cell_type": "markdown",
   "metadata": {},
   "source": [
    "**Вывод**\n",
    "\n",
    "- В 6-ти столбцах есть пустые значения;\n",
    "- В названиях столбцов присутствуют заглавные буквы;\n",
    "- Год приведем к целочисленному типу даных;\n",
    "- Стобец `User_Score`имеет тип данных object. Необходимо изменить тип данных, чтобы можно было проводить математическоие операции с значениями в столбце."
   ]
  },
  {
   "cell_type": "markdown",
   "metadata": {},
   "source": [
    "### Предобработка данных"
   ]
  },
  {
   "cell_type": "code",
   "execution_count": 3,
   "metadata": {
    "scrolled": true
   },
   "outputs": [
    {
     "data": {
      "text/html": [
       "<div>\n",
       "<style scoped>\n",
       "    .dataframe tbody tr th:only-of-type {\n",
       "        vertical-align: middle;\n",
       "    }\n",
       "\n",
       "    .dataframe tbody tr th {\n",
       "        vertical-align: top;\n",
       "    }\n",
       "\n",
       "    .dataframe thead th {\n",
       "        text-align: right;\n",
       "    }\n",
       "</style>\n",
       "<table border=\"1\" class=\"dataframe\">\n",
       "  <thead>\n",
       "    <tr style=\"text-align: right;\">\n",
       "      <th></th>\n",
       "      <th>name</th>\n",
       "      <th>platform</th>\n",
       "      <th>year_of_release</th>\n",
       "      <th>genre</th>\n",
       "      <th>na_sales</th>\n",
       "      <th>eu_sales</th>\n",
       "      <th>jp_sales</th>\n",
       "      <th>other_sales</th>\n",
       "      <th>critic_score</th>\n",
       "      <th>user_score</th>\n",
       "      <th>rating</th>\n",
       "    </tr>\n",
       "  </thead>\n",
       "  <tbody>\n",
       "    <tr>\n",
       "      <th>0</th>\n",
       "      <td>Wii Sports</td>\n",
       "      <td>Wii</td>\n",
       "      <td>2006.0</td>\n",
       "      <td>Sports</td>\n",
       "      <td>41.36</td>\n",
       "      <td>28.96</td>\n",
       "      <td>3.77</td>\n",
       "      <td>8.45</td>\n",
       "      <td>76.0</td>\n",
       "      <td>8</td>\n",
       "      <td>E</td>\n",
       "    </tr>\n",
       "    <tr>\n",
       "      <th>1</th>\n",
       "      <td>Super Mario Bros.</td>\n",
       "      <td>NES</td>\n",
       "      <td>1985.0</td>\n",
       "      <td>Platform</td>\n",
       "      <td>29.08</td>\n",
       "      <td>3.58</td>\n",
       "      <td>6.81</td>\n",
       "      <td>0.77</td>\n",
       "      <td>NaN</td>\n",
       "      <td>NaN</td>\n",
       "      <td>NaN</td>\n",
       "    </tr>\n",
       "    <tr>\n",
       "      <th>2</th>\n",
       "      <td>Mario Kart Wii</td>\n",
       "      <td>Wii</td>\n",
       "      <td>2008.0</td>\n",
       "      <td>Racing</td>\n",
       "      <td>15.68</td>\n",
       "      <td>12.76</td>\n",
       "      <td>3.79</td>\n",
       "      <td>3.29</td>\n",
       "      <td>82.0</td>\n",
       "      <td>8.3</td>\n",
       "      <td>E</td>\n",
       "    </tr>\n",
       "    <tr>\n",
       "      <th>3</th>\n",
       "      <td>Wii Sports Resort</td>\n",
       "      <td>Wii</td>\n",
       "      <td>2009.0</td>\n",
       "      <td>Sports</td>\n",
       "      <td>15.61</td>\n",
       "      <td>10.93</td>\n",
       "      <td>3.28</td>\n",
       "      <td>2.95</td>\n",
       "      <td>80.0</td>\n",
       "      <td>8</td>\n",
       "      <td>E</td>\n",
       "    </tr>\n",
       "    <tr>\n",
       "      <th>4</th>\n",
       "      <td>Pokemon Red/Pokemon Blue</td>\n",
       "      <td>GB</td>\n",
       "      <td>1996.0</td>\n",
       "      <td>Role-Playing</td>\n",
       "      <td>11.27</td>\n",
       "      <td>8.89</td>\n",
       "      <td>10.22</td>\n",
       "      <td>1.00</td>\n",
       "      <td>NaN</td>\n",
       "      <td>NaN</td>\n",
       "      <td>NaN</td>\n",
       "    </tr>\n",
       "  </tbody>\n",
       "</table>\n",
       "</div>"
      ],
      "text/plain": [
       "                       name platform  year_of_release         genre  na_sales  \\\n",
       "0                Wii Sports      Wii           2006.0        Sports     41.36   \n",
       "1         Super Mario Bros.      NES           1985.0      Platform     29.08   \n",
       "2            Mario Kart Wii      Wii           2008.0        Racing     15.68   \n",
       "3         Wii Sports Resort      Wii           2009.0        Sports     15.61   \n",
       "4  Pokemon Red/Pokemon Blue       GB           1996.0  Role-Playing     11.27   \n",
       "\n",
       "   eu_sales  jp_sales  other_sales  critic_score user_score rating  \n",
       "0     28.96      3.77         8.45          76.0          8      E  \n",
       "1      3.58      6.81         0.77           NaN        NaN    NaN  \n",
       "2     12.76      3.79         3.29          82.0        8.3      E  \n",
       "3     10.93      3.28         2.95          80.0          8      E  \n",
       "4      8.89     10.22         1.00           NaN        NaN    NaN  "
      ]
     },
     "execution_count": 3,
     "metadata": {},
     "output_type": "execute_result"
    }
   ],
   "source": [
    "#Приведем названия столбцов к нижнему регистру\n",
    "data.columns=data.columns.str.lower()\n",
    "data.head()"
   ]
  },
  {
   "cell_type": "code",
   "execution_count": 4,
   "metadata": {},
   "outputs": [
    {
     "data": {
      "text/plain": [
       "array(['8', nan, '8.3', '8.5', '6.6', '8.4', '8.6', '7.7', '6.3', '7.4',\n",
       "       '8.2', '9', '7.9', '8.1', '8.7', '7.1', '3.4', '5.3', '4.8', '3.2',\n",
       "       '8.9', '6.4', '7.8', '7.5', '2.6', '7.2', '9.2', '7', '7.3', '4.3',\n",
       "       '7.6', '5.7', '5', '9.1', '6.5', 'tbd', '8.8', '6.9', '9.4', '6.8',\n",
       "       '6.1', '6.7', '5.4', '4', '4.9', '4.5', '9.3', '6.2', '4.2', '6',\n",
       "       '3.7', '4.1', '5.8', '5.6', '5.5', '4.4', '4.6', '5.9', '3.9',\n",
       "       '3.1', '2.9', '5.2', '3.3', '4.7', '5.1', '3.5', '2.5', '1.9', '3',\n",
       "       '2.7', '2.2', '2', '9.5', '2.1', '3.6', '2.8', '1.8', '3.8', '0',\n",
       "       '1.6', '9.6', '2.4', '1.7', '1.1', '0.3', '1.5', '0.7', '1.2',\n",
       "       '2.3', '0.5', '1.3', '0.2', '0.6', '1.4', '0.9', '1', '9.7'],\n",
       "      dtype=object)"
      ]
     },
     "execution_count": 4,
     "metadata": {},
     "output_type": "execute_result"
    }
   ],
   "source": [
    "data['user_score'].unique()"
   ]
  },
  {
   "cell_type": "markdown",
   "metadata": {},
   "source": [
    "В столбце `user_score` присутсвует аббревиатуру `tbd`. Эта аббревиатура означает `To Be Determined`, т.е. рейтинг еще не присвоен. Значит `tbd` эквивалентна пустому значению. Избавимся от `tbd`, приобразовав тип данных столбца в числовой. Параметр `errors 'coerce’` заменит `tbd` на NaN."
   ]
  },
  {
   "cell_type": "code",
   "execution_count": 5,
   "metadata": {},
   "outputs": [
    {
     "name": "stdout",
     "output_type": "stream",
     "text": [
      "<class 'pandas.core.frame.DataFrame'>\n",
      "RangeIndex: 16446 entries, 0 to 16445\n",
      "Data columns (total 11 columns):\n",
      " #   Column           Non-Null Count  Dtype  \n",
      "---  ------           --------------  -----  \n",
      " 0   name             16444 non-null  object \n",
      " 1   platform         16446 non-null  object \n",
      " 2   year_of_release  16446 non-null  int32  \n",
      " 3   genre            16444 non-null  object \n",
      " 4   na_sales         16446 non-null  float64\n",
      " 5   eu_sales         16446 non-null  float64\n",
      " 6   jp_sales         16446 non-null  float64\n",
      " 7   other_sales      16446 non-null  float64\n",
      " 8   critic_score     7983 non-null   float64\n",
      " 9   user_score       7463 non-null   float64\n",
      " 10  rating           9768 non-null   object \n",
      "dtypes: float64(6), int32(1), object(4)\n",
      "memory usage: 1.3+ MB\n"
     ]
    }
   ],
   "source": [
    "#Избавимся от пропусков в стоблце с годом запуска и заменим тип данных на int\n",
    "data = data.dropna(subset=['year_of_release']).reset_index(drop=True)\n",
    "data['year_of_release']=data['year_of_release'].astype('int32')\n",
    "#Заменим тип данных в стоблце user_score на числовой\n",
    "data['user_score']=pd.to_numeric(data['user_score'], errors='coerce')\n",
    "data.info()"
   ]
  },
  {
   "cell_type": "markdown",
   "metadata": {},
   "source": [
    "Критичными являются пропуски в столбце с названием игры и годом выпуска. Название и год ничием не заменишь, поэтому удалим эти строки.\n",
    "\n",
    "Пропущенные значения в стоблцах с числовым рейтингом могут означать, что игра вообще не оценивалась пользователями, либо по какой-то технической причине данные не попали в датасет. Оставим эти пропуски, как есть. \n",
    "\n",
    "Пропуски в столбце `rating` заменим на undefined, чтобы в дальниейшем можно было группирвоать данные по этому столбцу.\n",
    "\n",
    "Два пропущенных значения в столбце жанр скорее всего связаны с пропущенными значениями в столбце с названием игры. Проверим."
   ]
  },
  {
   "cell_type": "code",
   "execution_count": 6,
   "metadata": {
    "scrolled": true
   },
   "outputs": [
    {
     "data": {
      "text/html": [
       "<div>\n",
       "<style scoped>\n",
       "    .dataframe tbody tr th:only-of-type {\n",
       "        vertical-align: middle;\n",
       "    }\n",
       "\n",
       "    .dataframe tbody tr th {\n",
       "        vertical-align: top;\n",
       "    }\n",
       "\n",
       "    .dataframe thead th {\n",
       "        text-align: right;\n",
       "    }\n",
       "</style>\n",
       "<table border=\"1\" class=\"dataframe\">\n",
       "  <thead>\n",
       "    <tr style=\"text-align: right;\">\n",
       "      <th></th>\n",
       "      <th>name</th>\n",
       "      <th>platform</th>\n",
       "      <th>year_of_release</th>\n",
       "      <th>genre</th>\n",
       "      <th>na_sales</th>\n",
       "      <th>eu_sales</th>\n",
       "      <th>jp_sales</th>\n",
       "      <th>other_sales</th>\n",
       "      <th>critic_score</th>\n",
       "      <th>user_score</th>\n",
       "      <th>rating</th>\n",
       "    </tr>\n",
       "  </thead>\n",
       "  <tbody>\n",
       "    <tr>\n",
       "      <th>652</th>\n",
       "      <td>NaN</td>\n",
       "      <td>GEN</td>\n",
       "      <td>1993</td>\n",
       "      <td>NaN</td>\n",
       "      <td>1.78</td>\n",
       "      <td>0.53</td>\n",
       "      <td>0.00</td>\n",
       "      <td>0.08</td>\n",
       "      <td>NaN</td>\n",
       "      <td>NaN</td>\n",
       "      <td>NaN</td>\n",
       "    </tr>\n",
       "    <tr>\n",
       "      <th>14022</th>\n",
       "      <td>NaN</td>\n",
       "      <td>GEN</td>\n",
       "      <td>1993</td>\n",
       "      <td>NaN</td>\n",
       "      <td>0.00</td>\n",
       "      <td>0.00</td>\n",
       "      <td>0.03</td>\n",
       "      <td>0.00</td>\n",
       "      <td>NaN</td>\n",
       "      <td>NaN</td>\n",
       "      <td>NaN</td>\n",
       "    </tr>\n",
       "  </tbody>\n",
       "</table>\n",
       "</div>"
      ],
      "text/plain": [
       "      name platform  year_of_release genre  na_sales  eu_sales  jp_sales  \\\n",
       "652    NaN      GEN             1993   NaN      1.78      0.53      0.00   \n",
       "14022  NaN      GEN             1993   NaN      0.00      0.00      0.03   \n",
       "\n",
       "       other_sales  critic_score  user_score rating  \n",
       "652           0.08           NaN         NaN    NaN  \n",
       "14022         0.00           NaN         NaN    NaN  "
      ]
     },
     "execution_count": 6,
     "metadata": {},
     "output_type": "execute_result"
    }
   ],
   "source": [
    "data[data['genre'].isnull()]"
   ]
  },
  {
   "cell_type": "code",
   "execution_count": 7,
   "metadata": {
    "scrolled": true
   },
   "outputs": [
    {
     "name": "stdout",
     "output_type": "stream",
     "text": [
      "<class 'pandas.core.frame.DataFrame'>\n",
      "RangeIndex: 16444 entries, 0 to 16443\n",
      "Data columns (total 11 columns):\n",
      " #   Column           Non-Null Count  Dtype  \n",
      "---  ------           --------------  -----  \n",
      " 0   name             16444 non-null  object \n",
      " 1   platform         16444 non-null  object \n",
      " 2   year_of_release  16444 non-null  int32  \n",
      " 3   genre            16444 non-null  object \n",
      " 4   na_sales         16444 non-null  float64\n",
      " 5   eu_sales         16444 non-null  float64\n",
      " 6   jp_sales         16444 non-null  float64\n",
      " 7   other_sales      16444 non-null  float64\n",
      " 8   critic_score     7983 non-null   float64\n",
      " 9   user_score       7463 non-null   float64\n",
      " 10  rating           16444 non-null  object \n",
      "dtypes: float64(6), int32(1), object(4)\n",
      "memory usage: 1.3+ MB\n"
     ]
    },
    {
     "data": {
      "text/plain": [
       "name                  0\n",
       "platform              0\n",
       "year_of_release       0\n",
       "genre                 0\n",
       "na_sales              0\n",
       "eu_sales              0\n",
       "jp_sales              0\n",
       "other_sales           0\n",
       "critic_score       8461\n",
       "user_score         8981\n",
       "rating                0\n",
       "dtype: int64"
      ]
     },
     "execution_count": 7,
     "metadata": {},
     "output_type": "execute_result"
    }
   ],
   "source": [
    "data = data.dropna(subset=['name']).reset_index(drop=True)\n",
    "data['rating'] = data['rating'].fillna('undefined')\n",
    "data.info()\n",
    "data.isna().sum()"
   ]
  },
  {
   "cell_type": "markdown",
   "metadata": {},
   "source": [
    "**Таким образом, была удалена 271 строка (<2% данных).**"
   ]
  },
  {
   "cell_type": "code",
   "execution_count": 8,
   "metadata": {
    "scrolled": false
   },
   "outputs": [
    {
     "data": {
      "text/plain": [
       "0"
      ]
     },
     "metadata": {},
     "output_type": "display_data"
    },
    {
     "data": {
      "text/html": [
       "<div>\n",
       "<style scoped>\n",
       "    .dataframe tbody tr th:only-of-type {\n",
       "        vertical-align: middle;\n",
       "    }\n",
       "\n",
       "    .dataframe tbody tr th {\n",
       "        vertical-align: top;\n",
       "    }\n",
       "\n",
       "    .dataframe thead th {\n",
       "        text-align: right;\n",
       "    }\n",
       "</style>\n",
       "<table border=\"1\" class=\"dataframe\">\n",
       "  <thead>\n",
       "    <tr style=\"text-align: right;\">\n",
       "      <th></th>\n",
       "      <th>name</th>\n",
       "      <th>platform</th>\n",
       "      <th>year_of_release</th>\n",
       "      <th>genre</th>\n",
       "      <th>na_sales</th>\n",
       "      <th>eu_sales</th>\n",
       "      <th>jp_sales</th>\n",
       "      <th>other_sales</th>\n",
       "      <th>critic_score</th>\n",
       "      <th>user_score</th>\n",
       "      <th>rating</th>\n",
       "    </tr>\n",
       "  </thead>\n",
       "  <tbody>\n",
       "    <tr>\n",
       "      <th>600</th>\n",
       "      <td>Madden NFL 13</td>\n",
       "      <td>PS3</td>\n",
       "      <td>2012</td>\n",
       "      <td>Sports</td>\n",
       "      <td>2.11</td>\n",
       "      <td>0.22</td>\n",
       "      <td>0.0</td>\n",
       "      <td>0.23</td>\n",
       "      <td>83.0</td>\n",
       "      <td>5.5</td>\n",
       "      <td>E</td>\n",
       "    </tr>\n",
       "    <tr>\n",
       "      <th>15969</th>\n",
       "      <td>Madden NFL 13</td>\n",
       "      <td>PS3</td>\n",
       "      <td>2012</td>\n",
       "      <td>Sports</td>\n",
       "      <td>0.00</td>\n",
       "      <td>0.01</td>\n",
       "      <td>0.0</td>\n",
       "      <td>0.00</td>\n",
       "      <td>83.0</td>\n",
       "      <td>5.5</td>\n",
       "      <td>E</td>\n",
       "    </tr>\n",
       "  </tbody>\n",
       "</table>\n",
       "</div>"
      ],
      "text/plain": [
       "                name platform  year_of_release   genre  na_sales  eu_sales  \\\n",
       "600    Madden NFL 13      PS3             2012  Sports      2.11      0.22   \n",
       "15969  Madden NFL 13      PS3             2012  Sports      0.00      0.01   \n",
       "\n",
       "       jp_sales  other_sales  critic_score  user_score rating  \n",
       "600         0.0         0.23          83.0         5.5      E  \n",
       "15969       0.0         0.00          83.0         5.5      E  "
      ]
     },
     "execution_count": 8,
     "metadata": {},
     "output_type": "execute_result"
    }
   ],
   "source": [
    "#Проверим наличие строк-дублей и дубликтов по связке столбцов\n",
    "display(data.duplicated().sum())\n",
    "data.loc[data.duplicated(subset=['name','platform', 'year_of_release'], keep=False)]"
   ]
  },
  {
   "cell_type": "code",
   "execution_count": 9,
   "metadata": {},
   "outputs": [
    {
     "data": {
      "text/html": [
       "<div>\n",
       "<style scoped>\n",
       "    .dataframe tbody tr th:only-of-type {\n",
       "        vertical-align: middle;\n",
       "    }\n",
       "\n",
       "    .dataframe tbody tr th {\n",
       "        vertical-align: top;\n",
       "    }\n",
       "\n",
       "    .dataframe thead th {\n",
       "        text-align: right;\n",
       "    }\n",
       "</style>\n",
       "<table border=\"1\" class=\"dataframe\">\n",
       "  <thead>\n",
       "    <tr style=\"text-align: right;\">\n",
       "      <th></th>\n",
       "      <th>name</th>\n",
       "      <th>platform</th>\n",
       "      <th>year_of_release</th>\n",
       "      <th>genre</th>\n",
       "      <th>na_sales</th>\n",
       "      <th>eu_sales</th>\n",
       "      <th>jp_sales</th>\n",
       "      <th>other_sales</th>\n",
       "      <th>critic_score</th>\n",
       "      <th>user_score</th>\n",
       "      <th>rating</th>\n",
       "    </tr>\n",
       "  </thead>\n",
       "  <tbody>\n",
       "    <tr>\n",
       "      <th>600</th>\n",
       "      <td>Madden NFL 13</td>\n",
       "      <td>PS3</td>\n",
       "      <td>2012</td>\n",
       "      <td>Sports</td>\n",
       "      <td>2.11</td>\n",
       "      <td>0.22</td>\n",
       "      <td>0.0</td>\n",
       "      <td>0.23</td>\n",
       "      <td>83.0</td>\n",
       "      <td>5.5</td>\n",
       "      <td>E</td>\n",
       "    </tr>\n",
       "  </tbody>\n",
       "</table>\n",
       "</div>"
      ],
      "text/plain": [
       "              name platform  year_of_release   genre  na_sales  eu_sales  \\\n",
       "600  Madden NFL 13      PS3             2012  Sports      2.11      0.22   \n",
       "\n",
       "     jp_sales  other_sales  critic_score  user_score rating  \n",
       "600       0.0         0.23          83.0         5.5      E  "
      ]
     },
     "execution_count": 9,
     "metadata": {},
     "output_type": "execute_result"
    }
   ],
   "source": [
    "#Оставим первую строку, т.к. она содержит больше информации о продажах\n",
    "data = data.drop_duplicates(subset=['name','platform', 'year_of_release'], keep='first').reset_index(drop=True)\n",
    "data.loc[(data['name']=='Madden NFL 13') & (data['platform']=='PS3')]"
   ]
  },
  {
   "cell_type": "code",
   "execution_count": 10,
   "metadata": {
    "scrolled": true
   },
   "outputs": [
    {
     "data": {
      "text/html": [
       "<div>\n",
       "<style scoped>\n",
       "    .dataframe tbody tr th:only-of-type {\n",
       "        vertical-align: middle;\n",
       "    }\n",
       "\n",
       "    .dataframe tbody tr th {\n",
       "        vertical-align: top;\n",
       "    }\n",
       "\n",
       "    .dataframe thead th {\n",
       "        text-align: right;\n",
       "    }\n",
       "</style>\n",
       "<table border=\"1\" class=\"dataframe\">\n",
       "  <thead>\n",
       "    <tr style=\"text-align: right;\">\n",
       "      <th></th>\n",
       "      <th>name</th>\n",
       "      <th>platform</th>\n",
       "      <th>year_of_release</th>\n",
       "      <th>genre</th>\n",
       "      <th>na_sales</th>\n",
       "      <th>eu_sales</th>\n",
       "      <th>jp_sales</th>\n",
       "      <th>other_sales</th>\n",
       "      <th>critic_score</th>\n",
       "      <th>user_score</th>\n",
       "      <th>rating</th>\n",
       "      <th>total_sales</th>\n",
       "    </tr>\n",
       "  </thead>\n",
       "  <tbody>\n",
       "    <tr>\n",
       "      <th>0</th>\n",
       "      <td>Wii Sports</td>\n",
       "      <td>Wii</td>\n",
       "      <td>2006</td>\n",
       "      <td>Sports</td>\n",
       "      <td>41.36</td>\n",
       "      <td>28.96</td>\n",
       "      <td>3.77</td>\n",
       "      <td>8.45</td>\n",
       "      <td>76.0</td>\n",
       "      <td>8.0</td>\n",
       "      <td>E</td>\n",
       "      <td>82.54</td>\n",
       "    </tr>\n",
       "    <tr>\n",
       "      <th>1</th>\n",
       "      <td>Super Mario Bros.</td>\n",
       "      <td>NES</td>\n",
       "      <td>1985</td>\n",
       "      <td>Platform</td>\n",
       "      <td>29.08</td>\n",
       "      <td>3.58</td>\n",
       "      <td>6.81</td>\n",
       "      <td>0.77</td>\n",
       "      <td>NaN</td>\n",
       "      <td>NaN</td>\n",
       "      <td>undefined</td>\n",
       "      <td>40.24</td>\n",
       "    </tr>\n",
       "    <tr>\n",
       "      <th>2</th>\n",
       "      <td>Mario Kart Wii</td>\n",
       "      <td>Wii</td>\n",
       "      <td>2008</td>\n",
       "      <td>Racing</td>\n",
       "      <td>15.68</td>\n",
       "      <td>12.76</td>\n",
       "      <td>3.79</td>\n",
       "      <td>3.29</td>\n",
       "      <td>82.0</td>\n",
       "      <td>8.3</td>\n",
       "      <td>E</td>\n",
       "      <td>35.52</td>\n",
       "    </tr>\n",
       "    <tr>\n",
       "      <th>3</th>\n",
       "      <td>Wii Sports Resort</td>\n",
       "      <td>Wii</td>\n",
       "      <td>2009</td>\n",
       "      <td>Sports</td>\n",
       "      <td>15.61</td>\n",
       "      <td>10.93</td>\n",
       "      <td>3.28</td>\n",
       "      <td>2.95</td>\n",
       "      <td>80.0</td>\n",
       "      <td>8.0</td>\n",
       "      <td>E</td>\n",
       "      <td>32.77</td>\n",
       "    </tr>\n",
       "    <tr>\n",
       "      <th>4</th>\n",
       "      <td>Pokemon Red/Pokemon Blue</td>\n",
       "      <td>GB</td>\n",
       "      <td>1996</td>\n",
       "      <td>Role-Playing</td>\n",
       "      <td>11.27</td>\n",
       "      <td>8.89</td>\n",
       "      <td>10.22</td>\n",
       "      <td>1.00</td>\n",
       "      <td>NaN</td>\n",
       "      <td>NaN</td>\n",
       "      <td>undefined</td>\n",
       "      <td>31.38</td>\n",
       "    </tr>\n",
       "  </tbody>\n",
       "</table>\n",
       "</div>"
      ],
      "text/plain": [
       "                       name platform  year_of_release         genre  na_sales  \\\n",
       "0                Wii Sports      Wii             2006        Sports     41.36   \n",
       "1         Super Mario Bros.      NES             1985      Platform     29.08   \n",
       "2            Mario Kart Wii      Wii             2008        Racing     15.68   \n",
       "3         Wii Sports Resort      Wii             2009        Sports     15.61   \n",
       "4  Pokemon Red/Pokemon Blue       GB             1996  Role-Playing     11.27   \n",
       "\n",
       "   eu_sales  jp_sales  other_sales  critic_score  user_score     rating  \\\n",
       "0     28.96      3.77         8.45          76.0         8.0          E   \n",
       "1      3.58      6.81         0.77           NaN         NaN  undefined   \n",
       "2     12.76      3.79         3.29          82.0         8.3          E   \n",
       "3     10.93      3.28         2.95          80.0         8.0          E   \n",
       "4      8.89     10.22         1.00           NaN         NaN  undefined   \n",
       "\n",
       "   total_sales  \n",
       "0        82.54  \n",
       "1        40.24  \n",
       "2        35.52  \n",
       "3        32.77  \n",
       "4        31.38  "
      ]
     },
     "execution_count": 10,
     "metadata": {},
     "output_type": "execute_result"
    }
   ],
   "source": [
    "#Добавим столбец с суммарными продажами\n",
    "data['total_sales'] = data[['na_sales','eu_sales', 'jp_sales','other_sales']].sum(axis=1)\n",
    "data.head()"
   ]
  },
  {
   "cell_type": "markdown",
   "metadata": {},
   "source": [
    "**Вывод**\n",
    "\n",
    "На этапе предобработки были внесены следующие изменения а датафрейм:\n",
    "\n",
    "- названия столбцов приведены к нижнему регистру \n",
    "- изменены типы данных в столбцах `year_of_release` на int и `user_score` на float\n",
    "- удалены строки с пропусками в столбцах `name` и `year_of_release`\n",
    "- пропуски в столбце `rating` заменены на `undefined`\n",
    "- удалены дубликаты данных\n",
    "- добавлен новый столбец с суммарными продажи во всех регионах"
   ]
  },
  {
   "cell_type": "markdown",
   "metadata": {},
   "source": [
    "### Исследовательский анализ данных"
   ]
  },
  {
   "cell_type": "code",
   "execution_count": 11,
   "metadata": {},
   "outputs": [
    {
     "data": {
      "image/png": "[encoded data removed]",
      "text/plain": [
       "<Figure size 720x360 with 1 Axes>"
      ]
     },
     "metadata": {
      "needs_background": "light"
     },
     "output_type": "display_data"
    }
   ],
   "source": [
    "# Посмотрим сколько игр выпускалось в разные годы\n",
    "data.groupby('year_of_release')['name'].count().plot(kind='bar', figsize=(10, 5), color='#73A9AD')\n",
    "plt.title('Количество выпущенных игр', size=15)\n",
    "plt.xlabel('Год выпуска', size=12)\n",
    "plt.ylabel('Количество игр', size=12)\n",
    "plt.show()"
   ]
  },
  {
   "cell_type": "markdown",
   "metadata": {},
   "source": [
    "До 1994 г. выпускалось меньше 100 игр. Период с 2006-2011 самый ативный - выпускалось более 1000 игр каждый год. Больше всего игр было выпущено в 2008 и 2009 гг."
   ]
  },
  {
   "cell_type": "code",
   "execution_count": 12,
   "metadata": {},
   "outputs": [
    {
     "data": {
      "text/plain": [
       "platform\n",
       "PCFX       0.03\n",
       "GG         0.04\n",
       "3DO        0.10\n",
       "TG16       0.16\n",
       "WS         1.42\n",
       "NG         1.44\n",
       "SCD        1.86\n",
       "DC        15.95\n",
       "GEN       28.35\n",
       "SAT       33.59\n",
       "PSV       53.81\n",
       "WiiU      82.19\n",
       "2600      86.48\n",
       "XOne     159.32\n",
       "GC       196.73\n",
       "SNES     200.04\n",
       "N64      218.01\n",
       "NES      251.05\n",
       "XB       251.57\n",
       "GB       254.43\n",
       "PC       255.76\n",
       "3DS      257.81\n",
       "PSP      289.53\n",
       "GBA      312.88\n",
       "PS4      314.14\n",
       "PS       727.58\n",
       "DS       802.78\n",
       "Wii      891.18\n",
       "PS3      931.33\n",
       "X360     961.24\n",
       "PS2     1233.56\n",
       "Name: total_sales, dtype: float64"
      ]
     },
     "execution_count": 12,
     "metadata": {},
     "output_type": "execute_result"
    }
   ],
   "source": [
    "#Выберем платформы с наибольшими суммарными продажами\n",
    "data.groupby('platform')['total_sales'].sum().sort_values()"
   ]
  },
  {
   "cell_type": "code",
   "execution_count": 13,
   "metadata": {
    "scrolled": false
   },
   "outputs": [
    {
     "data": {
      "image/png": "[encoded data removed]",
      "text/plain": [
       "<Figure size 720x360 with 1 Axes>"
      ]
     },
     "metadata": {
      "needs_background": "light"
     },
     "output_type": "display_data"
    },
    {
     "data": {
      "image/png": "[encoded data removed]",
      "text/plain": [
       "<Figure size 720x360 with 1 Axes>"
      ]
     },
     "metadata": {
      "needs_background": "light"
     },
     "output_type": "display_data"
    },
    {
     "data": {
      "image/png": "[encoded data removed]",
      "text/plain": [
       "<Figure size 720x360 with 1 Axes>"
      ]
     },
     "metadata": {
      "needs_background": "light"
     },
     "output_type": "display_data"
    },
    {
     "data": {
      "image/png": "[encoded data removed]",
      "text/plain": [
       "<Figure size 720x360 with 1 Axes>"
      ]
     },
     "metadata": {
      "needs_background": "light"
     },
     "output_type": "display_data"
    },
    {
     "data": {
      "image/png": "[encoded data removed]",
      "text/plain": [
       "<Figure size 720x360 with 1 Axes>"
      ]
     },
     "metadata": {
      "needs_background": "light"
     },
     "output_type": "display_data"
    },
    {
     "data": {
      "image/png": "[encoded data removed]",
      "text/plain": [
       "<Figure size 720x360 with 1 Axes>"
      ]
     },
     "metadata": {
      "needs_background": "light"
     },
     "output_type": "display_data"
    }
   ],
   "source": [
    "platforms=['PS','DS','Wii', 'PS3', 'X360', 'PS2']\n",
    "\n",
    "for i in platforms:\n",
    "    data.loc[data['platform']==i].\\\n",
    "    groupby(['year_of_release'])['total_sales'].sum().plot(kind='bar', figsize=(10, 5), color='#73A9AD')\n",
    "    plt.xticks(rotation=0)\n",
    "    plt.title(f'Распределние продаж платформы {i} по годам', size=15)\n",
    "    plt.xlabel('Год выпуска', size=12)\n",
    "    plt.ylabel('Суммарные продажи', size=12)\n",
    "    plt.show()"
   ]
  },
  {
   "cell_type": "markdown",
   "metadata": {},
   "source": [
    "Платформы функционируют по 10-12 лет. Первые 5-6 лет идет активный рост продаж игр, после чего начинается постепенный спад. 3 из 6 платформ уже не работают в 2016 г. Нам необходимо сделать прогноз на 2017 г, поэтому возьмем самые актуальные для бизнеса данные - за последние 4 года."
   ]
  },
  {
   "cell_type": "code",
   "execution_count": 14,
   "metadata": {
    "scrolled": true
   },
   "outputs": [
    {
     "data": {
      "text/plain": [
       "platform\n",
       "3DS     303\n",
       "DS        8\n",
       "PC      189\n",
       "PS3     345\n",
       "PS4     392\n",
       "PSP      67\n",
       "PSV     358\n",
       "Wii      23\n",
       "WiiU    115\n",
       "X360    186\n",
       "XOne    247\n",
       "Name: total_sales, dtype: int64"
      ]
     },
     "execution_count": 14,
     "metadata": {},
     "output_type": "execute_result"
    }
   ],
   "source": [
    "data_relevant = data.loc[data['year_of_release']>=2013].reset_index(drop=True)\n",
    "#data_relevant.groupby('platform')['total_sales'].sum().sort_values()\n",
    "data_relevant.groupby('platform')['total_sales'].count()"
   ]
  },
  {
   "cell_type": "code",
   "execution_count": 15,
   "metadata": {},
   "outputs": [
    {
     "data": {
      "image/png": "[encoded data removed]",
      "text/plain": [
       "<Figure size 792x504 with 1 Axes>"
      ]
     },
     "metadata": {
      "needs_background": "light"
     },
     "output_type": "display_data"
    }
   ],
   "source": [
    "#Проанализируем топ 6 платформ по рейтингу продаж\n",
    "new_list = ['WiiU', 'X360', '3DS', 'XOne', 'PS3', 'PS4']\n",
    "for i in new_list:\n",
    "    data_relevant.loc[data_relevant['platform']==i].\\\n",
    "    groupby(['year_of_release'])['total_sales'].sum().plot(figsize=(11, 7), label = i)\n",
    "    plt.xticks(rotation=0)\n",
    "    plt.title('Продажи платформ 2013-2016 гг.', size=15)\n",
    "    plt.xlabel('Год выпуска', size=12)\n",
    "    plt.ylabel('Суммарные продажи', size=12)\n",
    "    plt.legend(title=\"Платформы\", loc=\"center left\", prop = {'size': 12}, bbox_to_anchor=(1, 0, 0.5, 1))\n",
    "    plt.xticks([2013, 2014, 2015, 2016]);"
   ]
  },
  {
   "cell_type": "markdown",
   "metadata": {},
   "source": [
    "Лидерами продаж за период 2013-2016 гг являются платформы: WiiU, X360, 3DS, XOne, PS3, PS4. Самую большую долю на рынке занимает PS4. В 2016 г наблюдается спад продаж всех платформ, однако, это скорее всего связано с неполными данными за 2016 г. У двух платформ PS4 и XOne виден значительный рост продаж за 2013-2015 гг, в 2016 г они также являются лидерами по продажам игр. Продажи WiiU стабильны на протяжении всего анализируемого периода, у всех остальных платформ наблюдается падение. Платформа PS4 сокрее всего забрала себе часть продаж более старой платформы PS3. Резкий рост продаж PS4 сопровождается таким же резким падением продаж PS3."
   ]
  },
  {
   "cell_type": "code",
   "execution_count": 16,
   "metadata": {
    "scrolled": true
   },
   "outputs": [
    {
     "data": {
      "image/png": "[encoded data removed]",
      "text/plain": [
       "<Figure size 864x432 with 1 Axes>"
      ]
     },
     "metadata": {
      "needs_background": "light"
     },
     "output_type": "display_data"
    }
   ],
   "source": [
    "plt.figure(figsize=(12, 6))\n",
    "sns.boxplot(data=data_relevant.query('platform in @new_list'), y = 'total_sales', x='platform').set\\\n",
    "(title = 'Распределение продажи игр в разбивке по топовым платформам', xlabel = 'Платформы', ylabel = 'Суммарные продажи')\n",
    "plt.ylim(0, 2);"
   ]
  },
  {
   "cell_type": "markdown",
   "metadata": {},
   "source": [
    "У всех платформ есть выбросы данных, что указывает на ниличие популярных игр с высокими продажами на всех 6 платформах. Межквртильных размах платформы 3DS значительно уже остальных платформ, что говорит об однородности продаж. Медиана у всех платформ смещена вниз, что указывает на большое количество игр с низкими продажами."
   ]
  },
  {
   "cell_type": "markdown",
   "metadata": {},
   "source": [
    "**Проверим, как влияют на продажи, отзывы пользователей и критиков**"
   ]
  },
  {
   "cell_type": "code",
   "execution_count": 17,
   "metadata": {
    "scrolled": false
   },
   "outputs": [
    {
     "name": "stdout",
     "output_type": "stream",
     "text": [
      "Коэффициент корреляции продаж PS4 и рейтинга пользователей:     -0.031957110204556376\n",
      "Коэффициент корреляции продаж PS4 и рейтинга критиков:     0.406567902061781\n"
     ]
    }
   ],
   "source": [
    "#Найдем коэффициенты корреляции для платформы PS4\n",
    "def kor(p):\n",
    "    print(f'Коэффициент корреляции продаж {p} и рейтинга пользователей: \\\n",
    "    {data_relevant.loc[data_relevant[\"platform\"]==p][\"total_sales\"].corr(data_relevant.loc[data_relevant[\"platform\"]==p][\"user_score\"])}')\n",
    "    print(f'Коэффициент корреляции продаж {p} и рейтинга критиков: \\\n",
    "    {data_relevant.loc[data_relevant[\"platform\"]==p][\"total_sales\"].corr(data_relevant.loc[data_relevant[\"platform\"]==p][\"critic_score\"])}')\n",
    "\n",
    "kor(\"PS4\")"
   ]
  },
  {
   "cell_type": "code",
   "execution_count": 18,
   "metadata": {},
   "outputs": [
    {
     "data": {
      "image/png": "[encoded data removed]",
      "text/plain": [
       "<Figure size 576x360 with 1 Axes>"
      ]
     },
     "metadata": {
      "needs_background": "light"
     },
     "output_type": "display_data"
    },
    {
     "data": {
      "image/png": "[encoded data removed]",
      "text/plain": [
       "<Figure size 576x360 with 1 Axes>"
      ]
     },
     "metadata": {
      "needs_background": "light"
     },
     "output_type": "display_data"
    }
   ],
   "source": [
    "data_relevant.query('platform==\"PS4\"').\\\n",
    "plot(x='total_sales', y='user_score', kind='scatter', \\\n",
    "     grid=True, title='Зависимость продаж от рейтинга пользователей', \\\n",
    "     xlabel='продажи', ylabel='рейтинг пользователей', figsize=(8, 5))\n",
    "data_relevant.query('platform==\"PS4\"').\\\n",
    "plot(x='total_sales', y='user_score', kind='scatter', \\\n",
    "     grid=True, title='Зависимость продаж от рейтинга критиков', \\\n",
    "     xlabel='продажи', ylabel='рейтинг критиков', figsize=(8, 5))\n",
    "plt.show()"
   ]
  },
  {
   "cell_type": "markdown",
   "metadata": {},
   "source": [
    "Прямой зависимости между оценками пользователей и продажами не наблюдается.\n",
    "\n",
    "Оценки критиков оказывают влияние на продажи, хоть и несильное.\n",
    "\n",
    "Проверим данные выводы на других платформах."
   ]
  },
  {
   "cell_type": "code",
   "execution_count": 19,
   "metadata": {
    "scrolled": true
   },
   "outputs": [
    {
     "name": "stdout",
     "output_type": "stream",
     "text": [
      "Коэффициент корреляции продаж WiiU и рейтинга пользователей:     0.4193304819266187\n",
      "Коэффициент корреляции продаж WiiU и рейтинга критиков:     0.3764149065423912\n",
      "\n",
      "Коэффициент корреляции продаж X360 и рейтинга пользователей:     -0.011742185147181342\n",
      "Коэффициент корреляции продаж X360 и рейтинга критиков:     0.3503445460228664\n",
      "\n",
      "Коэффициент корреляции продаж 3DS и рейтинга пользователей:     0.24150411773563016\n",
      "Коэффициент корреляции продаж 3DS и рейтинга критиков:     0.35705661422881035\n",
      "\n",
      "Коэффициент корреляции продаж XOne и рейтинга пользователей:     -0.06892505328279412\n",
      "Коэффициент корреляции продаж XOne и рейтинга критиков:     0.41699832800840175\n",
      "\n",
      "Коэффициент корреляции продаж PS3 и рейтинга пользователей:     0.0023944027357566925\n",
      "Коэффициент корреляции продаж PS3 и рейтинга критиков:     0.3342853393371919\n",
      "\n"
     ]
    }
   ],
   "source": [
    "plat=['WiiU', 'X360', '3DS', 'XOne', 'PS3']\n",
    "for i in plat:\n",
    "    kor(i)\n",
    "    print()"
   ]
  },
  {
   "cell_type": "code",
   "execution_count": 20,
   "metadata": {},
   "outputs": [
    {
     "data": {
      "image/png": "[encoded data removed]",
      "text/plain": [
       "<Figure size 648x648 with 9 Axes>"
      ]
     },
     "metadata": {
      "needs_background": "light"
     },
     "output_type": "display_data"
    },
    {
     "data": {
      "image/png": "[encoded data removed]",
      "text/plain": [
       "<Figure size 648x648 with 9 Axes>"
      ]
     },
     "metadata": {
      "needs_background": "light"
     },
     "output_type": "display_data"
    },
    {
     "data": {
      "image/png": "[encoded data removed]",
      "text/plain": [
       "<Figure size 648x648 with 9 Axes>"
      ]
     },
     "metadata": {
      "needs_background": "light"
     },
     "output_type": "display_data"
    },
    {
     "data": {
      "image/png": "[encoded data removed]",
      "text/plain": [
       "<Figure size 648x648 with 9 Axes>"
      ]
     },
     "metadata": {
      "needs_background": "light"
     },
     "output_type": "display_data"
    },
    {
     "data": {
      "image/png": "[encoded data removed]",
      "text/plain": [
       "<Figure size 648x648 with 9 Axes>"
      ]
     },
     "metadata": {
      "needs_background": "light"
     },
     "output_type": "display_data"
    }
   ],
   "source": [
    "#Построим диаграммы рассеяния для остальных платформ\n",
    "\n",
    "for i in plat:\n",
    "    data_corr=data_relevant.query('platform==@i')[['total_sales','user_score', 'critic_score']]\n",
    "    pd.plotting.scatter_matrix(data_corr, figsize=(9, 9)) \n",
    "    plt.suptitle(f'Зависимость продаж платформы {i} от рейтинга')\n",
    "    plt.show()\n",
    "    "
   ]
  },
  {
   "cell_type": "markdown",
   "metadata": {},
   "source": [
    " Наши выводы подвердилсь на всех платформах, кроме WiiU. Для данной платформы влияние оценок пользователей оказалось сильнее, чем критиков. Для остальных платформ характерно более сильное влияние на продажи рейтинга критиков."
   ]
  },
  {
   "cell_type": "markdown",
   "metadata": {},
   "source": [
    "**Посмотрим на общее распеределение игр по жанрам. Найдем самые прибыльные и наименее прибыльные жанры игр.**"
   ]
  },
  {
   "cell_type": "code",
   "execution_count": 21,
   "metadata": {},
   "outputs": [
    {
     "data": {
      "text/html": [
       "<div>\n",
       "<style scoped>\n",
       "    .dataframe tbody tr th:only-of-type {\n",
       "        vertical-align: middle;\n",
       "    }\n",
       "\n",
       "    .dataframe tbody tr th {\n",
       "        vertical-align: top;\n",
       "    }\n",
       "\n",
       "    .dataframe thead th {\n",
       "        text-align: right;\n",
       "    }\n",
       "</style>\n",
       "<table border=\"1\" class=\"dataframe\">\n",
       "  <thead>\n",
       "    <tr style=\"text-align: right;\">\n",
       "      <th></th>\n",
       "      <th>суммарные_продажи</th>\n",
       "      <th>доля в продажах</th>\n",
       "    </tr>\n",
       "    <tr>\n",
       "      <th>genre</th>\n",
       "      <th></th>\n",
       "      <th></th>\n",
       "    </tr>\n",
       "  </thead>\n",
       "  <tbody>\n",
       "    <tr>\n",
       "      <th>Puzzle</th>\n",
       "      <td>3.17</td>\n",
       "      <td>0.29%</td>\n",
       "    </tr>\n",
       "    <tr>\n",
       "      <th>Strategy</th>\n",
       "      <td>10.08</td>\n",
       "      <td>0.92%</td>\n",
       "    </tr>\n",
       "    <tr>\n",
       "      <th>Simulation</th>\n",
       "      <td>21.76</td>\n",
       "      <td>2.00%</td>\n",
       "    </tr>\n",
       "    <tr>\n",
       "      <th>Adventure</th>\n",
       "      <td>23.64</td>\n",
       "      <td>2.17%</td>\n",
       "    </tr>\n",
       "    <tr>\n",
       "      <th>Fighting</th>\n",
       "      <td>35.31</td>\n",
       "      <td>3.24%</td>\n",
       "    </tr>\n",
       "    <tr>\n",
       "      <th>Racing</th>\n",
       "      <td>39.89</td>\n",
       "      <td>3.66%</td>\n",
       "    </tr>\n",
       "    <tr>\n",
       "      <th>Platform</th>\n",
       "      <td>42.63</td>\n",
       "      <td>3.91%</td>\n",
       "    </tr>\n",
       "    <tr>\n",
       "      <th>Misc</th>\n",
       "      <td>62.82</td>\n",
       "      <td>5.76%</td>\n",
       "    </tr>\n",
       "    <tr>\n",
       "      <th>Role-Playing</th>\n",
       "      <td>145.89</td>\n",
       "      <td>13.38%</td>\n",
       "    </tr>\n",
       "    <tr>\n",
       "      <th>Sports</th>\n",
       "      <td>150.65</td>\n",
       "      <td>13.81%</td>\n",
       "    </tr>\n",
       "    <tr>\n",
       "      <th>Shooter</th>\n",
       "      <td>232.98</td>\n",
       "      <td>21.36%</td>\n",
       "    </tr>\n",
       "    <tr>\n",
       "      <th>Action</th>\n",
       "      <td>321.87</td>\n",
       "      <td>29.51%</td>\n",
       "    </tr>\n",
       "  </tbody>\n",
       "</table>\n",
       "</div>"
      ],
      "text/plain": [
       "              суммарные_продажи доля в продажах\n",
       "genre                                          \n",
       "Puzzle                     3.17           0.29%\n",
       "Strategy                  10.08           0.92%\n",
       "Simulation                21.76           2.00%\n",
       "Adventure                 23.64           2.17%\n",
       "Fighting                  35.31           3.24%\n",
       "Racing                    39.89           3.66%\n",
       "Platform                  42.63           3.91%\n",
       "Misc                      62.82           5.76%\n",
       "Role-Playing             145.89          13.38%\n",
       "Sports                   150.65          13.81%\n",
       "Shooter                  232.98          21.36%\n",
       "Action                   321.87          29.51%"
      ]
     },
     "metadata": {},
     "output_type": "display_data"
    },
    {
     "data": {
      "image/png": "[encoded data removed]",
      "text/plain": [
       "<Figure size 720x720 with 1 Axes>"
      ]
     },
     "metadata": {},
     "output_type": "display_data"
    }
   ],
   "source": [
    "data_genre = data_relevant.groupby(['genre']).agg({'total_sales':'sum'}).sort_values(by='total_sales')\n",
    "data_genre.columns = ['суммарные_продажи']\n",
    "data_genre['доля в продажах'] = data_genre['суммарные_продажи']/data_genre['суммарные_продажи'].sum()\n",
    "data_genre['доля в продажах'] = data_genre['доля в продажах'].map(lambda n: '{:,.2%}'.format(n))\n",
    "display(data_genre)\n",
    "\n",
    "data_genre.plot.pie(y='суммарные_продажи',figsize=(10, 10), autopct='%1.1f%%', labels=None, pctdistance=1.12)\n",
    "plt.title('Доля различных жанров игр в продажах платформ')\n",
    "plt.legend(labels=data_genre.index, title=\"Жанры\", loc=\"center left\", bbox_to_anchor=(1, 0, 0.5, 1))\n",
    "plt.show()"
   ]
  },
  {
   "cell_type": "markdown",
   "metadata": {},
   "source": [
    "Если судить по суммарным продажам, наиболее популярными жанрами, которые приносят практичеки 80% выручки всех платформ, являются `Action`, `Shooter`, `Sports`, `Role-Playing`. Наимее прибыльными являются жанры: `Puzzle\t`, `Strategy`. Однако, такая большая доля в продажах может быть связана не с предпочтениями покупателей, а просто большим количеством игр этих жанров. Поэтому рассмотрим медианные продажи каждого жанра."
   ]
  },
  {
   "cell_type": "code",
   "execution_count": 31,
   "metadata": {},
   "outputs": [
    {
     "data": {
      "image/png": "[encoded data removed]",
      "text/plain": [
       "<Figure size 720x360 with 1 Axes>"
      ]
     },
     "metadata": {
      "needs_background": "light"
     },
     "output_type": "display_data"
    },
    {
     "data": {
      "text/plain": [
       "genre\n",
       "Action          766\n",
       "Role-Playing    292\n",
       "Adventure       245\n",
       "Sports          214\n",
       "Shooter         187\n",
       "Misc            155\n",
       "Racing           85\n",
       "Fighting         80\n",
       "Platform         74\n",
       "Simulation       62\n",
       "Strategy         56\n",
       "Puzzle           17\n",
       "Name: name, dtype: int64"
      ]
     },
     "execution_count": 31,
     "metadata": {},
     "output_type": "execute_result"
    }
   ],
   "source": [
    "#Посчитаем медианные продажи по жанрам\n",
    "data_relevant.groupby(['genre'])['total_sales'].median().sort_values().\\\n",
    "plot(kind='bar', figsize=(10, 5), color='#73A9AD')\n",
    "plt.title('Средние продажи игр по жанрам', size=15)\n",
    "plt.xlabel('жанр', size=12)\n",
    "plt.ylabel('средние продажи', size=12)\n",
    "plt.show()\n",
    "\n",
    "#Проверим количество игр каждого жанра\n",
    "data_relevant.groupby(['genre'])['name'].count().sort_values(ascending=False)"
   ]
  },
  {
   "cell_type": "markdown",
   "metadata": {},
   "source": [
    "Если оценивать продажи игр по медиане, то сразу видно 3 явных лидера: `Shooter`, `Sports`, `Platform`. Успех жанра `Action` в предыдущих расчетах был связан с большим количеством выпущенных игр на всех платформах. Игр жанра `Action` практически в 4 раза больше, чем игр жанра `Shooter`."
   ]
  },
  {
   "cell_type": "markdown",
   "metadata": {},
   "source": [
    "### Портрет пользователя каждого региона"
   ]
  },
  {
   "cell_type": "markdown",
   "metadata": {},
   "source": [
    "**Опередлим для пользователей каждого региона (NA, EU, JP) топ-5 самых популярных платформ.**"
   ]
  },
  {
   "cell_type": "code",
   "execution_count": null,
   "metadata": {},
   "outputs": [],
   "source": [
    "data_pivoted = data_relevant.pivot_table(\n",
    "    index='platform',\n",
    "    values = ['na_sales', 'eu_sales', 'jp_sales'],\n",
    "    aggfunc = 'sum'\n",
    ").apply(\n",
    "    lambda x: x / x.sum(),\n",
    "    axis=0\n",
    ").round(4)\n",
    "\n",
    "display('Северная Америка:')\n",
    "display(data_pivoted['na_sales'].sort_values(ascending=False).head(5))\n",
    "display('Европа:')\n",
    "display(data_pivoted['eu_sales'].sort_values(ascending=False).head(5))\n",
    "display('Япония:')\n",
    "display(data_pivoted['jp_sales'].sort_values(ascending=False).head(5))"
   ]
  },
  {
   "cell_type": "markdown",
   "metadata": {},
   "source": [
    "В Европе и Северной Америке самой популярной платформой являтся `PS4`. В Японии эта платформа зпнимает 4-е место по популярности. Абсолютным лидором среди японских пользователей является платформа 3DS (на ее долю приходится почти 50% продаж всех игр). При этом в двух других регионах она на 5-м месте. Предпочтения пользователей в Европе и Северной Америке очень схожи."
   ]
  },
  {
   "cell_type": "markdown",
   "metadata": {},
   "source": [
    "**Опередлим для пользователей каждого региона (NA, EU, JP) топ-5 самых популярных жанров.**"
   ]
  },
  {
   "cell_type": "code",
   "execution_count": null,
   "metadata": {
    "scrolled": true
   },
   "outputs": [],
   "source": [
    "data_pivoted = data_relevant.pivot_table(\n",
    "    index='genre',\n",
    "    values = ['na_sales', 'eu_sales', 'jp_sales'],\n",
    "    aggfunc = 'sum'\n",
    ").apply(\n",
    "    lambda x: x / x.sum(),\n",
    "    axis=0\n",
    ").round(4)\n",
    "\n",
    "display('Северная Америка:')\n",
    "display(data_pivoted['na_sales'].sort_values(ascending=False).head(5))\n",
    "display('Европа:')\n",
    "display(data_pivoted['eu_sales'].sort_values(ascending=False).head(5))\n",
    "display('Япония:')\n",
    "display(data_pivoted['jp_sales'].sort_values(ascending=False).head(5))"
   ]
  },
  {
   "cell_type": "markdown",
   "metadata": {},
   "source": [
    "Как и в случае с платформой жанровые предпочтения пользователей из Европы и Северной Америки очень схожи. Отличие только в 5-ом месте. В Северной Америке на 5-м месте жанр `Misc`, а в Европе-`Racing `. На первом месте в этих регионах жанр `Action`.\n",
    "\n",
    "В Японии `Action` занимает 2-е место, а на 1-м месте - `Role-Playing`.\n",
    "\n",
    "В целом, если запускать одинаковую рекламную акцию для всех регионов, то лучше сделать стаквку на жанр `Action`, т.к. доля этого жанра в продажах значительна во всех трех регионах."
   ]
  },
  {
   "cell_type": "markdown",
   "metadata": {},
   "source": [
    "**Проверим влияет ли рейтинг ESRB на продажи в отдельном регионе**"
   ]
  },
  {
   "cell_type": "code",
   "execution_count": null,
   "metadata": {},
   "outputs": [],
   "source": [
    "data_relevant.pivot_table(\n",
    "    index='rating',\n",
    "    values = ['na_sales', 'eu_sales', 'jp_sales'],\n",
    "    aggfunc = 'sum'\n",
    ").apply(\n",
    "    lambda x: x / x.sum(),\n",
    "    axis=0\n",
    ").round(4)"
   ]
  },
  {
   "cell_type": "markdown",
   "metadata": {},
   "source": [
    "Для начала определим, как расшифровываются аббревиатуры рейтинга `ESRB`:\n",
    "- «E» («Everyone») — «Для всех»\n",
    "- «E10+» («Everyone 10 and older») — «Для всех от 10 лет и старше»\n",
    "- «M» («Mature») — «Для взрослых»\n",
    "- «T» («Teen») — «Для подростков»\n",
    "\n",
    "В Японии для большей части игр рейтинг не опеределен. Вполне возможно, что рейтинг местным играм присваивается какой-либо другой организацией. Либо присваивание рейтинга не требуется по местному законодательству. Или же это какая-то массовая техническая ошибка при сборе или выгрузке данных.\n",
    "\n",
    "На Европейской и Северо-Американском рынках лидируют по продажам игры для взрослой категории граждан «M». Данный рейтинг присваиваается по больешй части играм жанра `Action` и `Shooter`, которые являются лидерами продаж, согласно ранее сделанному анализу."
   ]
  },
  {
   "cell_type": "markdown",
   "metadata": {},
   "source": [
    "### Проверка гипотез"
   ]
  },
  {
   "cell_type": "markdown",
   "metadata": {},
   "source": [
    "**Гипотеза 1 Средние пользовательские рейтинги платформ Xbox One и PC одинаковые**\n",
    "\n",
    "Необходимо проверить двухстороннюю гипотезу.\n",
    "\n",
    "Нулевая гипотеза H0: Средние пользовательские рейтинги платформ Xbox One и PC одинаковые\n",
    "\n",
    "Альтернативная гипотеза H1: Средние пользовательские рейтинги платформ Xbox One и PC разные\n",
    "\n",
    "В Python есть специальный метод для проверки гипотезы о равенстве среднего двух генеральных совокупностей по взятым из них выборкам: scipy.stats.ttest_ind(array1, array2, equal_var, alternative). Т.к величина выборок у нас отличается, то будем применять equal_var=False.\n",
    "\n",
    "Продолжим работать с датафреймом data_relevant, содержащим данные за 2013-16 гг."
   ]
  },
  {
   "cell_type": "code",
   "execution_count": null,
   "metadata": {},
   "outputs": [],
   "source": [
    "#Уберем пустые значения в столбце с рейтингом для проверки гипотез\n",
    "\n",
    "xbox_one = data_relevant.loc[(data_relevant['platform'] == 'XOne') \\\n",
    "                             & ~(data_relevant['user_score'].isna())]['user_score'].reset_index(drop=True)\n",
    "\n",
    "pc = data_relevant.loc[(data_relevant['platform'] == 'PC') \\\n",
    "                             & ~(data_relevant['user_score'].isna())]['user_score'].reset_index(drop=True)\n",
    "display(len(xbox_one),len(pc))"
   ]
  },
  {
   "cell_type": "code",
   "execution_count": null,
   "metadata": {
    "scrolled": true
   },
   "outputs": [],
   "source": [
    "#Проверка гипотезы\n",
    "alpha = 0.05 # уровень статистической значимости\n",
    "\n",
    "results = st.ttest_ind(xbox_one, pc, equal_var=False)\n",
    "\n",
    "print('p-значение:', results.pvalue)\n",
    "\n",
    "if results.pvalue < alpha:\n",
    "    print('Отвергаем нулевую гипотезу')\n",
    "else:\n",
    "    print('Не получилось отвергнуть нулевую гипотезу') "
   ]
  },
  {
   "cell_type": "markdown",
   "metadata": {},
   "source": [
    "Полученное значение p-value равно почти 15%. Это явно слишком большая вероятность, чтобы делать вывод о том, что средние пользовательские рейтинги платформ не равны."
   ]
  },
  {
   "cell_type": "markdown",
   "metadata": {},
   "source": [
    "**Гипотеза 2 Средние пользовательские рейтинги жанров Action и Sports разные**\n",
    "\n",
    "Необходимо проверить двухстороннюю гипотезу.\n",
    "\n",
    "Нулевая гипотеза H0: Средние пользовательские рейтинги жанров Action и Sports одинаковые\n",
    "\n",
    "Альтернативная гипотеза H1: Средние пользовательские рейтинги жанров Action и Sports разные\n",
    "\n",
    "Величина выборок у нас значительно отличается (более, чем в 2 раза), поэтому будем применять equal_var=False."
   ]
  },
  {
   "cell_type": "code",
   "execution_count": null,
   "metadata": {},
   "outputs": [],
   "source": [
    "action = data_relevant.loc[(data_relevant['genre'] == 'Action') \\\n",
    "                             & ~(data_relevant['user_score'].isna())]['user_score'].reset_index(drop=True)\n",
    "\n",
    "sports = data_relevant.loc[(data_relevant['genre'] == 'Sports') \\\n",
    "                             & ~(data_relevant['user_score'].isna())]['user_score'].reset_index(drop=True)\n",
    "display(len(action),len(sports))"
   ]
  },
  {
   "cell_type": "code",
   "execution_count": null,
   "metadata": {},
   "outputs": [],
   "source": [
    "#Проверка гипотезы\n",
    "alpha = 0.05 # уровень статистической значимости\n",
    "\n",
    "results = st.ttest_ind(action, sports, equal_var=False)\n",
    "\n",
    "print('p-значение:', results.pvalue)\n",
    "\n",
    "if results.pvalue < alpha:\n",
    "    print('Отвергаем нулевую гипотезу')\n",
    "else:\n",
    "    print('Не получилось отвергнуть нулевую гипотезу') "
   ]
  },
  {
   "cell_type": "markdown",
   "metadata": {},
   "source": [
    "Полученное значение p-value меньше заданного уровня значимости, поэтому можно отвергнуть нулевую гипотезу. Значит срдние рейтинги жанров Action и Sports различны."
   ]
  },
  {
   "cell_type": "markdown",
   "metadata": {},
   "source": [
    "### Общий вывод"
   ]
  },
  {
   "cell_type": "markdown",
   "metadata": {},
   "source": [
    "Были получены исторические данные о продажах игр, оценках пользователей и экспертов, жанрах и платформах в различных регионах. Основной задачей исселдования было выявить определяющие успешность игры закономерности. Это позволит сделать ставку на потенциально популярный продукт и спланировать рекламные кампании.\n",
    "\n",
    "Для анализа был взят период с 2013-2016 гг., как самый релевантный.\n",
    "\n",
    "**На этапе предобработки были внесены следующие изменения в данные:**\n",
    "\n",
    "- названия столбцов приведены к нижнему регистру \n",
    "- изменены типы данных в столбцах `year_of_release` на int и `user_score` на float\n",
    "- удалены строки с пропусками в столбцах `name` и `year_of_release`\n",
    "- пропуски в столбце `rating` заменены на `undefined`\n",
    "- удалены дубликаты данных\n",
    "- добавлен новый столбец с суммарными продажи во всех регионах\n",
    "\n",
    "**Выводы**\n",
    "\n",
    "- Лидерами продаж являются платформы: WiiU, X360, 3DS, XOne, PS3, PS4. Самую большую долю на рынке занимает PS4.\n",
    "- Для всех платформ, кроме WiiU, отсутсвует прямая зависимость между оценками пользователей и продажами. Оценки критиков оказывают влияние на продажи, хоть и несильное. Для WiiU влияние оценок пользователей оказалось сильнее, чем критиков.\n",
    "- Наиболее прибыльными жанарми, которые приносят практичеки 80% выручки всех платформ, являются `Action`, `Shooter`, `Sports`, `Role-Playing`. Такая высокая выручка связана не с предпочтениями покупателей, а с большим количеством игр, которые выпускаются в этих жанрах. Наименее прибыльными являются жанры: `Puzzle\t`, `Strategy`.\n",
    "- Если оценивать продажи игр по медиане, то сразу видно 3 явных лидера: Shooter, Sports, Platform.\n",
    "- Предпочтения пользователей в Европе и Северной Америке очень схож, а рынок Японии занчительно от них отличается:\n",
    " - В Европе и Северной Америке самой популярной платформой являтся `PS4`, а самым популярным жанром `Action`.\n",
    " - В Японии абсолютным лидером является платформа 3DS (на ее долю приходится почти 50% продаж всех игр), а самым популярным жанром `Role-Playing`.\n",
    " - На Европейской и Северо-Американском рынках лидируют по продажам игры для взрослой категории граждан «M».\n",
    " - В Японии для большей части игр рейтинг не опеределен, поэтому не удалось сделать выводы относительно влияния рейтинга ESRB на продажи игр.\n",
    "- Гипотеза о равенстве средних пользовательских рейтингов платформ Xbox One и PC не опреовергнута.\n",
    "- Гипотеза о том, что средние пользовательские рейтинги жанров Action и Sports разные подтвердилась.\n",
    "\n",
    "**Рекомендации**\n",
    "\n",
    "В сявзи с тем, что предпочтения пользователей в Европе и Северной Америке очень схожи, то для данных регинов может быть запущена одна маркетинговая акция. Что же касается рынка Японии, то необходимо разработать акцию, с учетом предпочтений пользователей данного региона, т.к. в Японии очень много своих локальных особенностей.\n",
    "\n",
    "В целом, если запускать одинаковую рекламную акцию для всех регионов, то лучше сделать стаквку на жанр `Action`, т.к. доля этого жанра в продажах значительна во всех трех регионах."
   ]
  }
 ],
 "metadata": {
  "ExecuteTimeLog": [
   {
    "duration": 3,
    "start_time": "2023-10-30T19:05:34.897Z"
   },
   {
    "duration": 448,
    "start_time": "2023-10-30T19:07:35.846Z"
   },
   {
    "duration": 218,
    "start_time": "2023-10-30T19:07:36.296Z"
   },
   {
    "duration": 75,
    "start_time": "2023-10-30T19:11:32.015Z"
   },
   {
    "duration": 3,
    "start_time": "2023-10-30T19:22:27.267Z"
   },
   {
    "duration": 14,
    "start_time": "2023-10-30T19:22:38.640Z"
   },
   {
    "duration": 3,
    "start_time": "2023-10-30T19:23:27.807Z"
   },
   {
    "duration": 17,
    "start_time": "2023-10-30T19:25:42.493Z"
   },
   {
    "duration": 18,
    "start_time": "2023-10-30T19:26:40.729Z"
   },
   {
    "duration": 120,
    "start_time": "2023-10-30T19:27:51.762Z"
   },
   {
    "duration": 37,
    "start_time": "2023-10-30T19:29:01.890Z"
   },
   {
    "duration": 23,
    "start_time": "2023-10-30T19:32:02.505Z"
   },
   {
    "duration": 26,
    "start_time": "2023-10-30T19:32:13.876Z"
   },
   {
    "duration": 25,
    "start_time": "2023-10-30T19:32:32.313Z"
   },
   {
    "duration": 33,
    "start_time": "2023-10-30T19:34:02.537Z"
   },
   {
    "duration": 25,
    "start_time": "2023-10-30T19:34:52.537Z"
   },
   {
    "duration": 1051,
    "start_time": "2023-10-30T19:37:46.471Z"
   },
   {
    "duration": 17,
    "start_time": "2023-10-30T19:48:24.169Z"
   },
   {
    "duration": 29,
    "start_time": "2023-10-30T19:48:34.601Z"
   },
   {
    "duration": 78,
    "start_time": "2023-10-30T19:49:23.052Z"
   },
   {
    "duration": 6,
    "start_time": "2023-10-30T19:49:50.320Z"
   },
   {
    "duration": 23,
    "start_time": "2023-10-30T19:50:10.568Z"
   },
   {
    "duration": 14,
    "start_time": "2023-10-30T19:50:58.504Z"
   },
   {
    "duration": 61,
    "start_time": "2023-10-30T19:51:16.230Z"
   },
   {
    "duration": 24,
    "start_time": "2023-10-30T19:53:33.687Z"
   },
   {
    "duration": 5,
    "start_time": "2023-10-30T19:54:43.481Z"
   },
   {
    "duration": 74,
    "start_time": "2023-10-30T19:54:59.734Z"
   },
   {
    "duration": 1711,
    "start_time": "2023-10-30T19:55:04.374Z"
   },
   {
    "duration": 13,
    "start_time": "2023-10-30T19:55:21.720Z"
   },
   {
    "duration": 6,
    "start_time": "2023-10-30T19:55:24.024Z"
   },
   {
    "duration": 35,
    "start_time": "2023-10-30T20:02:16.479Z"
   },
   {
    "duration": 14,
    "start_time": "2023-10-30T20:02:57.201Z"
   },
   {
    "duration": 87,
    "start_time": "2023-10-30T20:03:19.886Z"
   },
   {
    "duration": 10,
    "start_time": "2023-10-30T20:03:27.809Z"
   },
   {
    "duration": 76,
    "start_time": "2023-10-30T20:03:54.958Z"
   },
   {
    "duration": 15,
    "start_time": "2023-10-30T20:04:00.509Z"
   },
   {
    "duration": 25,
    "start_time": "2023-10-30T20:04:03.296Z"
   },
   {
    "duration": 33,
    "start_time": "2023-10-30T20:05:04.087Z"
   },
   {
    "duration": 5,
    "start_time": "2023-10-30T20:05:50.307Z"
   },
   {
    "duration": 26,
    "start_time": "2023-10-30T20:10:45.733Z"
   },
   {
    "duration": 373,
    "start_time": "2023-10-30T20:13:29.387Z"
   },
   {
    "duration": 94,
    "start_time": "2023-10-30T20:13:29.762Z"
   },
   {
    "duration": 14,
    "start_time": "2023-10-30T20:13:29.857Z"
   },
   {
    "duration": 10,
    "start_time": "2023-10-30T20:13:29.873Z"
   },
   {
    "duration": 55,
    "start_time": "2023-10-30T20:13:29.884Z"
   },
   {
    "duration": 47,
    "start_time": "2023-10-30T20:14:29.924Z"
   },
   {
    "duration": 64,
    "start_time": "2023-10-30T20:15:11.951Z"
   },
   {
    "duration": 9,
    "start_time": "2023-10-30T20:16:44.213Z"
   },
   {
    "duration": 21,
    "start_time": "2023-10-30T20:17:03.740Z"
   },
   {
    "duration": 11,
    "start_time": "2023-10-30T20:17:13.277Z"
   },
   {
    "duration": 15,
    "start_time": "2023-10-30T20:19:20.092Z"
   },
   {
    "duration": 11,
    "start_time": "2023-10-30T20:19:39.997Z"
   },
   {
    "duration": 14,
    "start_time": "2023-10-30T20:19:55.715Z"
   },
   {
    "duration": 14,
    "start_time": "2023-10-30T20:21:08.844Z"
   },
   {
    "duration": 11,
    "start_time": "2023-10-30T20:21:25.589Z"
   },
   {
    "duration": 69,
    "start_time": "2023-10-30T20:22:19.451Z"
   },
   {
    "duration": 14,
    "start_time": "2023-10-30T20:27:41.276Z"
   },
   {
    "duration": 10,
    "start_time": "2023-10-30T20:27:51.240Z"
   },
   {
    "duration": 8,
    "start_time": "2023-10-30T20:27:57.283Z"
   },
   {
    "duration": 7,
    "start_time": "2023-10-30T20:28:08.490Z"
   },
   {
    "duration": 7,
    "start_time": "2023-10-30T20:28:15.203Z"
   },
   {
    "duration": 88,
    "start_time": "2023-10-30T20:28:51.291Z"
   },
   {
    "duration": 4,
    "start_time": "2023-10-30T20:29:00.626Z"
   },
   {
    "duration": 115,
    "start_time": "2023-10-30T20:29:23.299Z"
   },
   {
    "duration": 13,
    "start_time": "2023-10-30T20:29:31.587Z"
   },
   {
    "duration": 13,
    "start_time": "2023-10-30T20:31:12.701Z"
   },
   {
    "duration": 23,
    "start_time": "2023-10-30T20:38:35.902Z"
   },
   {
    "duration": 4,
    "start_time": "2023-10-30T20:42:59.683Z"
   },
   {
    "duration": 11,
    "start_time": "2023-10-30T20:43:24.363Z"
   },
   {
    "duration": 26,
    "start_time": "2023-10-30T20:43:38.474Z"
   },
   {
    "duration": 12,
    "start_time": "2023-10-30T20:43:58.053Z"
   },
   {
    "duration": 24,
    "start_time": "2023-10-30T20:44:17.970Z"
   },
   {
    "duration": 21,
    "start_time": "2023-10-30T20:44:28.299Z"
   },
   {
    "duration": 38,
    "start_time": "2023-10-30T20:44:41.148Z"
   },
   {
    "duration": 37,
    "start_time": "2023-10-30T20:45:02.291Z"
   },
   {
    "duration": 416,
    "start_time": "2023-10-30T20:48:16.350Z"
   },
   {
    "duration": 86,
    "start_time": "2023-10-30T20:48:16.768Z"
   },
   {
    "duration": 16,
    "start_time": "2023-10-30T20:48:16.859Z"
   },
   {
    "duration": 6,
    "start_time": "2023-10-30T20:48:16.877Z"
   },
   {
    "duration": 25,
    "start_time": "2023-10-30T20:48:16.885Z"
   },
   {
    "duration": 49,
    "start_time": "2023-10-30T20:48:16.912Z"
   },
   {
    "duration": 28,
    "start_time": "2023-10-30T20:48:16.962Z"
   },
   {
    "duration": 15,
    "start_time": "2023-10-30T20:54:48.467Z"
   },
   {
    "duration": 372,
    "start_time": "2023-10-31T18:28:28.456Z"
   },
   {
    "duration": 138,
    "start_time": "2023-10-31T18:28:28.831Z"
   },
   {
    "duration": 12,
    "start_time": "2023-10-31T18:28:28.971Z"
   },
   {
    "duration": 15,
    "start_time": "2023-10-31T18:28:28.984Z"
   },
   {
    "duration": 25,
    "start_time": "2023-10-31T18:28:29.000Z"
   },
   {
    "duration": 20,
    "start_time": "2023-10-31T18:28:29.026Z"
   },
   {
    "duration": 26,
    "start_time": "2023-10-31T18:28:29.048Z"
   },
   {
    "duration": 14,
    "start_time": "2023-10-31T18:28:29.076Z"
   },
   {
    "duration": 7,
    "start_time": "2023-10-31T18:33:09.671Z"
   },
   {
    "duration": 138,
    "start_time": "2023-10-31T18:34:41.181Z"
   },
   {
    "duration": 61,
    "start_time": "2023-10-31T18:35:20.733Z"
   },
   {
    "duration": 8,
    "start_time": "2023-10-31T18:35:41.950Z"
   },
   {
    "duration": 13,
    "start_time": "2023-10-31T18:37:46.149Z"
   },
   {
    "duration": 13,
    "start_time": "2023-10-31T18:37:58.901Z"
   },
   {
    "duration": 8,
    "start_time": "2023-10-31T18:38:16.095Z"
   },
   {
    "duration": 7,
    "start_time": "2023-10-31T18:38:24.780Z"
   },
   {
    "duration": 7,
    "start_time": "2023-10-31T18:38:34.979Z"
   },
   {
    "duration": 9,
    "start_time": "2023-10-31T18:38:58.381Z"
   },
   {
    "duration": 8,
    "start_time": "2023-10-31T18:39:04.413Z"
   },
   {
    "duration": 7,
    "start_time": "2023-10-31T18:39:14.596Z"
   },
   {
    "duration": 8,
    "start_time": "2023-10-31T18:43:47.873Z"
   },
   {
    "duration": 9,
    "start_time": "2023-10-31T18:43:55.149Z"
   },
   {
    "duration": 8,
    "start_time": "2023-10-31T18:44:02.531Z"
   },
   {
    "duration": 7,
    "start_time": "2023-10-31T18:57:00.794Z"
   },
   {
    "duration": 8,
    "start_time": "2023-10-31T18:57:11.836Z"
   },
   {
    "duration": 11,
    "start_time": "2023-10-31T19:06:37.817Z"
   },
   {
    "duration": 10,
    "start_time": "2023-10-31T19:08:53.954Z"
   },
   {
    "duration": 9,
    "start_time": "2023-10-31T19:09:13.689Z"
   },
   {
    "duration": 15,
    "start_time": "2023-10-31T19:10:43.610Z"
   },
   {
    "duration": 1206,
    "start_time": "2023-10-31T19:15:51.933Z"
   },
   {
    "duration": 5,
    "start_time": "2023-10-31T19:16:33.083Z"
   },
   {
    "duration": 6,
    "start_time": "2023-10-31T19:16:38.131Z"
   },
   {
    "duration": 9,
    "start_time": "2023-10-31T19:16:51.706Z"
   },
   {
    "duration": 73,
    "start_time": "2023-10-31T19:18:06.210Z"
   },
   {
    "duration": 9,
    "start_time": "2023-10-31T19:18:13.049Z"
   },
   {
    "duration": 15,
    "start_time": "2023-10-31T19:18:51.403Z"
   },
   {
    "duration": 73,
    "start_time": "2023-10-31T19:19:27.601Z"
   },
   {
    "duration": 8,
    "start_time": "2023-10-31T19:19:38.475Z"
   },
   {
    "duration": 9,
    "start_time": "2023-10-31T19:19:52.225Z"
   },
   {
    "duration": 11,
    "start_time": "2023-10-31T19:20:12.287Z"
   },
   {
    "duration": 5,
    "start_time": "2023-10-31T19:20:39.077Z"
   },
   {
    "duration": 1686,
    "start_time": "2023-10-31T19:22:04.111Z"
   },
   {
    "duration": 1218,
    "start_time": "2023-10-31T19:22:50.694Z"
   },
   {
    "duration": 1117,
    "start_time": "2023-10-31T19:23:23.325Z"
   },
   {
    "duration": 11,
    "start_time": "2023-10-31T19:23:40.770Z"
   },
   {
    "duration": 10,
    "start_time": "2023-10-31T19:25:24.852Z"
   },
   {
    "duration": 12,
    "start_time": "2023-10-31T19:26:00.234Z"
   },
   {
    "duration": 1114,
    "start_time": "2023-10-31T19:26:17.059Z"
   },
   {
    "duration": 11,
    "start_time": "2023-10-31T19:26:39.706Z"
   },
   {
    "duration": 16,
    "start_time": "2023-10-31T19:26:47.747Z"
   },
   {
    "duration": 16,
    "start_time": "2023-10-31T19:26:51.331Z"
   },
   {
    "duration": 665,
    "start_time": "2023-10-31T19:27:53.665Z"
   },
   {
    "duration": 3,
    "start_time": "2023-10-31T19:28:29.011Z"
   },
   {
    "duration": 1376,
    "start_time": "2023-10-31T19:28:35.491Z"
   },
   {
    "duration": 16,
    "start_time": "2023-10-31T19:38:08.724Z"
   },
   {
    "duration": 80,
    "start_time": "2023-10-31T19:38:47.766Z"
   },
   {
    "duration": 70,
    "start_time": "2023-10-31T19:39:03.723Z"
   },
   {
    "duration": 81,
    "start_time": "2023-10-31T19:39:46.346Z"
   },
   {
    "duration": 65,
    "start_time": "2023-10-31T19:39:58.428Z"
   },
   {
    "duration": 15,
    "start_time": "2023-10-31T19:40:16.874Z"
   },
   {
    "duration": 7,
    "start_time": "2023-10-31T19:43:53.486Z"
   },
   {
    "duration": 1176,
    "start_time": "2023-10-31T19:46:25.491Z"
   },
   {
    "duration": 599,
    "start_time": "2023-10-31T19:46:56.485Z"
   },
   {
    "duration": 73,
    "start_time": "2023-10-31T19:46:57.086Z"
   },
   {
    "duration": 11,
    "start_time": "2023-10-31T19:46:57.160Z"
   },
   {
    "duration": 21,
    "start_time": "2023-10-31T19:46:57.172Z"
   },
   {
    "duration": 30,
    "start_time": "2023-10-31T19:46:57.195Z"
   },
   {
    "duration": 15,
    "start_time": "2023-10-31T19:46:57.227Z"
   },
   {
    "duration": 21,
    "start_time": "2023-10-31T19:46:57.243Z"
   },
   {
    "duration": 13,
    "start_time": "2023-10-31T19:46:57.265Z"
   },
   {
    "duration": 16,
    "start_time": "2023-10-31T19:46:57.279Z"
   },
   {
    "duration": 9,
    "start_time": "2023-10-31T19:46:57.297Z"
   },
   {
    "duration": 1266,
    "start_time": "2023-10-31T19:46:57.308Z"
   },
   {
    "duration": 4,
    "start_time": "2023-10-31T19:47:15.820Z"
   },
   {
    "duration": 5,
    "start_time": "2023-10-31T19:47:23.432Z"
   },
   {
    "duration": 20,
    "start_time": "2023-10-31T19:47:32.098Z"
   },
   {
    "duration": 9,
    "start_time": "2023-10-31T19:48:48.458Z"
   },
   {
    "duration": 8,
    "start_time": "2023-10-31T19:49:00.626Z"
   },
   {
    "duration": 213,
    "start_time": "2023-10-31T19:49:39.478Z"
   },
   {
    "duration": 14,
    "start_time": "2023-10-31T19:51:39.600Z"
   },
   {
    "duration": 15,
    "start_time": "2023-10-31T19:51:48.953Z"
   },
   {
    "duration": 599,
    "start_time": "2023-10-31T19:52:53.954Z"
   },
   {
    "duration": 75,
    "start_time": "2023-10-31T19:52:54.555Z"
   },
   {
    "duration": 18,
    "start_time": "2023-10-31T19:52:54.634Z"
   },
   {
    "duration": 6,
    "start_time": "2023-10-31T19:52:54.655Z"
   },
   {
    "duration": 17,
    "start_time": "2023-10-31T19:52:54.663Z"
   },
   {
    "duration": 11,
    "start_time": "2023-10-31T19:52:54.681Z"
   },
   {
    "duration": 22,
    "start_time": "2023-10-31T19:52:54.694Z"
   },
   {
    "duration": 14,
    "start_time": "2023-10-31T19:52:54.740Z"
   },
   {
    "duration": 7,
    "start_time": "2023-10-31T19:52:54.756Z"
   },
   {
    "duration": 9,
    "start_time": "2023-10-31T19:52:54.765Z"
   },
   {
    "duration": 171,
    "start_time": "2023-10-31T19:52:54.776Z"
   },
   {
    "duration": 19,
    "start_time": "2023-10-31T19:54:56.329Z"
   },
   {
    "duration": 31,
    "start_time": "2023-10-31T19:56:14.416Z"
   },
   {
    "duration": 84,
    "start_time": "2023-10-31T19:56:44.968Z"
   },
   {
    "duration": 58,
    "start_time": "2023-10-31T19:56:53.357Z"
   },
   {
    "duration": 25,
    "start_time": "2023-10-31T19:57:49.296Z"
   },
   {
    "duration": 24,
    "start_time": "2023-10-31T19:57:55.660Z"
   },
   {
    "duration": 74,
    "start_time": "2023-10-31T19:59:48.051Z"
   },
   {
    "duration": 78,
    "start_time": "2023-10-31T20:00:07.920Z"
   },
   {
    "duration": 15,
    "start_time": "2023-10-31T20:01:07.920Z"
   },
   {
    "duration": 8,
    "start_time": "2023-10-31T20:01:54.896Z"
   },
   {
    "duration": 23,
    "start_time": "2023-10-31T20:02:33.729Z"
   },
   {
    "duration": 584,
    "start_time": "2023-10-31T20:02:54.205Z"
   },
   {
    "duration": 74,
    "start_time": "2023-10-31T20:02:54.791Z"
   },
   {
    "duration": 12,
    "start_time": "2023-10-31T20:02:54.867Z"
   },
   {
    "duration": 26,
    "start_time": "2023-10-31T20:02:54.881Z"
   },
   {
    "duration": 35,
    "start_time": "2023-10-31T20:02:54.908Z"
   },
   {
    "duration": 35,
    "start_time": "2023-10-31T20:02:54.945Z"
   },
   {
    "duration": 56,
    "start_time": "2023-10-31T20:02:54.981Z"
   },
   {
    "duration": 15,
    "start_time": "2023-10-31T20:02:55.039Z"
   },
   {
    "duration": 9,
    "start_time": "2023-10-31T20:02:55.056Z"
   },
   {
    "duration": 29,
    "start_time": "2023-10-31T20:02:55.068Z"
   },
   {
    "duration": 40,
    "start_time": "2023-10-31T20:02:55.099Z"
   },
   {
    "duration": 9,
    "start_time": "2023-10-31T20:03:05.632Z"
   },
   {
    "duration": 607,
    "start_time": "2023-10-31T20:04:35.863Z"
   },
   {
    "duration": 75,
    "start_time": "2023-10-31T20:04:36.472Z"
   },
   {
    "duration": 12,
    "start_time": "2023-10-31T20:04:36.549Z"
   },
   {
    "duration": 10,
    "start_time": "2023-10-31T20:04:36.563Z"
   },
   {
    "duration": 17,
    "start_time": "2023-10-31T20:04:36.575Z"
   },
   {
    "duration": 13,
    "start_time": "2023-10-31T20:04:36.594Z"
   },
   {
    "duration": 49,
    "start_time": "2023-10-31T20:04:36.608Z"
   },
   {
    "duration": 21,
    "start_time": "2023-10-31T20:04:36.658Z"
   },
   {
    "duration": 9,
    "start_time": "2023-10-31T20:04:36.680Z"
   },
   {
    "duration": 8,
    "start_time": "2023-10-31T20:04:36.691Z"
   },
   {
    "duration": 40,
    "start_time": "2023-10-31T20:04:36.700Z"
   },
   {
    "duration": 14,
    "start_time": "2023-10-31T20:05:18.589Z"
   },
   {
    "duration": 650,
    "start_time": "2023-10-31T20:05:41.833Z"
   },
   {
    "duration": 85,
    "start_time": "2023-10-31T20:05:42.485Z"
   },
   {
    "duration": 18,
    "start_time": "2023-10-31T20:05:42.572Z"
   },
   {
    "duration": 9,
    "start_time": "2023-10-31T20:05:42.592Z"
   },
   {
    "duration": 28,
    "start_time": "2023-10-31T20:05:42.603Z"
   },
   {
    "duration": 11,
    "start_time": "2023-10-31T20:05:42.639Z"
   },
   {
    "duration": 26,
    "start_time": "2023-10-31T20:05:42.652Z"
   },
   {
    "duration": 13,
    "start_time": "2023-10-31T20:05:42.679Z"
   },
   {
    "duration": 10,
    "start_time": "2023-10-31T20:05:42.694Z"
   },
   {
    "duration": 6,
    "start_time": "2023-10-31T20:05:42.706Z"
   },
   {
    "duration": 28,
    "start_time": "2023-10-31T20:05:42.713Z"
   },
   {
    "duration": 184,
    "start_time": "2023-10-31T20:05:58.487Z"
   },
   {
    "duration": 1070,
    "start_time": "2023-10-31T20:07:50.657Z"
   },
   {
    "duration": 994,
    "start_time": "2023-10-31T20:08:06.160Z"
   },
   {
    "duration": 1016,
    "start_time": "2023-10-31T20:15:19.153Z"
   },
   {
    "duration": 13,
    "start_time": "2023-10-31T20:18:47.523Z"
   },
   {
    "duration": 969,
    "start_time": "2023-10-31T20:18:53.192Z"
   },
   {
    "duration": 714,
    "start_time": "2023-10-31T20:19:05.730Z"
   },
   {
    "duration": 72,
    "start_time": "2023-10-31T20:19:06.446Z"
   },
   {
    "duration": 12,
    "start_time": "2023-10-31T20:19:06.521Z"
   },
   {
    "duration": 5,
    "start_time": "2023-10-31T20:19:06.535Z"
   },
   {
    "duration": 69,
    "start_time": "2023-10-31T20:19:06.542Z"
   },
   {
    "duration": 0,
    "start_time": "2023-10-31T20:19:06.612Z"
   },
   {
    "duration": 0,
    "start_time": "2023-10-31T20:19:06.613Z"
   },
   {
    "duration": 0,
    "start_time": "2023-10-31T20:19:06.614Z"
   },
   {
    "duration": 0,
    "start_time": "2023-10-31T20:19:06.615Z"
   },
   {
    "duration": 0,
    "start_time": "2023-10-31T20:19:06.616Z"
   },
   {
    "duration": 0,
    "start_time": "2023-10-31T20:19:06.617Z"
   },
   {
    "duration": 580,
    "start_time": "2023-10-31T20:19:36.972Z"
   },
   {
    "duration": 80,
    "start_time": "2023-10-31T20:19:37.555Z"
   },
   {
    "duration": 14,
    "start_time": "2023-10-31T20:19:37.636Z"
   },
   {
    "duration": 5,
    "start_time": "2023-10-31T20:19:37.651Z"
   },
   {
    "duration": 22,
    "start_time": "2023-10-31T20:19:37.657Z"
   },
   {
    "duration": 17,
    "start_time": "2023-10-31T20:19:37.681Z"
   },
   {
    "duration": 65,
    "start_time": "2023-10-31T20:19:37.700Z"
   },
   {
    "duration": 14,
    "start_time": "2023-10-31T20:19:37.767Z"
   },
   {
    "duration": 7,
    "start_time": "2023-10-31T20:19:37.782Z"
   },
   {
    "duration": 8,
    "start_time": "2023-10-31T20:19:37.791Z"
   },
   {
    "duration": 1029,
    "start_time": "2023-10-31T20:19:37.801Z"
   },
   {
    "duration": 966,
    "start_time": "2023-10-31T20:21:45.600Z"
   },
   {
    "duration": 14,
    "start_time": "2023-10-31T20:22:13.179Z"
   },
   {
    "duration": 13,
    "start_time": "2023-10-31T20:22:21.414Z"
   },
   {
    "duration": 556,
    "start_time": "2023-10-31T20:25:14.580Z"
   },
   {
    "duration": 73,
    "start_time": "2023-10-31T20:25:15.138Z"
   },
   {
    "duration": 13,
    "start_time": "2023-10-31T20:25:15.212Z"
   },
   {
    "duration": 19,
    "start_time": "2023-10-31T20:25:15.227Z"
   },
   {
    "duration": 30,
    "start_time": "2023-10-31T20:25:15.248Z"
   },
   {
    "duration": 18,
    "start_time": "2023-10-31T20:25:15.280Z"
   },
   {
    "duration": 40,
    "start_time": "2023-10-31T20:25:15.300Z"
   },
   {
    "duration": 14,
    "start_time": "2023-10-31T20:25:15.342Z"
   },
   {
    "duration": 8,
    "start_time": "2023-10-31T20:25:15.357Z"
   },
   {
    "duration": 12,
    "start_time": "2023-10-31T20:25:15.366Z"
   },
   {
    "duration": 974,
    "start_time": "2023-10-31T20:25:15.379Z"
   },
   {
    "duration": 22,
    "start_time": "2023-10-31T20:25:51.726Z"
   },
   {
    "duration": 69,
    "start_time": "2023-10-31T20:26:35.638Z"
   },
   {
    "duration": 21,
    "start_time": "2023-10-31T20:26:56.039Z"
   },
   {
    "duration": 7,
    "start_time": "2023-10-31T20:27:23.702Z"
   },
   {
    "duration": 25,
    "start_time": "2023-10-31T20:42:34.037Z"
   },
   {
    "duration": 10,
    "start_time": "2023-10-31T20:43:53.789Z"
   },
   {
    "duration": 11,
    "start_time": "2023-10-31T20:44:02.516Z"
   },
   {
    "duration": 12,
    "start_time": "2023-10-31T20:45:52.133Z"
   },
   {
    "duration": 10,
    "start_time": "2023-10-31T20:47:07.220Z"
   },
   {
    "duration": 641,
    "start_time": "2023-10-31T20:48:22.198Z"
   },
   {
    "duration": 74,
    "start_time": "2023-10-31T20:48:22.841Z"
   },
   {
    "duration": 12,
    "start_time": "2023-10-31T20:48:22.916Z"
   },
   {
    "duration": 6,
    "start_time": "2023-10-31T20:48:22.930Z"
   },
   {
    "duration": 17,
    "start_time": "2023-10-31T20:48:22.940Z"
   },
   {
    "duration": 12,
    "start_time": "2023-10-31T20:48:22.959Z"
   },
   {
    "duration": 25,
    "start_time": "2023-10-31T20:48:22.972Z"
   },
   {
    "duration": 14,
    "start_time": "2023-10-31T20:48:22.998Z"
   },
   {
    "duration": 7,
    "start_time": "2023-10-31T20:48:23.040Z"
   },
   {
    "duration": 9,
    "start_time": "2023-10-31T20:48:23.048Z"
   },
   {
    "duration": 998,
    "start_time": "2023-10-31T20:48:23.058Z"
   },
   {
    "duration": 72,
    "start_time": "2023-10-31T21:12:55.654Z"
   },
   {
    "duration": 10,
    "start_time": "2023-10-31T21:13:21.496Z"
   },
   {
    "duration": 10,
    "start_time": "2023-10-31T21:13:24.785Z"
   },
   {
    "duration": 601,
    "start_time": "2023-10-31T21:13:43.003Z"
   },
   {
    "duration": 80,
    "start_time": "2023-10-31T21:13:43.606Z"
   },
   {
    "duration": 15,
    "start_time": "2023-10-31T21:13:43.688Z"
   },
   {
    "duration": 6,
    "start_time": "2023-10-31T21:13:43.705Z"
   },
   {
    "duration": 36,
    "start_time": "2023-10-31T21:13:43.713Z"
   },
   {
    "duration": 15,
    "start_time": "2023-10-31T21:13:43.751Z"
   },
   {
    "duration": 25,
    "start_time": "2023-10-31T21:13:43.768Z"
   },
   {
    "duration": 13,
    "start_time": "2023-10-31T21:13:43.795Z"
   },
   {
    "duration": 32,
    "start_time": "2023-10-31T21:13:43.809Z"
   },
   {
    "duration": 8,
    "start_time": "2023-10-31T21:13:43.844Z"
   },
   {
    "duration": 1083,
    "start_time": "2023-10-31T21:13:43.854Z"
   },
   {
    "duration": 72,
    "start_time": "2023-10-31T21:13:48.286Z"
   },
   {
    "duration": 11,
    "start_time": "2023-10-31T21:13:51.794Z"
   },
   {
    "duration": 657,
    "start_time": "2023-10-31T21:14:10.037Z"
   },
   {
    "duration": 79,
    "start_time": "2023-10-31T21:14:10.695Z"
   },
   {
    "duration": 14,
    "start_time": "2023-10-31T21:14:10.775Z"
   },
   {
    "duration": 6,
    "start_time": "2023-10-31T21:14:10.791Z"
   },
   {
    "duration": 19,
    "start_time": "2023-10-31T21:14:10.799Z"
   },
   {
    "duration": 14,
    "start_time": "2023-10-31T21:14:10.839Z"
   },
   {
    "duration": 28,
    "start_time": "2023-10-31T21:14:10.854Z"
   },
   {
    "duration": 14,
    "start_time": "2023-10-31T21:14:10.883Z"
   },
   {
    "duration": 8,
    "start_time": "2023-10-31T21:14:10.898Z"
   },
   {
    "duration": 8,
    "start_time": "2023-10-31T21:14:10.939Z"
   },
   {
    "duration": 1068,
    "start_time": "2023-10-31T21:14:10.949Z"
   },
   {
    "duration": 648,
    "start_time": "2023-10-31T21:14:23.251Z"
   },
   {
    "duration": 83,
    "start_time": "2023-10-31T21:14:23.901Z"
   },
   {
    "duration": 13,
    "start_time": "2023-10-31T21:14:23.986Z"
   },
   {
    "duration": 6,
    "start_time": "2023-10-31T21:14:24.000Z"
   },
   {
    "duration": 46,
    "start_time": "2023-10-31T21:14:24.009Z"
   },
   {
    "duration": 14,
    "start_time": "2023-10-31T21:14:24.057Z"
   },
   {
    "duration": 33,
    "start_time": "2023-10-31T21:14:24.072Z"
   },
   {
    "duration": 15,
    "start_time": "2023-10-31T21:14:24.106Z"
   },
   {
    "duration": 23,
    "start_time": "2023-10-31T21:14:24.123Z"
   },
   {
    "duration": 9,
    "start_time": "2023-10-31T21:14:24.148Z"
   },
   {
    "duration": 307,
    "start_time": "2023-10-31T21:14:24.158Z"
   },
   {
    "duration": 95,
    "start_time": "2023-10-31T21:14:42.350Z"
   },
   {
    "duration": 636,
    "start_time": "2023-10-31T21:14:47.672Z"
   },
   {
    "duration": 74,
    "start_time": "2023-10-31T21:14:48.310Z"
   },
   {
    "duration": 13,
    "start_time": "2023-10-31T21:14:48.385Z"
   },
   {
    "duration": 9,
    "start_time": "2023-10-31T21:14:48.399Z"
   },
   {
    "duration": 38,
    "start_time": "2023-10-31T21:14:48.411Z"
   },
   {
    "duration": 13,
    "start_time": "2023-10-31T21:14:48.450Z"
   },
   {
    "duration": 25,
    "start_time": "2023-10-31T21:14:48.464Z"
   },
   {
    "duration": 20,
    "start_time": "2023-10-31T21:14:48.490Z"
   },
   {
    "duration": 32,
    "start_time": "2023-10-31T21:14:48.512Z"
   },
   {
    "duration": 8,
    "start_time": "2023-10-31T21:14:48.546Z"
   },
   {
    "duration": 304,
    "start_time": "2023-10-31T21:14:48.556Z"
   },
   {
    "duration": 683,
    "start_time": "2023-10-31T21:16:51.347Z"
   },
   {
    "duration": 96,
    "start_time": "2023-10-31T21:16:52.032Z"
   },
   {
    "duration": 12,
    "start_time": "2023-10-31T21:16:52.129Z"
   },
   {
    "duration": 7,
    "start_time": "2023-10-31T21:16:52.144Z"
   },
   {
    "duration": 23,
    "start_time": "2023-10-31T21:16:52.152Z"
   },
   {
    "duration": 15,
    "start_time": "2023-10-31T21:16:52.176Z"
   },
   {
    "duration": 55,
    "start_time": "2023-10-31T21:16:52.192Z"
   },
   {
    "duration": 20,
    "start_time": "2023-10-31T21:16:52.249Z"
   },
   {
    "duration": 8,
    "start_time": "2023-10-31T21:16:52.271Z"
   },
   {
    "duration": 9,
    "start_time": "2023-10-31T21:16:52.282Z"
   },
   {
    "duration": 415,
    "start_time": "2023-10-31T21:16:52.292Z"
   },
   {
    "duration": 823,
    "start_time": "2023-10-31T21:17:38.045Z"
   },
   {
    "duration": 73,
    "start_time": "2023-10-31T21:17:38.870Z"
   },
   {
    "duration": 15,
    "start_time": "2023-10-31T21:17:38.945Z"
   },
   {
    "duration": 8,
    "start_time": "2023-10-31T21:17:38.962Z"
   },
   {
    "duration": 37,
    "start_time": "2023-10-31T21:17:38.973Z"
   },
   {
    "duration": 33,
    "start_time": "2023-10-31T21:17:39.011Z"
   },
   {
    "duration": 35,
    "start_time": "2023-10-31T21:17:39.046Z"
   },
   {
    "duration": 16,
    "start_time": "2023-10-31T21:17:39.083Z"
   },
   {
    "duration": 6,
    "start_time": "2023-10-31T21:17:39.100Z"
   },
   {
    "duration": 35,
    "start_time": "2023-10-31T21:17:39.108Z"
   },
   {
    "duration": 1113,
    "start_time": "2023-10-31T21:17:39.144Z"
   },
   {
    "duration": 4,
    "start_time": "2023-10-31T21:22:21.397Z"
   },
   {
    "duration": 7,
    "start_time": "2023-10-31T21:22:36.399Z"
   },
   {
    "duration": 18,
    "start_time": "2023-10-31T21:23:08.237Z"
   },
   {
    "duration": 71,
    "start_time": "2023-10-31T21:24:29.148Z"
   },
   {
    "duration": 9,
    "start_time": "2023-10-31T21:24:43.197Z"
   },
   {
    "duration": 4,
    "start_time": "2023-10-31T21:25:12.870Z"
   },
   {
    "duration": 7,
    "start_time": "2023-10-31T21:25:47.253Z"
   },
   {
    "duration": 8,
    "start_time": "2023-10-31T21:28:09.756Z"
   },
   {
    "duration": 9,
    "start_time": "2023-10-31T21:28:42.277Z"
   },
   {
    "duration": 14,
    "start_time": "2023-10-31T21:35:53.448Z"
   },
   {
    "duration": 578,
    "start_time": "2023-10-31T21:36:02.810Z"
   },
   {
    "duration": 77,
    "start_time": "2023-10-31T21:36:03.390Z"
   },
   {
    "duration": 13,
    "start_time": "2023-10-31T21:36:03.469Z"
   },
   {
    "duration": 8,
    "start_time": "2023-10-31T21:36:03.483Z"
   },
   {
    "duration": 20,
    "start_time": "2023-10-31T21:36:03.492Z"
   },
   {
    "duration": 39,
    "start_time": "2023-10-31T21:36:03.513Z"
   },
   {
    "duration": 24,
    "start_time": "2023-10-31T21:36:03.553Z"
   },
   {
    "duration": 15,
    "start_time": "2023-10-31T21:36:03.578Z"
   },
   {
    "duration": 29,
    "start_time": "2023-10-31T21:36:03.594Z"
   },
   {
    "duration": 26,
    "start_time": "2023-10-31T21:36:03.625Z"
   },
   {
    "duration": 992,
    "start_time": "2023-10-31T21:36:03.652Z"
   },
   {
    "duration": 7,
    "start_time": "2023-10-31T21:36:04.653Z"
   },
   {
    "duration": 70,
    "start_time": "2023-10-31T21:36:04.662Z"
   },
   {
    "duration": 89,
    "start_time": "2023-10-31T21:38:43.880Z"
   },
   {
    "duration": 76,
    "start_time": "2023-10-31T21:39:02.507Z"
   },
   {
    "duration": 14,
    "start_time": "2023-10-31T21:39:12.699Z"
   },
   {
    "duration": 12,
    "start_time": "2023-10-31T21:39:32.345Z"
   },
   {
    "duration": 9,
    "start_time": "2023-10-31T21:40:08.179Z"
   },
   {
    "duration": 9,
    "start_time": "2023-10-31T21:40:13.363Z"
   },
   {
    "duration": 775,
    "start_time": "2023-10-31T21:40:23.231Z"
   },
   {
    "duration": 114,
    "start_time": "2023-10-31T21:43:58.418Z"
   },
   {
    "duration": 115,
    "start_time": "2023-10-31T21:44:36.485Z"
   },
   {
    "duration": 597,
    "start_time": "2023-10-31T21:44:49.186Z"
   },
   {
    "duration": 83,
    "start_time": "2023-10-31T21:44:49.784Z"
   },
   {
    "duration": 12,
    "start_time": "2023-10-31T21:44:49.871Z"
   },
   {
    "duration": 5,
    "start_time": "2023-10-31T21:44:49.885Z"
   },
   {
    "duration": 21,
    "start_time": "2023-10-31T21:44:49.892Z"
   },
   {
    "duration": 52,
    "start_time": "2023-10-31T21:44:49.914Z"
   },
   {
    "duration": 23,
    "start_time": "2023-10-31T21:44:49.967Z"
   },
   {
    "duration": 14,
    "start_time": "2023-10-31T21:44:49.991Z"
   },
   {
    "duration": 49,
    "start_time": "2023-10-31T21:44:50.007Z"
   },
   {
    "duration": 9,
    "start_time": "2023-10-31T21:44:50.058Z"
   },
   {
    "duration": 1016,
    "start_time": "2023-10-31T21:44:50.068Z"
   },
   {
    "duration": 7,
    "start_time": "2023-10-31T21:44:51.085Z"
   },
   {
    "duration": 221,
    "start_time": "2023-10-31T21:44:51.095Z"
   },
   {
    "duration": 73,
    "start_time": "2023-10-31T21:46:45.329Z"
   },
   {
    "duration": 8,
    "start_time": "2023-10-31T21:46:54.681Z"
   },
   {
    "duration": 10,
    "start_time": "2023-10-31T21:47:01.762Z"
   },
   {
    "duration": 748,
    "start_time": "2023-10-31T21:47:04.034Z"
   },
   {
    "duration": 863,
    "start_time": "2023-10-31T21:47:25.054Z"
   },
   {
    "duration": 69,
    "start_time": "2023-10-31T21:48:32.891Z"
   },
   {
    "duration": 74,
    "start_time": "2023-10-31T21:48:43.749Z"
   },
   {
    "duration": 12,
    "start_time": "2023-10-31T21:48:48.183Z"
   },
   {
    "duration": 11,
    "start_time": "2023-10-31T21:49:02.253Z"
   },
   {
    "duration": 836,
    "start_time": "2023-10-31T21:49:37.933Z"
   },
   {
    "duration": 889,
    "start_time": "2023-10-31T21:49:45.004Z"
   },
   {
    "duration": 189,
    "start_time": "2023-10-31T21:49:58.730Z"
   },
   {
    "duration": 896,
    "start_time": "2023-10-31T21:50:23.673Z"
   },
   {
    "duration": 849,
    "start_time": "2023-10-31T21:50:30.616Z"
   },
   {
    "duration": 775,
    "start_time": "2023-10-31T21:51:02.634Z"
   },
   {
    "duration": 200,
    "start_time": "2023-10-31T21:55:17.153Z"
   },
   {
    "duration": 243,
    "start_time": "2023-10-31T21:55:24.880Z"
   },
   {
    "duration": 155,
    "start_time": "2023-10-31T21:56:29.775Z"
   },
   {
    "duration": 3,
    "start_time": "2023-10-31T21:57:10.225Z"
   },
   {
    "duration": 231,
    "start_time": "2023-10-31T21:57:19.121Z"
   },
   {
    "duration": 18840,
    "start_time": "2023-10-31T21:57:40.439Z"
   },
   {
    "duration": 244,
    "start_time": "2023-10-31T21:58:22.202Z"
   },
   {
    "duration": 81,
    "start_time": "2023-10-31T21:59:09.977Z"
   },
   {
    "duration": 238,
    "start_time": "2023-10-31T21:59:20.821Z"
   },
   {
    "duration": 302,
    "start_time": "2023-10-31T22:01:12.472Z"
   },
   {
    "duration": 77,
    "start_time": "2023-10-31T22:01:55.807Z"
   },
   {
    "duration": 229,
    "start_time": "2023-10-31T22:02:08.993Z"
   },
   {
    "duration": 227,
    "start_time": "2023-10-31T22:02:26.496Z"
   },
   {
    "duration": 359,
    "start_time": "2023-10-31T22:02:46.639Z"
   },
   {
    "duration": 381,
    "start_time": "2023-10-31T22:08:38.948Z"
   },
   {
    "duration": 279,
    "start_time": "2023-10-31T22:11:01.688Z"
   },
   {
    "duration": 786,
    "start_time": "2023-10-31T22:13:38.567Z"
   },
   {
    "duration": 967,
    "start_time": "2023-10-31T22:15:12.838Z"
   },
   {
    "duration": 1196,
    "start_time": "2023-10-31T22:17:37.229Z"
   },
   {
    "duration": 1262,
    "start_time": "2023-10-31T22:18:04.271Z"
   },
   {
    "duration": 101,
    "start_time": "2023-10-31T22:18:37.806Z"
   },
   {
    "duration": 3,
    "start_time": "2023-10-31T22:18:44.304Z"
   },
   {
    "duration": 14,
    "start_time": "2023-10-31T22:19:45.454Z"
   },
   {
    "duration": 24,
    "start_time": "2023-10-31T22:19:58.416Z"
   },
   {
    "duration": 21,
    "start_time": "2023-10-31T22:20:10.269Z"
   },
   {
    "duration": 291,
    "start_time": "2023-10-31T22:21:30.839Z"
   },
   {
    "duration": 319,
    "start_time": "2023-10-31T22:21:51.549Z"
   },
   {
    "duration": 577,
    "start_time": "2023-10-31T22:24:06.989Z"
   },
   {
    "duration": 88,
    "start_time": "2023-10-31T22:24:07.568Z"
   },
   {
    "duration": 12,
    "start_time": "2023-10-31T22:24:07.657Z"
   },
   {
    "duration": 10,
    "start_time": "2023-10-31T22:24:07.670Z"
   },
   {
    "duration": 26,
    "start_time": "2023-10-31T22:24:07.682Z"
   },
   {
    "duration": 24,
    "start_time": "2023-10-31T22:24:07.709Z"
   },
   {
    "duration": 39,
    "start_time": "2023-10-31T22:24:07.734Z"
   },
   {
    "duration": 14,
    "start_time": "2023-10-31T22:24:07.775Z"
   },
   {
    "duration": 7,
    "start_time": "2023-10-31T22:24:07.791Z"
   },
   {
    "duration": 12,
    "start_time": "2023-10-31T22:24:07.799Z"
   },
   {
    "duration": 1006,
    "start_time": "2023-10-31T22:24:07.813Z"
   },
   {
    "duration": 8,
    "start_time": "2023-10-31T22:24:08.820Z"
   },
   {
    "duration": 23,
    "start_time": "2023-10-31T22:24:08.839Z"
   },
   {
    "duration": 288,
    "start_time": "2023-10-31T22:24:08.864Z"
   },
   {
    "duration": 1005,
    "start_time": "2023-10-31T22:24:09.153Z"
   },
   {
    "duration": 283,
    "start_time": "2023-10-31T22:26:36.398Z"
   },
   {
    "duration": 947,
    "start_time": "2023-10-31T22:28:07.127Z"
   },
   {
    "duration": 765,
    "start_time": "2023-11-01T18:45:50.241Z"
   },
   {
    "duration": 236,
    "start_time": "2023-11-01T18:45:51.008Z"
   },
   {
    "duration": 13,
    "start_time": "2023-11-01T18:45:51.245Z"
   },
   {
    "duration": 7,
    "start_time": "2023-11-01T18:45:51.260Z"
   },
   {
    "duration": 36,
    "start_time": "2023-11-01T18:45:51.269Z"
   },
   {
    "duration": 13,
    "start_time": "2023-11-01T18:45:51.307Z"
   },
   {
    "duration": 31,
    "start_time": "2023-11-01T18:45:51.321Z"
   },
   {
    "duration": 16,
    "start_time": "2023-11-01T18:45:51.354Z"
   },
   {
    "duration": 8,
    "start_time": "2023-11-01T18:45:51.371Z"
   },
   {
    "duration": 16,
    "start_time": "2023-11-01T18:45:51.381Z"
   },
   {
    "duration": 1034,
    "start_time": "2023-11-01T18:45:51.399Z"
   },
   {
    "duration": 16,
    "start_time": "2023-11-01T18:45:52.434Z"
   },
   {
    "duration": 311,
    "start_time": "2023-11-01T18:45:52.451Z"
   },
   {
    "duration": 1033,
    "start_time": "2023-11-01T18:45:52.764Z"
   },
   {
    "duration": 16,
    "start_time": "2023-11-01T19:04:13.409Z"
   },
   {
    "duration": 6,
    "start_time": "2023-11-01T19:10:47.680Z"
   },
   {
    "duration": 66,
    "start_time": "2023-11-01T19:10:57.557Z"
   },
   {
    "duration": 7,
    "start_time": "2023-11-01T19:11:05.761Z"
   },
   {
    "duration": 5,
    "start_time": "2023-11-01T19:11:13.158Z"
   },
   {
    "duration": 16,
    "start_time": "2023-11-01T19:12:20.751Z"
   },
   {
    "duration": 26,
    "start_time": "2023-11-01T19:12:29.592Z"
   },
   {
    "duration": 4,
    "start_time": "2023-11-01T19:12:34.560Z"
   },
   {
    "duration": 5,
    "start_time": "2023-11-01T19:14:30.426Z"
   },
   {
    "duration": 16,
    "start_time": "2023-11-01T19:16:19.288Z"
   },
   {
    "duration": 13,
    "start_time": "2023-11-01T19:16:54.653Z"
   },
   {
    "duration": 16,
    "start_time": "2023-11-01T19:18:30.632Z"
   },
   {
    "duration": 19,
    "start_time": "2023-11-01T19:24:20.132Z"
   },
   {
    "duration": 20,
    "start_time": "2023-11-01T19:24:34.486Z"
   },
   {
    "duration": 27,
    "start_time": "2023-11-01T19:24:57.239Z"
   },
   {
    "duration": 27,
    "start_time": "2023-11-01T19:27:26.203Z"
   },
   {
    "duration": 7,
    "start_time": "2023-11-01T19:30:51.655Z"
   },
   {
    "duration": 8,
    "start_time": "2023-11-01T19:31:15.776Z"
   },
   {
    "duration": 22,
    "start_time": "2023-11-01T19:31:57.918Z"
   },
   {
    "duration": 16,
    "start_time": "2023-11-01T19:32:48.558Z"
   },
   {
    "duration": 17,
    "start_time": "2023-11-01T19:33:00.515Z"
   },
   {
    "duration": 24,
    "start_time": "2023-11-01T19:33:06.896Z"
   },
   {
    "duration": 16,
    "start_time": "2023-11-01T19:33:32.654Z"
   },
   {
    "duration": 29,
    "start_time": "2023-11-01T19:34:04.215Z"
   },
   {
    "duration": 16,
    "start_time": "2023-11-01T19:34:05.848Z"
   },
   {
    "duration": 30,
    "start_time": "2023-11-01T19:35:28.833Z"
   },
   {
    "duration": 23,
    "start_time": "2023-11-01T19:35:54.737Z"
   },
   {
    "duration": 593,
    "start_time": "2023-11-01T19:36:10.069Z"
   },
   {
    "duration": 76,
    "start_time": "2023-11-01T19:36:10.663Z"
   },
   {
    "duration": 13,
    "start_time": "2023-11-01T19:36:10.741Z"
   },
   {
    "duration": 10,
    "start_time": "2023-11-01T19:36:10.755Z"
   },
   {
    "duration": 21,
    "start_time": "2023-11-01T19:36:10.767Z"
   },
   {
    "duration": 13,
    "start_time": "2023-11-01T19:36:10.790Z"
   },
   {
    "duration": 45,
    "start_time": "2023-11-01T19:36:10.805Z"
   },
   {
    "duration": 26,
    "start_time": "2023-11-01T19:36:10.851Z"
   },
   {
    "duration": 19,
    "start_time": "2023-11-01T19:36:10.879Z"
   },
   {
    "duration": 15,
    "start_time": "2023-11-01T19:36:10.900Z"
   },
   {
    "duration": 33,
    "start_time": "2023-11-01T19:36:10.916Z"
   },
   {
    "duration": 7,
    "start_time": "2023-11-01T19:36:10.951Z"
   },
   {
    "duration": 1092,
    "start_time": "2023-11-01T19:36:10.960Z"
   },
   {
    "duration": 9,
    "start_time": "2023-11-01T19:36:12.054Z"
   },
   {
    "duration": 322,
    "start_time": "2023-11-01T19:36:12.064Z"
   },
   {
    "duration": 1064,
    "start_time": "2023-11-01T19:36:12.387Z"
   },
   {
    "duration": 76,
    "start_time": "2023-11-01T19:42:52.929Z"
   },
   {
    "duration": 618,
    "start_time": "2023-11-01T19:43:19.777Z"
   },
   {
    "duration": 80,
    "start_time": "2023-11-01T19:43:20.397Z"
   },
   {
    "duration": 13,
    "start_time": "2023-11-01T19:43:20.478Z"
   },
   {
    "duration": 16,
    "start_time": "2023-11-01T19:43:20.493Z"
   },
   {
    "duration": 27,
    "start_time": "2023-11-01T19:43:20.511Z"
   },
   {
    "duration": 13,
    "start_time": "2023-11-01T19:43:20.545Z"
   },
   {
    "duration": 26,
    "start_time": "2023-11-01T19:43:20.560Z"
   },
   {
    "duration": 26,
    "start_time": "2023-11-01T19:43:20.588Z"
   },
   {
    "duration": 45,
    "start_time": "2023-11-01T19:43:20.615Z"
   },
   {
    "duration": 16,
    "start_time": "2023-11-01T19:43:20.662Z"
   },
   {
    "duration": 35,
    "start_time": "2023-11-01T19:43:20.679Z"
   },
   {
    "duration": 32,
    "start_time": "2023-11-01T19:43:20.715Z"
   },
   {
    "duration": 1153,
    "start_time": "2023-11-01T19:43:20.748Z"
   },
   {
    "duration": 87,
    "start_time": "2023-11-01T19:43:21.903Z"
   },
   {
    "duration": 0,
    "start_time": "2023-11-01T19:43:21.992Z"
   },
   {
    "duration": 0,
    "start_time": "2023-11-01T19:43:21.993Z"
   },
   {
    "duration": 9,
    "start_time": "2023-11-01T19:43:56.400Z"
   },
   {
    "duration": 1011,
    "start_time": "2023-11-01T19:45:48.131Z"
   },
   {
    "duration": 1058,
    "start_time": "2023-11-01T19:45:56.119Z"
   },
   {
    "duration": 92,
    "start_time": "2023-11-01T19:50:25.977Z"
   },
   {
    "duration": 11,
    "start_time": "2023-11-01T19:50:33.106Z"
   },
   {
    "duration": 398,
    "start_time": "2023-11-01T19:50:52.709Z"
   },
   {
    "duration": 15,
    "start_time": "2023-11-01T19:52:59.701Z"
   },
   {
    "duration": 659,
    "start_time": "2023-11-01T19:53:11.123Z"
   },
   {
    "duration": 80,
    "start_time": "2023-11-01T19:53:11.784Z"
   },
   {
    "duration": 14,
    "start_time": "2023-11-01T19:53:11.866Z"
   },
   {
    "duration": 37,
    "start_time": "2023-11-01T19:53:11.882Z"
   },
   {
    "duration": 91,
    "start_time": "2023-11-01T19:53:11.922Z"
   },
   {
    "duration": 0,
    "start_time": "2023-11-01T19:53:12.016Z"
   },
   {
    "duration": 0,
    "start_time": "2023-11-01T19:53:12.017Z"
   },
   {
    "duration": 0,
    "start_time": "2023-11-01T19:53:12.019Z"
   },
   {
    "duration": 0,
    "start_time": "2023-11-01T19:53:12.020Z"
   },
   {
    "duration": 0,
    "start_time": "2023-11-01T19:53:12.022Z"
   },
   {
    "duration": 0,
    "start_time": "2023-11-01T19:53:12.023Z"
   },
   {
    "duration": 0,
    "start_time": "2023-11-01T19:53:12.024Z"
   },
   {
    "duration": 0,
    "start_time": "2023-11-01T19:53:12.025Z"
   },
   {
    "duration": 0,
    "start_time": "2023-11-01T19:53:12.044Z"
   },
   {
    "duration": 0,
    "start_time": "2023-11-01T19:53:12.045Z"
   },
   {
    "duration": 0,
    "start_time": "2023-11-01T19:53:12.047Z"
   },
   {
    "duration": 23,
    "start_time": "2023-11-01T19:57:03.866Z"
   },
   {
    "duration": 20,
    "start_time": "2023-11-01T19:58:42.401Z"
   },
   {
    "duration": 9,
    "start_time": "2023-11-01T19:59:04.688Z"
   },
   {
    "duration": 19,
    "start_time": "2023-11-01T20:00:49.130Z"
   },
   {
    "duration": 636,
    "start_time": "2023-11-01T20:01:37.415Z"
   },
   {
    "duration": 79,
    "start_time": "2023-11-01T20:01:38.052Z"
   },
   {
    "duration": 12,
    "start_time": "2023-11-01T20:01:38.133Z"
   },
   {
    "duration": 8,
    "start_time": "2023-11-01T20:01:38.146Z"
   },
   {
    "duration": 28,
    "start_time": "2023-11-01T20:01:38.156Z"
   },
   {
    "duration": 13,
    "start_time": "2023-11-01T20:01:38.185Z"
   },
   {
    "duration": 24,
    "start_time": "2023-11-01T20:01:38.199Z"
   },
   {
    "duration": 41,
    "start_time": "2023-11-01T20:01:38.224Z"
   },
   {
    "duration": 19,
    "start_time": "2023-11-01T20:01:38.266Z"
   },
   {
    "duration": 16,
    "start_time": "2023-11-01T20:01:38.287Z"
   },
   {
    "duration": 40,
    "start_time": "2023-11-01T20:01:38.305Z"
   },
   {
    "duration": 12,
    "start_time": "2023-11-01T20:01:38.347Z"
   },
   {
    "duration": 86,
    "start_time": "2023-11-01T20:01:38.361Z"
   },
   {
    "duration": 0,
    "start_time": "2023-11-01T20:01:38.449Z"
   },
   {
    "duration": 0,
    "start_time": "2023-11-01T20:01:38.450Z"
   },
   {
    "duration": 0,
    "start_time": "2023-11-01T20:01:38.452Z"
   },
   {
    "duration": 11,
    "start_time": "2023-11-01T20:03:59.959Z"
   },
   {
    "duration": 1069,
    "start_time": "2023-11-01T20:04:20.207Z"
   },
   {
    "duration": 1699,
    "start_time": "2023-11-01T20:08:15.673Z"
   },
   {
    "duration": 10,
    "start_time": "2023-11-01T20:08:43.217Z"
   },
   {
    "duration": 294,
    "start_time": "2023-11-01T20:12:09.380Z"
   },
   {
    "duration": 1072,
    "start_time": "2023-11-01T20:12:21.177Z"
   },
   {
    "duration": 1030,
    "start_time": "2023-11-01T20:12:30.649Z"
   },
   {
    "duration": 987,
    "start_time": "2023-11-01T20:12:42.073Z"
   },
   {
    "duration": 344,
    "start_time": "2023-11-01T20:12:54.877Z"
   },
   {
    "duration": 654,
    "start_time": "2023-11-01T20:13:41.345Z"
   },
   {
    "duration": 82,
    "start_time": "2023-11-01T20:13:42.001Z"
   },
   {
    "duration": 16,
    "start_time": "2023-11-01T20:13:42.084Z"
   },
   {
    "duration": 10,
    "start_time": "2023-11-01T20:13:42.101Z"
   },
   {
    "duration": 43,
    "start_time": "2023-11-01T20:13:42.113Z"
   },
   {
    "duration": 14,
    "start_time": "2023-11-01T20:13:42.158Z"
   },
   {
    "duration": 29,
    "start_time": "2023-11-01T20:13:42.174Z"
   },
   {
    "duration": 54,
    "start_time": "2023-11-01T20:13:42.206Z"
   },
   {
    "duration": 23,
    "start_time": "2023-11-01T20:13:42.261Z"
   },
   {
    "duration": 16,
    "start_time": "2023-11-01T20:13:42.286Z"
   },
   {
    "duration": 7,
    "start_time": "2023-11-01T20:13:42.304Z"
   },
   {
    "duration": 36,
    "start_time": "2023-11-01T20:13:42.313Z"
   },
   {
    "duration": 1045,
    "start_time": "2023-11-01T20:13:42.351Z"
   },
   {
    "duration": 9,
    "start_time": "2023-11-01T20:13:43.398Z"
   },
   {
    "duration": 293,
    "start_time": "2023-11-01T20:13:43.409Z"
   },
   {
    "duration": 801,
    "start_time": "2023-11-01T20:13:43.703Z"
   },
   {
    "duration": 305,
    "start_time": "2023-11-01T20:14:34.833Z"
   },
   {
    "duration": 238,
    "start_time": "2023-11-01T20:15:15.530Z"
   },
   {
    "duration": 605,
    "start_time": "2023-11-01T20:16:45.789Z"
   },
   {
    "duration": 81,
    "start_time": "2023-11-01T20:16:46.395Z"
   },
   {
    "duration": 14,
    "start_time": "2023-11-01T20:16:46.478Z"
   },
   {
    "duration": 6,
    "start_time": "2023-11-01T20:16:46.494Z"
   },
   {
    "duration": 46,
    "start_time": "2023-11-01T20:16:46.502Z"
   },
   {
    "duration": 13,
    "start_time": "2023-11-01T20:16:46.549Z"
   },
   {
    "duration": 25,
    "start_time": "2023-11-01T20:16:46.563Z"
   },
   {
    "duration": 25,
    "start_time": "2023-11-01T20:16:46.589Z"
   },
   {
    "duration": 46,
    "start_time": "2023-11-01T20:16:46.615Z"
   },
   {
    "duration": 14,
    "start_time": "2023-11-01T20:16:46.662Z"
   },
   {
    "duration": 14,
    "start_time": "2023-11-01T20:16:46.678Z"
   },
   {
    "duration": 11,
    "start_time": "2023-11-01T20:16:46.693Z"
   },
   {
    "duration": 1068,
    "start_time": "2023-11-01T20:16:46.706Z"
   },
   {
    "duration": 8,
    "start_time": "2023-11-01T20:16:47.776Z"
   },
   {
    "duration": 300,
    "start_time": "2023-11-01T20:16:47.786Z"
   },
   {
    "duration": 782,
    "start_time": "2023-11-01T20:16:48.088Z"
   },
   {
    "duration": 464,
    "start_time": "2023-11-01T20:39:00.665Z"
   },
   {
    "duration": 140,
    "start_time": "2023-11-01T20:44:43.752Z"
   },
   {
    "duration": 58,
    "start_time": "2023-11-01T20:45:27.284Z"
   },
   {
    "duration": 31,
    "start_time": "2023-11-01T20:45:33.780Z"
   },
   {
    "duration": 27,
    "start_time": "2023-11-01T20:46:56.960Z"
   },
   {
    "duration": 28,
    "start_time": "2023-11-01T20:47:05.083Z"
   },
   {
    "duration": 20,
    "start_time": "2023-11-01T20:47:43.844Z"
   },
   {
    "duration": 20,
    "start_time": "2023-11-01T20:48:53.107Z"
   },
   {
    "duration": 1276,
    "start_time": "2023-11-01T20:49:21.011Z"
   },
   {
    "duration": 89,
    "start_time": "2023-11-01T20:49:22.289Z"
   },
   {
    "duration": 16,
    "start_time": "2023-11-01T20:49:22.379Z"
   },
   {
    "duration": 6,
    "start_time": "2023-11-01T20:49:22.397Z"
   },
   {
    "duration": 47,
    "start_time": "2023-11-01T20:49:22.405Z"
   },
   {
    "duration": 17,
    "start_time": "2023-11-01T20:49:22.453Z"
   },
   {
    "duration": 30,
    "start_time": "2023-11-01T20:49:22.472Z"
   },
   {
    "duration": 54,
    "start_time": "2023-11-01T20:49:22.503Z"
   },
   {
    "duration": 22,
    "start_time": "2023-11-01T20:49:22.559Z"
   },
   {
    "duration": 18,
    "start_time": "2023-11-01T20:49:22.583Z"
   },
   {
    "duration": 11,
    "start_time": "2023-11-01T20:49:22.602Z"
   },
   {
    "duration": 38,
    "start_time": "2023-11-01T20:49:22.614Z"
   },
   {
    "duration": 1172,
    "start_time": "2023-11-01T20:49:22.654Z"
   },
   {
    "duration": 9,
    "start_time": "2023-11-01T20:49:23.828Z"
   },
   {
    "duration": 361,
    "start_time": "2023-11-01T20:49:23.845Z"
   },
   {
    "duration": 221,
    "start_time": "2023-11-01T20:49:24.208Z"
   },
   {
    "duration": 237,
    "start_time": "2023-11-01T20:51:54.256Z"
   },
   {
    "duration": 218,
    "start_time": "2023-11-01T20:52:44.506Z"
   },
   {
    "duration": 212,
    "start_time": "2023-11-01T20:53:10.116Z"
   },
   {
    "duration": 212,
    "start_time": "2023-11-01T20:53:56.672Z"
   },
   {
    "duration": 240,
    "start_time": "2023-11-01T20:54:03.864Z"
   },
   {
    "duration": 11,
    "start_time": "2023-11-01T21:04:15.718Z"
   },
   {
    "duration": 10,
    "start_time": "2023-11-01T21:04:28.182Z"
   },
   {
    "duration": 8,
    "start_time": "2023-11-01T21:04:33.646Z"
   },
   {
    "duration": 37,
    "start_time": "2023-11-01T21:04:57.767Z"
   },
   {
    "duration": 31,
    "start_time": "2023-11-01T21:05:58.166Z"
   },
   {
    "duration": 44,
    "start_time": "2023-11-01T21:06:10.447Z"
   },
   {
    "duration": 30,
    "start_time": "2023-11-01T21:06:30.718Z"
   },
   {
    "duration": 29,
    "start_time": "2023-11-01T21:06:44.745Z"
   },
   {
    "duration": 59,
    "start_time": "2023-11-01T21:06:51.345Z"
   },
   {
    "duration": 97,
    "start_time": "2023-11-01T21:07:11.711Z"
   },
   {
    "duration": 40,
    "start_time": "2023-11-01T21:07:13.555Z"
   },
   {
    "duration": 102,
    "start_time": "2023-11-01T21:07:24.542Z"
   },
   {
    "duration": 31,
    "start_time": "2023-11-01T21:07:29.390Z"
   },
   {
    "duration": 29,
    "start_time": "2023-11-01T21:09:32.735Z"
   },
   {
    "duration": 29,
    "start_time": "2023-11-01T21:09:58.182Z"
   },
   {
    "duration": 208,
    "start_time": "2023-11-01T21:10:52.999Z"
   },
   {
    "duration": 30,
    "start_time": "2023-11-01T21:15:16.392Z"
   },
   {
    "duration": 9,
    "start_time": "2023-11-01T21:28:47.822Z"
   },
   {
    "duration": 10,
    "start_time": "2023-11-01T21:51:11.471Z"
   },
   {
    "duration": 95,
    "start_time": "2023-11-01T21:52:38.715Z"
   },
   {
    "duration": 98,
    "start_time": "2023-11-01T21:54:16.779Z"
   },
   {
    "duration": 132,
    "start_time": "2023-11-01T21:54:56.474Z"
   },
   {
    "duration": 89,
    "start_time": "2023-11-01T21:57:21.054Z"
   },
   {
    "duration": 11,
    "start_time": "2023-11-01T21:59:02.291Z"
   },
   {
    "duration": 94,
    "start_time": "2023-11-01T21:59:20.890Z"
   },
   {
    "duration": 173,
    "start_time": "2023-11-01T22:00:15.768Z"
   },
   {
    "duration": 89,
    "start_time": "2023-11-01T22:01:27.657Z"
   },
   {
    "duration": 96,
    "start_time": "2023-11-01T22:02:05.875Z"
   },
   {
    "duration": 111,
    "start_time": "2023-11-01T22:02:13.360Z"
   },
   {
    "duration": 82,
    "start_time": "2023-11-01T22:02:18.459Z"
   },
   {
    "duration": 13,
    "start_time": "2023-11-01T22:02:38.786Z"
   },
   {
    "duration": 85,
    "start_time": "2023-11-01T22:03:55.302Z"
   },
   {
    "duration": 13,
    "start_time": "2023-11-01T22:04:35.162Z"
   },
   {
    "duration": 11,
    "start_time": "2023-11-01T22:04:42.297Z"
   },
   {
    "duration": 98,
    "start_time": "2023-11-01T22:10:17.052Z"
   },
   {
    "duration": 113,
    "start_time": "2023-11-01T22:11:49.716Z"
   },
   {
    "duration": 13,
    "start_time": "2023-11-01T22:12:13.475Z"
   },
   {
    "duration": 9,
    "start_time": "2023-11-01T22:12:50.850Z"
   },
   {
    "duration": 111,
    "start_time": "2023-11-01T22:13:18.189Z"
   },
   {
    "duration": 220,
    "start_time": "2023-11-01T22:13:32.267Z"
   },
   {
    "duration": 312,
    "start_time": "2023-11-01T22:13:46.407Z"
   },
   {
    "duration": 405,
    "start_time": "2023-11-01T22:17:02.515Z"
   },
   {
    "duration": 273,
    "start_time": "2023-11-01T22:17:20.274Z"
   },
   {
    "duration": 311,
    "start_time": "2023-11-01T22:17:46.100Z"
   },
   {
    "duration": 286,
    "start_time": "2023-11-01T22:20:19.717Z"
   },
   {
    "duration": 247,
    "start_time": "2023-11-01T22:20:53.546Z"
   },
   {
    "duration": 250,
    "start_time": "2023-11-01T22:21:17.230Z"
   },
   {
    "duration": 319,
    "start_time": "2023-11-01T22:21:27.602Z"
   },
   {
    "duration": 273,
    "start_time": "2023-11-01T22:22:14.651Z"
   },
   {
    "duration": 285,
    "start_time": "2023-11-01T22:22:30.140Z"
   },
   {
    "duration": 268,
    "start_time": "2023-11-01T22:23:08.764Z"
   },
   {
    "duration": 2,
    "start_time": "2023-11-01T22:24:00.338Z"
   },
   {
    "duration": 130,
    "start_time": "2023-11-01T22:29:14.149Z"
   },
   {
    "duration": 93,
    "start_time": "2023-11-01T22:29:47.914Z"
   },
   {
    "duration": 10,
    "start_time": "2023-11-01T22:32:06.781Z"
   },
   {
    "duration": 11,
    "start_time": "2023-11-01T22:34:48.050Z"
   },
   {
    "duration": 83,
    "start_time": "2023-11-01T22:35:00.046Z"
   },
   {
    "duration": 11,
    "start_time": "2023-11-01T22:35:19.195Z"
   },
   {
    "duration": 15,
    "start_time": "2023-11-01T22:41:21.292Z"
   },
   {
    "duration": 13,
    "start_time": "2023-11-01T22:41:30.031Z"
   },
   {
    "duration": 9,
    "start_time": "2023-11-01T22:42:16.009Z"
   },
   {
    "duration": 17,
    "start_time": "2023-11-01T22:42:30.076Z"
   },
   {
    "duration": 14,
    "start_time": "2023-11-01T22:42:31.072Z"
   },
   {
    "duration": 13,
    "start_time": "2023-11-01T22:42:38.729Z"
   },
   {
    "duration": 19,
    "start_time": "2023-11-01T22:45:11.273Z"
   },
   {
    "duration": 13,
    "start_time": "2023-11-01T22:45:28.969Z"
   },
   {
    "duration": 26,
    "start_time": "2023-11-01T22:45:44.339Z"
   },
   {
    "duration": 18,
    "start_time": "2023-11-01T22:46:50.272Z"
   },
   {
    "duration": 15,
    "start_time": "2023-11-01T22:46:55.673Z"
   },
   {
    "duration": 303,
    "start_time": "2023-11-01T22:47:28.641Z"
   },
   {
    "duration": 288,
    "start_time": "2023-11-01T22:48:15.489Z"
   },
   {
    "duration": 13,
    "start_time": "2023-11-01T22:49:50.469Z"
   },
   {
    "duration": 382,
    "start_time": "2023-11-01T22:51:00.641Z"
   },
   {
    "duration": 100,
    "start_time": "2023-11-01T22:51:16.553Z"
   },
   {
    "duration": 131,
    "start_time": "2023-11-01T22:51:51.466Z"
   },
   {
    "duration": 4,
    "start_time": "2023-11-01T22:52:39.640Z"
   },
   {
    "duration": 139,
    "start_time": "2023-11-01T22:52:46.128Z"
   },
   {
    "duration": 279,
    "start_time": "2023-11-01T22:53:38.809Z"
   },
   {
    "duration": 292,
    "start_time": "2023-11-01T22:55:44.681Z"
   },
   {
    "duration": 305,
    "start_time": "2023-11-01T22:56:33.176Z"
   },
   {
    "duration": 301,
    "start_time": "2023-11-01T22:56:45.120Z"
   },
   {
    "duration": 105,
    "start_time": "2023-11-01T23:08:01.439Z"
   },
   {
    "duration": 11,
    "start_time": "2023-11-01T23:08:12.861Z"
   },
   {
    "duration": 7,
    "start_time": "2023-11-01T23:08:22.791Z"
   },
   {
    "duration": 8,
    "start_time": "2023-11-01T23:08:57.320Z"
   },
   {
    "duration": 11,
    "start_time": "2023-11-01T23:10:04.512Z"
   },
   {
    "duration": 11,
    "start_time": "2023-11-01T23:10:28.751Z"
   },
   {
    "duration": 39,
    "start_time": "2023-11-01T23:11:30.648Z"
   },
   {
    "duration": 10,
    "start_time": "2023-11-01T23:12:07.599Z"
   },
   {
    "duration": 9,
    "start_time": "2023-11-01T23:12:16.047Z"
   },
   {
    "duration": 10,
    "start_time": "2023-11-01T23:12:27.894Z"
   },
   {
    "duration": 35,
    "start_time": "2023-11-01T23:12:32.361Z"
   },
   {
    "duration": 29,
    "start_time": "2023-11-01T23:12:48.566Z"
   },
   {
    "duration": 9,
    "start_time": "2023-11-01T23:15:02.640Z"
   },
   {
    "duration": 28,
    "start_time": "2023-11-01T23:15:10.599Z"
   },
   {
    "duration": 1344,
    "start_time": "2023-11-02T18:08:36.625Z"
   },
   {
    "duration": 133,
    "start_time": "2023-11-02T18:08:37.971Z"
   },
   {
    "duration": 14,
    "start_time": "2023-11-02T18:08:38.106Z"
   },
   {
    "duration": 26,
    "start_time": "2023-11-02T18:08:38.121Z"
   },
   {
    "duration": 44,
    "start_time": "2023-11-02T18:08:38.148Z"
   },
   {
    "duration": 12,
    "start_time": "2023-11-02T18:08:38.194Z"
   },
   {
    "duration": 47,
    "start_time": "2023-11-02T18:08:38.208Z"
   },
   {
    "duration": 30,
    "start_time": "2023-11-02T18:08:38.257Z"
   },
   {
    "duration": 19,
    "start_time": "2023-11-02T18:08:38.288Z"
   },
   {
    "duration": 38,
    "start_time": "2023-11-02T18:08:38.309Z"
   },
   {
    "duration": 6,
    "start_time": "2023-11-02T18:08:38.349Z"
   },
   {
    "duration": 19,
    "start_time": "2023-11-02T18:08:38.356Z"
   },
   {
    "duration": 1022,
    "start_time": "2023-11-02T18:08:38.377Z"
   },
   {
    "duration": 8,
    "start_time": "2023-11-02T18:08:39.401Z"
   },
   {
    "duration": 277,
    "start_time": "2023-11-02T18:08:39.410Z"
   },
   {
    "duration": 265,
    "start_time": "2023-11-02T18:08:39.689Z"
   },
   {
    "duration": 8,
    "start_time": "2023-11-02T18:08:39.956Z"
   },
   {
    "duration": 303,
    "start_time": "2023-11-02T18:08:39.966Z"
   },
   {
    "duration": 27,
    "start_time": "2023-11-02T18:08:40.271Z"
   },
   {
    "duration": 8,
    "start_time": "2023-11-02T18:12:16.896Z"
   },
   {
    "duration": 8,
    "start_time": "2023-11-02T18:12:59.893Z"
   },
   {
    "duration": 99,
    "start_time": "2023-11-02T18:18:49.391Z"
   },
   {
    "duration": 1773,
    "start_time": "2023-11-02T18:21:07.054Z"
   },
   {
    "duration": 13,
    "start_time": "2023-11-02T18:21:36.725Z"
   },
   {
    "duration": 7,
    "start_time": "2023-11-02T18:21:47.335Z"
   },
   {
    "duration": 12,
    "start_time": "2023-11-02T18:22:05.151Z"
   },
   {
    "duration": 6,
    "start_time": "2023-11-02T18:22:20.909Z"
   },
   {
    "duration": 1305,
    "start_time": "2023-11-02T18:22:42.334Z"
   },
   {
    "duration": 8,
    "start_time": "2023-11-02T18:23:23.662Z"
   },
   {
    "duration": 7,
    "start_time": "2023-11-02T18:26:42.527Z"
   },
   {
    "duration": 347,
    "start_time": "2023-11-02T18:27:20.891Z"
   },
   {
    "duration": 13,
    "start_time": "2023-11-02T18:27:41.030Z"
   },
   {
    "duration": 14,
    "start_time": "2023-11-02T18:27:51.076Z"
   },
   {
    "duration": 76,
    "start_time": "2023-11-02T18:32:50.550Z"
   },
   {
    "duration": 126,
    "start_time": "2023-11-02T18:33:05.543Z"
   },
   {
    "duration": 319,
    "start_time": "2023-11-02T18:37:01.977Z"
   },
   {
    "duration": 13,
    "start_time": "2023-11-02T18:37:38.552Z"
   },
   {
    "duration": 15,
    "start_time": "2023-11-02T18:39:45.228Z"
   },
   {
    "duration": 1267,
    "start_time": "2023-11-02T18:49:57.541Z"
   },
   {
    "duration": 1276,
    "start_time": "2023-11-02T18:50:29.059Z"
   },
   {
    "duration": 10,
    "start_time": "2023-11-02T18:51:46.100Z"
   },
   {
    "duration": 19,
    "start_time": "2023-11-02T18:52:01.915Z"
   },
   {
    "duration": 11,
    "start_time": "2023-11-02T18:52:18.985Z"
   },
   {
    "duration": 14,
    "start_time": "2023-11-02T18:53:04.650Z"
   },
   {
    "duration": 13,
    "start_time": "2023-11-02T18:53:30.708Z"
   },
   {
    "duration": 12,
    "start_time": "2023-11-02T18:53:40.460Z"
   },
   {
    "duration": 14,
    "start_time": "2023-11-02T18:53:53.928Z"
   },
   {
    "duration": 312,
    "start_time": "2023-11-02T18:54:55.683Z"
   },
   {
    "duration": 323,
    "start_time": "2023-11-02T18:55:28.378Z"
   },
   {
    "duration": 324,
    "start_time": "2023-11-02T18:55:35.571Z"
   },
   {
    "duration": 328,
    "start_time": "2023-11-02T18:56:06.121Z"
   },
   {
    "duration": 162,
    "start_time": "2023-11-02T18:56:17.226Z"
   },
   {
    "duration": 20,
    "start_time": "2023-11-02T18:57:02.182Z"
   },
   {
    "duration": 14,
    "start_time": "2023-11-02T18:58:26.490Z"
   },
   {
    "duration": 16,
    "start_time": "2023-11-02T18:58:50.419Z"
   },
   {
    "duration": 76,
    "start_time": "2023-11-02T18:58:59.036Z"
   },
   {
    "duration": 16,
    "start_time": "2023-11-02T18:59:17.242Z"
   },
   {
    "duration": 14,
    "start_time": "2023-11-02T18:59:42.122Z"
   },
   {
    "duration": 10,
    "start_time": "2023-11-02T19:00:03.731Z"
   },
   {
    "duration": 1246,
    "start_time": "2023-11-02T19:00:51.730Z"
   },
   {
    "duration": 1375,
    "start_time": "2023-11-02T19:01:35.688Z"
   },
   {
    "duration": 1265,
    "start_time": "2023-11-02T19:01:44.236Z"
   },
   {
    "duration": 8,
    "start_time": "2023-11-02T19:01:53.831Z"
   },
   {
    "duration": 10,
    "start_time": "2023-11-02T19:07:24.041Z"
   },
   {
    "duration": 12,
    "start_time": "2023-11-02T19:08:31.397Z"
   },
   {
    "duration": 11,
    "start_time": "2023-11-02T19:08:52.568Z"
   },
   {
    "duration": 10,
    "start_time": "2023-11-02T19:10:09.367Z"
   },
   {
    "duration": 546,
    "start_time": "2023-11-02T19:10:24.197Z"
   },
   {
    "duration": 6,
    "start_time": "2023-11-02T19:10:29.693Z"
   },
   {
    "duration": 18,
    "start_time": "2023-11-02T19:11:23.394Z"
   },
   {
    "duration": 1775,
    "start_time": "2023-11-02T19:12:31.132Z"
   },
   {
    "duration": 174,
    "start_time": "2023-11-02T19:13:20.715Z"
   },
   {
    "duration": 198,
    "start_time": "2023-11-02T19:14:23.046Z"
   },
   {
    "duration": 186,
    "start_time": "2023-11-02T19:14:54.578Z"
   },
   {
    "duration": 249,
    "start_time": "2023-11-02T19:17:18.394Z"
   },
   {
    "duration": 175,
    "start_time": "2023-11-02T19:17:31.809Z"
   },
   {
    "duration": 150,
    "start_time": "2023-11-02T19:17:43.263Z"
   },
   {
    "duration": 146,
    "start_time": "2023-11-02T19:18:19.970Z"
   },
   {
    "duration": 156,
    "start_time": "2023-11-02T19:20:18.513Z"
   },
   {
    "duration": 144,
    "start_time": "2023-11-02T19:20:42.585Z"
   },
   {
    "duration": 150,
    "start_time": "2023-11-02T19:21:15.294Z"
   },
   {
    "duration": 149,
    "start_time": "2023-11-02T19:21:45.178Z"
   },
   {
    "duration": 191,
    "start_time": "2023-11-02T19:21:57.609Z"
   },
   {
    "duration": 155,
    "start_time": "2023-11-02T19:22:09.001Z"
   },
   {
    "duration": 155,
    "start_time": "2023-11-02T19:22:58.948Z"
   },
   {
    "duration": 238,
    "start_time": "2023-11-02T19:23:29.321Z"
   },
   {
    "duration": 156,
    "start_time": "2023-11-02T19:23:36.325Z"
   },
   {
    "duration": 324,
    "start_time": "2023-11-02T19:24:11.130Z"
   },
   {
    "duration": 281,
    "start_time": "2023-11-02T19:26:42.451Z"
   },
   {
    "duration": 377,
    "start_time": "2023-11-02T19:26:51.322Z"
   },
   {
    "duration": 251,
    "start_time": "2023-11-02T19:26:59.146Z"
   },
   {
    "duration": 236,
    "start_time": "2023-11-02T19:27:06.588Z"
   },
   {
    "duration": 242,
    "start_time": "2023-11-02T19:27:11.499Z"
   },
   {
    "duration": 246,
    "start_time": "2023-11-02T19:27:16.418Z"
   },
   {
    "duration": 269,
    "start_time": "2023-11-02T19:27:55.124Z"
   },
   {
    "duration": 270,
    "start_time": "2023-11-02T19:28:36.692Z"
   },
   {
    "duration": 365,
    "start_time": "2023-11-02T19:28:44.820Z"
   },
   {
    "duration": 272,
    "start_time": "2023-11-02T19:28:57.762Z"
   },
   {
    "duration": 277,
    "start_time": "2023-11-02T19:29:07.892Z"
   },
   {
    "duration": 234,
    "start_time": "2023-11-02T19:30:05.195Z"
   },
   {
    "duration": 244,
    "start_time": "2023-11-02T19:30:26.778Z"
   },
   {
    "duration": 318,
    "start_time": "2023-11-02T19:32:27.972Z"
   },
   {
    "duration": 239,
    "start_time": "2023-11-02T19:32:38.092Z"
   },
   {
    "duration": 150,
    "start_time": "2023-11-02T19:33:00.554Z"
   },
   {
    "duration": 1242,
    "start_time": "2023-11-02T19:33:15.759Z"
   },
   {
    "duration": 154,
    "start_time": "2023-11-02T19:33:39.735Z"
   },
   {
    "duration": 175,
    "start_time": "2023-11-02T19:34:08.732Z"
   },
   {
    "duration": 183,
    "start_time": "2023-11-02T19:34:20.028Z"
   },
   {
    "duration": 247,
    "start_time": "2023-11-02T19:34:30.549Z"
   },
   {
    "duration": 164,
    "start_time": "2023-11-02T19:39:06.093Z"
   },
   {
    "duration": 157,
    "start_time": "2023-11-02T19:39:16.829Z"
   },
   {
    "duration": 151,
    "start_time": "2023-11-02T19:39:41.398Z"
   },
   {
    "duration": 162,
    "start_time": "2023-11-02T19:39:51.988Z"
   },
   {
    "duration": 151,
    "start_time": "2023-11-02T19:40:00.781Z"
   },
   {
    "duration": 252,
    "start_time": "2023-11-02T19:41:22.045Z"
   },
   {
    "duration": 271,
    "start_time": "2023-11-02T19:41:42.220Z"
   },
   {
    "duration": 277,
    "start_time": "2023-11-02T19:45:03.061Z"
   },
   {
    "duration": 142,
    "start_time": "2023-11-02T19:45:36.144Z"
   },
   {
    "duration": 159,
    "start_time": "2023-11-02T19:45:45.069Z"
   },
   {
    "duration": 337,
    "start_time": "2023-11-02T19:45:55.564Z"
   },
   {
    "duration": 21,
    "start_time": "2023-11-02T19:54:37.541Z"
   },
   {
    "duration": 18,
    "start_time": "2023-11-02T19:54:53.168Z"
   },
   {
    "duration": 19,
    "start_time": "2023-11-02T19:55:50.197Z"
   },
   {
    "duration": 81,
    "start_time": "2023-11-02T19:55:58.617Z"
   },
   {
    "duration": 73,
    "start_time": "2023-11-02T19:56:11.947Z"
   },
   {
    "duration": 309,
    "start_time": "2023-11-02T19:56:36.323Z"
   },
   {
    "duration": 300,
    "start_time": "2023-11-02T20:01:39.921Z"
   },
   {
    "duration": 291,
    "start_time": "2023-11-02T20:02:06.231Z"
   },
   {
    "duration": 279,
    "start_time": "2023-11-02T20:03:31.257Z"
   },
   {
    "duration": 286,
    "start_time": "2023-11-02T20:03:54.659Z"
   },
   {
    "duration": 14,
    "start_time": "2023-11-02T20:08:26.727Z"
   },
   {
    "duration": 290,
    "start_time": "2023-11-02T20:08:45.460Z"
   },
   {
    "duration": 293,
    "start_time": "2023-11-02T20:08:55.812Z"
   },
   {
    "duration": 14,
    "start_time": "2023-11-02T20:11:00.495Z"
   },
   {
    "duration": 1440,
    "start_time": "2023-11-02T20:11:12.269Z"
   },
   {
    "duration": 1467,
    "start_time": "2023-11-02T20:11:56.511Z"
   },
   {
    "duration": 1816,
    "start_time": "2023-11-02T20:12:02.894Z"
   },
   {
    "duration": 281,
    "start_time": "2023-11-02T20:12:21.787Z"
   },
   {
    "duration": 17,
    "start_time": "2023-11-02T20:15:29.122Z"
   },
   {
    "duration": 16,
    "start_time": "2023-11-02T20:17:57.128Z"
   },
   {
    "duration": 4,
    "start_time": "2023-11-02T20:26:29.788Z"
   },
   {
    "duration": 11,
    "start_time": "2023-11-02T20:27:02.386Z"
   },
   {
    "duration": 12,
    "start_time": "2023-11-02T20:27:12.897Z"
   },
   {
    "duration": 16,
    "start_time": "2023-11-02T20:27:46.073Z"
   },
   {
    "duration": 21,
    "start_time": "2023-11-02T20:28:02.139Z"
   },
   {
    "duration": 18,
    "start_time": "2023-11-02T20:28:53.508Z"
   },
   {
    "duration": 17,
    "start_time": "2023-11-02T20:28:59.978Z"
   },
   {
    "duration": 84,
    "start_time": "2023-11-02T20:30:44.041Z"
   },
   {
    "duration": 5,
    "start_time": "2023-11-02T20:30:51.154Z"
   },
   {
    "duration": 14,
    "start_time": "2023-11-02T20:31:13.634Z"
   },
   {
    "duration": 9,
    "start_time": "2023-11-02T20:31:51.896Z"
   },
   {
    "duration": 10,
    "start_time": "2023-11-02T20:32:09.267Z"
   },
   {
    "duration": 10,
    "start_time": "2023-11-02T20:33:01.050Z"
   },
   {
    "duration": 76,
    "start_time": "2023-11-02T20:33:17.281Z"
   },
   {
    "duration": 9,
    "start_time": "2023-11-02T20:37:09.744Z"
   },
   {
    "duration": 9,
    "start_time": "2023-11-02T20:37:23.496Z"
   },
   {
    "duration": 13,
    "start_time": "2023-11-02T20:38:15.545Z"
   },
   {
    "duration": 10,
    "start_time": "2023-11-02T20:39:06.137Z"
   },
   {
    "duration": 10,
    "start_time": "2023-11-02T20:39:14.232Z"
   },
   {
    "duration": 14,
    "start_time": "2023-11-02T20:39:38.750Z"
   },
   {
    "duration": 10,
    "start_time": "2023-11-02T20:40:06.944Z"
   },
   {
    "duration": 10,
    "start_time": "2023-11-02T20:40:13.742Z"
   },
   {
    "duration": 16,
    "start_time": "2023-11-02T20:41:14.496Z"
   },
   {
    "duration": 12,
    "start_time": "2023-11-02T20:42:22.279Z"
   },
   {
    "duration": 94,
    "start_time": "2023-11-02T20:43:48.033Z"
   },
   {
    "duration": 10,
    "start_time": "2023-11-02T20:45:16.770Z"
   },
   {
    "duration": 12,
    "start_time": "2023-11-02T20:45:25.936Z"
   },
   {
    "duration": 13,
    "start_time": "2023-11-02T20:45:43.335Z"
   },
   {
    "duration": 10,
    "start_time": "2023-11-02T20:45:57.910Z"
   },
   {
    "duration": 11,
    "start_time": "2023-11-02T20:46:03.304Z"
   },
   {
    "duration": 12,
    "start_time": "2023-11-02T20:46:09.065Z"
   },
   {
    "duration": 10,
    "start_time": "2023-11-02T20:46:42.081Z"
   },
   {
    "duration": 18,
    "start_time": "2023-11-02T20:46:50.423Z"
   },
   {
    "duration": 18,
    "start_time": "2023-11-02T20:47:39.355Z"
   },
   {
    "duration": 21,
    "start_time": "2023-11-02T20:47:57.534Z"
   },
   {
    "duration": 84,
    "start_time": "2023-11-02T20:48:16.464Z"
   },
   {
    "duration": 80,
    "start_time": "2023-11-02T20:48:27.015Z"
   },
   {
    "duration": 19,
    "start_time": "2023-11-02T20:48:37.277Z"
   },
   {
    "duration": 309,
    "start_time": "2023-11-02T20:54:13.086Z"
   },
   {
    "duration": 15,
    "start_time": "2023-11-02T20:54:44.394Z"
   },
   {
    "duration": 18,
    "start_time": "2023-11-02T20:56:02.205Z"
   },
   {
    "duration": 21,
    "start_time": "2023-11-02T20:56:11.007Z"
   },
   {
    "duration": 19,
    "start_time": "2023-11-02T20:56:16.505Z"
   },
   {
    "duration": 18,
    "start_time": "2023-11-02T20:56:27.086Z"
   },
   {
    "duration": 27,
    "start_time": "2023-11-02T20:56:33.701Z"
   },
   {
    "duration": 19,
    "start_time": "2023-11-02T20:57:15.282Z"
   },
   {
    "duration": 19,
    "start_time": "2023-11-02T21:05:12.901Z"
   },
   {
    "duration": 16,
    "start_time": "2023-11-02T21:05:23.429Z"
   },
   {
    "duration": 16,
    "start_time": "2023-11-02T21:05:41.429Z"
   },
   {
    "duration": 18,
    "start_time": "2023-11-02T21:07:00.050Z"
   },
   {
    "duration": 18,
    "start_time": "2023-11-02T21:08:33.884Z"
   },
   {
    "duration": 21,
    "start_time": "2023-11-02T21:09:02.068Z"
   },
   {
    "duration": 32,
    "start_time": "2023-11-02T21:09:17.949Z"
   },
   {
    "duration": 25,
    "start_time": "2023-11-02T21:09:33.501Z"
   },
   {
    "duration": 25,
    "start_time": "2023-11-02T21:09:50.140Z"
   },
   {
    "duration": 24,
    "start_time": "2023-11-02T21:10:20.644Z"
   },
   {
    "duration": 90,
    "start_time": "2023-11-02T21:18:21.679Z"
   },
   {
    "duration": 16,
    "start_time": "2023-11-02T21:19:36.450Z"
   },
   {
    "duration": 23,
    "start_time": "2023-11-02T21:19:58.251Z"
   },
   {
    "duration": 86,
    "start_time": "2023-11-02T21:20:19.216Z"
   },
   {
    "duration": 23,
    "start_time": "2023-11-02T21:20:30.746Z"
   },
   {
    "duration": 14,
    "start_time": "2023-11-02T21:35:32.472Z"
   },
   {
    "duration": 12,
    "start_time": "2023-11-02T21:35:51.968Z"
   },
   {
    "duration": 18,
    "start_time": "2023-11-02T21:36:22.249Z"
   },
   {
    "duration": 3,
    "start_time": "2023-11-02T22:28:02.854Z"
   },
   {
    "duration": 13,
    "start_time": "2023-11-02T22:41:42.605Z"
   },
   {
    "duration": 4,
    "start_time": "2023-11-02T22:42:44.351Z"
   },
   {
    "duration": 4,
    "start_time": "2023-11-02T22:43:01.137Z"
   },
   {
    "duration": 22,
    "start_time": "2023-11-02T22:43:05.507Z"
   },
   {
    "duration": 13,
    "start_time": "2023-11-02T22:43:28.927Z"
   },
   {
    "duration": 3,
    "start_time": "2023-11-02T22:44:32.214Z"
   },
   {
    "duration": 15,
    "start_time": "2023-11-02T22:45:08.925Z"
   },
   {
    "duration": 25,
    "start_time": "2023-11-02T22:50:04.437Z"
   },
   {
    "duration": 1196,
    "start_time": "2023-11-02T22:50:19.268Z"
   },
   {
    "duration": 80,
    "start_time": "2023-11-02T22:50:20.466Z"
   },
   {
    "duration": 15,
    "start_time": "2023-11-02T22:50:20.550Z"
   },
   {
    "duration": 6,
    "start_time": "2023-11-02T22:50:20.567Z"
   },
   {
    "duration": 29,
    "start_time": "2023-11-02T22:50:20.575Z"
   },
   {
    "duration": 41,
    "start_time": "2023-11-02T22:50:20.606Z"
   },
   {
    "duration": 28,
    "start_time": "2023-11-02T22:50:20.649Z"
   },
   {
    "duration": 28,
    "start_time": "2023-11-02T22:50:20.678Z"
   },
   {
    "duration": 47,
    "start_time": "2023-11-02T22:50:20.708Z"
   },
   {
    "duration": 17,
    "start_time": "2023-11-02T22:50:20.757Z"
   },
   {
    "duration": 12,
    "start_time": "2023-11-02T22:50:20.776Z"
   },
   {
    "duration": 18,
    "start_time": "2023-11-02T22:50:20.790Z"
   },
   {
    "duration": 1091,
    "start_time": "2023-11-02T22:50:20.810Z"
   },
   {
    "duration": 9,
    "start_time": "2023-11-02T22:50:21.902Z"
   },
   {
    "duration": 259,
    "start_time": "2023-11-02T22:50:21.912Z"
   },
   {
    "duration": 289,
    "start_time": "2023-11-02T22:50:22.173Z"
   },
   {
    "duration": 11,
    "start_time": "2023-11-02T22:50:22.465Z"
   },
   {
    "duration": 326,
    "start_time": "2023-11-02T22:50:22.478Z"
   },
   {
    "duration": 45,
    "start_time": "2023-11-02T22:50:22.806Z"
   },
   {
    "duration": 289,
    "start_time": "2023-11-02T22:50:22.854Z"
   },
   {
    "duration": 25,
    "start_time": "2023-11-02T22:50:23.145Z"
   },
   {
    "duration": 24,
    "start_time": "2023-11-02T22:50:23.172Z"
   },
   {
    "duration": 52,
    "start_time": "2023-11-02T22:50:23.198Z"
   },
   {
    "duration": 118,
    "start_time": "2023-11-02T22:50:23.252Z"
   },
   {
    "duration": 12,
    "start_time": "2023-11-02T22:54:33.045Z"
   },
   {
    "duration": 11,
    "start_time": "2023-11-02T22:56:06.733Z"
   },
   {
    "duration": 5,
    "start_time": "2023-11-02T22:57:32.858Z"
   },
   {
    "duration": 5,
    "start_time": "2023-11-02T22:57:45.271Z"
   },
   {
    "duration": 5,
    "start_time": "2023-11-02T23:00:20.485Z"
   },
   {
    "duration": 13,
    "start_time": "2023-11-02T23:00:25.409Z"
   },
   {
    "duration": 1355,
    "start_time": "2023-11-02T23:00:54.702Z"
   },
   {
    "duration": 80,
    "start_time": "2023-11-02T23:00:56.060Z"
   },
   {
    "duration": 13,
    "start_time": "2023-11-02T23:00:56.142Z"
   },
   {
    "duration": 27,
    "start_time": "2023-11-02T23:00:56.156Z"
   },
   {
    "duration": 35,
    "start_time": "2023-11-02T23:00:56.186Z"
   },
   {
    "duration": 14,
    "start_time": "2023-11-02T23:00:56.222Z"
   },
   {
    "duration": 38,
    "start_time": "2023-11-02T23:00:56.238Z"
   },
   {
    "duration": 25,
    "start_time": "2023-11-02T23:00:56.277Z"
   },
   {
    "duration": 34,
    "start_time": "2023-11-02T23:00:56.304Z"
   },
   {
    "duration": 35,
    "start_time": "2023-11-02T23:00:56.340Z"
   },
   {
    "duration": 20,
    "start_time": "2023-11-02T23:00:56.377Z"
   },
   {
    "duration": 26,
    "start_time": "2023-11-02T23:00:56.399Z"
   },
   {
    "duration": 1017,
    "start_time": "2023-11-02T23:00:56.426Z"
   },
   {
    "duration": 8,
    "start_time": "2023-11-02T23:00:57.446Z"
   },
   {
    "duration": 269,
    "start_time": "2023-11-02T23:00:57.455Z"
   },
   {
    "duration": 278,
    "start_time": "2023-11-02T23:00:57.726Z"
   },
   {
    "duration": 9,
    "start_time": "2023-11-02T23:00:58.006Z"
   },
   {
    "duration": 307,
    "start_time": "2023-11-02T23:00:58.016Z"
   },
   {
    "duration": 36,
    "start_time": "2023-11-02T23:00:58.325Z"
   },
   {
    "duration": 275,
    "start_time": "2023-11-02T23:00:58.363Z"
   },
   {
    "duration": 24,
    "start_time": "2023-11-02T23:00:58.639Z"
   },
   {
    "duration": 52,
    "start_time": "2023-11-02T23:00:58.665Z"
   },
   {
    "duration": 17,
    "start_time": "2023-11-02T23:00:58.719Z"
   },
   {
    "duration": 98,
    "start_time": "2023-11-02T23:00:58.738Z"
   },
   {
    "duration": 0,
    "start_time": "2023-11-02T23:00:58.838Z"
   },
   {
    "duration": 15,
    "start_time": "2023-11-02T23:01:05.918Z"
   },
   {
    "duration": 14,
    "start_time": "2023-11-02T23:01:55.282Z"
   },
   {
    "duration": 14,
    "start_time": "2023-11-02T23:02:10.686Z"
   },
   {
    "duration": 8,
    "start_time": "2023-11-02T23:02:35.784Z"
   },
   {
    "duration": 10,
    "start_time": "2023-11-02T23:03:01.152Z"
   },
   {
    "duration": 12,
    "start_time": "2023-11-02T23:03:19.416Z"
   },
   {
    "duration": 13,
    "start_time": "2023-11-02T23:03:25.829Z"
   },
   {
    "duration": 10,
    "start_time": "2023-11-02T23:03:32.718Z"
   },
   {
    "duration": 8,
    "start_time": "2023-11-02T23:04:07.361Z"
   },
   {
    "duration": 5,
    "start_time": "2023-11-02T23:04:08.510Z"
   },
   {
    "duration": 10,
    "start_time": "2023-11-02T23:04:12.292Z"
   },
   {
    "duration": 4,
    "start_time": "2023-11-02T23:04:16.173Z"
   },
   {
    "duration": 85,
    "start_time": "2023-11-02T23:18:38.374Z"
   },
   {
    "duration": 84,
    "start_time": "2023-11-02T23:18:47.595Z"
   },
   {
    "duration": 1380,
    "start_time": "2023-11-02T23:19:29.043Z"
   },
   {
    "duration": 10,
    "start_time": "2023-11-02T23:19:55.494Z"
   },
   {
    "duration": 86,
    "start_time": "2023-11-02T23:24:31.816Z"
   },
   {
    "duration": 9,
    "start_time": "2023-11-02T23:24:40.027Z"
   },
   {
    "duration": 6,
    "start_time": "2023-11-02T23:25:14.441Z"
   },
   {
    "duration": 25,
    "start_time": "2023-11-02T23:45:32.295Z"
   },
   {
    "duration": 25,
    "start_time": "2023-11-02T23:45:41.375Z"
   },
   {
    "duration": 2933,
    "start_time": "2023-11-02T23:49:12.319Z"
   },
   {
    "duration": 75,
    "start_time": "2023-11-02T23:52:00.916Z"
   },
   {
    "duration": 114,
    "start_time": "2023-11-02T23:54:12.365Z"
   },
   {
    "duration": 2898,
    "start_time": "2023-11-02T23:54:59.099Z"
   },
   {
    "duration": 3065,
    "start_time": "2023-11-02T23:55:22.539Z"
   },
   {
    "duration": 21,
    "start_time": "2023-11-03T00:03:48.680Z"
   },
   {
    "duration": 80,
    "start_time": "2023-11-03T00:04:32.215Z"
   },
   {
    "duration": 289,
    "start_time": "2023-11-03T00:04:38.520Z"
   },
   {
    "duration": 1265,
    "start_time": "2023-11-03T07:41:02.456Z"
   },
   {
    "duration": 134,
    "start_time": "2023-11-03T07:41:03.723Z"
   },
   {
    "duration": 13,
    "start_time": "2023-11-03T07:41:03.858Z"
   },
   {
    "duration": 11,
    "start_time": "2023-11-03T07:41:03.872Z"
   },
   {
    "duration": 55,
    "start_time": "2023-11-03T07:41:03.885Z"
   },
   {
    "duration": 39,
    "start_time": "2023-11-03T07:41:03.945Z"
   },
   {
    "duration": 22,
    "start_time": "2023-11-03T07:41:03.985Z"
   },
   {
    "duration": 25,
    "start_time": "2023-11-03T07:41:04.008Z"
   },
   {
    "duration": 25,
    "start_time": "2023-11-03T07:41:04.035Z"
   },
   {
    "duration": 21,
    "start_time": "2023-11-03T07:41:04.063Z"
   },
   {
    "duration": 5,
    "start_time": "2023-11-03T07:41:04.086Z"
   },
   {
    "duration": 7,
    "start_time": "2023-11-03T07:41:04.093Z"
   },
   {
    "duration": 964,
    "start_time": "2023-11-03T07:41:04.101Z"
   },
   {
    "duration": 11,
    "start_time": "2023-11-03T07:41:05.066Z"
   },
   {
    "duration": 286,
    "start_time": "2023-11-03T07:41:05.079Z"
   },
   {
    "duration": 261,
    "start_time": "2023-11-03T07:41:05.367Z"
   },
   {
    "duration": 24,
    "start_time": "2023-11-03T07:41:05.630Z"
   },
   {
    "duration": 294,
    "start_time": "2023-11-03T07:41:05.656Z"
   },
   {
    "duration": 20,
    "start_time": "2023-11-03T07:41:05.952Z"
   },
   {
    "duration": 2797,
    "start_time": "2023-11-03T07:41:05.973Z"
   },
   {
    "duration": 252,
    "start_time": "2023-11-03T07:41:08.771Z"
   },
   {
    "duration": 37,
    "start_time": "2023-11-03T07:41:09.024Z"
   },
   {
    "duration": 20,
    "start_time": "2023-11-03T07:41:09.063Z"
   },
   {
    "duration": 15,
    "start_time": "2023-11-03T07:41:09.084Z"
   },
   {
    "duration": 15,
    "start_time": "2023-11-03T07:41:09.101Z"
   },
   {
    "duration": 26,
    "start_time": "2023-11-03T07:41:09.117Z"
   },
   {
    "duration": 20,
    "start_time": "2023-11-03T07:41:09.144Z"
   },
   {
    "duration": 24,
    "start_time": "2023-11-03T07:41:09.166Z"
   },
   {
    "duration": 12,
    "start_time": "2023-11-03T07:45:51.567Z"
   },
   {
    "duration": 11,
    "start_time": "2023-11-03T07:46:07.678Z"
   },
   {
    "duration": 106,
    "start_time": "2023-11-03T07:47:18.765Z"
   },
   {
    "duration": 93,
    "start_time": "2023-11-03T07:48:45.753Z"
   },
   {
    "duration": 11,
    "start_time": "2023-11-03T07:49:13.977Z"
   },
   {
    "duration": 11,
    "start_time": "2023-11-03T07:49:36.080Z"
   },
   {
    "duration": 1133,
    "start_time": "2023-11-03T07:54:32.279Z"
   },
   {
    "duration": 84,
    "start_time": "2023-11-03T07:54:33.414Z"
   },
   {
    "duration": 12,
    "start_time": "2023-11-03T07:54:33.500Z"
   },
   {
    "duration": 9,
    "start_time": "2023-11-03T07:54:33.514Z"
   },
   {
    "duration": 57,
    "start_time": "2023-11-03T07:54:33.524Z"
   },
   {
    "duration": 11,
    "start_time": "2023-11-03T07:54:33.583Z"
   },
   {
    "duration": 23,
    "start_time": "2023-11-03T07:54:33.596Z"
   },
   {
    "duration": 49,
    "start_time": "2023-11-03T07:54:33.621Z"
   },
   {
    "duration": 20,
    "start_time": "2023-11-03T07:54:33.672Z"
   },
   {
    "duration": 13,
    "start_time": "2023-11-03T07:54:33.694Z"
   },
   {
    "duration": 15,
    "start_time": "2023-11-03T07:54:33.708Z"
   },
   {
    "duration": 7,
    "start_time": "2023-11-03T07:54:33.724Z"
   },
   {
    "duration": 1047,
    "start_time": "2023-11-03T07:54:33.733Z"
   },
   {
    "duration": 7,
    "start_time": "2023-11-03T07:54:34.781Z"
   },
   {
    "duration": 292,
    "start_time": "2023-11-03T07:54:34.789Z"
   },
   {
    "duration": 282,
    "start_time": "2023-11-03T07:54:35.083Z"
   },
   {
    "duration": 9,
    "start_time": "2023-11-03T07:54:35.366Z"
   },
   {
    "duration": 310,
    "start_time": "2023-11-03T07:54:35.377Z"
   },
   {
    "duration": 19,
    "start_time": "2023-11-03T07:54:35.689Z"
   },
   {
    "duration": 3060,
    "start_time": "2023-11-03T07:54:35.709Z"
   },
   {
    "duration": 277,
    "start_time": "2023-11-03T07:54:38.771Z"
   },
   {
    "duration": 1642,
    "start_time": "2023-11-03T07:55:51.339Z"
   },
   {
    "duration": 0,
    "start_time": "2023-11-03T07:55:52.983Z"
   },
   {
    "duration": 0,
    "start_time": "2023-11-03T07:55:52.984Z"
   },
   {
    "duration": 0,
    "start_time": "2023-11-03T07:55:52.985Z"
   },
   {
    "duration": 0,
    "start_time": "2023-11-03T07:55:52.987Z"
   },
   {
    "duration": 0,
    "start_time": "2023-11-03T07:55:52.988Z"
   },
   {
    "duration": 0,
    "start_time": "2023-11-03T07:55:52.989Z"
   },
   {
    "duration": 0,
    "start_time": "2023-11-03T07:55:52.994Z"
   },
   {
    "duration": 177,
    "start_time": "2023-11-03T07:56:47.304Z"
   },
   {
    "duration": 1130,
    "start_time": "2023-11-03T07:57:33.710Z"
   },
   {
    "duration": 90,
    "start_time": "2023-11-03T07:57:34.845Z"
   },
   {
    "duration": 49,
    "start_time": "2023-11-03T07:57:34.936Z"
   },
   {
    "duration": 6,
    "start_time": "2023-11-03T07:57:34.987Z"
   },
   {
    "duration": 35,
    "start_time": "2023-11-03T07:57:34.995Z"
   },
   {
    "duration": 44,
    "start_time": "2023-11-03T07:57:35.032Z"
   },
   {
    "duration": 24,
    "start_time": "2023-11-03T07:57:35.077Z"
   },
   {
    "duration": 23,
    "start_time": "2023-11-03T07:57:35.103Z"
   },
   {
    "duration": 23,
    "start_time": "2023-11-03T07:57:35.127Z"
   },
   {
    "duration": 19,
    "start_time": "2023-11-03T07:57:35.151Z"
   },
   {
    "duration": 7,
    "start_time": "2023-11-03T07:57:35.172Z"
   },
   {
    "duration": 11,
    "start_time": "2023-11-03T07:57:35.180Z"
   },
   {
    "duration": 1148,
    "start_time": "2023-11-03T07:57:35.193Z"
   },
   {
    "duration": 18,
    "start_time": "2023-11-03T07:57:36.344Z"
   },
   {
    "duration": 374,
    "start_time": "2023-11-03T07:57:36.363Z"
   },
   {
    "duration": 330,
    "start_time": "2023-11-03T07:57:36.739Z"
   },
   {
    "duration": 10,
    "start_time": "2023-11-03T07:57:37.071Z"
   },
   {
    "duration": 418,
    "start_time": "2023-11-03T07:57:37.082Z"
   },
   {
    "duration": 22,
    "start_time": "2023-11-03T07:57:37.501Z"
   },
   {
    "duration": 2975,
    "start_time": "2023-11-03T07:57:37.525Z"
   },
   {
    "duration": 380,
    "start_time": "2023-11-03T07:57:40.501Z"
   },
   {
    "duration": 4,
    "start_time": "2023-11-03T07:57:40.882Z"
   },
   {
    "duration": 21,
    "start_time": "2023-11-03T07:57:40.887Z"
   },
   {
    "duration": 75,
    "start_time": "2023-11-03T07:57:40.909Z"
   },
   {
    "duration": 17,
    "start_time": "2023-11-03T07:57:40.986Z"
   },
   {
    "duration": 8,
    "start_time": "2023-11-03T07:57:41.005Z"
   },
   {
    "duration": 11,
    "start_time": "2023-11-03T07:57:41.015Z"
   },
   {
    "duration": 49,
    "start_time": "2023-11-03T07:57:41.028Z"
   },
   {
    "duration": 4,
    "start_time": "2023-11-03T07:57:41.079Z"
   },
   {
    "duration": 13,
    "start_time": "2023-11-03T07:58:41.609Z"
   },
   {
    "duration": 213,
    "start_time": "2023-11-03T07:58:58.259Z"
   },
   {
    "duration": 479,
    "start_time": "2023-11-03T08:00:14.903Z"
   },
   {
    "duration": 383,
    "start_time": "2023-11-03T08:00:51.656Z"
   },
   {
    "duration": 330,
    "start_time": "2023-11-03T08:01:10.531Z"
   },
   {
    "duration": 14,
    "start_time": "2023-11-03T08:04:55.873Z"
   },
   {
    "duration": 419,
    "start_time": "2023-11-03T08:05:43.482Z"
   },
   {
    "duration": 334,
    "start_time": "2023-11-03T08:05:52.897Z"
   },
   {
    "duration": 7,
    "start_time": "2023-11-03T08:07:26.304Z"
   },
   {
    "duration": 24,
    "start_time": "2023-11-03T08:07:40.167Z"
   },
   {
    "duration": 3,
    "start_time": "2023-11-03T08:09:30.996Z"
   },
   {
    "duration": 25,
    "start_time": "2023-11-03T08:09:57.347Z"
   },
   {
    "duration": 21,
    "start_time": "2023-11-03T08:10:25.045Z"
   },
   {
    "duration": 32,
    "start_time": "2023-11-03T08:10:39.144Z"
   },
   {
    "duration": 12,
    "start_time": "2023-11-03T08:11:25.381Z"
   },
   {
    "duration": 108,
    "start_time": "2023-11-03T08:13:11.109Z"
   },
   {
    "duration": 153,
    "start_time": "2023-11-03T08:14:00.829Z"
   },
   {
    "duration": 85,
    "start_time": "2023-11-03T08:14:19.845Z"
   },
   {
    "duration": 12,
    "start_time": "2023-11-03T08:16:05.685Z"
   },
   {
    "duration": 23,
    "start_time": "2023-11-03T08:16:26.886Z"
   },
   {
    "duration": 17,
    "start_time": "2023-11-03T08:17:43.572Z"
   },
   {
    "duration": 13,
    "start_time": "2023-11-03T08:18:43.910Z"
   },
   {
    "duration": 9,
    "start_time": "2023-11-03T08:19:39.230Z"
   },
   {
    "duration": 17,
    "start_time": "2023-11-03T08:20:10.662Z"
   },
   {
    "duration": 14,
    "start_time": "2023-11-03T08:20:43.775Z"
   },
   {
    "duration": 2919,
    "start_time": "2023-11-03T08:21:34.814Z"
   },
   {
    "duration": 16,
    "start_time": "2023-11-03T08:22:06.175Z"
   },
   {
    "duration": 358,
    "start_time": "2023-11-03T08:23:11.430Z"
   },
   {
    "duration": 335,
    "start_time": "2023-11-03T08:23:45.382Z"
   },
   {
    "duration": 178,
    "start_time": "2023-11-03T08:26:00.292Z"
   },
   {
    "duration": 20,
    "start_time": "2023-11-03T08:26:07.012Z"
   },
   {
    "duration": 21,
    "start_time": "2023-11-03T08:28:01.182Z"
   },
   {
    "duration": 1404,
    "start_time": "2023-11-03T08:28:07.794Z"
   },
   {
    "duration": 293,
    "start_time": "2023-11-03T08:28:39.780Z"
   },
   {
    "duration": 296,
    "start_time": "2023-11-03T08:30:25.408Z"
   },
   {
    "duration": 296,
    "start_time": "2023-11-03T08:31:04.813Z"
   },
   {
    "duration": 328,
    "start_time": "2023-11-03T08:31:12.657Z"
   },
   {
    "duration": 274,
    "start_time": "2023-11-03T08:31:21.058Z"
   },
   {
    "duration": 169,
    "start_time": "2023-11-03T08:32:54.225Z"
   },
   {
    "duration": 271,
    "start_time": "2023-11-03T08:33:53.665Z"
   },
   {
    "duration": 29,
    "start_time": "2023-11-03T08:37:36.172Z"
   },
   {
    "duration": 48,
    "start_time": "2023-11-03T08:38:26.829Z"
   },
   {
    "duration": 1168,
    "start_time": "2023-11-03T08:38:31.973Z"
   },
   {
    "duration": 86,
    "start_time": "2023-11-03T08:38:33.143Z"
   },
   {
    "duration": 42,
    "start_time": "2023-11-03T08:38:33.230Z"
   },
   {
    "duration": 22,
    "start_time": "2023-11-03T08:38:33.274Z"
   },
   {
    "duration": 27,
    "start_time": "2023-11-03T08:38:33.298Z"
   },
   {
    "duration": 26,
    "start_time": "2023-11-03T08:38:33.326Z"
   },
   {
    "duration": 38,
    "start_time": "2023-11-03T08:38:33.353Z"
   },
   {
    "duration": 25,
    "start_time": "2023-11-03T08:38:33.392Z"
   },
   {
    "duration": 19,
    "start_time": "2023-11-03T08:38:33.419Z"
   },
   {
    "duration": 39,
    "start_time": "2023-11-03T08:38:33.439Z"
   },
   {
    "duration": 15,
    "start_time": "2023-11-03T08:38:33.479Z"
   },
   {
    "duration": 26,
    "start_time": "2023-11-03T08:38:33.495Z"
   },
   {
    "duration": 1148,
    "start_time": "2023-11-03T08:38:33.522Z"
   },
   {
    "duration": 9,
    "start_time": "2023-11-03T08:38:34.673Z"
   },
   {
    "duration": 310,
    "start_time": "2023-11-03T08:38:34.683Z"
   },
   {
    "duration": 290,
    "start_time": "2023-11-03T08:38:34.995Z"
   },
   {
    "duration": 8,
    "start_time": "2023-11-03T08:38:35.286Z"
   },
   {
    "duration": 325,
    "start_time": "2023-11-03T08:38:35.296Z"
   },
   {
    "duration": 37,
    "start_time": "2023-11-03T08:38:35.622Z"
   },
   {
    "duration": 3155,
    "start_time": "2023-11-03T08:38:35.670Z"
   },
   {
    "duration": 296,
    "start_time": "2023-11-03T08:38:38.827Z"
   },
   {
    "duration": 61,
    "start_time": "2023-11-03T08:38:39.125Z"
   },
   {
    "duration": 24,
    "start_time": "2023-11-03T08:38:39.187Z"
   },
   {
    "duration": 17,
    "start_time": "2023-11-03T08:38:39.212Z"
   },
   {
    "duration": 23,
    "start_time": "2023-11-03T08:38:39.230Z"
   },
   {
    "duration": 26,
    "start_time": "2023-11-03T08:38:39.254Z"
   },
   {
    "duration": 10,
    "start_time": "2023-11-03T08:38:39.282Z"
   },
   {
    "duration": 7,
    "start_time": "2023-11-03T08:38:39.293Z"
   },
   {
    "duration": 22,
    "start_time": "2023-11-03T08:39:36.874Z"
   },
   {
    "duration": 1190,
    "start_time": "2023-11-03T08:41:10.289Z"
   },
   {
    "duration": 97,
    "start_time": "2023-11-03T08:41:11.481Z"
   },
   {
    "duration": 13,
    "start_time": "2023-11-03T08:41:11.579Z"
   },
   {
    "duration": 7,
    "start_time": "2023-11-03T08:41:11.593Z"
   },
   {
    "duration": 29,
    "start_time": "2023-11-03T08:41:11.602Z"
   },
   {
    "duration": 46,
    "start_time": "2023-11-03T08:41:11.633Z"
   },
   {
    "duration": 25,
    "start_time": "2023-11-03T08:41:11.681Z"
   },
   {
    "duration": 27,
    "start_time": "2023-11-03T08:41:11.708Z"
   },
   {
    "duration": 40,
    "start_time": "2023-11-03T08:41:11.737Z"
   },
   {
    "duration": 15,
    "start_time": "2023-11-03T08:41:11.778Z"
   },
   {
    "duration": 14,
    "start_time": "2023-11-03T08:41:11.795Z"
   },
   {
    "duration": 13,
    "start_time": "2023-11-03T08:41:11.811Z"
   },
   {
    "duration": 1167,
    "start_time": "2023-11-03T08:41:11.825Z"
   },
   {
    "duration": 7,
    "start_time": "2023-11-03T08:41:12.995Z"
   },
   {
    "duration": 309,
    "start_time": "2023-11-03T08:41:13.004Z"
   },
   {
    "duration": 276,
    "start_time": "2023-11-03T08:41:13.314Z"
   },
   {
    "duration": 8,
    "start_time": "2023-11-03T08:41:13.592Z"
   },
   {
    "duration": 318,
    "start_time": "2023-11-03T08:41:13.601Z"
   },
   {
    "duration": 51,
    "start_time": "2023-11-03T08:41:13.921Z"
   },
   {
    "duration": 3148,
    "start_time": "2023-11-03T08:41:13.978Z"
   },
   {
    "duration": 283,
    "start_time": "2023-11-03T08:41:17.127Z"
   },
   {
    "duration": 35,
    "start_time": "2023-11-03T08:41:17.411Z"
   },
   {
    "duration": 33,
    "start_time": "2023-11-03T08:41:17.447Z"
   },
   {
    "duration": 24,
    "start_time": "2023-11-03T08:41:17.482Z"
   },
   {
    "duration": 8,
    "start_time": "2023-11-03T08:41:17.507Z"
   },
   {
    "duration": 29,
    "start_time": "2023-11-03T08:41:17.517Z"
   },
   {
    "duration": 29,
    "start_time": "2023-11-03T08:41:17.547Z"
   },
   {
    "duration": 15,
    "start_time": "2023-11-03T08:41:17.580Z"
   },
   {
    "duration": 1171,
    "start_time": "2023-11-03T08:43:11.532Z"
   },
   {
    "duration": 102,
    "start_time": "2023-11-03T08:43:12.704Z"
   },
   {
    "duration": 12,
    "start_time": "2023-11-03T08:43:12.807Z"
   },
   {
    "duration": 13,
    "start_time": "2023-11-03T08:43:12.820Z"
   },
   {
    "duration": 39,
    "start_time": "2023-11-03T08:43:12.834Z"
   },
   {
    "duration": 21,
    "start_time": "2023-11-03T08:43:12.874Z"
   },
   {
    "duration": 35,
    "start_time": "2023-11-03T08:43:12.896Z"
   },
   {
    "duration": 56,
    "start_time": "2023-11-03T08:43:12.932Z"
   },
   {
    "duration": 18,
    "start_time": "2023-11-03T08:43:12.990Z"
   },
   {
    "duration": 14,
    "start_time": "2023-11-03T08:43:13.009Z"
   },
   {
    "duration": 6,
    "start_time": "2023-11-03T08:43:13.024Z"
   },
   {
    "duration": 34,
    "start_time": "2023-11-03T08:43:13.031Z"
   },
   {
    "duration": 1101,
    "start_time": "2023-11-03T08:43:13.074Z"
   },
   {
    "duration": 11,
    "start_time": "2023-11-03T08:43:14.178Z"
   },
   {
    "duration": 303,
    "start_time": "2023-11-03T08:43:14.190Z"
   },
   {
    "duration": 285,
    "start_time": "2023-11-03T08:43:14.494Z"
   },
   {
    "duration": 8,
    "start_time": "2023-11-03T08:43:14.781Z"
   },
   {
    "duration": 324,
    "start_time": "2023-11-03T08:43:14.790Z"
   },
   {
    "duration": 48,
    "start_time": "2023-11-03T08:43:15.116Z"
   },
   {
    "duration": 3134,
    "start_time": "2023-11-03T08:43:15.173Z"
   },
   {
    "duration": 284,
    "start_time": "2023-11-03T08:43:18.309Z"
   },
   {
    "duration": 21,
    "start_time": "2023-11-03T08:43:18.594Z"
   },
   {
    "duration": 67,
    "start_time": "2023-11-03T08:43:18.617Z"
   },
   {
    "duration": 15,
    "start_time": "2023-11-03T08:43:18.686Z"
   },
   {
    "duration": 8,
    "start_time": "2023-11-03T08:43:18.702Z"
   },
   {
    "duration": 4,
    "start_time": "2023-11-03T08:43:18.712Z"
   },
   {
    "duration": 10,
    "start_time": "2023-11-03T08:43:18.717Z"
   },
   {
    "duration": 40,
    "start_time": "2023-11-03T08:43:18.728Z"
   },
   {
    "duration": 3,
    "start_time": "2023-11-03T08:45:22.465Z"
   },
   {
    "duration": 1154,
    "start_time": "2023-11-03T09:09:50.961Z"
   },
   {
    "duration": 104,
    "start_time": "2023-11-03T09:09:52.118Z"
   },
   {
    "duration": 12,
    "start_time": "2023-11-03T09:09:52.224Z"
   },
   {
    "duration": 55,
    "start_time": "2023-11-03T09:09:52.238Z"
   },
   {
    "duration": 68,
    "start_time": "2023-11-03T09:09:52.296Z"
   },
   {
    "duration": 14,
    "start_time": "2023-11-03T09:09:52.374Z"
   },
   {
    "duration": 44,
    "start_time": "2023-11-03T09:09:52.394Z"
   },
   {
    "duration": 43,
    "start_time": "2023-11-03T09:09:52.439Z"
   },
   {
    "duration": 26,
    "start_time": "2023-11-03T09:09:52.483Z"
   },
   {
    "duration": 58,
    "start_time": "2023-11-03T09:09:52.511Z"
   },
   {
    "duration": 48,
    "start_time": "2023-11-03T09:09:52.573Z"
   },
   {
    "duration": 55,
    "start_time": "2023-11-03T09:09:52.623Z"
   },
   {
    "duration": 1127,
    "start_time": "2023-11-03T09:09:52.679Z"
   },
   {
    "duration": 7,
    "start_time": "2023-11-03T09:09:53.809Z"
   },
   {
    "duration": 288,
    "start_time": "2023-11-03T09:09:53.817Z"
   },
   {
    "duration": 272,
    "start_time": "2023-11-03T09:09:54.107Z"
   },
   {
    "duration": 8,
    "start_time": "2023-11-03T09:09:54.380Z"
   },
   {
    "duration": 330,
    "start_time": "2023-11-03T09:09:54.389Z"
   },
   {
    "duration": 40,
    "start_time": "2023-11-03T09:09:54.720Z"
   },
   {
    "duration": 3237,
    "start_time": "2023-11-03T09:09:54.761Z"
   },
   {
    "duration": 279,
    "start_time": "2023-11-03T09:09:58.000Z"
   },
   {
    "duration": 21,
    "start_time": "2023-11-03T09:09:58.281Z"
   },
   {
    "duration": 41,
    "start_time": "2023-11-03T09:09:58.303Z"
   },
   {
    "duration": 23,
    "start_time": "2023-11-03T09:09:58.345Z"
   },
   {
    "duration": 9,
    "start_time": "2023-11-03T09:09:58.370Z"
   },
   {
    "duration": 11,
    "start_time": "2023-11-03T09:09:58.380Z"
   },
   {
    "duration": 17,
    "start_time": "2023-11-03T09:09:58.393Z"
   },
   {
    "duration": 4,
    "start_time": "2023-11-03T09:09:58.411Z"
   },
   {
    "duration": 1105,
    "start_time": "2023-11-03T09:25:25.059Z"
   },
   {
    "duration": 87,
    "start_time": "2023-11-03T09:25:26.166Z"
   },
   {
    "duration": 15,
    "start_time": "2023-11-03T09:25:26.255Z"
   },
   {
    "duration": 7,
    "start_time": "2023-11-03T09:25:26.272Z"
   },
   {
    "duration": 25,
    "start_time": "2023-11-03T09:25:26.281Z"
   },
   {
    "duration": 44,
    "start_time": "2023-11-03T09:25:26.308Z"
   },
   {
    "duration": 31,
    "start_time": "2023-11-03T09:25:26.353Z"
   },
   {
    "duration": 29,
    "start_time": "2023-11-03T09:25:26.385Z"
   },
   {
    "duration": 44,
    "start_time": "2023-11-03T09:25:26.416Z"
   },
   {
    "duration": 15,
    "start_time": "2023-11-03T09:25:26.464Z"
   },
   {
    "duration": 9,
    "start_time": "2023-11-03T09:25:26.481Z"
   },
   {
    "duration": 9,
    "start_time": "2023-11-03T09:25:26.492Z"
   },
   {
    "duration": 1013,
    "start_time": "2023-11-03T09:25:26.502Z"
   },
   {
    "duration": 7,
    "start_time": "2023-11-03T09:25:27.516Z"
   },
   {
    "duration": 276,
    "start_time": "2023-11-03T09:25:27.525Z"
   },
   {
    "duration": 262,
    "start_time": "2023-11-03T09:25:27.803Z"
   },
   {
    "duration": 9,
    "start_time": "2023-11-03T09:25:28.066Z"
   },
   {
    "duration": 302,
    "start_time": "2023-11-03T09:25:28.076Z"
   },
   {
    "duration": 21,
    "start_time": "2023-11-03T09:25:28.380Z"
   },
   {
    "duration": 2955,
    "start_time": "2023-11-03T09:25:28.402Z"
   },
   {
    "duration": 299,
    "start_time": "2023-11-03T09:25:31.358Z"
   },
   {
    "duration": 23,
    "start_time": "2023-11-03T09:25:31.658Z"
   },
   {
    "duration": 20,
    "start_time": "2023-11-03T09:25:31.682Z"
   },
   {
    "duration": 20,
    "start_time": "2023-11-03T09:25:31.704Z"
   },
   {
    "duration": 31,
    "start_time": "2023-11-03T09:25:31.725Z"
   },
   {
    "duration": 25,
    "start_time": "2023-11-03T09:25:31.757Z"
   },
   {
    "duration": 26,
    "start_time": "2023-11-03T09:25:31.784Z"
   },
   {
    "duration": 24,
    "start_time": "2023-11-03T09:25:31.813Z"
   },
   {
    "duration": 1281,
    "start_time": "2023-11-04T08:48:58.626Z"
   },
   {
    "duration": 125,
    "start_time": "2023-11-04T08:48:59.909Z"
   },
   {
    "duration": 21,
    "start_time": "2023-11-04T08:49:00.035Z"
   },
   {
    "duration": 42,
    "start_time": "2023-11-04T08:49:00.058Z"
   },
   {
    "duration": 53,
    "start_time": "2023-11-04T08:49:00.102Z"
   },
   {
    "duration": 25,
    "start_time": "2023-11-04T08:49:00.156Z"
   },
   {
    "duration": 63,
    "start_time": "2023-11-04T08:49:00.182Z"
   },
   {
    "duration": 66,
    "start_time": "2023-11-04T08:49:00.247Z"
   },
   {
    "duration": 38,
    "start_time": "2023-11-04T08:49:00.315Z"
   },
   {
    "duration": 37,
    "start_time": "2023-11-04T08:49:00.355Z"
   },
   {
    "duration": 22,
    "start_time": "2023-11-04T08:49:00.394Z"
   },
   {
    "duration": 38,
    "start_time": "2023-11-04T08:49:00.418Z"
   },
   {
    "duration": 1085,
    "start_time": "2023-11-04T08:49:00.457Z"
   },
   {
    "duration": 8,
    "start_time": "2023-11-04T08:49:01.545Z"
   },
   {
    "duration": 312,
    "start_time": "2023-11-04T08:49:01.554Z"
   },
   {
    "duration": 281,
    "start_time": "2023-11-04T08:49:01.867Z"
   },
   {
    "duration": 9,
    "start_time": "2023-11-04T08:49:02.150Z"
   },
   {
    "duration": 395,
    "start_time": "2023-11-04T08:49:02.160Z"
   },
   {
    "duration": 25,
    "start_time": "2023-11-04T08:49:02.556Z"
   },
   {
    "duration": 2950,
    "start_time": "2023-11-04T08:49:02.583Z"
   },
   {
    "duration": 284,
    "start_time": "2023-11-04T08:49:05.535Z"
   },
   {
    "duration": 26,
    "start_time": "2023-11-04T08:49:05.821Z"
   },
   {
    "duration": 65,
    "start_time": "2023-11-04T08:49:05.849Z"
   },
   {
    "duration": 22,
    "start_time": "2023-11-04T08:49:05.916Z"
   },
   {
    "duration": 16,
    "start_time": "2023-11-04T08:49:05.940Z"
   },
   {
    "duration": 26,
    "start_time": "2023-11-04T08:49:05.958Z"
   },
   {
    "duration": 19,
    "start_time": "2023-11-04T08:49:05.986Z"
   },
   {
    "duration": 19,
    "start_time": "2023-11-04T08:49:06.007Z"
   },
   {
    "duration": 18,
    "start_time": "2023-11-04T08:49:34.398Z"
   },
   {
    "duration": 1171,
    "start_time": "2023-11-04T08:49:58.330Z"
   },
   {
    "duration": 80,
    "start_time": "2023-11-04T08:49:59.503Z"
   },
   {
    "duration": 12,
    "start_time": "2023-11-04T08:49:59.585Z"
   },
   {
    "duration": 24,
    "start_time": "2023-11-04T08:49:59.599Z"
   },
   {
    "duration": 50,
    "start_time": "2023-11-04T08:49:59.626Z"
   },
   {
    "duration": 20,
    "start_time": "2023-11-04T08:49:59.677Z"
   },
   {
    "duration": 33,
    "start_time": "2023-11-04T08:49:59.699Z"
   },
   {
    "duration": 35,
    "start_time": "2023-11-04T08:49:59.733Z"
   },
   {
    "duration": 19,
    "start_time": "2023-11-04T08:49:59.770Z"
   },
   {
    "duration": 31,
    "start_time": "2023-11-04T08:49:59.791Z"
   },
   {
    "duration": 27,
    "start_time": "2023-11-04T08:49:59.823Z"
   },
   {
    "duration": 32,
    "start_time": "2023-11-04T08:49:59.851Z"
   },
   {
    "duration": 1052,
    "start_time": "2023-11-04T08:49:59.884Z"
   },
   {
    "duration": 8,
    "start_time": "2023-11-04T08:50:00.939Z"
   },
   {
    "duration": 350,
    "start_time": "2023-11-04T08:50:00.948Z"
   },
   {
    "duration": 299,
    "start_time": "2023-11-04T08:50:01.300Z"
   },
   {
    "duration": 9,
    "start_time": "2023-11-04T08:50:01.606Z"
   },
   {
    "duration": 331,
    "start_time": "2023-11-04T08:50:01.617Z"
   },
   {
    "duration": 23,
    "start_time": "2023-11-04T08:50:01.950Z"
   },
   {
    "duration": 2970,
    "start_time": "2023-11-04T08:50:01.975Z"
   },
   {
    "duration": 279,
    "start_time": "2023-11-04T08:50:04.947Z"
   },
   {
    "duration": 24,
    "start_time": "2023-11-04T08:50:05.227Z"
   },
   {
    "duration": 31,
    "start_time": "2023-11-04T08:50:05.252Z"
   },
   {
    "duration": 35,
    "start_time": "2023-11-04T08:50:05.285Z"
   },
   {
    "duration": 30,
    "start_time": "2023-11-04T08:50:05.322Z"
   },
   {
    "duration": 14,
    "start_time": "2023-11-04T08:50:05.354Z"
   },
   {
    "duration": 19,
    "start_time": "2023-11-04T08:50:05.369Z"
   },
   {
    "duration": 5,
    "start_time": "2023-11-04T08:50:05.390Z"
   },
   {
    "duration": 1122,
    "start_time": "2023-11-04T08:53:13.381Z"
   },
   {
    "duration": 79,
    "start_time": "2023-11-04T08:53:14.505Z"
   },
   {
    "duration": 12,
    "start_time": "2023-11-04T08:53:14.586Z"
   },
   {
    "duration": 11,
    "start_time": "2023-11-04T08:53:14.600Z"
   },
   {
    "duration": 38,
    "start_time": "2023-11-04T08:53:14.612Z"
   },
   {
    "duration": 12,
    "start_time": "2023-11-04T08:53:14.652Z"
   },
   {
    "duration": 36,
    "start_time": "2023-11-04T08:53:14.665Z"
   },
   {
    "duration": 30,
    "start_time": "2023-11-04T08:53:14.702Z"
   },
   {
    "duration": 19,
    "start_time": "2023-11-04T08:53:14.733Z"
   },
   {
    "duration": 23,
    "start_time": "2023-11-04T08:53:14.755Z"
   },
   {
    "duration": 6,
    "start_time": "2023-11-04T08:53:14.779Z"
   },
   {
    "duration": 22,
    "start_time": "2023-11-04T08:53:14.787Z"
   },
   {
    "duration": 1007,
    "start_time": "2023-11-04T08:53:14.811Z"
   },
   {
    "duration": 7,
    "start_time": "2023-11-04T08:53:15.820Z"
   },
   {
    "duration": 305,
    "start_time": "2023-11-04T08:53:15.829Z"
   },
   {
    "duration": 297,
    "start_time": "2023-11-04T08:53:16.136Z"
   },
   {
    "duration": 9,
    "start_time": "2023-11-04T08:53:16.434Z"
   },
   {
    "duration": 323,
    "start_time": "2023-11-04T08:53:16.444Z"
   },
   {
    "duration": 25,
    "start_time": "2023-11-04T08:53:16.768Z"
   },
   {
    "duration": 2961,
    "start_time": "2023-11-04T08:53:16.794Z"
   },
   {
    "duration": 274,
    "start_time": "2023-11-04T08:53:19.756Z"
   },
   {
    "duration": 24,
    "start_time": "2023-11-04T08:53:20.032Z"
   },
   {
    "duration": 52,
    "start_time": "2023-11-04T08:53:20.057Z"
   },
   {
    "duration": 20,
    "start_time": "2023-11-04T08:53:20.110Z"
   },
   {
    "duration": 12,
    "start_time": "2023-11-04T08:53:20.131Z"
   },
   {
    "duration": 13,
    "start_time": "2023-11-04T08:53:20.145Z"
   },
   {
    "duration": 23,
    "start_time": "2023-11-04T08:53:20.159Z"
   },
   {
    "duration": 6,
    "start_time": "2023-11-04T08:53:20.185Z"
   },
   {
    "duration": 14,
    "start_time": "2023-11-04T08:55:17.473Z"
   },
   {
    "duration": 16,
    "start_time": "2023-11-04T08:55:46.939Z"
   },
   {
    "duration": 80,
    "start_time": "2023-11-04T08:57:33.702Z"
   },
   {
    "duration": 17,
    "start_time": "2023-11-04T08:59:02.033Z"
   },
   {
    "duration": 17,
    "start_time": "2023-11-04T08:59:21.113Z"
   },
   {
    "duration": 16,
    "start_time": "2023-11-04T08:59:25.541Z"
   },
   {
    "duration": 18,
    "start_time": "2023-11-04T09:00:25.476Z"
   },
   {
    "duration": 16,
    "start_time": "2023-11-04T09:00:33.107Z"
   },
   {
    "duration": 165,
    "start_time": "2023-11-04T09:03:01.487Z"
   },
   {
    "duration": 7,
    "start_time": "2023-11-04T09:03:16.297Z"
   },
   {
    "duration": 313,
    "start_time": "2023-11-04T09:05:56.133Z"
   },
   {
    "duration": 321,
    "start_time": "2023-11-04T09:06:08.500Z"
   },
   {
    "duration": 283,
    "start_time": "2023-11-04T09:19:02.963Z"
   },
   {
    "duration": 257,
    "start_time": "2023-11-04T09:19:24.891Z"
   },
   {
    "duration": 349,
    "start_time": "2023-11-04T09:19:33.694Z"
   },
   {
    "duration": 244,
    "start_time": "2023-11-04T09:20:23.167Z"
   },
   {
    "duration": 267,
    "start_time": "2023-11-04T09:20:59.796Z"
   },
   {
    "duration": 342,
    "start_time": "2023-11-04T09:21:15.952Z"
   },
   {
    "duration": 306,
    "start_time": "2023-11-04T09:23:33.145Z"
   },
   {
    "duration": 322,
    "start_time": "2023-11-04T09:23:48.882Z"
   },
   {
    "duration": 422,
    "start_time": "2023-11-04T09:27:48.811Z"
   },
   {
    "duration": 495,
    "start_time": "2023-11-04T09:31:15.787Z"
   },
   {
    "duration": 417,
    "start_time": "2023-11-04T09:32:13.838Z"
   },
   {
    "duration": 315,
    "start_time": "2023-11-04T09:32:24.547Z"
   },
   {
    "duration": 222,
    "start_time": "2023-11-04T09:38:06.206Z"
   },
   {
    "duration": 352,
    "start_time": "2023-11-04T09:38:24.456Z"
   },
   {
    "duration": 263,
    "start_time": "2023-11-04T09:38:47.678Z"
   },
   {
    "duration": 265,
    "start_time": "2023-11-04T09:39:15.359Z"
   },
   {
    "duration": 295,
    "start_time": "2023-11-04T09:40:17.825Z"
   },
   {
    "duration": 242,
    "start_time": "2023-11-04T09:40:34.441Z"
   },
   {
    "duration": 22,
    "start_time": "2023-11-04T09:40:46.339Z"
   },
   {
    "duration": 245,
    "start_time": "2023-11-04T09:40:58.478Z"
   },
   {
    "duration": 267,
    "start_time": "2023-11-04T09:41:31.503Z"
   },
   {
    "duration": 382,
    "start_time": "2023-11-04T09:41:49.727Z"
   },
   {
    "duration": 262,
    "start_time": "2023-11-04T09:42:05.279Z"
   },
   {
    "duration": 285,
    "start_time": "2023-11-04T09:44:50.137Z"
   },
   {
    "duration": 313,
    "start_time": "2023-11-04T09:45:19.998Z"
   },
   {
    "duration": 157,
    "start_time": "2023-11-04T09:46:21.361Z"
   },
   {
    "duration": 296,
    "start_time": "2023-11-04T09:46:38.234Z"
   },
   {
    "duration": 290,
    "start_time": "2023-11-04T09:46:44.797Z"
   },
   {
    "duration": 284,
    "start_time": "2023-11-04T09:46:58.877Z"
   },
   {
    "duration": 304,
    "start_time": "2023-11-04T09:47:09.565Z"
   },
   {
    "duration": 270,
    "start_time": "2023-11-04T09:47:58.982Z"
   },
   {
    "duration": 12,
    "start_time": "2023-11-04T09:59:02.917Z"
   },
   {
    "duration": 15,
    "start_time": "2023-11-04T09:59:38.245Z"
   },
   {
    "duration": 13,
    "start_time": "2023-11-04T09:59:57.989Z"
   },
   {
    "duration": 7,
    "start_time": "2023-11-04T10:00:19.866Z"
   },
   {
    "duration": 8,
    "start_time": "2023-11-04T10:00:37.292Z"
   },
   {
    "duration": 1132,
    "start_time": "2023-11-04T10:01:08.596Z"
   },
   {
    "duration": 82,
    "start_time": "2023-11-04T10:01:09.730Z"
   },
   {
    "duration": 14,
    "start_time": "2023-11-04T10:01:09.813Z"
   },
   {
    "duration": 72,
    "start_time": "2023-11-04T10:01:09.829Z"
   },
   {
    "duration": 35,
    "start_time": "2023-11-04T10:01:09.902Z"
   },
   {
    "duration": 38,
    "start_time": "2023-11-04T10:01:09.939Z"
   },
   {
    "duration": 28,
    "start_time": "2023-11-04T10:01:09.979Z"
   },
   {
    "duration": 29,
    "start_time": "2023-11-04T10:01:10.008Z"
   },
   {
    "duration": 21,
    "start_time": "2023-11-04T10:01:10.039Z"
   },
   {
    "duration": 15,
    "start_time": "2023-11-04T10:01:10.062Z"
   },
   {
    "duration": 347,
    "start_time": "2023-11-04T10:01:10.078Z"
   },
   {
    "duration": 8,
    "start_time": "2023-11-04T10:01:10.427Z"
   },
   {
    "duration": 995,
    "start_time": "2023-11-04T10:01:10.437Z"
   },
   {
    "duration": 9,
    "start_time": "2023-11-04T10:01:11.434Z"
   },
   {
    "duration": 382,
    "start_time": "2023-11-04T10:01:11.444Z"
   },
   {
    "duration": 206,
    "start_time": "2023-11-04T10:01:11.828Z"
   },
   {
    "duration": 10,
    "start_time": "2023-11-04T10:01:12.036Z"
   },
   {
    "duration": 319,
    "start_time": "2023-11-04T10:01:12.047Z"
   },
   {
    "duration": 24,
    "start_time": "2023-11-04T10:01:12.368Z"
   },
   {
    "duration": 2887,
    "start_time": "2023-11-04T10:01:12.407Z"
   },
   {
    "duration": 262,
    "start_time": "2023-11-04T10:01:15.295Z"
   },
   {
    "duration": 6,
    "start_time": "2023-11-04T10:01:15.559Z"
   },
   {
    "duration": 300,
    "start_time": "2023-11-04T10:01:15.566Z"
   },
   {
    "duration": 31,
    "start_time": "2023-11-04T10:01:15.868Z"
   },
   {
    "duration": 22,
    "start_time": "2023-11-04T10:01:15.901Z"
   },
   {
    "duration": 15,
    "start_time": "2023-11-04T10:01:15.925Z"
   },
   {
    "duration": 16,
    "start_time": "2023-11-04T10:01:15.942Z"
   },
   {
    "duration": 47,
    "start_time": "2023-11-04T10:01:15.962Z"
   },
   {
    "duration": 9,
    "start_time": "2023-11-04T10:01:16.011Z"
   },
   {
    "duration": 93,
    "start_time": "2023-11-04T10:03:12.570Z"
   },
   {
    "duration": 159,
    "start_time": "2023-11-04T10:04:13.399Z"
   },
   {
    "duration": 144,
    "start_time": "2023-11-04T10:04:24.427Z"
   },
   {
    "duration": 154,
    "start_time": "2023-11-04T10:06:16.620Z"
   },
   {
    "duration": 72,
    "start_time": "2023-11-04T10:07:18.596Z"
   },
   {
    "duration": 80,
    "start_time": "2023-11-04T10:08:12.027Z"
   },
   {
    "duration": 252,
    "start_time": "2023-11-04T10:10:03.307Z"
   },
   {
    "duration": 168,
    "start_time": "2023-11-04T10:10:18.509Z"
   },
   {
    "duration": 1258,
    "start_time": "2023-11-04T10:10:44.979Z"
   },
   {
    "duration": 94,
    "start_time": "2023-11-04T10:10:46.240Z"
   },
   {
    "duration": 19,
    "start_time": "2023-11-04T10:10:46.336Z"
   },
   {
    "duration": 78,
    "start_time": "2023-11-04T10:10:46.357Z"
   },
   {
    "duration": 108,
    "start_time": "2023-11-04T10:10:46.437Z"
   },
   {
    "duration": 14,
    "start_time": "2023-11-04T10:10:46.547Z"
   },
   {
    "duration": 50,
    "start_time": "2023-11-04T10:10:46.562Z"
   },
   {
    "duration": 27,
    "start_time": "2023-11-04T10:10:46.614Z"
   },
   {
    "duration": 20,
    "start_time": "2023-11-04T10:10:46.643Z"
   },
   {
    "duration": 44,
    "start_time": "2023-11-04T10:10:46.664Z"
   },
   {
    "duration": 313,
    "start_time": "2023-11-04T10:10:46.709Z"
   },
   {
    "duration": 8,
    "start_time": "2023-11-04T10:10:47.024Z"
   },
   {
    "duration": 1029,
    "start_time": "2023-11-04T10:10:47.033Z"
   },
   {
    "duration": 7,
    "start_time": "2023-11-04T10:10:48.065Z"
   },
   {
    "duration": 364,
    "start_time": "2023-11-04T10:10:48.074Z"
   },
   {
    "duration": 211,
    "start_time": "2023-11-04T10:10:48.439Z"
   },
   {
    "duration": 10,
    "start_time": "2023-11-04T10:10:48.651Z"
   },
   {
    "duration": 321,
    "start_time": "2023-11-04T10:10:48.662Z"
   },
   {
    "duration": 36,
    "start_time": "2023-11-04T10:10:48.985Z"
   },
   {
    "duration": 2989,
    "start_time": "2023-11-04T10:10:49.023Z"
   },
   {
    "duration": 299,
    "start_time": "2023-11-04T10:10:52.014Z"
   },
   {
    "duration": 263,
    "start_time": "2023-11-04T10:10:52.315Z"
   },
   {
    "duration": 0,
    "start_time": "2023-11-04T10:10:52.579Z"
   },
   {
    "duration": 0,
    "start_time": "2023-11-04T10:10:52.582Z"
   },
   {
    "duration": 0,
    "start_time": "2023-11-04T10:10:52.583Z"
   },
   {
    "duration": 0,
    "start_time": "2023-11-04T10:10:52.585Z"
   },
   {
    "duration": 0,
    "start_time": "2023-11-04T10:10:52.586Z"
   },
   {
    "duration": 0,
    "start_time": "2023-11-04T10:10:52.587Z"
   },
   {
    "duration": 0,
    "start_time": "2023-11-04T10:10:52.589Z"
   },
   {
    "duration": 169,
    "start_time": "2023-11-04T10:11:21.966Z"
   },
   {
    "duration": 162,
    "start_time": "2023-11-04T10:11:32.368Z"
   },
   {
    "duration": 169,
    "start_time": "2023-11-04T10:12:00.569Z"
   },
   {
    "duration": 4,
    "start_time": "2023-11-04T10:17:39.634Z"
   },
   {
    "duration": 174,
    "start_time": "2023-11-04T10:17:49.737Z"
   },
   {
    "duration": 175,
    "start_time": "2023-11-04T10:19:00.348Z"
   },
   {
    "duration": 168,
    "start_time": "2023-11-04T10:19:10.768Z"
   },
   {
    "duration": 272,
    "start_time": "2023-11-04T10:19:46.948Z"
   },
   {
    "duration": 189,
    "start_time": "2023-11-04T10:24:24.934Z"
   }
  ],
  "kernelspec": {
   "display_name": "Python 3 (ipykernel)",
   "language": "python",
   "name": "python3"
  },
  "language_info": {
   "codemirror_mode": {
    "name": "ipython",
    "version": 3
   },
   "file_extension": ".py",
   "mimetype": "text/x-python",
   "name": "python",
   "nbconvert_exporter": "python",
   "pygments_lexer": "ipython3",
   "version": "3.11.4"
  },
  "toc": {
   "base_numbering": 1,
   "nav_menu": {
    "height": "165px",
    "width": "228px"
   },
   "number_sections": true,
   "sideBar": true,
   "skip_h1_title": true,
   "title_cell": "Table of Contents",
   "title_sidebar": "Contents",
   "toc_cell": false,
   "toc_position": {},
   "toc_section_display": true,
   "toc_window_display": false
  }
 },
 "nbformat": 4,
 "nbformat_minor": 2
}
