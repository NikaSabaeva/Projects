{
 "cells": [
  {
   "cell_type": "markdown",
   "id": "c3893f16",
   "metadata": {},
   "source": [
    "# Статистический анализ данных сервиса аренды самокатов GoFast"
   ]
  },
  {
   "cell_type": "markdown",
   "id": "1518a6d2",
   "metadata": {},
   "source": [
    "Целью данного исследования явлется аналаиз данных пользователей сервиса аренды самокатов и их поездок и проверка трех гипотез:\n",
    "- пользователи с подпиской трятят больше времени на поездки;\n",
    "- cреднее расстояние, которое проезжают пользователи с подпиской за одну поездку, не превышает 3130 метров;\n",
    "- помесячная выручка от пользователей с подпиской по месяцам выше, чем выручка от пользователей без подписки."
   ]
  },
  {
   "cell_type": "code",
   "execution_count": 1,
   "id": "72576667",
   "metadata": {},
   "outputs": [],
   "source": [
    "import pandas as pd\n",
    "import numpy as np\n",
    "import matplotlib.pyplot as plt\n",
    "from scipy import stats as st\n",
    "from math import factorial\n",
    "from math import sqrt\n",
    "from scipy.stats import binom"
   ]
  },
  {
   "cell_type": "markdown",
   "id": "c42cbe00",
   "metadata": {},
   "source": [
    "#### Шаг 1. Загрузка данных"
   ]
  },
  {
   "cell_type": "code",
   "execution_count": 2,
   "id": "eff9f206",
   "metadata": {
    "scrolled": false
   },
   "outputs": [
    {
     "name": "stdout",
     "output_type": "stream",
     "text": [
      "<class 'pandas.core.frame.DataFrame'>\n",
      "RangeIndex: 1565 entries, 0 to 1564\n",
      "Data columns (total 5 columns):\n",
      " #   Column             Non-Null Count  Dtype \n",
      "---  ------             --------------  ----- \n",
      " 0   user_id            1565 non-null   int64 \n",
      " 1   name               1565 non-null   object\n",
      " 2   age                1565 non-null   int64 \n",
      " 3   city               1565 non-null   object\n",
      " 4   subscription_type  1565 non-null   object\n",
      "dtypes: int64(2), object(3)\n",
      "memory usage: 61.3+ KB\n",
      "<class 'pandas.core.frame.DataFrame'>\n",
      "RangeIndex: 18068 entries, 0 to 18067\n",
      "Data columns (total 4 columns):\n",
      " #   Column    Non-Null Count  Dtype  \n",
      "---  ------    --------------  -----  \n",
      " 0   user_id   18068 non-null  int64  \n",
      " 1   distance  18068 non-null  float64\n",
      " 2   duration  18068 non-null  float64\n",
      " 3   date      18068 non-null  object \n",
      "dtypes: float64(2), int64(1), object(1)\n",
      "memory usage: 564.8+ KB\n",
      "<class 'pandas.core.frame.DataFrame'>\n",
      "RangeIndex: 2 entries, 0 to 1\n",
      "Data columns (total 4 columns):\n",
      " #   Column             Non-Null Count  Dtype \n",
      "---  ------             --------------  ----- \n",
      " 0   subscription_type  2 non-null      object\n",
      " 1   minute_price       2 non-null      int64 \n",
      " 2   start_ride_price   2 non-null      int64 \n",
      " 3   subscription_fee   2 non-null      int64 \n",
      "dtypes: int64(3), object(1)\n",
      "memory usage: 192.0+ bytes\n"
     ]
    },
    {
     "data": {
      "text/html": [
       "<div>\n",
       "<style scoped>\n",
       "    .dataframe tbody tr th:only-of-type {\n",
       "        vertical-align: middle;\n",
       "    }\n",
       "\n",
       "    .dataframe tbody tr th {\n",
       "        vertical-align: top;\n",
       "    }\n",
       "\n",
       "    .dataframe thead th {\n",
       "        text-align: right;\n",
       "    }\n",
       "</style>\n",
       "<table border=\"1\" class=\"dataframe\">\n",
       "  <thead>\n",
       "    <tr style=\"text-align: right;\">\n",
       "      <th></th>\n",
       "      <th>user_id</th>\n",
       "      <th>name</th>\n",
       "      <th>age</th>\n",
       "      <th>city</th>\n",
       "      <th>subscription_type</th>\n",
       "    </tr>\n",
       "  </thead>\n",
       "  <tbody>\n",
       "    <tr>\n",
       "      <th>0</th>\n",
       "      <td>1</td>\n",
       "      <td>Кира</td>\n",
       "      <td>22</td>\n",
       "      <td>Тюмень</td>\n",
       "      <td>ultra</td>\n",
       "    </tr>\n",
       "    <tr>\n",
       "      <th>1</th>\n",
       "      <td>2</td>\n",
       "      <td>Станислав</td>\n",
       "      <td>31</td>\n",
       "      <td>Омск</td>\n",
       "      <td>ultra</td>\n",
       "    </tr>\n",
       "    <tr>\n",
       "      <th>2</th>\n",
       "      <td>3</td>\n",
       "      <td>Алексей</td>\n",
       "      <td>20</td>\n",
       "      <td>Москва</td>\n",
       "      <td>ultra</td>\n",
       "    </tr>\n",
       "    <tr>\n",
       "      <th>3</th>\n",
       "      <td>4</td>\n",
       "      <td>Константин</td>\n",
       "      <td>26</td>\n",
       "      <td>Ростов-на-Дону</td>\n",
       "      <td>ultra</td>\n",
       "    </tr>\n",
       "    <tr>\n",
       "      <th>4</th>\n",
       "      <td>5</td>\n",
       "      <td>Адель</td>\n",
       "      <td>28</td>\n",
       "      <td>Омск</td>\n",
       "      <td>ultra</td>\n",
       "    </tr>\n",
       "  </tbody>\n",
       "</table>\n",
       "</div>"
      ],
      "text/plain": [
       "   user_id        name  age            city subscription_type\n",
       "0        1        Кира   22          Тюмень             ultra\n",
       "1        2   Станислав   31            Омск             ultra\n",
       "2        3     Алексей   20          Москва             ultra\n",
       "3        4  Константин   26  Ростов-на-Дону             ultra\n",
       "4        5       Адель   28            Омск             ultra"
      ]
     },
     "metadata": {},
     "output_type": "display_data"
    },
    {
     "data": {
      "text/html": [
       "<div>\n",
       "<style scoped>\n",
       "    .dataframe tbody tr th:only-of-type {\n",
       "        vertical-align: middle;\n",
       "    }\n",
       "\n",
       "    .dataframe tbody tr th {\n",
       "        vertical-align: top;\n",
       "    }\n",
       "\n",
       "    .dataframe thead th {\n",
       "        text-align: right;\n",
       "    }\n",
       "</style>\n",
       "<table border=\"1\" class=\"dataframe\">\n",
       "  <thead>\n",
       "    <tr style=\"text-align: right;\">\n",
       "      <th></th>\n",
       "      <th>user_id</th>\n",
       "      <th>distance</th>\n",
       "      <th>duration</th>\n",
       "      <th>date</th>\n",
       "    </tr>\n",
       "  </thead>\n",
       "  <tbody>\n",
       "    <tr>\n",
       "      <th>0</th>\n",
       "      <td>1</td>\n",
       "      <td>4409.919140</td>\n",
       "      <td>25.599769</td>\n",
       "      <td>2021-01-01</td>\n",
       "    </tr>\n",
       "    <tr>\n",
       "      <th>1</th>\n",
       "      <td>1</td>\n",
       "      <td>2617.592153</td>\n",
       "      <td>15.816871</td>\n",
       "      <td>2021-01-18</td>\n",
       "    </tr>\n",
       "    <tr>\n",
       "      <th>2</th>\n",
       "      <td>1</td>\n",
       "      <td>754.159807</td>\n",
       "      <td>6.232113</td>\n",
       "      <td>2021-04-20</td>\n",
       "    </tr>\n",
       "    <tr>\n",
       "      <th>3</th>\n",
       "      <td>1</td>\n",
       "      <td>2694.783254</td>\n",
       "      <td>18.511000</td>\n",
       "      <td>2021-08-11</td>\n",
       "    </tr>\n",
       "    <tr>\n",
       "      <th>4</th>\n",
       "      <td>1</td>\n",
       "      <td>4028.687306</td>\n",
       "      <td>26.265803</td>\n",
       "      <td>2021-08-28</td>\n",
       "    </tr>\n",
       "  </tbody>\n",
       "</table>\n",
       "</div>"
      ],
      "text/plain": [
       "   user_id     distance   duration        date\n",
       "0        1  4409.919140  25.599769  2021-01-01\n",
       "1        1  2617.592153  15.816871  2021-01-18\n",
       "2        1   754.159807   6.232113  2021-04-20\n",
       "3        1  2694.783254  18.511000  2021-08-11\n",
       "4        1  4028.687306  26.265803  2021-08-28"
      ]
     },
     "metadata": {},
     "output_type": "display_data"
    },
    {
     "data": {
      "text/html": [
       "<div>\n",
       "<style scoped>\n",
       "    .dataframe tbody tr th:only-of-type {\n",
       "        vertical-align: middle;\n",
       "    }\n",
       "\n",
       "    .dataframe tbody tr th {\n",
       "        vertical-align: top;\n",
       "    }\n",
       "\n",
       "    .dataframe thead th {\n",
       "        text-align: right;\n",
       "    }\n",
       "</style>\n",
       "<table border=\"1\" class=\"dataframe\">\n",
       "  <thead>\n",
       "    <tr style=\"text-align: right;\">\n",
       "      <th></th>\n",
       "      <th>subscription_type</th>\n",
       "      <th>minute_price</th>\n",
       "      <th>start_ride_price</th>\n",
       "      <th>subscription_fee</th>\n",
       "    </tr>\n",
       "  </thead>\n",
       "  <tbody>\n",
       "    <tr>\n",
       "      <th>0</th>\n",
       "      <td>free</td>\n",
       "      <td>8</td>\n",
       "      <td>50</td>\n",
       "      <td>0</td>\n",
       "    </tr>\n",
       "    <tr>\n",
       "      <th>1</th>\n",
       "      <td>ultra</td>\n",
       "      <td>6</td>\n",
       "      <td>0</td>\n",
       "      <td>199</td>\n",
       "    </tr>\n",
       "  </tbody>\n",
       "</table>\n",
       "</div>"
      ],
      "text/plain": [
       "  subscription_type  minute_price  start_ride_price  subscription_fee\n",
       "0              free             8                50                 0\n",
       "1             ultra             6                 0               199"
      ]
     },
     "metadata": {},
     "output_type": "display_data"
    }
   ],
   "source": [
    "users = pd.read_csv('/datasets/users_go.csv')\n",
    "rides = pd.read_csv('/datasets/rides_go.csv')\n",
    "subscriptions = pd.read_csv('/datasets/subscriptions_go.csv')\n",
    "\n",
    "users.info()\n",
    "rides.info()\n",
    "subscriptions.info()\n",
    "\n",
    "display(users.head(), rides.head(), subscriptions.head())"
   ]
  },
  {
   "cell_type": "markdown",
   "id": "df9ffff2",
   "metadata": {},
   "source": [
    "**Вывод**\n",
    "\n",
    "В трех датафреймах есть информация о пользователях, их поездках и подписках.\n",
    "\n",
    "- Пустые значения в датафреймах отсутствуют. \n",
    "- В датафрейме `rides` столбец с датой имеет тип данных object. Его необходимо будет привести к типу даты pandas.\n",
    "- В двух датафреймах (`users` и `rides`) есть одинаковый столбец `user_id`, по которому в дальнейшем можно будет сцеплять таблицы.\n",
    "- В датафреймах `users`и `subscriptions` есть столбец `subscription_type`, по которому можно будет объединить таблицы.\n",
    "- В датафрейме `subscriptions` всего две строки, которые содержат данные о двух типах подписки: бесплатной и платной (`free` и `ultra`).\n",
    "- Больше всего строк в датафрейме, сдержащем информацию о поездках, 18068."
   ]
  },
  {
   "cell_type": "markdown",
   "id": "e95ebca7",
   "metadata": {},
   "source": [
    "#### Шаг 2. Предобработка данных"
   ]
  },
  {
   "cell_type": "code",
   "execution_count": 3,
   "id": "af6d202c",
   "metadata": {
    "scrolled": false
   },
   "outputs": [
    {
     "name": "stdout",
     "output_type": "stream",
     "text": [
      "<class 'pandas.core.frame.DataFrame'>\n",
      "RangeIndex: 18068 entries, 0 to 18067\n",
      "Data columns (total 4 columns):\n",
      " #   Column    Non-Null Count  Dtype         \n",
      "---  ------    --------------  -----         \n",
      " 0   user_id   18068 non-null  int64         \n",
      " 1   distance  18068 non-null  float64       \n",
      " 2   duration  18068 non-null  float64       \n",
      " 3   date      18068 non-null  datetime64[ns]\n",
      "dtypes: datetime64[ns](1), float64(2), int64(1)\n",
      "memory usage: 564.8 KB\n"
     ]
    }
   ],
   "source": [
    "#Приведем столбец с датой к типу datetime\n",
    "rides['date'] = pd.to_datetime(rides['date'], format='%Y-%m-%d')\n",
    "rides.info()"
   ]
  },
  {
   "cell_type": "code",
   "execution_count": 4,
   "id": "0f5363d2",
   "metadata": {},
   "outputs": [],
   "source": [
    "#Создадим новый столбец с номером месяца\n",
    "rides['month'] = rides['date'].dt.month"
   ]
  },
  {
   "cell_type": "code",
   "execution_count": 5,
   "id": "1a8310ce",
   "metadata": {
    "scrolled": true
   },
   "outputs": [
    {
     "data": {
      "text/plain": [
       "31"
      ]
     },
     "metadata": {},
     "output_type": "display_data"
    },
    {
     "data": {
      "text/plain": [
       "0"
      ]
     },
     "metadata": {},
     "output_type": "display_data"
    },
    {
     "data": {
      "text/plain": [
       "0"
      ]
     },
     "metadata": {},
     "output_type": "display_data"
    }
   ],
   "source": [
    "#Проверяем наличие строк-дублей\n",
    "display(users.duplicated().sum(), rides.duplicated().sum(), subscriptions.duplicated().sum())"
   ]
  },
  {
   "cell_type": "code",
   "execution_count": 6,
   "id": "4251bea0",
   "metadata": {},
   "outputs": [
    {
     "data": {
      "text/plain": [
       "0"
      ]
     },
     "execution_count": 6,
     "metadata": {},
     "output_type": "execute_result"
    }
   ],
   "source": [
    "#Удалим строки-дубли в датафрейме users\n",
    "users = users.drop_duplicates().reset_index(drop=True)\n",
    "users.duplicated().sum()"
   ]
  },
  {
   "cell_type": "markdown",
   "id": "af2a482a",
   "metadata": {},
   "source": [
    "**Вывод**\n",
    "\n",
    "- Тип столбца `date` был приведен к типу pandas datetime.\n",
    "- Создан новый столбец с номером месяца.\n",
    "- Удалены строки-дубли в датафрейме `users`.\n",
    "- Пустых значений в датафреймах нет (было выяснено на этапе изучения данных).\n"
   ]
  },
  {
   "cell_type": "markdown",
   "id": "212593c7",
   "metadata": {},
   "source": [
    "#### Шаг 3. Исследовательский анализ данных"
   ]
  },
  {
   "cell_type": "code",
   "execution_count": 7,
   "id": "e3a4274c",
   "metadata": {
    "scrolled": false
   },
   "outputs": [
    {
     "data": {
      "image/png": "[encoded data removed]",
      "text/plain": [
       "<Figure size 720x360 with 1 Axes>"
      ]
     },
     "metadata": {
      "needs_background": "light"
     },
     "output_type": "display_data"
    },
    {
     "data": {
      "text/plain": [
       "Пятигорск         219\n",
       "Екатеринбург      204\n",
       "Ростов-на-Дону    198\n",
       "Краснодар         193\n",
       "Сочи              189\n",
       "Омск              183\n",
       "Тюмень            180\n",
       "Москва            168\n",
       "Name: city, dtype: int64"
      ]
     },
     "execution_count": 7,
     "metadata": {},
     "output_type": "execute_result"
    }
   ],
   "source": [
    "users['city'].value_counts().plot.bar(figsize = (10, 5), color='#A7D2CB')\n",
    "plt.title('Частота встречаемости городов')\n",
    "plt.xlabel('Город') \n",
    "plt.ylabel('Количество пользователей')\n",
    "plt.show()\n",
    "users['city'].value_counts()"
   ]
  },
  {
   "cell_type": "markdown",
   "id": "d232314c",
   "metadata": {},
   "source": [
    "**Вывод**\n",
    "\n",
    "Больше всего пользователей из Пятигорска. Меньше всего из Москвы. В целом, города распределны довольно равномерно. Нет никаких выбросов данных."
   ]
  },
  {
   "cell_type": "code",
   "execution_count": 8,
   "id": "00271dcf",
   "metadata": {
    "scrolled": false
   },
   "outputs": [
    {
     "data": {
      "image/png": "[encoded data removed]",
      "text/plain": [
       "<Figure size 360x360 with 1 Axes>"
      ]
     },
     "metadata": {},
     "output_type": "display_data"
    }
   ],
   "source": [
    "users.groupby('subscription_type')['user_id'].count().\\\n",
    "plot.pie(y='count', labels=['Бесплатная', 'Платная'],figsize=(5, 5), autopct='%1.1f%%', colors=['#A7D2CB', '#77BFE2'])\n",
    "plt.title('Cоотношение пользователей с подпиской и без подписки')\n",
    "plt.ylabel('Тип подписки')\n",
    "plt.show()"
   ]
  },
  {
   "cell_type": "markdown",
   "id": "eefa9913",
   "metadata": {},
   "source": [
    "**Вывод**\n",
    "\n",
    "Чуть меньше половины пользователей (45,6%) имеют платную подписку."
   ]
  },
  {
   "cell_type": "code",
   "execution_count": 9,
   "id": "83924176",
   "metadata": {},
   "outputs": [
    {
     "data": {
      "text/plain": [
       "count    1534.000000\n",
       "mean       24.903520\n",
       "std         4.572367\n",
       "min        12.000000\n",
       "25%        22.000000\n",
       "50%        25.000000\n",
       "75%        28.000000\n",
       "max        43.000000\n",
       "Name: age, dtype: float64"
      ]
     },
     "execution_count": 9,
     "metadata": {},
     "output_type": "execute_result"
    }
   ],
   "source": [
    "users['age'].describe()"
   ]
  },
  {
   "cell_type": "code",
   "execution_count": 10,
   "id": "4e3ba7ba",
   "metadata": {
    "scrolled": true
   },
   "outputs": [
    {
     "data": {
      "image/png": "[encoded data removed]",
      "text/plain": [
       "<Figure size 720x360 with 1 Axes>"
      ]
     },
     "metadata": {
      "needs_background": "light"
     },
     "output_type": "display_data"
    }
   ],
   "source": [
    "users['age'].hist(bins=30,figsize = (10, 5), color='#A7D2CB')\n",
    "plt.title('Возраст пользователей')\n",
    "plt.xlabel('Возраст') \n",
    "plt.ylabel('Количество пользователей')\n",
    "plt.show()"
   ]
  },
  {
   "cell_type": "markdown",
   "id": "e3bc5bf8",
   "metadata": {},
   "source": [
    "**Вывод**\n",
    "\n",
    "Средний возраст пользователей сервиса составляет 25 лет. Основная доля пользоватлей находится в возрастной группе от 20 до 28 лет."
   ]
  },
  {
   "cell_type": "code",
   "execution_count": 11,
   "id": "0f1a7c80",
   "metadata": {},
   "outputs": [
    {
     "data": {
      "text/plain": [
       "count    18068.000000\n",
       "mean      3070.659976\n",
       "std       1116.831209\n",
       "min          0.855683\n",
       "25%       2543.226360\n",
       "50%       3133.609994\n",
       "75%       3776.222735\n",
       "max       7211.007745\n",
       "Name: distance, dtype: float64"
      ]
     },
     "execution_count": 11,
     "metadata": {},
     "output_type": "execute_result"
    }
   ],
   "source": [
    "rides['distance'].describe()"
   ]
  },
  {
   "cell_type": "code",
   "execution_count": 12,
   "id": "7688a51d",
   "metadata": {},
   "outputs": [
    {
     "data": {
      "image/png": "[encoded data removed]",
      "text/plain": [
       "<Figure size 432x288 with 1 Axes>"
      ]
     },
     "metadata": {
      "needs_background": "light"
     },
     "output_type": "display_data"
    }
   ],
   "source": [
    "rides.boxplot(column=['distance'])\n",
    "plt.show()"
   ]
  },
  {
   "cell_type": "code",
   "execution_count": 13,
   "id": "52f6f838",
   "metadata": {
    "scrolled": false
   },
   "outputs": [
    {
     "data": {
      "image/png": "[encoded data removed]",
      "text/plain": [
       "<Figure size 720x360 with 1 Axes>"
      ]
     },
     "metadata": {
      "needs_background": "light"
     },
     "output_type": "display_data"
    }
   ],
   "source": [
    "rides['distance'].hist(bins=50,figsize = (10, 5), color='#A7D2CB')\n",
    "plt.title('Расстояние, которое пользователь преодолел за одну поездку')\n",
    "plt.xlabel('Расстояние (м)') \n",
    "plt.ylabel('Количество поездок')\n",
    "plt.show()"
   ]
  },
  {
   "cell_type": "markdown",
   "id": "c357e65c",
   "metadata": {},
   "source": [
    "**Вывод**\n",
    "\n",
    "Расстояние, которое пользователи проезжают за одну поездку, в среднем составляет чуть больше 3 км (3071 м).\n",
    "Основная доля пользователей проехала от 2,5 до 3,8 км за одну поездку.\n",
    "Есть поездки меньше одного метра. Скорее всго они связаны с тем, что пользователь не смог по какой-то причине прокатиться на самокате (поломка самоката,технический сбой в приложении, не понравилось/не получилось управлять самокатом). Для более дальних поездок-от 6 км самокаты также используются, но доля таких пользователе мала."
   ]
  },
  {
   "cell_type": "code",
   "execution_count": 14,
   "id": "b4d92c17",
   "metadata": {},
   "outputs": [
    {
     "data": {
      "text/plain": [
       "count    18068.000000\n",
       "mean        17.805011\n",
       "std          6.091051\n",
       "min          0.500000\n",
       "25%         13.597563\n",
       "50%         17.678395\n",
       "75%         21.724800\n",
       "max         40.823963\n",
       "Name: duration, dtype: float64"
      ]
     },
     "execution_count": 14,
     "metadata": {},
     "output_type": "execute_result"
    }
   ],
   "source": [
    "rides['duration'].describe()"
   ]
  },
  {
   "cell_type": "code",
   "execution_count": 15,
   "id": "4b88b338",
   "metadata": {},
   "outputs": [
    {
     "data": {
      "image/png": "[encoded data removed]",
      "text/plain": [
       "<Figure size 720x360 with 1 Axes>"
      ]
     },
     "metadata": {
      "needs_background": "light"
     },
     "output_type": "display_data"
    }
   ],
   "source": [
    "rides['duration'].hist(bins=50,figsize = (10, 5), color='#A7D2CB')\n",
    "plt.title('Продолжительность поездок')\n",
    "plt.xlabel('Продолжительность (мин)') \n",
    "plt.ylabel('Количество поездок')\n",
    "plt.show()"
   ]
  },
  {
   "cell_type": "markdown",
   "id": "7bb9b49b",
   "metadata": {},
   "source": [
    "**Вывод**\n",
    "\n",
    "Средняя продолжительность поездки составляет 17,7 мин. Оснавная доля поездок длится от 13,6 до 21,7 мин. Есть поездки меньше 3 минут и даже меньше минуты. Скорее всего, по аналогии с поездками на маленькие рассотояния, такая ддительность свазана с техническими проблемами, возникшими у пользователя."
   ]
  },
  {
   "cell_type": "markdown",
   "id": "4ef51331",
   "metadata": {},
   "source": [
    "#### Шаг 4. Объединение данных"
   ]
  },
  {
   "cell_type": "code",
   "execution_count": 16,
   "id": "6bf288b5",
   "metadata": {},
   "outputs": [
    {
     "name": "stdout",
     "output_type": "stream",
     "text": [
      "<class 'pandas.core.frame.DataFrame'>\n",
      "Int64Index: 18068 entries, 0 to 18067\n",
      "Data columns (total 12 columns):\n",
      " #   Column             Non-Null Count  Dtype         \n",
      "---  ------             --------------  -----         \n",
      " 0   user_id            18068 non-null  int64         \n",
      " 1   name               18068 non-null  object        \n",
      " 2   age                18068 non-null  int64         \n",
      " 3   city               18068 non-null  object        \n",
      " 4   subscription_type  18068 non-null  object        \n",
      " 5   distance           18068 non-null  float64       \n",
      " 6   duration           18068 non-null  float64       \n",
      " 7   date               18068 non-null  datetime64[ns]\n",
      " 8   month              18068 non-null  int64         \n",
      " 9   minute_price       18068 non-null  int64         \n",
      " 10  start_ride_price   18068 non-null  int64         \n",
      " 11  subscription_fee   18068 non-null  int64         \n",
      "dtypes: datetime64[ns](1), float64(2), int64(6), object(3)\n",
      "memory usage: 1.8+ MB\n"
     ]
    }
   ],
   "source": [
    "data_merged = users.merge(rides, on='user_id')\n",
    "data_merged = data_merged.merge(subscriptions, on='subscription_type')\n",
    "data_merged.info()\n",
    "#Датафрейм с данными о пользователях с подпиской\n",
    "data_merged_subscr = data_merged.loc[data_merged['subscription_type']=='ultra']\n",
    "#Датафрейм с данными о пользователях без подписки\n",
    "data_merged_no_subscr = data_merged.loc[data_merged['subscription_type']=='free']"
   ]
  },
  {
   "cell_type": "code",
   "execution_count": 17,
   "id": "a3ec167a",
   "metadata": {
    "scrolled": true
   },
   "outputs": [
    {
     "data": {
      "image/png": "[encoded data removed]",
      "text/plain": [
       "<Figure size 432x288 with 1 Axes>"
      ]
     },
     "metadata": {
      "needs_background": "light"
     },
     "output_type": "display_data"
    }
   ],
   "source": [
    "plt.hist(x = data_merged_no_subscr['distance'], alpha = 0.3, label='без подписки', color='#A7D2CB')\n",
    "plt.hist(x = data_merged_subscr['distance'], alpha = 0.3, label='с подпиской');\n",
    "\n",
    "plt.title('Сравнение дальности поездок пользователей без подписки и с подпиской')\n",
    "plt.xlabel('Расстояние (м)') \n",
    "plt.ylabel('Количество поездок')\n",
    "plt.legend()\n",
    "plt.show()"
   ]
  },
  {
   "cell_type": "code",
   "execution_count": 18,
   "id": "98bef0da",
   "metadata": {
    "scrolled": false
   },
   "outputs": [
    {
     "data": {
      "image/png": "[encoded data removed]",
      "text/plain": [
       "<Figure size 432x288 with 1 Axes>"
      ]
     },
     "metadata": {
      "needs_background": "light"
     },
     "output_type": "display_data"
    }
   ],
   "source": [
    "plt.hist(x = data_merged_no_subscr['duration'], alpha = 0.3, label='без подписки', color='#A7D2CB')\n",
    "plt.hist(x = data_merged_subscr['duration'], alpha = 0.3, label='с подпиской');\n",
    "plt.title('Сравнение продолжительности поездок пользователей без подписки и с подпиской')\n",
    "plt.xlabel('Продолжительность (мин)') \n",
    "plt.ylabel('Количество поездок')\n",
    "plt.legend()\n",
    "plt.show()"
   ]
  },
  {
   "cell_type": "code",
   "execution_count": 19,
   "id": "82e66e48",
   "metadata": {},
   "outputs": [
    {
     "data": {
      "text/html": [
       "<div>\n",
       "<style scoped>\n",
       "    .dataframe tbody tr th:only-of-type {\n",
       "        vertical-align: middle;\n",
       "    }\n",
       "\n",
       "    .dataframe tbody tr th {\n",
       "        vertical-align: top;\n",
       "    }\n",
       "\n",
       "    .dataframe thead th {\n",
       "        text-align: right;\n",
       "    }\n",
       "</style>\n",
       "<table border=\"1\" class=\"dataframe\">\n",
       "  <thead>\n",
       "    <tr style=\"text-align: right;\">\n",
       "      <th></th>\n",
       "      <th>distance</th>\n",
       "      <th>duration</th>\n",
       "    </tr>\n",
       "  </thead>\n",
       "  <tbody>\n",
       "    <tr>\n",
       "      <th>count</th>\n",
       "      <td>11568.000000</td>\n",
       "      <td>11568.000000</td>\n",
       "    </tr>\n",
       "    <tr>\n",
       "      <th>mean</th>\n",
       "      <td>3045.495282</td>\n",
       "      <td>17.390909</td>\n",
       "    </tr>\n",
       "    <tr>\n",
       "      <th>std</th>\n",
       "      <td>1246.173806</td>\n",
       "      <td>6.326803</td>\n",
       "    </tr>\n",
       "    <tr>\n",
       "      <th>min</th>\n",
       "      <td>0.855683</td>\n",
       "      <td>0.500000</td>\n",
       "    </tr>\n",
       "    <tr>\n",
       "      <th>25%</th>\n",
       "      <td>2366.562689</td>\n",
       "      <td>12.958437</td>\n",
       "    </tr>\n",
       "    <tr>\n",
       "      <th>50%</th>\n",
       "      <td>3114.648465</td>\n",
       "      <td>17.326890</td>\n",
       "    </tr>\n",
       "    <tr>\n",
       "      <th>75%</th>\n",
       "      <td>3905.697894</td>\n",
       "      <td>21.594071</td>\n",
       "    </tr>\n",
       "    <tr>\n",
       "      <th>max</th>\n",
       "      <td>7211.007745</td>\n",
       "      <td>34.948498</td>\n",
       "    </tr>\n",
       "  </tbody>\n",
       "</table>\n",
       "</div>"
      ],
      "text/plain": [
       "           distance      duration\n",
       "count  11568.000000  11568.000000\n",
       "mean    3045.495282     17.390909\n",
       "std     1246.173806      6.326803\n",
       "min        0.855683      0.500000\n",
       "25%     2366.562689     12.958437\n",
       "50%     3114.648465     17.326890\n",
       "75%     3905.697894     21.594071\n",
       "max     7211.007745     34.948498"
      ]
     },
     "metadata": {},
     "output_type": "display_data"
    },
    {
     "data": {
      "text/html": [
       "<div>\n",
       "<style scoped>\n",
       "    .dataframe tbody tr th:only-of-type {\n",
       "        vertical-align: middle;\n",
       "    }\n",
       "\n",
       "    .dataframe tbody tr th {\n",
       "        vertical-align: top;\n",
       "    }\n",
       "\n",
       "    .dataframe thead th {\n",
       "        text-align: right;\n",
       "    }\n",
       "</style>\n",
       "<table border=\"1\" class=\"dataframe\">\n",
       "  <thead>\n",
       "    <tr style=\"text-align: right;\">\n",
       "      <th></th>\n",
       "      <th>distance</th>\n",
       "      <th>duration</th>\n",
       "    </tr>\n",
       "  </thead>\n",
       "  <tbody>\n",
       "    <tr>\n",
       "      <th>count</th>\n",
       "      <td>6500.000000</td>\n",
       "      <td>6500.000000</td>\n",
       "    </tr>\n",
       "    <tr>\n",
       "      <th>mean</th>\n",
       "      <td>3115.445388</td>\n",
       "      <td>18.541985</td>\n",
       "    </tr>\n",
       "    <tr>\n",
       "      <th>std</th>\n",
       "      <td>836.895330</td>\n",
       "      <td>5.572048</td>\n",
       "    </tr>\n",
       "    <tr>\n",
       "      <th>min</th>\n",
       "      <td>244.210438</td>\n",
       "      <td>3.760353</td>\n",
       "    </tr>\n",
       "    <tr>\n",
       "      <th>25%</th>\n",
       "      <td>2785.444017</td>\n",
       "      <td>14.524654</td>\n",
       "    </tr>\n",
       "    <tr>\n",
       "      <th>50%</th>\n",
       "      <td>3148.637229</td>\n",
       "      <td>18.178153</td>\n",
       "    </tr>\n",
       "    <tr>\n",
       "      <th>75%</th>\n",
       "      <td>3560.574425</td>\n",
       "      <td>21.884129</td>\n",
       "    </tr>\n",
       "    <tr>\n",
       "      <th>max</th>\n",
       "      <td>5699.769662</td>\n",
       "      <td>40.823963</td>\n",
       "    </tr>\n",
       "  </tbody>\n",
       "</table>\n",
       "</div>"
      ],
      "text/plain": [
       "          distance     duration\n",
       "count  6500.000000  6500.000000\n",
       "mean   3115.445388    18.541985\n",
       "std     836.895330     5.572048\n",
       "min     244.210438     3.760353\n",
       "25%    2785.444017    14.524654\n",
       "50%    3148.637229    18.178153\n",
       "75%    3560.574425    21.884129\n",
       "max    5699.769662    40.823963"
      ]
     },
     "metadata": {},
     "output_type": "display_data"
    }
   ],
   "source": [
    "display(data_merged_no_subscr[['distance', 'duration']].describe(),\\\n",
    "        data_merged_subscr[['distance', 'duration']].describe())"
   ]
  },
  {
   "cell_type": "markdown",
   "id": "1551a72e",
   "metadata": {},
   "source": [
    "**Вывод**\n",
    "\n",
    "У пользователей без подписки больший разброс данных, чем у пользователей с платной подпиской.\n",
    "\n",
    "У пользователей без подписки есть очень короткие и очень быстрые поездки - до 1 метра и до 3 минут соответвенно. \n",
    "У пользователей с платной подпской дальность поездки начинается от 250 м, а длительность от 3,7 мин. Это может говрить о том, что пользователи с платной подспикой более опытные и у них случается меньше технических причин, чтобы отказаться так быстро от поездки.\n",
    "\n",
    "Однако, если смотреть на диапазоны, в которые попадает основная масса поездок, то они очень схожи для двух категорий пользователей. Средние и медианы у них также очень близки.\n"
   ]
  },
  {
   "cell_type": "markdown",
   "id": "402d620f",
   "metadata": {},
   "source": [
    "#### Шаг 5. Подсчёт выручки"
   ]
  },
  {
   "cell_type": "code",
   "execution_count": 20,
   "id": "53049e0a",
   "metadata": {},
   "outputs": [
    {
     "data": {
      "text/html": [
       "<div>\n",
       "<style scoped>\n",
       "    .dataframe tbody tr th:only-of-type {\n",
       "        vertical-align: middle;\n",
       "    }\n",
       "\n",
       "    .dataframe tbody tr th {\n",
       "        vertical-align: top;\n",
       "    }\n",
       "\n",
       "    .dataframe thead th {\n",
       "        text-align: right;\n",
       "    }\n",
       "</style>\n",
       "<table border=\"1\" class=\"dataframe\">\n",
       "  <thead>\n",
       "    <tr style=\"text-align: right;\">\n",
       "      <th></th>\n",
       "      <th></th>\n",
       "      <th>number_of_rides</th>\n",
       "      <th>distance</th>\n",
       "      <th>duration</th>\n",
       "      <th>minute_price</th>\n",
       "      <th>start_ride_price</th>\n",
       "      <th>subscription_fee</th>\n",
       "      <th>subscription_type</th>\n",
       "      <th>revenue</th>\n",
       "    </tr>\n",
       "    <tr>\n",
       "      <th>user_id</th>\n",
       "      <th>month</th>\n",
       "      <th></th>\n",
       "      <th></th>\n",
       "      <th></th>\n",
       "      <th></th>\n",
       "      <th></th>\n",
       "      <th></th>\n",
       "      <th></th>\n",
       "      <th></th>\n",
       "    </tr>\n",
       "  </thead>\n",
       "  <tbody>\n",
       "    <tr>\n",
       "      <th rowspan=\"6\" valign=\"top\">1</th>\n",
       "      <th>1</th>\n",
       "      <td>2</td>\n",
       "      <td>7027.511294</td>\n",
       "      <td>42.0</td>\n",
       "      <td>6</td>\n",
       "      <td>0</td>\n",
       "      <td>199</td>\n",
       "      <td>ultra</td>\n",
       "      <td>451.0</td>\n",
       "    </tr>\n",
       "    <tr>\n",
       "      <th>4</th>\n",
       "      <td>1</td>\n",
       "      <td>754.159807</td>\n",
       "      <td>7.0</td>\n",
       "      <td>6</td>\n",
       "      <td>0</td>\n",
       "      <td>199</td>\n",
       "      <td>ultra</td>\n",
       "      <td>241.0</td>\n",
       "    </tr>\n",
       "    <tr>\n",
       "      <th>8</th>\n",
       "      <td>2</td>\n",
       "      <td>6723.470560</td>\n",
       "      <td>45.0</td>\n",
       "      <td>6</td>\n",
       "      <td>0</td>\n",
       "      <td>199</td>\n",
       "      <td>ultra</td>\n",
       "      <td>469.0</td>\n",
       "    </tr>\n",
       "    <tr>\n",
       "      <th>10</th>\n",
       "      <td>2</td>\n",
       "      <td>5809.911100</td>\n",
       "      <td>32.0</td>\n",
       "      <td>6</td>\n",
       "      <td>0</td>\n",
       "      <td>199</td>\n",
       "      <td>ultra</td>\n",
       "      <td>391.0</td>\n",
       "    </tr>\n",
       "    <tr>\n",
       "      <th>11</th>\n",
       "      <td>3</td>\n",
       "      <td>7003.499363</td>\n",
       "      <td>54.0</td>\n",
       "      <td>6</td>\n",
       "      <td>0</td>\n",
       "      <td>199</td>\n",
       "      <td>ultra</td>\n",
       "      <td>523.0</td>\n",
       "    </tr>\n",
       "    <tr>\n",
       "      <th>12</th>\n",
       "      <td>2</td>\n",
       "      <td>6751.629942</td>\n",
       "      <td>28.0</td>\n",
       "      <td>6</td>\n",
       "      <td>0</td>\n",
       "      <td>199</td>\n",
       "      <td>ultra</td>\n",
       "      <td>367.0</td>\n",
       "    </tr>\n",
       "    <tr>\n",
       "      <th rowspan=\"4\" valign=\"top\">2</th>\n",
       "      <th>3</th>\n",
       "      <td>3</td>\n",
       "      <td>10187.723006</td>\n",
       "      <td>61.0</td>\n",
       "      <td>6</td>\n",
       "      <td>0</td>\n",
       "      <td>199</td>\n",
       "      <td>ultra</td>\n",
       "      <td>565.0</td>\n",
       "    </tr>\n",
       "    <tr>\n",
       "      <th>4</th>\n",
       "      <td>2</td>\n",
       "      <td>6164.381824</td>\n",
       "      <td>40.0</td>\n",
       "      <td>6</td>\n",
       "      <td>0</td>\n",
       "      <td>199</td>\n",
       "      <td>ultra</td>\n",
       "      <td>439.0</td>\n",
       "    </tr>\n",
       "    <tr>\n",
       "      <th>6</th>\n",
       "      <td>1</td>\n",
       "      <td>3255.338202</td>\n",
       "      <td>14.0</td>\n",
       "      <td>6</td>\n",
       "      <td>0</td>\n",
       "      <td>199</td>\n",
       "      <td>ultra</td>\n",
       "      <td>283.0</td>\n",
       "    </tr>\n",
       "    <tr>\n",
       "      <th>7</th>\n",
       "      <td>2</td>\n",
       "      <td>6780.722964</td>\n",
       "      <td>47.0</td>\n",
       "      <td>6</td>\n",
       "      <td>0</td>\n",
       "      <td>199</td>\n",
       "      <td>ultra</td>\n",
       "      <td>481.0</td>\n",
       "    </tr>\n",
       "  </tbody>\n",
       "</table>\n",
       "</div>"
      ],
      "text/plain": [
       "               number_of_rides      distance  duration  minute_price  \\\n",
       "user_id month                                                          \n",
       "1       1                    2   7027.511294      42.0             6   \n",
       "        4                    1    754.159807       7.0             6   \n",
       "        8                    2   6723.470560      45.0             6   \n",
       "        10                   2   5809.911100      32.0             6   \n",
       "        11                   3   7003.499363      54.0             6   \n",
       "        12                   2   6751.629942      28.0             6   \n",
       "2       3                    3  10187.723006      61.0             6   \n",
       "        4                    2   6164.381824      40.0             6   \n",
       "        6                    1   3255.338202      14.0             6   \n",
       "        7                    2   6780.722964      47.0             6   \n",
       "\n",
       "               start_ride_price  subscription_fee subscription_type  revenue  \n",
       "user_id month                                                                 \n",
       "1       1                     0               199             ultra    451.0  \n",
       "        4                     0               199             ultra    241.0  \n",
       "        8                     0               199             ultra    469.0  \n",
       "        10                    0               199             ultra    391.0  \n",
       "        11                    0               199             ultra    523.0  \n",
       "        12                    0               199             ultra    367.0  \n",
       "2       3                     0               199             ultra    565.0  \n",
       "        4                     0               199             ultra    439.0  \n",
       "        6                     0               199             ultra    283.0  \n",
       "        7                     0               199             ultra    481.0  "
      ]
     },
     "execution_count": 20,
     "metadata": {},
     "output_type": "execute_result"
    }
   ],
   "source": [
    "data_pivoted = data_merged.pivot_table(\n",
    "    index=['user_id', 'month'],\n",
    "    values=['distance','duration','minute_price','start_ride_price','subscription_fee','subscription_type'],\n",
    "    aggfunc={'distance':['count','sum'], 'duration':'sum',\\\n",
    "             'subscription_type':'first','minute_price':'first','start_ride_price':'first',\\\n",
    "             'subscription_fee':'first'}\n",
    ")\n",
    "#data_pivoted=data_pivoted.droplevel(1, axis=1)\n",
    "data_pivoted.columns=['number_of_rides', 'distance', 'duration',\\\n",
    "                      'minute_price','start_ride_price','subscription_fee','subscription_type' ]\n",
    "data_pivoted['duration'] = np.ceil(data_pivoted['duration'])\n",
    "data_pivoted['revenue'] = (data_pivoted['start_ride_price']*data_pivoted['number_of_rides'])+\\\n",
    "(data_pivoted['minute_price']*data_pivoted['duration'])+data_pivoted['subscription_fee']\n",
    "data_pivoted.head(10)"
   ]
  },
  {
   "cell_type": "markdown",
   "id": "41545ac0",
   "metadata": {},
   "source": [
    "#### Шаг 6. Проверка гипотез"
   ]
  },
  {
   "cell_type": "markdown",
   "id": "cb1b042b",
   "metadata": {},
   "source": [
    "##### Тратят ли пользователи с подпиской больше времени на поездки?\n",
    "\n",
    "Необходимо проверить односторонню гипотезу.\n",
    "\n",
    "Нулевая гипотеза H0: среднее время поездки пользователей из двух групп равны.\n",
    "\n",
    "Альтернативная гипотеза H1: среднее время поездки пользователей с подпиской больше, чем без подписки."
   ]
  },
  {
   "cell_type": "code",
   "execution_count": 21,
   "id": "23ea867b",
   "metadata": {},
   "outputs": [
    {
     "name": "stdout",
     "output_type": "stream",
     "text": [
      "p-value: 1.2804098316645618e-34\n",
      "Отвергаем нулевую гипотезу\n",
      "\n",
      "Средняя продолжительность поездки пользователей с подпиской: 18.54198516280583\n",
      "Средняя продолжительность поездки пользователей без подписки: 17.39090929866399\n"
     ]
    }
   ],
   "source": [
    "with_subscription = data_merged_subscr['duration']\n",
    "without_subscription = data_merged_no_subscr['duration']\n",
    "\n",
    "# задаём уровень значимости\n",
    "alpha = 0.05\n",
    "\n",
    "# проводим ttest, в качестве альтернативной используем одностороннюю гипотезу «больше»\n",
    "results = st.ttest_ind(\n",
    "    with_subscription, \n",
    "    without_subscription, \n",
    "    alternative='greater')\n",
    "\n",
    "#print(f'p-value: {\"{:.10f}\".format(results.pvalue)}')\n",
    "print(f'p-value: {results.pvalue}')\n",
    "\n",
    "if results.pvalue < alpha:\n",
    "    print('Отвергаем нулевую гипотезу')\n",
    "else:\n",
    "    print('Нет оснований отвергнуть нулевую гипотезу')\n",
    "    \n",
    "#Проверим также средние значения\n",
    "print()\n",
    "print(f'Средняя продолжительность поездки пользователей с подпиской: {data_merged_subscr[\"duration\"].mean()}')\n",
    "print(f'Средняя продолжительность поездки пользователей без подписки: {data_merged_no_subscr[\"duration\"].mean()}')"
   ]
  },
  {
   "cell_type": "markdown",
   "id": "8292a2bd",
   "metadata": {},
   "source": [
    "Полученное значение p-value значительно меньше заданного уровня значимости, поэтому можно отвергнуть нулевую гипотезу. Есть основания полагать, что пользователи с подпиской тратят больше времени на поездки."
   ]
  },
  {
   "cell_type": "markdown",
   "id": "2413a8fc",
   "metadata": {},
   "source": [
    "##### Можно ли сказать, что среднее расстояние, которое проезжают пользователи с подпиской за одну поездку, не превышает 3130 метров?\n",
    "\n",
    "\n"
   ]
  },
  {
   "cell_type": "markdown",
   "id": "e9d658ba",
   "metadata": {},
   "source": [
    "Необходимо проверить односторонню гипотезу.\n",
    "\n",
    "Нулевая гипотеза H0: среднее расстояние, которое проезжают пользователи с подпиской за одну поездку, равно 3130 метров.\n",
    "\n",
    "Альтернативная гипотеза H1: среднее расстояние, которое проезжают пользователи с подпиской за одну поездку меньше 3130 метров."
   ]
  },
  {
   "cell_type": "code",
   "execution_count": 22,
   "id": "2b4c8b9c",
   "metadata": {},
   "outputs": [
    {
     "name": "stdout",
     "output_type": "stream",
     "text": [
      "p-значение: 0.08046311521502146\n",
      "Не отвергаем нулевую гипотезу\n"
     ]
    }
   ],
   "source": [
    "with_subscription = data_merged_subscr['distance']\n",
    "distance = 3130\n",
    "alpha = 0.05\n",
    "\n",
    "results = st.ttest_1samp(\n",
    "    with_subscription, \n",
    "    distance,\n",
    "    alternative='less')\n",
    "\n",
    "print('p-значение:', results.pvalue)\n",
    "\n",
    "if (results.pvalue < alpha):\n",
    "    print('Отвергаем нулевую гипотезу')\n",
    "else:\n",
    "    print('Не отвергаем нулевую гипотезу') \n"
   ]
  },
  {
   "cell_type": "markdown",
   "id": "e5572801",
   "metadata": {},
   "source": [
    "Полученное значение p-value оказалось выше заданного уровня значимости. Следовательно мы не можем отвергнуть нулевую гипотезу о равенстве расстояния, которое проезжают пользователи с подпиской за одну поездку, 3130 метрам. Медианное значение оставляет 3148,6. Таким образом, привлечение большего числа пользователей с платной подпиской не сократит скорость износа самокатов."
   ]
  },
  {
   "cell_type": "markdown",
   "id": "b38c0fe9",
   "metadata": {},
   "source": [
    "##### Будет ли помесячная выручка от пользователей с подпиской по месяцам выше, чем выручка от пользователей без подписки."
   ]
  },
  {
   "cell_type": "markdown",
   "id": "94debde1",
   "metadata": {},
   "source": [
    "Необходимо проверить односторонню гипотезу.\n",
    "\n",
    "Нулевая гипотеза H0: помесячная выручка от пользователей с подпиской и без подписки равна.\n",
    "\n",
    "Альтернативная гипотеза H1: помесячная выручка от пользователей с подпиской больше, чем выручка от пользователей без подписки."
   ]
  },
  {
   "cell_type": "code",
   "execution_count": 23,
   "id": "1bd080a7",
   "metadata": {
    "scrolled": true
   },
   "outputs": [
    {
     "name": "stdout",
     "output_type": "stream",
     "text": [
      "p-значение: 2.8130926188487286e-35\n",
      "Отвергаем нулевую гипотезу\n"
     ]
    }
   ],
   "source": [
    "with_subscription = data_pivoted.loc[data_pivoted['subscription_type']=='ultra']['revenue'].reset_index(drop=True)\n",
    "without_subscription = data_pivoted.loc[data_pivoted['subscription_type']=='free']['revenue'].reset_index(drop=True)\n",
    "\n",
    "results = st.ttest_ind(\n",
    "    with_subscription, \n",
    "    without_subscription,\n",
    "    alternative='greater')\n",
    "\n",
    "print('p-значение:', results.pvalue)\n",
    "\n",
    "if (results.pvalue < alpha):\n",
    "    print('Отвергаем нулевую гипотезу')\n",
    "else:\n",
    "    print('Не отвергаем нулевую гипотезу') "
   ]
  },
  {
   "cell_type": "markdown",
   "id": "ad5f4eb4",
   "metadata": {},
   "source": [
    "Полученное значение p-value значительно меньше заданного уровня значимости, поэтому можно отвергнуть нулевую гипотезу. Есть основания полагать, что помесячная выручка от пользователей с подпиской больше, чем выручка от пользователей без подписки."
   ]
  },
  {
   "cell_type": "markdown",
   "id": "a52d477b",
   "metadata": {},
   "source": [
    "#### Общий вывод"
   ]
  },
  {
   "cell_type": "markdown",
   "id": "5504d54a",
   "metadata": {},
   "source": [
    "Были получены данные о пользователях сервиса аренды самокатов, а также об их поездках.\n",
    "Задача: проанализировать данные и проверить три гипотезы, которые могут помочь бизнесу вырасти.\n",
    "\n",
    "**На этапе предобработки были внесены следующие изменения в данные:**\n",
    "\n",
    "- Столбец `date` приведен к типу даты pandas\n",
    "- Создан новый столбце с номером месяца\n",
    "- Удалены строки-дубликаты\n",
    "\n",
    "**На этапе исследовательского анализа данных были получены следующие выводы о пользователях сервиса:**\n",
    "\n",
    "- Чуть меньше половины пользователей (46%) имеют платную подписку\n",
    "- Средний возраст пользователей сервиса составляет 25 лет\n",
    "- Расстояние, которое пользователи проезжают за одну поездку, в среднем составляет чуть больше 3 км (3071 м)\n",
    "- Средняя продолжительность поездки составляет 17,7 мин\n",
    "\n",
    "**Чтобы понять стоит ли мотивировать пользователей приобретать платную подписку было проверено 3 гипотезы:**\n",
    "\n",
    "По результатам проверки гипотез можно сделать следующие выводы:\n",
    "- Пользователи с подпиской тратят больше врмени на поездки, чем пользователи без подписки.\n",
    "- Мы не можем утверждать, что среднее расстояние, которое проезжают пользователи с подпиской за одну поездку, не превышает 3130 метров. Данная гипотеза не подтвердилась. Медианное значение оставляет 3148,6. Таким образом, привлечение большего числа пользователей с платной подпиской не сократит скорость износа самокатов.\n",
    "- Помесячная выручка от пользователей с подпиской больше, чем выручка от пользователей без подписки.\n",
    "\n",
    "**Рекомендации**\n",
    "\n",
    "На основании проведенного анализа данных рекомендуем проведение акций с целью увеличения числа пользователей с платной подпсикой, что будет способствовать росту выручки компании."
   ]
  }
 ],
 "metadata": {
  "ExecuteTimeLog": [
   {
    "duration": 50,
    "start_time": "2023-10-24T15:55:14.750Z"
   },
   {
    "duration": 6,
    "start_time": "2023-10-24T15:55:22.934Z"
   },
   {
    "duration": 448,
    "start_time": "2023-10-24T15:55:37.425Z"
   },
   {
    "duration": 99,
    "start_time": "2023-10-24T15:55:39.772Z"
   },
   {
    "duration": 168,
    "start_time": "2023-10-24T15:57:30.966Z"
   },
   {
    "duration": 90,
    "start_time": "2023-10-24T15:58:12.082Z"
   },
   {
    "duration": 81,
    "start_time": "2023-10-24T15:58:19.109Z"
   },
   {
    "duration": 87,
    "start_time": "2023-10-24T15:58:32.114Z"
   },
   {
    "duration": 84,
    "start_time": "2023-10-24T15:58:55.589Z"
   },
   {
    "duration": 95,
    "start_time": "2023-10-24T15:59:28.995Z"
   },
   {
    "duration": 83,
    "start_time": "2023-10-24T16:00:02.740Z"
   },
   {
    "duration": 39,
    "start_time": "2023-10-24T16:01:05.353Z"
   },
   {
    "duration": 410,
    "start_time": "2023-10-24T16:02:06.662Z"
   },
   {
    "duration": 94,
    "start_time": "2023-10-24T16:02:07.074Z"
   },
   {
    "duration": 19,
    "start_time": "2023-10-24T16:02:07.169Z"
   },
   {
    "duration": 398,
    "start_time": "2023-10-24T16:02:17.170Z"
   },
   {
    "duration": 69,
    "start_time": "2023-10-24T16:02:17.570Z"
   },
   {
    "duration": 25,
    "start_time": "2023-10-24T16:02:17.641Z"
   },
   {
    "duration": 19,
    "start_time": "2023-10-24T16:03:35.888Z"
   },
   {
    "duration": 20,
    "start_time": "2023-10-24T16:04:39.883Z"
   },
   {
    "duration": 7,
    "start_time": "2023-10-24T16:23:47.708Z"
   },
   {
    "duration": 8,
    "start_time": "2023-10-24T16:24:09.357Z"
   },
   {
    "duration": 7,
    "start_time": "2023-10-24T16:24:25.723Z"
   },
   {
    "duration": 9,
    "start_time": "2023-10-24T16:32:31.507Z"
   },
   {
    "duration": 66,
    "start_time": "2023-10-24T16:32:43.018Z"
   },
   {
    "duration": 20,
    "start_time": "2023-10-24T16:32:50.842Z"
   },
   {
    "duration": 14,
    "start_time": "2023-10-24T16:32:59.059Z"
   },
   {
    "duration": 33,
    "start_time": "2023-10-24T16:33:12.650Z"
   },
   {
    "duration": 5,
    "start_time": "2023-10-24T16:37:25.781Z"
   },
   {
    "duration": 13,
    "start_time": "2023-10-24T16:37:35.130Z"
   },
   {
    "duration": 5,
    "start_time": "2023-10-24T16:37:59.875Z"
   },
   {
    "duration": 68,
    "start_time": "2023-10-24T16:40:59.458Z"
   },
   {
    "duration": 82,
    "start_time": "2023-10-24T16:41:31.932Z"
   },
   {
    "duration": 7,
    "start_time": "2023-10-24T16:41:37.665Z"
   },
   {
    "duration": 11,
    "start_time": "2023-10-24T16:42:04.963Z"
   },
   {
    "duration": 12,
    "start_time": "2023-10-24T16:42:25.794Z"
   },
   {
    "duration": 13,
    "start_time": "2023-10-24T16:42:52.796Z"
   },
   {
    "duration": 13,
    "start_time": "2023-10-24T16:43:06.779Z"
   },
   {
    "duration": 12,
    "start_time": "2023-10-24T16:46:08.714Z"
   },
   {
    "duration": 16,
    "start_time": "2023-10-24T16:46:28.654Z"
   },
   {
    "duration": 15,
    "start_time": "2023-10-24T16:48:15.331Z"
   },
   {
    "duration": 10,
    "start_time": "2023-10-24T16:49:49.158Z"
   },
   {
    "duration": 6,
    "start_time": "2023-10-24T16:50:42.586Z"
   },
   {
    "duration": 10,
    "start_time": "2023-10-24T16:50:52.577Z"
   },
   {
    "duration": 377,
    "start_time": "2023-10-24T17:58:37.295Z"
   },
   {
    "duration": 69,
    "start_time": "2023-10-24T17:58:37.674Z"
   },
   {
    "duration": 24,
    "start_time": "2023-10-24T17:58:37.745Z"
   },
   {
    "duration": 22,
    "start_time": "2023-10-24T17:58:37.771Z"
   },
   {
    "duration": 15,
    "start_time": "2023-10-24T17:58:37.795Z"
   },
   {
    "duration": 42,
    "start_time": "2023-10-24T17:58:37.812Z"
   },
   {
    "duration": 5,
    "start_time": "2023-10-24T17:58:37.856Z"
   },
   {
    "duration": 36,
    "start_time": "2023-10-24T17:58:37.862Z"
   },
   {
    "duration": 14,
    "start_time": "2023-10-24T17:58:37.899Z"
   },
   {
    "duration": 6,
    "start_time": "2023-10-24T18:00:44.263Z"
   },
   {
    "duration": 643,
    "start_time": "2023-10-24T18:01:03.260Z"
   },
   {
    "duration": 164,
    "start_time": "2023-10-24T18:01:10.369Z"
   },
   {
    "duration": 83,
    "start_time": "2023-10-24T18:03:38.321Z"
   },
   {
    "duration": 565,
    "start_time": "2023-10-24T18:03:53.797Z"
   },
   {
    "duration": 3,
    "start_time": "2023-10-24T18:04:25.006Z"
   },
   {
    "duration": 452,
    "start_time": "2023-10-24T18:04:29.676Z"
   },
   {
    "duration": 7,
    "start_time": "2023-10-24T18:07:36.104Z"
   },
   {
    "duration": 149,
    "start_time": "2023-10-24T18:08:47.271Z"
   },
   {
    "duration": 204,
    "start_time": "2023-10-24T18:09:38.280Z"
   },
   {
    "duration": 210,
    "start_time": "2023-10-24T18:09:47.998Z"
   },
   {
    "duration": 167,
    "start_time": "2023-10-24T18:10:14.486Z"
   },
   {
    "duration": 9,
    "start_time": "2023-10-24T18:12:11.254Z"
   },
   {
    "duration": 15,
    "start_time": "2023-10-24T18:20:17.077Z"
   },
   {
    "duration": 9,
    "start_time": "2023-10-24T18:22:23.022Z"
   },
   {
    "duration": 9,
    "start_time": "2023-10-24T18:22:37.814Z"
   },
   {
    "duration": 12,
    "start_time": "2023-10-24T18:23:04.582Z"
   },
   {
    "duration": 13,
    "start_time": "2023-10-24T18:26:01.990Z"
   },
   {
    "duration": 314,
    "start_time": "2023-10-24T18:26:21.649Z"
   },
   {
    "duration": 88,
    "start_time": "2023-10-24T18:31:12.871Z"
   },
   {
    "duration": 8,
    "start_time": "2023-10-24T18:31:32.263Z"
   },
   {
    "duration": 139,
    "start_time": "2023-10-24T18:31:56.326Z"
   },
   {
    "duration": 81,
    "start_time": "2023-10-24T18:32:37.806Z"
   },
   {
    "duration": 174,
    "start_time": "2023-10-24T18:33:41.420Z"
   },
   {
    "duration": 97,
    "start_time": "2023-10-24T18:35:11.851Z"
   },
   {
    "duration": 62,
    "start_time": "2023-10-24T18:36:51.324Z"
   },
   {
    "duration": 121,
    "start_time": "2023-10-24T18:38:40.214Z"
   },
   {
    "duration": 91,
    "start_time": "2023-10-24T18:40:04.817Z"
   },
   {
    "duration": 108,
    "start_time": "2023-10-24T18:40:20.909Z"
   },
   {
    "duration": 106,
    "start_time": "2023-10-24T18:45:58.358Z"
   },
   {
    "duration": 102,
    "start_time": "2023-10-24T18:46:26.389Z"
   },
   {
    "duration": 9,
    "start_time": "2023-10-24T18:51:41.130Z"
   },
   {
    "duration": 706,
    "start_time": "2023-10-24T19:07:33.908Z"
   },
   {
    "duration": 76,
    "start_time": "2023-10-24T19:07:34.617Z"
   },
   {
    "duration": 22,
    "start_time": "2023-10-24T19:07:34.695Z"
   },
   {
    "duration": 23,
    "start_time": "2023-10-24T19:07:34.719Z"
   },
   {
    "duration": 32,
    "start_time": "2023-10-24T19:07:34.744Z"
   },
   {
    "duration": 61,
    "start_time": "2023-10-24T19:07:34.777Z"
   },
   {
    "duration": 14,
    "start_time": "2023-10-24T19:07:34.841Z"
   },
   {
    "duration": 27,
    "start_time": "2023-10-24T19:07:34.857Z"
   },
   {
    "duration": 9,
    "start_time": "2023-10-24T19:07:34.886Z"
   },
   {
    "duration": 203,
    "start_time": "2023-10-24T19:07:34.898Z"
   },
   {
    "duration": 104,
    "start_time": "2023-10-24T19:07:35.103Z"
   },
   {
    "duration": 8,
    "start_time": "2023-10-24T19:07:35.209Z"
   },
   {
    "duration": 157,
    "start_time": "2023-10-24T19:10:08.135Z"
   },
   {
    "duration": 185,
    "start_time": "2023-10-24T19:11:47.218Z"
   },
   {
    "duration": 475,
    "start_time": "2023-10-24T19:17:23.368Z"
   },
   {
    "duration": 281,
    "start_time": "2023-10-24T19:17:30.422Z"
   },
   {
    "duration": 232,
    "start_time": "2023-10-24T19:17:38.021Z"
   },
   {
    "duration": 201,
    "start_time": "2023-10-24T19:17:44.962Z"
   },
   {
    "duration": 216,
    "start_time": "2023-10-24T19:18:04.438Z"
   },
   {
    "duration": 203,
    "start_time": "2023-10-24T19:18:10.557Z"
   },
   {
    "duration": 1392,
    "start_time": "2023-10-24T19:22:20.119Z"
   },
   {
    "duration": 10,
    "start_time": "2023-10-24T19:22:40.396Z"
   },
   {
    "duration": 8,
    "start_time": "2023-10-24T19:23:33.562Z"
   },
   {
    "duration": 230,
    "start_time": "2023-10-24T19:23:37.309Z"
   },
   {
    "duration": 147,
    "start_time": "2023-10-24T19:29:58.265Z"
   },
   {
    "duration": 264,
    "start_time": "2023-10-24T19:30:11.976Z"
   },
   {
    "duration": 235,
    "start_time": "2023-10-24T19:31:44.005Z"
   },
   {
    "duration": 12,
    "start_time": "2023-10-24T19:42:40.892Z"
   },
   {
    "duration": 234,
    "start_time": "2023-10-24T19:44:44.099Z"
   },
   {
    "duration": 247,
    "start_time": "2023-10-24T19:44:51.021Z"
   },
   {
    "duration": 234,
    "start_time": "2023-10-24T19:45:19.378Z"
   },
   {
    "duration": 337,
    "start_time": "2023-10-24T19:45:42.027Z"
   },
   {
    "duration": 323,
    "start_time": "2023-10-24T19:45:53.580Z"
   },
   {
    "duration": 254,
    "start_time": "2023-10-24T19:45:58.107Z"
   },
   {
    "duration": 240,
    "start_time": "2023-10-24T19:47:28.883Z"
   },
   {
    "duration": 20,
    "start_time": "2023-10-24T20:02:47.823Z"
   },
   {
    "duration": 21,
    "start_time": "2023-10-24T20:03:04.515Z"
   },
   {
    "duration": 22,
    "start_time": "2023-10-24T20:03:24.596Z"
   },
   {
    "duration": 27,
    "start_time": "2023-10-24T20:06:01.634Z"
   },
   {
    "duration": 17,
    "start_time": "2023-10-24T20:07:03.105Z"
   },
   {
    "duration": 22,
    "start_time": "2023-10-24T20:09:47.079Z"
   },
   {
    "duration": 22,
    "start_time": "2023-10-24T20:09:50.543Z"
   },
   {
    "duration": 22,
    "start_time": "2023-10-24T20:10:48.593Z"
   },
   {
    "duration": 21,
    "start_time": "2023-10-24T20:11:11.366Z"
   },
   {
    "duration": 119,
    "start_time": "2023-10-24T20:11:21.627Z"
   },
   {
    "duration": 41,
    "start_time": "2023-10-24T20:11:33.656Z"
   },
   {
    "duration": 22,
    "start_time": "2023-10-24T20:11:44.451Z"
   },
   {
    "duration": 23,
    "start_time": "2023-10-24T20:11:53.647Z"
   },
   {
    "duration": 44,
    "start_time": "2023-10-24T20:18:04.810Z"
   },
   {
    "duration": 23,
    "start_time": "2023-10-24T20:18:32.056Z"
   },
   {
    "duration": 144,
    "start_time": "2023-10-24T20:23:42.984Z"
   },
   {
    "duration": 148,
    "start_time": "2023-10-24T20:23:55.969Z"
   },
   {
    "duration": 174,
    "start_time": "2023-10-24T20:24:59.095Z"
   },
   {
    "duration": 76,
    "start_time": "2023-10-24T20:25:24.842Z"
   },
   {
    "duration": 167,
    "start_time": "2023-10-24T20:25:30.062Z"
   },
   {
    "duration": 211,
    "start_time": "2023-10-24T20:26:03.096Z"
   },
   {
    "duration": 150,
    "start_time": "2023-10-24T20:26:31.249Z"
   },
   {
    "duration": 193,
    "start_time": "2023-10-24T20:26:45.969Z"
   },
   {
    "duration": 153,
    "start_time": "2023-10-24T20:26:58.227Z"
   },
   {
    "duration": 182,
    "start_time": "2023-10-24T20:28:04.673Z"
   },
   {
    "duration": 81,
    "start_time": "2023-10-24T20:29:19.073Z"
   },
   {
    "duration": 176,
    "start_time": "2023-10-24T20:29:57.859Z"
   },
   {
    "duration": 195,
    "start_time": "2023-10-24T20:30:38.298Z"
   },
   {
    "duration": 266,
    "start_time": "2023-10-24T20:30:47.776Z"
   },
   {
    "duration": 203,
    "start_time": "2023-10-24T20:30:58.697Z"
   },
   {
    "duration": 179,
    "start_time": "2023-10-24T20:31:04.425Z"
   },
   {
    "duration": 186,
    "start_time": "2023-10-24T20:31:59.592Z"
   },
   {
    "duration": 189,
    "start_time": "2023-10-24T20:37:19.216Z"
   },
   {
    "duration": 190,
    "start_time": "2023-10-24T20:38:53.240Z"
   },
   {
    "duration": 233,
    "start_time": "2023-10-24T20:43:22.062Z"
   },
   {
    "duration": 214,
    "start_time": "2023-10-24T20:44:27.128Z"
   },
   {
    "duration": 215,
    "start_time": "2023-10-24T20:44:56.406Z"
   },
   {
    "duration": 217,
    "start_time": "2023-10-24T20:46:04.929Z"
   },
   {
    "duration": 166,
    "start_time": "2023-10-24T20:46:26.111Z"
   },
   {
    "duration": 301,
    "start_time": "2023-10-24T20:46:33.400Z"
   },
   {
    "duration": 217,
    "start_time": "2023-10-24T20:46:47.280Z"
   },
   {
    "duration": 201,
    "start_time": "2023-10-24T20:48:04.358Z"
   },
   {
    "duration": 224,
    "start_time": "2023-10-24T20:48:55.295Z"
   },
   {
    "duration": 222,
    "start_time": "2023-10-24T20:49:04.023Z"
   },
   {
    "duration": 213,
    "start_time": "2023-10-24T20:50:00.975Z"
   },
   {
    "duration": 219,
    "start_time": "2023-10-24T20:50:11.098Z"
   },
   {
    "duration": 216,
    "start_time": "2023-10-24T20:53:02.813Z"
   },
   {
    "duration": 201,
    "start_time": "2023-10-24T20:54:40.701Z"
   },
   {
    "duration": 88,
    "start_time": "2023-10-24T20:55:16.852Z"
   },
   {
    "duration": 83,
    "start_time": "2023-10-24T20:55:27.859Z"
   },
   {
    "duration": 236,
    "start_time": "2023-10-24T20:55:33.363Z"
   },
   {
    "duration": 32,
    "start_time": "2023-10-24T20:57:05.715Z"
   },
   {
    "duration": 157,
    "start_time": "2023-10-24T20:57:15.351Z"
   },
   {
    "duration": 320,
    "start_time": "2023-10-24T20:57:32.013Z"
   },
   {
    "duration": 215,
    "start_time": "2023-10-24T20:57:46.532Z"
   },
   {
    "duration": 217,
    "start_time": "2023-10-24T20:57:52.868Z"
   },
   {
    "duration": 200,
    "start_time": "2023-10-24T20:57:56.869Z"
   },
   {
    "duration": 274,
    "start_time": "2023-10-24T20:58:55.218Z"
   },
   {
    "duration": 226,
    "start_time": "2023-10-24T20:59:13.036Z"
   },
   {
    "duration": 228,
    "start_time": "2023-10-24T21:00:25.865Z"
   },
   {
    "duration": 218,
    "start_time": "2023-10-24T21:01:19.118Z"
   },
   {
    "duration": 220,
    "start_time": "2023-10-24T21:01:28.845Z"
   },
   {
    "duration": 210,
    "start_time": "2023-10-24T21:01:43.325Z"
   },
   {
    "duration": 207,
    "start_time": "2023-10-24T21:02:26.211Z"
   },
   {
    "duration": 294,
    "start_time": "2023-10-24T21:02:40.589Z"
   },
   {
    "duration": 37,
    "start_time": "2023-10-24T21:03:31.381Z"
   },
   {
    "duration": 37,
    "start_time": "2023-10-24T21:03:55.899Z"
   },
   {
    "duration": 234,
    "start_time": "2023-10-24T21:07:18.978Z"
   },
   {
    "duration": 214,
    "start_time": "2023-10-24T21:07:35.409Z"
   },
   {
    "duration": 229,
    "start_time": "2023-10-24T21:08:20.528Z"
   },
   {
    "duration": 1350,
    "start_time": "2023-10-24T21:30:18.594Z"
   },
   {
    "duration": 18,
    "start_time": "2023-10-24T21:30:33.763Z"
   },
   {
    "duration": 29,
    "start_time": "2023-10-24T21:31:02.638Z"
   },
   {
    "duration": 29,
    "start_time": "2023-10-24T21:31:26.368Z"
   },
   {
    "duration": 29,
    "start_time": "2023-10-24T21:31:35.990Z"
   },
   {
    "duration": 31,
    "start_time": "2023-10-24T21:31:47.376Z"
   },
   {
    "duration": 1296,
    "start_time": "2023-10-24T21:44:42.613Z"
   },
   {
    "duration": 336,
    "start_time": "2023-10-24T21:45:47.146Z"
   },
   {
    "duration": 109,
    "start_time": "2023-10-24T21:47:13.733Z"
   },
   {
    "duration": 93,
    "start_time": "2023-10-24T21:47:18.621Z"
   },
   {
    "duration": 279,
    "start_time": "2023-10-24T21:47:31.421Z"
   },
   {
    "duration": 290,
    "start_time": "2023-10-24T21:47:52.587Z"
   },
   {
    "duration": 200,
    "start_time": "2023-10-24T21:48:55.989Z"
   },
   {
    "duration": 9,
    "start_time": "2023-10-24T21:49:19.013Z"
   },
   {
    "duration": 210,
    "start_time": "2023-10-24T21:49:24.876Z"
   },
   {
    "duration": 80,
    "start_time": "2023-10-24T21:53:42.622Z"
   },
   {
    "duration": 78,
    "start_time": "2023-10-24T21:53:58.935Z"
   },
   {
    "duration": 80,
    "start_time": "2023-10-24T21:54:06.245Z"
   },
   {
    "duration": 32,
    "start_time": "2023-10-24T21:54:36.958Z"
   },
   {
    "duration": 2,
    "start_time": "2023-10-24T21:56:23.796Z"
   },
   {
    "duration": 6,
    "start_time": "2023-10-24T21:56:45.494Z"
   },
   {
    "duration": 99,
    "start_time": "2023-10-24T22:05:14.272Z"
   },
   {
    "duration": 91,
    "start_time": "2023-10-24T22:06:00.589Z"
   },
   {
    "duration": 129,
    "start_time": "2023-10-24T22:06:30.393Z"
   },
   {
    "duration": 90,
    "start_time": "2023-10-24T22:07:13.772Z"
   },
   {
    "duration": 97,
    "start_time": "2023-10-24T22:07:26.498Z"
   },
   {
    "duration": 100,
    "start_time": "2023-10-24T22:07:36.693Z"
   },
   {
    "duration": 106,
    "start_time": "2023-10-24T22:09:02.922Z"
   },
   {
    "duration": 109,
    "start_time": "2023-10-24T22:10:04.686Z"
   },
   {
    "duration": 296,
    "start_time": "2023-10-24T22:10:53.405Z"
   },
   {
    "duration": 72,
    "start_time": "2023-10-24T22:11:36.771Z"
   },
   {
    "duration": 774,
    "start_time": "2023-10-24T22:12:04.337Z"
   },
   {
    "duration": 90,
    "start_time": "2023-10-24T22:12:05.113Z"
   },
   {
    "duration": 30,
    "start_time": "2023-10-24T22:12:05.205Z"
   },
   {
    "duration": 34,
    "start_time": "2023-10-24T22:12:05.238Z"
   },
   {
    "duration": 25,
    "start_time": "2023-10-24T22:12:05.277Z"
   },
   {
    "duration": 26,
    "start_time": "2023-10-24T22:12:05.304Z"
   },
   {
    "duration": 26,
    "start_time": "2023-10-24T22:12:05.332Z"
   },
   {
    "duration": 33,
    "start_time": "2023-10-24T22:12:05.365Z"
   },
   {
    "duration": 19,
    "start_time": "2023-10-24T22:12:05.400Z"
   },
   {
    "duration": 215,
    "start_time": "2023-10-24T22:12:05.422Z"
   },
   {
    "duration": 110,
    "start_time": "2023-10-24T22:12:05.639Z"
   },
   {
    "duration": 16,
    "start_time": "2023-10-24T22:12:05.752Z"
   },
   {
    "duration": 219,
    "start_time": "2023-10-24T22:12:05.769Z"
   },
   {
    "duration": 8,
    "start_time": "2023-10-24T22:12:05.991Z"
   },
   {
    "duration": 176,
    "start_time": "2023-10-24T22:12:06.001Z"
   },
   {
    "duration": 308,
    "start_time": "2023-10-24T22:12:06.179Z"
   },
   {
    "duration": 9,
    "start_time": "2023-10-24T22:12:06.489Z"
   },
   {
    "duration": 271,
    "start_time": "2023-10-24T22:12:06.499Z"
   },
   {
    "duration": 90,
    "start_time": "2023-10-24T22:12:06.775Z"
   },
   {
    "duration": 0,
    "start_time": "2023-10-24T22:12:06.867Z"
   },
   {
    "duration": 0,
    "start_time": "2023-10-24T22:12:06.868Z"
   },
   {
    "duration": 0,
    "start_time": "2023-10-24T22:12:06.869Z"
   },
   {
    "duration": 0,
    "start_time": "2023-10-24T22:12:06.869Z"
   },
   {
    "duration": 710,
    "start_time": "2023-10-24T22:12:55.392Z"
   },
   {
    "duration": 82,
    "start_time": "2023-10-24T22:12:56.104Z"
   },
   {
    "duration": 22,
    "start_time": "2023-10-24T22:12:56.188Z"
   },
   {
    "duration": 18,
    "start_time": "2023-10-24T22:12:56.212Z"
   },
   {
    "duration": 37,
    "start_time": "2023-10-24T22:12:56.232Z"
   },
   {
    "duration": 15,
    "start_time": "2023-10-24T22:12:56.275Z"
   },
   {
    "duration": 5,
    "start_time": "2023-10-24T22:12:56.292Z"
   },
   {
    "duration": 22,
    "start_time": "2023-10-24T22:12:56.299Z"
   },
   {
    "duration": 17,
    "start_time": "2023-10-24T22:12:56.322Z"
   },
   {
    "duration": 200,
    "start_time": "2023-10-24T22:12:56.343Z"
   },
   {
    "duration": 114,
    "start_time": "2023-10-24T22:12:56.546Z"
   },
   {
    "duration": 12,
    "start_time": "2023-10-24T22:12:56.663Z"
   },
   {
    "duration": 235,
    "start_time": "2023-10-24T22:12:56.676Z"
   },
   {
    "duration": 9,
    "start_time": "2023-10-24T22:12:56.913Z"
   },
   {
    "duration": 156,
    "start_time": "2023-10-24T22:12:56.923Z"
   },
   {
    "duration": 318,
    "start_time": "2023-10-24T22:12:57.082Z"
   },
   {
    "duration": 9,
    "start_time": "2023-10-24T22:12:57.402Z"
   },
   {
    "duration": 258,
    "start_time": "2023-10-24T22:12:57.412Z"
   },
   {
    "duration": 82,
    "start_time": "2023-10-24T22:12:57.672Z"
   },
   {
    "duration": 0,
    "start_time": "2023-10-24T22:12:57.756Z"
   },
   {
    "duration": 0,
    "start_time": "2023-10-24T22:12:57.757Z"
   },
   {
    "duration": 0,
    "start_time": "2023-10-24T22:12:57.758Z"
   },
   {
    "duration": 0,
    "start_time": "2023-10-24T22:12:57.759Z"
   },
   {
    "duration": 24,
    "start_time": "2023-10-24T22:14:22.414Z"
   },
   {
    "duration": 750,
    "start_time": "2023-10-24T22:14:33.474Z"
   },
   {
    "duration": 89,
    "start_time": "2023-10-24T22:14:34.226Z"
   },
   {
    "duration": 23,
    "start_time": "2023-10-24T22:14:34.317Z"
   },
   {
    "duration": 36,
    "start_time": "2023-10-24T22:14:34.341Z"
   },
   {
    "duration": 17,
    "start_time": "2023-10-24T22:14:34.379Z"
   },
   {
    "duration": 27,
    "start_time": "2023-10-24T22:14:34.398Z"
   },
   {
    "duration": 5,
    "start_time": "2023-10-24T22:14:34.427Z"
   },
   {
    "duration": 35,
    "start_time": "2023-10-24T22:14:34.434Z"
   },
   {
    "duration": 17,
    "start_time": "2023-10-24T22:14:34.470Z"
   },
   {
    "duration": 212,
    "start_time": "2023-10-24T22:14:34.489Z"
   },
   {
    "duration": 107,
    "start_time": "2023-10-24T22:14:34.703Z"
   },
   {
    "duration": 9,
    "start_time": "2023-10-24T22:14:34.812Z"
   },
   {
    "duration": 248,
    "start_time": "2023-10-24T22:14:34.823Z"
   },
   {
    "duration": 9,
    "start_time": "2023-10-24T22:14:35.081Z"
   },
   {
    "duration": 167,
    "start_time": "2023-10-24T22:14:35.092Z"
   },
   {
    "duration": 354,
    "start_time": "2023-10-24T22:14:35.270Z"
   },
   {
    "duration": 9,
    "start_time": "2023-10-24T22:14:35.626Z"
   },
   {
    "duration": 277,
    "start_time": "2023-10-24T22:14:35.636Z"
   },
   {
    "duration": 39,
    "start_time": "2023-10-24T22:14:35.915Z"
   },
   {
    "duration": 248,
    "start_time": "2023-10-24T22:14:35.961Z"
   },
   {
    "duration": 233,
    "start_time": "2023-10-24T22:14:36.211Z"
   },
   {
    "duration": 38,
    "start_time": "2023-10-24T22:14:36.447Z"
   },
   {
    "duration": 98,
    "start_time": "2023-10-24T22:14:36.487Z"
   },
   {
    "duration": 64,
    "start_time": "2023-10-24T22:15:39.933Z"
   },
   {
    "duration": 72,
    "start_time": "2023-10-24T22:16:12.109Z"
   },
   {
    "duration": 94,
    "start_time": "2023-10-24T22:21:05.946Z"
   },
   {
    "duration": 62,
    "start_time": "2023-10-24T22:21:27.443Z"
   },
   {
    "duration": 61,
    "start_time": "2023-10-24T22:21:51.131Z"
   },
   {
    "duration": 65,
    "start_time": "2023-10-24T22:21:59.634Z"
   },
   {
    "duration": 56,
    "start_time": "2023-10-24T22:22:03.568Z"
   },
   {
    "duration": 65,
    "start_time": "2023-10-24T22:22:07.077Z"
   },
   {
    "duration": 56,
    "start_time": "2023-10-24T22:22:48.366Z"
   },
   {
    "duration": 54,
    "start_time": "2023-10-24T22:23:56.581Z"
   },
   {
    "duration": 526,
    "start_time": "2023-10-24T22:28:44.701Z"
   },
   {
    "duration": 96,
    "start_time": "2023-10-24T22:29:05.401Z"
   },
   {
    "duration": 68,
    "start_time": "2023-10-24T22:29:10.912Z"
   },
   {
    "duration": 397,
    "start_time": "2023-10-24T22:29:34.280Z"
   },
   {
    "duration": 51,
    "start_time": "2023-10-24T22:30:06.384Z"
   },
   {
    "duration": 3,
    "start_time": "2023-10-24T22:31:06.936Z"
   },
   {
    "duration": 51,
    "start_time": "2023-10-24T22:31:43.690Z"
   },
   {
    "duration": 58,
    "start_time": "2023-10-24T22:36:36.371Z"
   },
   {
    "duration": 880,
    "start_time": "2023-10-25T17:43:36.753Z"
   },
   {
    "duration": 319,
    "start_time": "2023-10-25T17:43:37.636Z"
   },
   {
    "duration": 22,
    "start_time": "2023-10-25T17:43:37.957Z"
   },
   {
    "duration": 22,
    "start_time": "2023-10-25T17:43:37.981Z"
   },
   {
    "duration": 17,
    "start_time": "2023-10-25T17:43:38.005Z"
   },
   {
    "duration": 16,
    "start_time": "2023-10-25T17:43:38.045Z"
   },
   {
    "duration": 12,
    "start_time": "2023-10-25T17:43:38.062Z"
   },
   {
    "duration": 21,
    "start_time": "2023-10-25T17:43:38.077Z"
   },
   {
    "duration": 10,
    "start_time": "2023-10-25T17:43:38.099Z"
   },
   {
    "duration": 221,
    "start_time": "2023-10-25T17:43:38.112Z"
   },
   {
    "duration": 98,
    "start_time": "2023-10-25T17:43:38.335Z"
   },
   {
    "duration": 15,
    "start_time": "2023-10-25T17:43:38.435Z"
   },
   {
    "duration": 227,
    "start_time": "2023-10-25T17:43:38.452Z"
   },
   {
    "duration": 9,
    "start_time": "2023-10-25T17:43:38.682Z"
   },
   {
    "duration": 145,
    "start_time": "2023-10-25T17:43:38.693Z"
   },
   {
    "duration": 355,
    "start_time": "2023-10-25T17:43:38.840Z"
   },
   {
    "duration": 9,
    "start_time": "2023-10-25T17:43:39.197Z"
   },
   {
    "duration": 228,
    "start_time": "2023-10-25T17:43:39.207Z"
   },
   {
    "duration": 27,
    "start_time": "2023-10-25T17:43:39.437Z"
   },
   {
    "duration": 213,
    "start_time": "2023-10-25T17:43:39.474Z"
   },
   {
    "duration": 221,
    "start_time": "2023-10-25T17:43:39.689Z"
   },
   {
    "duration": 41,
    "start_time": "2023-10-25T17:43:39.912Z"
   },
   {
    "duration": 58,
    "start_time": "2023-10-25T17:43:39.954Z"
   },
   {
    "duration": 424,
    "start_time": "2023-10-25T18:13:11.955Z"
   },
   {
    "duration": 7,
    "start_time": "2023-10-25T18:19:20.751Z"
   },
   {
    "duration": 127,
    "start_time": "2023-10-25T18:25:00.104Z"
   },
   {
    "duration": 6,
    "start_time": "2023-10-25T18:25:12.601Z"
   },
   {
    "duration": 7,
    "start_time": "2023-10-25T18:25:58.984Z"
   },
   {
    "duration": 6,
    "start_time": "2023-10-25T18:26:08.291Z"
   },
   {
    "duration": 7,
    "start_time": "2023-10-25T18:33:42.097Z"
   },
   {
    "duration": 5,
    "start_time": "2023-10-25T18:33:51.543Z"
   },
   {
    "duration": 6,
    "start_time": "2023-10-25T18:33:59.007Z"
   },
   {
    "duration": 5,
    "start_time": "2023-10-25T18:34:04.591Z"
   },
   {
    "duration": 7,
    "start_time": "2023-10-25T18:36:16.031Z"
   },
   {
    "duration": 6,
    "start_time": "2023-10-25T18:36:37.809Z"
   },
   {
    "duration": 6,
    "start_time": "2023-10-25T18:37:00.856Z"
   },
   {
    "duration": 136,
    "start_time": "2023-10-25T18:45:50.991Z"
   },
   {
    "duration": 6,
    "start_time": "2023-10-25T18:51:09.194Z"
   },
   {
    "duration": 5,
    "start_time": "2023-10-25T18:51:56.847Z"
   },
   {
    "duration": 10,
    "start_time": "2023-10-25T19:07:43.696Z"
   },
   {
    "duration": 5,
    "start_time": "2023-10-25T19:08:53.306Z"
   },
   {
    "duration": 7,
    "start_time": "2023-10-25T19:10:02.311Z"
   },
   {
    "duration": 107,
    "start_time": "2023-10-25T19:13:08.511Z"
   },
   {
    "duration": 1153,
    "start_time": "2023-10-25T19:13:42.843Z"
   },
   {
    "duration": 69,
    "start_time": "2023-10-25T19:13:43.997Z"
   },
   {
    "duration": 20,
    "start_time": "2023-10-25T19:13:44.068Z"
   },
   {
    "duration": 17,
    "start_time": "2023-10-25T19:13:44.090Z"
   },
   {
    "duration": 15,
    "start_time": "2023-10-25T19:13:44.109Z"
   },
   {
    "duration": 33,
    "start_time": "2023-10-25T19:13:44.126Z"
   },
   {
    "duration": 5,
    "start_time": "2023-10-25T19:13:44.161Z"
   },
   {
    "duration": 13,
    "start_time": "2023-10-25T19:13:44.168Z"
   },
   {
    "duration": 8,
    "start_time": "2023-10-25T19:13:44.183Z"
   },
   {
    "duration": 196,
    "start_time": "2023-10-25T19:13:44.193Z"
   },
   {
    "duration": 87,
    "start_time": "2023-10-25T19:13:44.391Z"
   },
   {
    "duration": 7,
    "start_time": "2023-10-25T19:13:44.479Z"
   },
   {
    "duration": 188,
    "start_time": "2023-10-25T19:13:44.488Z"
   },
   {
    "duration": 8,
    "start_time": "2023-10-25T19:13:44.678Z"
   },
   {
    "duration": 130,
    "start_time": "2023-10-25T19:13:44.688Z"
   },
   {
    "duration": 218,
    "start_time": "2023-10-25T19:13:44.819Z"
   },
   {
    "duration": 8,
    "start_time": "2023-10-25T19:13:45.038Z"
   },
   {
    "duration": 252,
    "start_time": "2023-10-25T19:13:45.047Z"
   },
   {
    "duration": 25,
    "start_time": "2023-10-25T19:13:45.301Z"
   },
   {
    "duration": 203,
    "start_time": "2023-10-25T19:13:45.327Z"
   },
   {
    "duration": 281,
    "start_time": "2023-10-25T19:13:45.532Z"
   },
   {
    "duration": 35,
    "start_time": "2023-10-25T19:13:45.815Z"
   },
   {
    "duration": 53,
    "start_time": "2023-10-25T19:13:45.852Z"
   },
   {
    "duration": 6,
    "start_time": "2023-10-25T19:13:45.907Z"
   },
   {
    "duration": 35,
    "start_time": "2023-10-25T19:13:45.915Z"
   },
   {
    "duration": 114,
    "start_time": "2023-10-25T19:13:45.952Z"
   },
   {
    "duration": 9,
    "start_time": "2023-10-25T19:15:48.288Z"
   },
   {
    "duration": 9,
    "start_time": "2023-10-25T19:17:32.356Z"
   },
   {
    "duration": 9,
    "start_time": "2023-10-25T19:17:46.220Z"
   },
   {
    "duration": 6,
    "start_time": "2023-10-25T19:30:14.326Z"
   },
   {
    "duration": 1188,
    "start_time": "2023-10-25T20:23:54.147Z"
   },
   {
    "duration": 71,
    "start_time": "2023-10-25T20:23:55.337Z"
   },
   {
    "duration": 24,
    "start_time": "2023-10-25T20:23:55.410Z"
   },
   {
    "duration": 19,
    "start_time": "2023-10-25T20:23:55.436Z"
   },
   {
    "duration": 16,
    "start_time": "2023-10-25T20:23:55.457Z"
   },
   {
    "duration": 18,
    "start_time": "2023-10-25T20:23:55.474Z"
   },
   {
    "duration": 5,
    "start_time": "2023-10-25T20:23:55.494Z"
   },
   {
    "duration": 45,
    "start_time": "2023-10-25T20:23:55.501Z"
   },
   {
    "duration": 19,
    "start_time": "2023-10-25T20:23:55.548Z"
   },
   {
    "duration": 177,
    "start_time": "2023-10-25T20:23:55.570Z"
   },
   {
    "duration": 105,
    "start_time": "2023-10-25T20:23:55.749Z"
   },
   {
    "duration": 9,
    "start_time": "2023-10-25T20:23:55.856Z"
   },
   {
    "duration": 204,
    "start_time": "2023-10-25T20:23:55.867Z"
   },
   {
    "duration": 10,
    "start_time": "2023-10-25T20:23:56.073Z"
   },
   {
    "duration": 133,
    "start_time": "2023-10-25T20:23:56.085Z"
   },
   {
    "duration": 228,
    "start_time": "2023-10-25T20:23:56.220Z"
   },
   {
    "duration": 9,
    "start_time": "2023-10-25T20:23:56.450Z"
   },
   {
    "duration": 220,
    "start_time": "2023-10-25T20:23:56.461Z"
   },
   {
    "duration": 22,
    "start_time": "2023-10-25T20:23:56.683Z"
   },
   {
    "duration": 210,
    "start_time": "2023-10-25T20:23:56.706Z"
   },
   {
    "duration": 283,
    "start_time": "2023-10-25T20:23:56.918Z"
   },
   {
    "duration": 28,
    "start_time": "2023-10-25T20:23:57.202Z"
   },
   {
    "duration": 68,
    "start_time": "2023-10-25T20:23:57.231Z"
   },
   {
    "duration": 6,
    "start_time": "2023-10-25T20:23:57.301Z"
   },
   {
    "duration": 5,
    "start_time": "2023-10-25T20:23:57.309Z"
   },
   {
    "duration": 31,
    "start_time": "2023-10-25T20:23:57.315Z"
   },
   {
    "duration": 3,
    "start_time": "2023-10-25T20:23:57.348Z"
   },
   {
    "duration": 3,
    "start_time": "2023-10-25T20:29:46.001Z"
   },
   {
    "duration": 4,
    "start_time": "2023-10-25T20:40:51.795Z"
   },
   {
    "duration": 1513,
    "start_time": "2023-10-25T20:52:42.911Z"
   },
   {
    "duration": 759,
    "start_time": "2023-10-25T20:56:29.779Z"
   },
   {
    "duration": 115,
    "start_time": "2023-10-25T20:56:53.256Z"
   },
   {
    "duration": 1559,
    "start_time": "2023-10-25T20:57:34.283Z"
   },
   {
    "duration": 367,
    "start_time": "2023-10-25T20:57:55.335Z"
   },
   {
    "duration": 3013,
    "start_time": "2023-10-26T17:22:54.028Z"
   },
   {
    "duration": 236,
    "start_time": "2023-10-26T17:22:57.044Z"
   },
   {
    "duration": 26,
    "start_time": "2023-10-26T17:22:57.282Z"
   },
   {
    "duration": 19,
    "start_time": "2023-10-26T17:22:57.310Z"
   },
   {
    "duration": 21,
    "start_time": "2023-10-26T17:22:57.332Z"
   },
   {
    "duration": 21,
    "start_time": "2023-10-26T17:22:57.360Z"
   },
   {
    "duration": 7,
    "start_time": "2023-10-26T17:22:57.384Z"
   },
   {
    "duration": 37,
    "start_time": "2023-10-26T17:22:57.392Z"
   },
   {
    "duration": 13,
    "start_time": "2023-10-26T17:22:57.444Z"
   },
   {
    "duration": 267,
    "start_time": "2023-10-26T17:22:57.460Z"
   },
   {
    "duration": 107,
    "start_time": "2023-10-26T17:22:57.729Z"
   },
   {
    "duration": 23,
    "start_time": "2023-10-26T17:22:57.838Z"
   },
   {
    "duration": 217,
    "start_time": "2023-10-26T17:22:57.864Z"
   },
   {
    "duration": 8,
    "start_time": "2023-10-26T17:22:58.083Z"
   },
   {
    "duration": 141,
    "start_time": "2023-10-26T17:22:58.093Z"
   },
   {
    "duration": 262,
    "start_time": "2023-10-26T17:22:58.236Z"
   },
   {
    "duration": 9,
    "start_time": "2023-10-26T17:22:58.499Z"
   },
   {
    "duration": 263,
    "start_time": "2023-10-26T17:22:58.509Z"
   },
   {
    "duration": 34,
    "start_time": "2023-10-26T17:22:58.774Z"
   },
   {
    "duration": 249,
    "start_time": "2023-10-26T17:22:58.811Z"
   },
   {
    "duration": 289,
    "start_time": "2023-10-26T17:22:59.066Z"
   },
   {
    "duration": 30,
    "start_time": "2023-10-26T17:22:59.360Z"
   },
   {
    "duration": 72,
    "start_time": "2023-10-26T17:22:59.392Z"
   },
   {
    "duration": 6,
    "start_time": "2023-10-26T17:22:59.466Z"
   },
   {
    "duration": 13,
    "start_time": "2023-10-26T17:22:59.474Z"
   },
   {
    "duration": 28,
    "start_time": "2023-10-26T17:22:59.489Z"
   },
   {
    "duration": 408,
    "start_time": "2023-10-26T17:22:59.519Z"
   },
   {
    "duration": 1678,
    "start_time": "2023-10-26T17:22:59.931Z"
   },
   {
    "duration": 187,
    "start_time": "2023-10-26T17:29:41.146Z"
   },
   {
    "duration": 76,
    "start_time": "2023-10-26T17:29:58.052Z"
   },
   {
    "duration": 9,
    "start_time": "2023-10-26T17:30:14.493Z"
   },
   {
    "duration": 8,
    "start_time": "2023-10-26T17:30:56.752Z"
   },
   {
    "duration": 7,
    "start_time": "2023-10-26T17:32:25.796Z"
   },
   {
    "duration": 439,
    "start_time": "2023-10-26T17:41:59.960Z"
   },
   {
    "duration": 9,
    "start_time": "2023-10-26T17:47:28.960Z"
   },
   {
    "duration": 13,
    "start_time": "2023-10-26T17:47:32.658Z"
   },
   {
    "duration": 2,
    "start_time": "2023-10-26T17:48:16.215Z"
   },
   {
    "duration": 1780,
    "start_time": "2023-10-26T17:48:23.889Z"
   },
   {
    "duration": 1950,
    "start_time": "2023-10-26T17:48:35.681Z"
   },
   {
    "duration": 445,
    "start_time": "2023-10-26T18:03:10.932Z"
   },
   {
    "duration": 387,
    "start_time": "2023-10-26T18:03:36.997Z"
   },
   {
    "duration": 2024,
    "start_time": "2023-10-26T18:04:09.502Z"
   },
   {
    "duration": 349,
    "start_time": "2023-10-26T18:04:31.486Z"
   },
   {
    "duration": 1476,
    "start_time": "2023-10-26T18:04:42.302Z"
   },
   {
    "duration": 2315,
    "start_time": "2023-10-26T18:05:02.560Z"
   },
   {
    "duration": 1905,
    "start_time": "2023-10-26T18:05:14.598Z"
   },
   {
    "duration": 1898,
    "start_time": "2023-10-26T18:05:45.077Z"
   },
   {
    "duration": 1636,
    "start_time": "2023-10-26T18:06:23.363Z"
   },
   {
    "duration": 2262,
    "start_time": "2023-10-26T18:11:08.405Z"
   },
   {
    "duration": 2079,
    "start_time": "2023-10-26T18:11:37.556Z"
   },
   {
    "duration": 2211,
    "start_time": "2023-10-26T18:11:55.356Z"
   },
   {
    "duration": 1704,
    "start_time": "2023-10-26T18:12:10.668Z"
   },
   {
    "duration": 2233,
    "start_time": "2023-10-26T18:17:05.656Z"
   },
   {
    "duration": 1748,
    "start_time": "2023-10-26T18:17:28.715Z"
   },
   {
    "duration": 2477,
    "start_time": "2023-10-26T18:20:13.591Z"
   },
   {
    "duration": 2334,
    "start_time": "2023-10-26T18:20:21.867Z"
   },
   {
    "duration": 2490,
    "start_time": "2023-10-26T18:20:32.926Z"
   },
   {
    "duration": 1829,
    "start_time": "2023-10-26T18:20:59.860Z"
   },
   {
    "duration": 2410,
    "start_time": "2023-10-26T18:22:51.200Z"
   },
   {
    "duration": 2375,
    "start_time": "2023-10-26T18:23:02.141Z"
   },
   {
    "duration": 1731,
    "start_time": "2023-10-26T18:24:06.179Z"
   },
   {
    "duration": 374,
    "start_time": "2023-10-26T18:24:44.547Z"
   },
   {
    "duration": 2409,
    "start_time": "2023-10-26T18:25:04.220Z"
   },
   {
    "duration": 2278,
    "start_time": "2023-10-26T18:25:29.699Z"
   },
   {
    "duration": 1521,
    "start_time": "2023-10-26T18:25:47.971Z"
   },
   {
    "duration": 1185,
    "start_time": "2023-10-26T18:26:03.309Z"
   },
   {
    "duration": 199,
    "start_time": "2023-10-26T18:26:04.497Z"
   },
   {
    "duration": 37,
    "start_time": "2023-10-26T18:26:04.698Z"
   },
   {
    "duration": 35,
    "start_time": "2023-10-26T18:26:04.737Z"
   },
   {
    "duration": 20,
    "start_time": "2023-10-26T18:26:04.774Z"
   },
   {
    "duration": 23,
    "start_time": "2023-10-26T18:26:04.796Z"
   },
   {
    "duration": 5,
    "start_time": "2023-10-26T18:26:04.821Z"
   },
   {
    "duration": 16,
    "start_time": "2023-10-26T18:26:04.847Z"
   },
   {
    "duration": 9,
    "start_time": "2023-10-26T18:26:04.865Z"
   },
   {
    "duration": 200,
    "start_time": "2023-10-26T18:26:04.876Z"
   },
   {
    "duration": 99,
    "start_time": "2023-10-26T18:26:05.078Z"
   },
   {
    "duration": 7,
    "start_time": "2023-10-26T18:26:05.179Z"
   },
   {
    "duration": 194,
    "start_time": "2023-10-26T18:26:05.188Z"
   },
   {
    "duration": 8,
    "start_time": "2023-10-26T18:26:05.385Z"
   },
   {
    "duration": 128,
    "start_time": "2023-10-26T18:26:05.394Z"
   },
   {
    "duration": 236,
    "start_time": "2023-10-26T18:26:05.524Z"
   },
   {
    "duration": 8,
    "start_time": "2023-10-26T18:26:05.762Z"
   },
   {
    "duration": 220,
    "start_time": "2023-10-26T18:26:05.772Z"
   },
   {
    "duration": 21,
    "start_time": "2023-10-26T18:26:05.994Z"
   },
   {
    "duration": 215,
    "start_time": "2023-10-26T18:26:06.017Z"
   },
   {
    "duration": 293,
    "start_time": "2023-10-26T18:26:06.234Z"
   },
   {
    "duration": 37,
    "start_time": "2023-10-26T18:26:06.529Z"
   },
   {
    "duration": 50,
    "start_time": "2023-10-26T18:26:06.567Z"
   },
   {
    "duration": 7,
    "start_time": "2023-10-26T18:26:06.618Z"
   },
   {
    "duration": 29,
    "start_time": "2023-10-26T18:26:06.626Z"
   },
   {
    "duration": 11,
    "start_time": "2023-10-26T18:26:06.657Z"
   },
   {
    "duration": 1597,
    "start_time": "2023-10-26T18:26:06.670Z"
   },
   {
    "duration": 1909,
    "start_time": "2023-10-26T18:26:08.269Z"
   },
   {
    "duration": 3,
    "start_time": "2023-10-26T18:29:07.811Z"
   },
   {
    "duration": 1154,
    "start_time": "2023-10-26T18:29:12.942Z"
   },
   {
    "duration": 75,
    "start_time": "2023-10-26T18:29:14.098Z"
   },
   {
    "duration": 22,
    "start_time": "2023-10-26T18:29:14.175Z"
   },
   {
    "duration": 18,
    "start_time": "2023-10-26T18:29:14.199Z"
   },
   {
    "duration": 34,
    "start_time": "2023-10-26T18:29:14.219Z"
   },
   {
    "duration": 19,
    "start_time": "2023-10-26T18:29:14.254Z"
   },
   {
    "duration": 11,
    "start_time": "2023-10-26T18:29:14.274Z"
   },
   {
    "duration": 15,
    "start_time": "2023-10-26T18:29:14.287Z"
   },
   {
    "duration": 9,
    "start_time": "2023-10-26T18:29:14.304Z"
   },
   {
    "duration": 241,
    "start_time": "2023-10-26T18:29:14.315Z"
   },
   {
    "duration": 118,
    "start_time": "2023-10-26T18:29:14.558Z"
   },
   {
    "duration": 11,
    "start_time": "2023-10-26T18:29:14.679Z"
   },
   {
    "duration": 247,
    "start_time": "2023-10-26T18:29:14.692Z"
   },
   {
    "duration": 13,
    "start_time": "2023-10-26T18:29:14.947Z"
   },
   {
    "duration": 150,
    "start_time": "2023-10-26T18:29:14.963Z"
   },
   {
    "duration": 222,
    "start_time": "2023-10-26T18:29:15.114Z"
   },
   {
    "duration": 18,
    "start_time": "2023-10-26T18:29:15.338Z"
   },
   {
    "duration": 226,
    "start_time": "2023-10-26T18:29:15.358Z"
   },
   {
    "duration": 21,
    "start_time": "2023-10-26T18:29:15.586Z"
   },
   {
    "duration": 202,
    "start_time": "2023-10-26T18:29:15.609Z"
   },
   {
    "duration": 283,
    "start_time": "2023-10-26T18:29:15.813Z"
   },
   {
    "duration": 26,
    "start_time": "2023-10-26T18:29:16.097Z"
   },
   {
    "duration": 72,
    "start_time": "2023-10-26T18:29:16.125Z"
   },
   {
    "duration": 7,
    "start_time": "2023-10-26T18:29:16.199Z"
   },
   {
    "duration": 24,
    "start_time": "2023-10-26T18:29:16.208Z"
   },
   {
    "duration": 25,
    "start_time": "2023-10-26T18:29:16.234Z"
   },
   {
    "duration": 1626,
    "start_time": "2023-10-26T18:29:16.261Z"
   },
   {
    "duration": 1991,
    "start_time": "2023-10-26T18:29:17.888Z"
   },
   {
    "duration": 1798,
    "start_time": "2023-10-26T18:30:51.767Z"
   },
   {
    "duration": 1665,
    "start_time": "2023-10-26T18:31:34.629Z"
   },
   {
    "duration": 1798,
    "start_time": "2023-10-26T18:31:43.898Z"
   },
   {
    "duration": 1924,
    "start_time": "2023-10-26T18:32:07.165Z"
   },
   {
    "duration": 1160,
    "start_time": "2023-10-26T18:32:35.459Z"
   },
   {
    "duration": 75,
    "start_time": "2023-10-26T18:32:36.621Z"
   },
   {
    "duration": 25,
    "start_time": "2023-10-26T18:32:36.700Z"
   },
   {
    "duration": 36,
    "start_time": "2023-10-26T18:32:36.728Z"
   },
   {
    "duration": 43,
    "start_time": "2023-10-26T18:32:36.765Z"
   },
   {
    "duration": 27,
    "start_time": "2023-10-26T18:32:36.810Z"
   },
   {
    "duration": 25,
    "start_time": "2023-10-26T18:32:36.838Z"
   },
   {
    "duration": 40,
    "start_time": "2023-10-26T18:32:36.865Z"
   },
   {
    "duration": 22,
    "start_time": "2023-10-26T18:32:36.908Z"
   },
   {
    "duration": 230,
    "start_time": "2023-10-26T18:32:36.931Z"
   },
   {
    "duration": 117,
    "start_time": "2023-10-26T18:32:37.163Z"
   },
   {
    "duration": 9,
    "start_time": "2023-10-26T18:32:37.283Z"
   },
   {
    "duration": 214,
    "start_time": "2023-10-26T18:32:37.296Z"
   },
   {
    "duration": 8,
    "start_time": "2023-10-26T18:32:37.512Z"
   },
   {
    "duration": 163,
    "start_time": "2023-10-26T18:32:37.522Z"
   },
   {
    "duration": 220,
    "start_time": "2023-10-26T18:32:37.686Z"
   },
   {
    "duration": 9,
    "start_time": "2023-10-26T18:32:37.907Z"
   },
   {
    "duration": 228,
    "start_time": "2023-10-26T18:32:37.917Z"
   },
   {
    "duration": 25,
    "start_time": "2023-10-26T18:32:38.149Z"
   },
   {
    "duration": 207,
    "start_time": "2023-10-26T18:32:38.176Z"
   },
   {
    "duration": 281,
    "start_time": "2023-10-26T18:32:38.385Z"
   },
   {
    "duration": 28,
    "start_time": "2023-10-26T18:32:38.668Z"
   },
   {
    "duration": 78,
    "start_time": "2023-10-26T18:32:38.698Z"
   },
   {
    "duration": 8,
    "start_time": "2023-10-26T18:32:38.778Z"
   },
   {
    "duration": 15,
    "start_time": "2023-10-26T18:32:38.788Z"
   },
   {
    "duration": 23,
    "start_time": "2023-10-26T18:32:38.804Z"
   },
   {
    "duration": 1666,
    "start_time": "2023-10-26T18:32:38.829Z"
   },
   {
    "duration": 2014,
    "start_time": "2023-10-26T18:32:40.497Z"
   },
   {
    "duration": 1711,
    "start_time": "2023-10-26T18:33:55.306Z"
   },
   {
    "duration": 7,
    "start_time": "2023-10-26T18:53:36.062Z"
   },
   {
    "duration": 7,
    "start_time": "2023-10-26T18:53:49.513Z"
   },
   {
    "duration": 5,
    "start_time": "2023-10-26T18:53:59.177Z"
   },
   {
    "duration": 5,
    "start_time": "2023-10-26T18:54:12.674Z"
   },
   {
    "duration": 5,
    "start_time": "2023-10-26T18:54:23.968Z"
   },
   {
    "duration": 6,
    "start_time": "2023-10-26T18:55:42.127Z"
   },
   {
    "duration": 6,
    "start_time": "2023-10-26T18:55:50.463Z"
   },
   {
    "duration": 6,
    "start_time": "2023-10-26T18:58:25.991Z"
   },
   {
    "duration": 6,
    "start_time": "2023-10-26T18:58:31.967Z"
   },
   {
    "duration": 5,
    "start_time": "2023-10-26T18:58:36.695Z"
   },
   {
    "duration": 5,
    "start_time": "2023-10-26T18:58:45.956Z"
   },
   {
    "duration": 5,
    "start_time": "2023-10-26T18:58:52.582Z"
   },
   {
    "duration": 5,
    "start_time": "2023-10-26T18:58:59.239Z"
   },
   {
    "duration": 7,
    "start_time": "2023-10-26T18:59:04.503Z"
   },
   {
    "duration": 6,
    "start_time": "2023-10-26T18:59:08.111Z"
   },
   {
    "duration": 5,
    "start_time": "2023-10-26T18:59:12.489Z"
   },
   {
    "duration": 6,
    "start_time": "2023-10-26T18:59:16.616Z"
   },
   {
    "duration": 11,
    "start_time": "2023-10-26T18:59:19.659Z"
   },
   {
    "duration": 5,
    "start_time": "2023-10-26T18:59:22.927Z"
   },
   {
    "duration": 6,
    "start_time": "2023-10-26T18:59:27.997Z"
   },
   {
    "duration": 5,
    "start_time": "2023-10-26T18:59:33.021Z"
   },
   {
    "duration": 6,
    "start_time": "2023-10-26T18:59:41.958Z"
   },
   {
    "duration": 6,
    "start_time": "2023-10-26T18:59:45.625Z"
   },
   {
    "duration": 5,
    "start_time": "2023-10-26T18:59:49.263Z"
   },
   {
    "duration": 6,
    "start_time": "2023-10-26T18:59:54.359Z"
   },
   {
    "duration": 5,
    "start_time": "2023-10-26T18:59:59.456Z"
   },
   {
    "duration": 5,
    "start_time": "2023-10-26T19:00:03.607Z"
   },
   {
    "duration": 5,
    "start_time": "2023-10-26T19:00:07.110Z"
   },
   {
    "duration": 6,
    "start_time": "2023-10-26T19:00:10.061Z"
   },
   {
    "duration": 6,
    "start_time": "2023-10-26T19:00:13.309Z"
   },
   {
    "duration": 12,
    "start_time": "2023-10-26T19:00:17.438Z"
   },
   {
    "duration": 6,
    "start_time": "2023-10-26T19:00:21.055Z"
   },
   {
    "duration": 325,
    "start_time": "2023-10-26T19:02:00.460Z"
   },
   {
    "duration": 6,
    "start_time": "2023-10-26T19:10:30.539Z"
   },
   {
    "duration": 3,
    "start_time": "2023-10-26T19:13:27.835Z"
   },
   {
    "duration": 1137,
    "start_time": "2023-10-26T19:20:12.808Z"
   },
   {
    "duration": 67,
    "start_time": "2023-10-26T19:20:13.948Z"
   },
   {
    "duration": 22,
    "start_time": "2023-10-26T19:20:14.016Z"
   },
   {
    "duration": 16,
    "start_time": "2023-10-26T19:20:14.040Z"
   },
   {
    "duration": 51,
    "start_time": "2023-10-26T19:20:14.058Z"
   },
   {
    "duration": 34,
    "start_time": "2023-10-26T19:20:14.111Z"
   },
   {
    "duration": 10,
    "start_time": "2023-10-26T19:20:14.147Z"
   },
   {
    "duration": 21,
    "start_time": "2023-10-26T19:20:14.159Z"
   },
   {
    "duration": 13,
    "start_time": "2023-10-26T19:20:14.182Z"
   },
   {
    "duration": 173,
    "start_time": "2023-10-26T19:20:14.197Z"
   },
   {
    "duration": 120,
    "start_time": "2023-10-26T19:20:14.371Z"
   },
   {
    "duration": 10,
    "start_time": "2023-10-26T19:20:14.493Z"
   },
   {
    "duration": 225,
    "start_time": "2023-10-26T19:20:14.505Z"
   },
   {
    "duration": 14,
    "start_time": "2023-10-26T19:20:14.733Z"
   },
   {
    "duration": 135,
    "start_time": "2023-10-26T19:20:14.749Z"
   },
   {
    "duration": 212,
    "start_time": "2023-10-26T19:20:14.886Z"
   },
   {
    "duration": 37,
    "start_time": "2023-10-26T19:20:15.100Z"
   },
   {
    "duration": 272,
    "start_time": "2023-10-26T19:20:15.138Z"
   },
   {
    "duration": 20,
    "start_time": "2023-10-26T19:20:15.412Z"
   },
   {
    "duration": 198,
    "start_time": "2023-10-26T19:20:15.434Z"
   },
   {
    "duration": 264,
    "start_time": "2023-10-26T19:20:15.634Z"
   },
   {
    "duration": 27,
    "start_time": "2023-10-26T19:20:15.900Z"
   },
   {
    "duration": 62,
    "start_time": "2023-10-26T19:20:15.929Z"
   },
   {
    "duration": 15,
    "start_time": "2023-10-26T19:20:15.992Z"
   },
   {
    "duration": 29,
    "start_time": "2023-10-26T19:20:16.009Z"
   },
   {
    "duration": 29,
    "start_time": "2023-10-26T19:20:16.039Z"
   },
   {
    "duration": 1592,
    "start_time": "2023-10-26T19:20:16.070Z"
   },
   {
    "duration": 1872,
    "start_time": "2023-10-26T19:20:17.664Z"
   },
   {
    "duration": 6,
    "start_time": "2023-10-26T19:20:19.538Z"
   },
   {
    "duration": 47,
    "start_time": "2023-10-26T19:20:19.545Z"
   },
   {
    "duration": 1030,
    "start_time": "2023-10-26T19:24:49.485Z"
   },
   {
    "duration": 68,
    "start_time": "2023-10-26T19:24:50.517Z"
   },
   {
    "duration": 21,
    "start_time": "2023-10-26T19:24:50.586Z"
   },
   {
    "duration": 60,
    "start_time": "2023-10-26T19:24:50.609Z"
   },
   {
    "duration": 48,
    "start_time": "2023-10-26T19:24:50.671Z"
   },
   {
    "duration": 38,
    "start_time": "2023-10-26T19:24:50.720Z"
   },
   {
    "duration": 54,
    "start_time": "2023-10-26T19:24:50.760Z"
   },
   {
    "duration": 42,
    "start_time": "2023-10-26T19:24:50.816Z"
   },
   {
    "duration": 50,
    "start_time": "2023-10-26T19:24:50.860Z"
   },
   {
    "duration": 195,
    "start_time": "2023-10-26T19:24:50.912Z"
   },
   {
    "duration": 84,
    "start_time": "2023-10-26T19:24:51.109Z"
   },
   {
    "duration": 8,
    "start_time": "2023-10-26T19:24:51.194Z"
   },
   {
    "duration": 205,
    "start_time": "2023-10-26T19:24:51.203Z"
   },
   {
    "duration": 8,
    "start_time": "2023-10-26T19:24:51.410Z"
   },
   {
    "duration": 162,
    "start_time": "2023-10-26T19:24:51.419Z"
   },
   {
    "duration": 208,
    "start_time": "2023-10-26T19:24:51.583Z"
   },
   {
    "duration": 10,
    "start_time": "2023-10-26T19:24:51.792Z"
   },
   {
    "duration": 219,
    "start_time": "2023-10-26T19:24:51.803Z"
   },
   {
    "duration": 26,
    "start_time": "2023-10-26T19:24:52.024Z"
   },
   {
    "duration": 192,
    "start_time": "2023-10-26T19:24:52.052Z"
   },
   {
    "duration": 266,
    "start_time": "2023-10-26T19:24:52.246Z"
   },
   {
    "duration": 37,
    "start_time": "2023-10-26T19:24:52.513Z"
   },
   {
    "duration": 51,
    "start_time": "2023-10-26T19:24:52.552Z"
   },
   {
    "duration": 7,
    "start_time": "2023-10-26T19:24:52.605Z"
   },
   {
    "duration": 9,
    "start_time": "2023-10-26T19:24:52.613Z"
   },
   {
    "duration": 33,
    "start_time": "2023-10-26T19:24:52.624Z"
   },
   {
    "duration": 1555,
    "start_time": "2023-10-26T19:24:52.658Z"
   },
   {
    "duration": 1927,
    "start_time": "2023-10-26T19:24:54.216Z"
   },
   {
    "duration": 6,
    "start_time": "2023-10-26T19:24:56.144Z"
   },
   {
    "duration": 8,
    "start_time": "2023-10-26T19:24:56.151Z"
   },
   {
    "duration": 1537,
    "start_time": "2023-10-26T19:25:10.171Z"
   },
   {
    "duration": 3,
    "start_time": "2023-10-26T19:27:39.424Z"
   },
   {
    "duration": 34058,
    "start_time": "2023-10-26T19:30:20.786Z"
   },
   {
    "duration": 1114,
    "start_time": "2023-10-26T19:39:07.699Z"
   },
   {
    "duration": 66,
    "start_time": "2023-10-26T19:39:08.815Z"
   },
   {
    "duration": 21,
    "start_time": "2023-10-26T19:39:08.883Z"
   },
   {
    "duration": 16,
    "start_time": "2023-10-26T19:39:08.906Z"
   },
   {
    "duration": 23,
    "start_time": "2023-10-26T19:39:08.923Z"
   },
   {
    "duration": 27,
    "start_time": "2023-10-26T19:39:08.948Z"
   },
   {
    "duration": 4,
    "start_time": "2023-10-26T19:39:08.977Z"
   },
   {
    "duration": 58,
    "start_time": "2023-10-26T19:39:08.982Z"
   },
   {
    "duration": 22,
    "start_time": "2023-10-26T19:39:09.042Z"
   },
   {
    "duration": 169,
    "start_time": "2023-10-26T19:39:09.067Z"
   },
   {
    "duration": 85,
    "start_time": "2023-10-26T19:39:09.238Z"
   },
   {
    "duration": 19,
    "start_time": "2023-10-26T19:39:09.325Z"
   },
   {
    "duration": 181,
    "start_time": "2023-10-26T19:39:09.346Z"
   },
   {
    "duration": 18,
    "start_time": "2023-10-26T19:39:09.528Z"
   },
   {
    "duration": 116,
    "start_time": "2023-10-26T19:39:09.548Z"
   },
   {
    "duration": 216,
    "start_time": "2023-10-26T19:39:09.665Z"
   },
   {
    "duration": 10,
    "start_time": "2023-10-26T19:39:09.882Z"
   },
   {
    "duration": 218,
    "start_time": "2023-10-26T19:39:09.894Z"
   },
   {
    "duration": 29,
    "start_time": "2023-10-26T19:39:10.114Z"
   },
   {
    "duration": 190,
    "start_time": "2023-10-26T19:39:10.145Z"
   },
   {
    "duration": 282,
    "start_time": "2023-10-26T19:39:10.336Z"
   },
   {
    "duration": 36,
    "start_time": "2023-10-26T19:39:10.620Z"
   },
   {
    "duration": 55,
    "start_time": "2023-10-26T19:39:10.658Z"
   },
   {
    "duration": 29,
    "start_time": "2023-10-26T19:39:10.715Z"
   },
   {
    "duration": 11,
    "start_time": "2023-10-26T19:39:10.745Z"
   },
   {
    "duration": 19,
    "start_time": "2023-10-26T19:39:10.758Z"
   },
   {
    "duration": 1498,
    "start_time": "2023-10-26T19:39:10.778Z"
   },
   {
    "duration": 1855,
    "start_time": "2023-10-26T19:39:12.280Z"
   },
   {
    "duration": 7,
    "start_time": "2023-10-26T19:39:14.137Z"
   },
   {
    "duration": 17,
    "start_time": "2023-10-26T19:39:14.145Z"
   },
   {
    "duration": 1542,
    "start_time": "2023-10-26T19:39:21.395Z"
   },
   {
    "duration": 3,
    "start_time": "2023-10-26T19:39:46.724Z"
   },
   {
    "duration": 35,
    "start_time": "2023-10-26T20:04:57.415Z"
   },
   {
    "duration": 5,
    "start_time": "2023-10-26T20:05:18.927Z"
   },
   {
    "duration": 32,
    "start_time": "2023-10-26T20:05:36.575Z"
   },
   {
    "duration": 8,
    "start_time": "2023-10-26T20:23:04.648Z"
   },
   {
    "duration": 6,
    "start_time": "2023-10-26T20:23:08.985Z"
   },
   {
    "duration": 1200,
    "start_time": "2023-10-26T20:25:05.907Z"
   },
   {
    "duration": 66,
    "start_time": "2023-10-26T20:25:07.111Z"
   },
   {
    "duration": 25,
    "start_time": "2023-10-26T20:25:07.179Z"
   },
   {
    "duration": 19,
    "start_time": "2023-10-26T20:25:07.206Z"
   },
   {
    "duration": 27,
    "start_time": "2023-10-26T20:25:07.227Z"
   },
   {
    "duration": 21,
    "start_time": "2023-10-26T20:25:07.256Z"
   },
   {
    "duration": 20,
    "start_time": "2023-10-26T20:25:07.278Z"
   },
   {
    "duration": 13,
    "start_time": "2023-10-26T20:25:07.300Z"
   },
   {
    "duration": 29,
    "start_time": "2023-10-26T20:25:07.315Z"
   },
   {
    "duration": 204,
    "start_time": "2023-10-26T20:25:07.348Z"
   },
   {
    "duration": 101,
    "start_time": "2023-10-26T20:25:07.554Z"
   },
   {
    "duration": 9,
    "start_time": "2023-10-26T20:25:07.657Z"
   },
   {
    "duration": 213,
    "start_time": "2023-10-26T20:25:07.668Z"
   },
   {
    "duration": 9,
    "start_time": "2023-10-26T20:25:07.883Z"
   },
   {
    "duration": 136,
    "start_time": "2023-10-26T20:25:07.894Z"
   },
   {
    "duration": 231,
    "start_time": "2023-10-26T20:25:08.032Z"
   },
   {
    "duration": 9,
    "start_time": "2023-10-26T20:25:08.265Z"
   },
   {
    "duration": 226,
    "start_time": "2023-10-26T20:25:08.275Z"
   },
   {
    "duration": 24,
    "start_time": "2023-10-26T20:25:08.502Z"
   },
   {
    "duration": 250,
    "start_time": "2023-10-26T20:25:08.528Z"
   },
   {
    "duration": 296,
    "start_time": "2023-10-26T20:25:08.780Z"
   },
   {
    "duration": 28,
    "start_time": "2023-10-26T20:25:09.078Z"
   },
   {
    "duration": 73,
    "start_time": "2023-10-26T20:25:09.109Z"
   },
   {
    "duration": 8,
    "start_time": "2023-10-26T20:25:09.184Z"
   },
   {
    "duration": 67,
    "start_time": "2023-10-26T20:25:09.194Z"
   },
   {
    "duration": 23,
    "start_time": "2023-10-26T20:25:09.263Z"
   },
   {
    "duration": 1688,
    "start_time": "2023-10-26T20:25:09.288Z"
   },
   {
    "duration": 1972,
    "start_time": "2023-10-26T20:25:10.979Z"
   },
   {
    "duration": 5,
    "start_time": "2023-10-26T20:25:12.953Z"
   },
   {
    "duration": 291,
    "start_time": "2023-10-26T20:25:12.959Z"
   },
   {
    "duration": 1713,
    "start_time": "2023-10-26T20:25:18.617Z"
   },
   {
    "duration": 41,
    "start_time": "2023-10-29T09:11:11.055Z"
   },
   {
    "duration": 1125,
    "start_time": "2023-10-29T09:11:23.383Z"
   },
   {
    "duration": 220,
    "start_time": "2023-10-29T09:11:24.510Z"
   },
   {
    "duration": 12,
    "start_time": "2023-10-29T09:11:24.732Z"
   },
   {
    "duration": 10,
    "start_time": "2023-10-29T09:11:24.746Z"
   },
   {
    "duration": 13,
    "start_time": "2023-10-29T09:11:24.758Z"
   },
   {
    "duration": 3,
    "start_time": "2023-10-29T09:11:24.772Z"
   },
   {
    "duration": 14,
    "start_time": "2023-10-29T09:11:24.777Z"
   },
   {
    "duration": 7,
    "start_time": "2023-10-29T09:11:24.792Z"
   },
   {
    "duration": 177,
    "start_time": "2023-10-29T09:11:24.800Z"
   },
   {
    "duration": 94,
    "start_time": "2023-10-29T09:11:24.979Z"
   },
   {
    "duration": 8,
    "start_time": "2023-10-29T09:11:25.075Z"
   },
   {
    "duration": 157,
    "start_time": "2023-10-29T09:11:25.084Z"
   },
   {
    "duration": 7,
    "start_time": "2023-10-29T09:11:25.243Z"
   },
   {
    "duration": 108,
    "start_time": "2023-10-29T09:11:25.252Z"
   },
   {
    "duration": 190,
    "start_time": "2023-10-29T09:11:25.362Z"
   },
   {
    "duration": 7,
    "start_time": "2023-10-29T09:11:25.553Z"
   },
   {
    "duration": 185,
    "start_time": "2023-10-29T09:11:25.561Z"
   },
   {
    "duration": 19,
    "start_time": "2023-10-29T09:11:25.748Z"
   },
   {
    "duration": 165,
    "start_time": "2023-10-29T09:11:25.768Z"
   },
   {
    "duration": 208,
    "start_time": "2023-10-29T09:11:25.934Z"
   },
   {
    "duration": 23,
    "start_time": "2023-10-29T09:11:26.144Z"
   },
   {
    "duration": 47,
    "start_time": "2023-10-29T09:11:26.168Z"
   },
   {
    "duration": 25,
    "start_time": "2023-10-29T09:11:26.216Z"
   },
   {
    "duration": 4,
    "start_time": "2023-10-29T09:11:26.243Z"
   },
   {
    "duration": 9,
    "start_time": "2023-10-29T09:11:26.248Z"
   },
   {
    "duration": 1267,
    "start_time": "2023-10-29T09:11:26.258Z"
   },
   {
    "duration": 1460,
    "start_time": "2023-10-29T09:11:27.526Z"
   },
   {
    "duration": 5,
    "start_time": "2023-10-29T09:11:28.988Z"
   },
   {
    "duration": 9,
    "start_time": "2023-10-29T09:11:28.994Z"
   },
   {
    "duration": 91,
    "start_time": "2023-10-29T09:12:48.510Z"
   },
   {
    "duration": 90,
    "start_time": "2023-10-29T09:13:07.637Z"
   },
   {
    "duration": 171,
    "start_time": "2023-10-29T09:13:51.499Z"
   },
   {
    "duration": 66,
    "start_time": "2023-10-29T09:14:07.018Z"
   },
   {
    "duration": 90,
    "start_time": "2023-10-29T09:14:36.131Z"
   },
   {
    "duration": 1318,
    "start_time": "2023-10-29T09:15:21.271Z"
   },
   {
    "duration": 97,
    "start_time": "2023-10-29T09:15:22.590Z"
   },
   {
    "duration": 12,
    "start_time": "2023-10-29T09:15:22.688Z"
   },
   {
    "duration": 4,
    "start_time": "2023-10-29T09:15:22.701Z"
   },
   {
    "duration": 9,
    "start_time": "2023-10-29T09:15:22.706Z"
   },
   {
    "duration": 7,
    "start_time": "2023-10-29T09:15:22.716Z"
   },
   {
    "duration": 163,
    "start_time": "2023-10-29T09:15:22.724Z"
   },
   {
    "duration": 83,
    "start_time": "2023-10-29T09:15:22.889Z"
   },
   {
    "duration": 6,
    "start_time": "2023-10-29T09:15:22.973Z"
   },
   {
    "duration": 163,
    "start_time": "2023-10-29T09:15:22.982Z"
   },
   {
    "duration": 7,
    "start_time": "2023-10-29T09:15:23.146Z"
   },
   {
    "duration": 107,
    "start_time": "2023-10-29T09:15:23.154Z"
   },
   {
    "duration": 180,
    "start_time": "2023-10-29T09:15:23.263Z"
   },
   {
    "duration": 7,
    "start_time": "2023-10-29T09:15:23.445Z"
   },
   {
    "duration": 180,
    "start_time": "2023-10-29T09:15:23.453Z"
   },
   {
    "duration": 18,
    "start_time": "2023-10-29T09:15:23.639Z"
   },
   {
    "duration": 162,
    "start_time": "2023-10-29T09:15:23.658Z"
   },
   {
    "duration": 217,
    "start_time": "2023-10-29T09:15:23.822Z"
   },
   {
    "duration": 22,
    "start_time": "2023-10-29T09:15:24.040Z"
   },
   {
    "duration": 45,
    "start_time": "2023-10-29T09:15:24.064Z"
   },
   {
    "duration": 6,
    "start_time": "2023-10-29T09:15:24.110Z"
   },
   {
    "duration": 5,
    "start_time": "2023-10-29T09:15:24.139Z"
   },
   {
    "duration": 9,
    "start_time": "2023-10-29T09:15:24.146Z"
   },
   {
    "duration": 1249,
    "start_time": "2023-10-29T09:15:24.156Z"
   },
   {
    "duration": 1495,
    "start_time": "2023-10-29T09:15:25.406Z"
   },
   {
    "duration": 5,
    "start_time": "2023-10-29T09:15:26.902Z"
   },
   {
    "duration": 6,
    "start_time": "2023-10-29T09:15:26.908Z"
   },
   {
    "duration": 132,
    "start_time": "2023-10-29T09:25:47.393Z"
   },
   {
    "duration": 36,
    "start_time": "2023-10-29T09:32:02.975Z"
   },
   {
    "duration": 140,
    "start_time": "2023-10-29T09:34:00.979Z"
   },
   {
    "duration": 208,
    "start_time": "2023-10-29T09:36:46.377Z"
   },
   {
    "duration": 1061,
    "start_time": "2023-10-29T09:36:56.320Z"
   },
   {
    "duration": 102,
    "start_time": "2023-10-29T09:36:57.382Z"
   },
   {
    "duration": 12,
    "start_time": "2023-10-29T09:36:57.486Z"
   },
   {
    "duration": 8,
    "start_time": "2023-10-29T09:36:57.500Z"
   },
   {
    "duration": 11,
    "start_time": "2023-10-29T09:36:57.509Z"
   },
   {
    "duration": 23,
    "start_time": "2023-10-29T09:36:57.522Z"
   },
   {
    "duration": 176,
    "start_time": "2023-10-29T09:36:57.547Z"
   },
   {
    "duration": 90,
    "start_time": "2023-10-29T09:36:57.724Z"
   },
   {
    "duration": 7,
    "start_time": "2023-10-29T09:36:57.815Z"
   },
   {
    "duration": 168,
    "start_time": "2023-10-29T09:36:57.840Z"
   },
   {
    "duration": 7,
    "start_time": "2023-10-29T09:36:58.009Z"
   },
   {
    "duration": 124,
    "start_time": "2023-10-29T09:36:58.017Z"
   },
   {
    "duration": 197,
    "start_time": "2023-10-29T09:36:58.142Z"
   },
   {
    "duration": 7,
    "start_time": "2023-10-29T09:36:58.341Z"
   },
   {
    "duration": 193,
    "start_time": "2023-10-29T09:36:58.349Z"
   },
   {
    "duration": 27,
    "start_time": "2023-10-29T09:36:58.543Z"
   },
   {
    "duration": 175,
    "start_time": "2023-10-29T09:36:58.572Z"
   },
   {
    "duration": 220,
    "start_time": "2023-10-29T09:36:58.750Z"
   },
   {
    "duration": 31,
    "start_time": "2023-10-29T09:36:58.972Z"
   },
   {
    "duration": 65,
    "start_time": "2023-10-29T09:36:59.005Z"
   },
   {
    "duration": 7,
    "start_time": "2023-10-29T09:36:59.071Z"
   },
   {
    "duration": 13,
    "start_time": "2023-10-29T09:36:59.080Z"
   },
   {
    "duration": 14,
    "start_time": "2023-10-29T09:36:59.094Z"
   },
   {
    "duration": 1348,
    "start_time": "2023-10-29T09:36:59.109Z"
   },
   {
    "duration": 1546,
    "start_time": "2023-10-29T09:37:00.459Z"
   },
   {
    "duration": 7,
    "start_time": "2023-10-29T09:37:02.007Z"
   },
   {
    "duration": 14,
    "start_time": "2023-10-29T09:37:02.015Z"
   },
   {
    "duration": 246,
    "start_time": "2023-10-29T09:48:27.922Z"
   },
   {
    "duration": 169,
    "start_time": "2023-10-29T09:48:46.978Z"
   },
   {
    "duration": 1025,
    "start_time": "2023-10-29T09:48:52.313Z"
   },
   {
    "duration": 97,
    "start_time": "2023-10-29T09:48:53.340Z"
   },
   {
    "duration": 12,
    "start_time": "2023-10-29T09:48:53.438Z"
   },
   {
    "duration": 4,
    "start_time": "2023-10-29T09:48:53.451Z"
   },
   {
    "duration": 18,
    "start_time": "2023-10-29T09:48:53.456Z"
   },
   {
    "duration": 8,
    "start_time": "2023-10-29T09:48:53.476Z"
   },
   {
    "duration": 155,
    "start_time": "2023-10-29T09:48:53.485Z"
   },
   {
    "duration": 77,
    "start_time": "2023-10-29T09:48:53.642Z"
   },
   {
    "duration": 7,
    "start_time": "2023-10-29T09:48:53.739Z"
   },
   {
    "duration": 154,
    "start_time": "2023-10-29T09:48:53.749Z"
   },
   {
    "duration": 7,
    "start_time": "2023-10-29T09:48:53.905Z"
   },
   {
    "duration": 112,
    "start_time": "2023-10-29T09:48:53.914Z"
   },
   {
    "duration": 184,
    "start_time": "2023-10-29T09:48:54.028Z"
   },
   {
    "duration": 7,
    "start_time": "2023-10-29T09:48:54.213Z"
   },
   {
    "duration": 183,
    "start_time": "2023-10-29T09:48:54.221Z"
   },
   {
    "duration": 26,
    "start_time": "2023-10-29T09:48:54.405Z"
   },
   {
    "duration": 154,
    "start_time": "2023-10-29T09:48:54.439Z"
   },
   {
    "duration": 208,
    "start_time": "2023-10-29T09:48:54.594Z"
   },
   {
    "duration": 22,
    "start_time": "2023-10-29T09:48:54.803Z"
   },
   {
    "duration": 56,
    "start_time": "2023-10-29T09:48:54.826Z"
   },
   {
    "duration": 7,
    "start_time": "2023-10-29T09:48:54.883Z"
   },
   {
    "duration": 25,
    "start_time": "2023-10-29T09:48:54.891Z"
   },
   {
    "duration": 15,
    "start_time": "2023-10-29T09:48:54.918Z"
   },
   {
    "duration": 1284,
    "start_time": "2023-10-29T09:48:54.934Z"
   },
   {
    "duration": 1446,
    "start_time": "2023-10-29T09:48:56.219Z"
   },
   {
    "duration": 4,
    "start_time": "2023-10-29T09:48:57.667Z"
   },
   {
    "duration": 10,
    "start_time": "2023-10-29T09:48:57.672Z"
   },
   {
    "duration": 5,
    "start_time": "2023-10-29T10:07:37.124Z"
   },
   {
    "duration": 4,
    "start_time": "2023-10-29T10:07:49.267Z"
   },
   {
    "duration": 1228,
    "start_time": "2023-11-04T16:43:59.388Z"
   },
   {
    "duration": 251,
    "start_time": "2023-11-04T16:44:00.618Z"
   },
   {
    "duration": 16,
    "start_time": "2023-11-04T16:44:00.871Z"
   },
   {
    "duration": 43,
    "start_time": "2023-11-04T16:44:00.889Z"
   },
   {
    "duration": 64,
    "start_time": "2023-11-04T16:44:00.933Z"
   },
   {
    "duration": 39,
    "start_time": "2023-11-04T16:44:00.999Z"
   },
   {
    "duration": 232,
    "start_time": "2023-11-04T16:44:01.039Z"
   },
   {
    "duration": 104,
    "start_time": "2023-11-04T16:44:01.273Z"
   },
   {
    "duration": 9,
    "start_time": "2023-11-04T16:44:01.379Z"
   },
   {
    "duration": 230,
    "start_time": "2023-11-04T16:44:01.390Z"
   },
   {
    "duration": 9,
    "start_time": "2023-11-04T16:44:01.622Z"
   },
   {
    "duration": 148,
    "start_time": "2023-11-04T16:44:01.633Z"
   },
   {
    "duration": 257,
    "start_time": "2023-11-04T16:44:01.782Z"
   },
   {
    "duration": 10,
    "start_time": "2023-11-04T16:44:02.041Z"
   },
   {
    "duration": 252,
    "start_time": "2023-11-04T16:44:02.053Z"
   },
   {
    "duration": 37,
    "start_time": "2023-11-04T16:44:02.307Z"
   },
   {
    "duration": 224,
    "start_time": "2023-11-04T16:44:02.346Z"
   },
   {
    "duration": 295,
    "start_time": "2023-11-04T16:44:02.572Z"
   },
   {
    "duration": 29,
    "start_time": "2023-11-04T16:44:02.869Z"
   },
   {
    "duration": 63,
    "start_time": "2023-11-04T16:44:02.900Z"
   },
   {
    "duration": 9,
    "start_time": "2023-11-04T16:44:02.965Z"
   },
   {
    "duration": 4,
    "start_time": "2023-11-04T16:44:02.976Z"
   },
   {
    "duration": 37,
    "start_time": "2023-11-04T16:44:02.982Z"
   },
   {
    "duration": 1687,
    "start_time": "2023-11-04T16:44:03.020Z"
   },
   {
    "duration": 1978,
    "start_time": "2023-11-04T16:44:04.715Z"
   },
   {
    "duration": 5,
    "start_time": "2023-11-04T16:44:06.695Z"
   },
   {
    "duration": 13,
    "start_time": "2023-11-04T16:44:06.702Z"
   },
   {
    "duration": 1742,
    "start_time": "2023-11-04T16:44:12.984Z"
   }
  ],
  "kernelspec": {
   "display_name": "Python 3 (ipykernel)",
   "language": "python",
   "name": "python3"
  },
  "language_info": {
   "codemirror_mode": {
    "name": "ipython",
    "version": 3
   },
   "file_extension": ".py",
   "mimetype": "text/x-python",
   "name": "python",
   "nbconvert_exporter": "python",
   "pygments_lexer": "ipython3",
   "version": "3.11.4"
  },
  "toc": {
   "base_numbering": 1,
   "nav_menu": {
    "height": "354px",
    "width": "558px"
   },
   "number_sections": true,
   "sideBar": true,
   "skip_h1_title": true,
   "title_cell": "Table of Contents",
   "title_sidebar": "Contents",
   "toc_cell": false,
   "toc_position": {
    "height": "calc(100% - 180px)",
    "left": "10px",
    "top": "150px",
    "width": "165px"
   },
   "toc_section_display": true,
   "toc_window_display": true
  }
 },
 "nbformat": 4,
 "nbformat_minor": 5
}
